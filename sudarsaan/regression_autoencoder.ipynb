{
 "cells": [
  {
   "cell_type": "code",
   "execution_count": 151,
   "id": "bc34b741-d4ac-4076-bc32-756b2146f5ee",
   "metadata": {},
   "outputs": [],
   "source": [
    "import pandas as pd\n",
    "from matplotlib import pyplot as plt\n",
    "import seaborn as sns\n",
    "import numpy as np\n",
    "import pickle\n",
    "from sklearn.impute import KNNImputer\n",
    "import imblearn\n",
    "from sklearn.metrics import mean_squared_error, mean_absolute_error, r2_score, balanced_accuracy_score\n",
    "from scipy.stats import skew\n",
    "from sklearn.manifold import TSNE # TSNE module\n",
    "from sklearn.decomposition import PCA\n",
    "\n",
    "import torch\n",
    "import torch.nn as nn\n",
    "import torch.optim as optim\n",
    "from torch.utils.data import TensorDataset, DataLoader\n",
    "from sklearn.preprocessing import StandardScaler, RobustScaler, Normalizer, MinMaxScaler\n",
    "from sklearn.model_selection import train_test_split\n",
    "from sklearn.metrics import r2_score, balanced_accuracy_score, f1_score, mean_squared_error\n",
    "\n",
    "\n",
    "\n",
    "from utils.general_utils import get_outlier_info, get_outlier_val_counts, clean_outliers\n",
    "from utils.saver_utils import save_normalizer, load_normalizer\n",
    "from utils.saver_utils import save_dataset, load_dataset \n",
    "\n",
    "from sklearn.ensemble import RandomForestRegressor\n"
   ]
  },
  {
   "cell_type": "code",
   "execution_count": 49,
   "id": "a833d5e3-2d3b-4cfa-8eba-26b55a7b4ec8",
   "metadata": {},
   "outputs": [],
   "source": [
    "def run_RF(trainX, testX, trainY, testY):\n",
    "    # trainX, testX, trainY, testY = train_test_split(X,Y, test_size=0.20)\n",
    "    regressor = RandomForestRegressor()\n",
    "    regressor.fit(trainX, trainY.ravel())\n",
    "\n",
    "    predicted = regressor.predict(testX)\n",
    "    test_mse_error = mean_squared_error(testY, predicted,)\n",
    "    test_mae_error = mean_absolute_error(testY, predicted)\n",
    "    test_r2_error = r2_score(testY, predicted)\n",
    "    print('TEST METRICS')\n",
    "    print(f'MSE error: {test_mse_error}')\n",
    "    print(f'MAE error: {test_mae_error}')\n",
    "    print(f'R2 error: {test_r2_error}')\n",
    "    print()\n",
    "    predicted = regressor.predict(trainX)\n",
    "    test_mse_error = mean_squared_error(trainY, predicted,)\n",
    "    test_mae_error = mean_absolute_error(trainY, predicted)\n",
    "    test_r2_error = r2_score(trainY, predicted)\n",
    "    print('TRAIN METRICS')\n",
    "    print(f'MSE error: {test_mse_error}')\n",
    "    print(f'MAE error: {test_mae_error}')\n",
    "    print(f'R2 error: {test_r2_error}')\n",
    "    "
   ]
  },
  {
   "cell_type": "code",
   "execution_count": 3,
   "id": "846a09d1-6fda-43ea-9431-e1ea88124e86",
   "metadata": {},
   "outputs": [],
   "source": [
    "def knn_impute(df, missing_val_indicator=999, int_col_index:list=[]):\n",
    "    \n",
    "    missing_vals = np.sum(df == missing_val_indicator)\n",
    "    missing_cols_valuecounts = missing_vals[missing_vals > 0]\n",
    "    impute_knn = KNNImputer(n_neighbors=3, missing_values=999)\n",
    "    imputed_arr = impute_knn.fit_transform(df.drop(columns=['ID']))\n",
    "    \n",
    "    for idx in int_col_index:\n",
    "        imputed_arr[:, idx] = np.rint(imputed_arr[:, idx])\n",
    "\n",
    "    imputed_df = pd.DataFrame.from_records(imputed_arr, columns=df.columns[1:])\n",
    "    \n",
    "    return imputed_df\n",
    "\n",
    "def get_cat_to_one_hot(df, multi_cat_cols):\n",
    "    df = pd.get_dummies(df, columns=multi_cat_cols)\n",
    "    \n",
    "    multi_category_variables = ['ChemoGrade_1.0', 'ChemoGrade_2.0', 'ChemoGrade_3.0', 'Proliferation_1.0', 'Proliferation_2.0',\n",
    "       'Proliferation_3.0', 'TumourStage_1.0', 'TumourStage_2.0', 'TumourStage_3.0', 'TumourStage_4.0']\n",
    "    \n",
    "    for column in multi_category_variables:\n",
    "        df[column] = df[column].astype(np.float32)\n",
    "        \n",
    "    return df\n",
    "    "
   ]
  },
  {
   "cell_type": "code",
   "execution_count": 4,
   "id": "69f44bcb-ed76-4002-9dc5-c370deda5765",
   "metadata": {},
   "outputs": [],
   "source": [
    "og_df = pd.read_csv('dataset/TrainDataset2023.csv')\n",
    "og_df.rename(columns={'pCR (outcome)': 'pcr', 'RelapseFreeSurvival (outcome)': 'rfs'}, inplace=True)"
   ]
  },
  {
   "cell_type": "code",
   "execution_count": 5,
   "id": "5b5dd611-4335-4bee-8560-01bad062aa13",
   "metadata": {},
   "outputs": [],
   "source": [
    "\n",
    "int_col_mask = og_df.drop(columns=['ID']).dtypes == 'int64'\n",
    "categorical_features = list(og_df.drop(columns=['ID']).columns[int_col_mask])"
   ]
  },
  {
   "cell_type": "markdown",
   "id": "5d5d8881-00d6-46b1-9161-8fe96ca4726f",
   "metadata": {},
   "source": [
    "# Ignoring 'original_shape_VoxelVolume' because even though it is a int column it is not a categorical feature\n"
   ]
  },
  {
   "cell_type": "code",
   "execution_count": 6,
   "id": "4b6f4a28-99cc-489a-a1ce-646bd5ce89cf",
   "metadata": {},
   "outputs": [],
   "source": [
    "categorical_features.remove('original_shape_VoxelVolume')\n"
   ]
  },
  {
   "cell_type": "code",
   "execution_count": 7,
   "id": "50381ea2-eec6-4436-9dac-d44d1474dd7e",
   "metadata": {},
   "outputs": [],
   "source": [
    "\n",
    "int_col_index = [i for i, x in enumerate(np.array(int_col_mask)) if x]\n",
    "\n",
    "imputed_df = knn_impute(og_df, int_col_index = int_col_index)\n",
    "multiclass_categorical_features = []\n",
    "others = []\n",
    "\n",
    "for cat_col_name in categorical_features:\n",
    "    temp_len = len(imputed_df[cat_col_name].value_counts())\n",
    "    if temp_len > 2:\n",
    "        multiclass_categorical_features.append(cat_col_name)\n",
    "    else:\n",
    "        others.append(temp_len)\n",
    "\n",
    "multi_category_variables = ['ChemoGrade_1.0', 'ChemoGrade_2.0', 'ChemoGrade_3.0', 'Proliferation_1.0', 'Proliferation_2.0',\n",
    "       'Proliferation_3.0', 'TumourStage_1.0', 'TumourStage_2.0', 'TumourStage_3.0', 'TumourStage_4.0']\n",
    "\n",
    "categorical_features_labels = categorical_features + multi_category_variables\n",
    "temp_categorical_features_labels = categorical_features_labels\n",
    "\n",
    "# Removing multiclass_categorical_features because these features are \n",
    "# converted to one-hot encoding\n",
    "\n",
    "for col_name in multiclass_categorical_features:\n",
    "    temp_categorical_features_labels.remove(col_name)\n",
    "\n",
    "temp_categorical_features_labels.remove('pcr')\n",
    "\n"
   ]
  },
  {
   "cell_type": "code",
   "execution_count": 8,
   "id": "133100ca-af23-423a-bda5-996cc5f7edb7",
   "metadata": {},
   "outputs": [
    {
     "name": "stdout",
     "output_type": "stream",
     "text": [
      "NaN Columns : Index([], dtype='object')\n"
     ]
    }
   ],
   "source": [
    "\n",
    "imputed_df = get_cat_to_one_hot(imputed_df, multi_cat_cols=multiclass_categorical_features)\n",
    "imputed_df.head()\n",
    "\n",
    "\n",
    "nan_cols = imputed_df.columns[imputed_df.isnull().sum() > 0]\n",
    "\n",
    "print(f'NaN Columns : {nan_cols}')\n",
    "if len(nan_cols) > 0:\n",
    "    imputed_df.drop(columns=nan_cols, inplace=True)\n"
   ]
  },
  {
   "cell_type": "markdown",
   "id": "9814f724-2c5e-4b5f-8387-7ef6f13e1e45",
   "metadata": {},
   "source": [
    "# Dropping Highly correlated features"
   ]
  },
  {
   "cell_type": "code",
   "execution_count": 10,
   "id": "886a3c31-6e2e-4980-9b78-ecdbc50fc445",
   "metadata": {},
   "outputs": [],
   "source": [
    "# # Taking values above the diagonal getting the values only from it and making the other elements to NaN.\n",
    "# corr = imputed_df.drop(columns=['pcr', 'rfs']).corr() \n",
    "# corr_abs = corr.abs()\n",
    "# upper = corr_abs.where(np.triu(np.ones(corr_abs.shape), k=1).astype(bool))\n",
    "\n",
    "# #Then taking values (absolute) of the each element and choosing the column to drop by various correlation threshold vales\n",
    "# to_drop_95 = [column for column in upper.columns if any(upper[column] > 0.95)]\n",
    "# to_drop_90 = [column for column in upper.columns if any(upper[column] > 0.90)]\n",
    "# to_drop_85 = [column for column in upper.columns if any(upper[column] > 0.85)]\n",
    "# to_drop_80 = [column for column in upper.columns if any(upper[column] > 0.80)]\n",
    "\n",
    "# print(f'Thresholding 95% correlated drop columns : {len(to_drop_95)}')\n",
    "# print(f'Thresholding 90% correlated drop columns : {len(to_drop_90)}')\n",
    "# print(f'Thresholding 85% correlated drop columns : {len(to_drop_85)}')\n",
    "# print(f'Thresholding 80% correlated drop columns : {len(to_drop_80)}')\n",
    "\n",
    "# imputed_df_corr_removed = imputed_df.drop(to_drop_80, axis=1)"
   ]
  },
  {
   "cell_type": "code",
   "execution_count": 220,
   "id": "8dd3a499-7ce0-4ac7-b7c9-93d3415ccf66",
   "metadata": {},
   "outputs": [
    {
     "data": {
      "text/plain": [
       "Index(['pcr', 'rfs', 'Age', 'ER', 'PgR', 'HER2', 'TrippleNegative',\n",
       "       'HistologyType', 'LNStatus', 'original_shape_Elongation',\n",
       "       ...\n",
       "       'ChemoGrade_1.0', 'ChemoGrade_2.0', 'ChemoGrade_3.0',\n",
       "       'Proliferation_1.0', 'Proliferation_2.0', 'Proliferation_3.0',\n",
       "       'TumourStage_1.0', 'TumourStage_2.0', 'TumourStage_3.0',\n",
       "       'TumourStage_4.0'],\n",
       "      dtype='object', length=126)"
      ]
     },
     "execution_count": 220,
     "metadata": {},
     "output_type": "execute_result"
    }
   ],
   "source": [
    "imputed_df.columns"
   ]
  },
  {
   "cell_type": "code",
   "execution_count": 231,
   "id": "71c055b8-da69-4fef-b516-b13d5c66b51d",
   "metadata": {},
   "outputs": [],
   "source": [
    "temp_corr = imputed_df.corr()"
   ]
  },
  {
   "cell_type": "code",
   "execution_count": 232,
   "id": "3a26ec9d-afd5-4124-a9f9-f3147434fd93",
   "metadata": {},
   "outputs": [
    {
     "data": {
      "text/html": [
       "<div>\n",
       "<style scoped>\n",
       "    .dataframe tbody tr th:only-of-type {\n",
       "        vertical-align: middle;\n",
       "    }\n",
       "\n",
       "    .dataframe tbody tr th {\n",
       "        vertical-align: top;\n",
       "    }\n",
       "\n",
       "    .dataframe thead th {\n",
       "        text-align: right;\n",
       "    }\n",
       "</style>\n",
       "<table border=\"1\" class=\"dataframe\">\n",
       "  <thead>\n",
       "    <tr style=\"text-align: right;\">\n",
       "      <th></th>\n",
       "      <th>pcr</th>\n",
       "      <th>rfs</th>\n",
       "      <th>Age</th>\n",
       "      <th>ER</th>\n",
       "      <th>PgR</th>\n",
       "      <th>HER2</th>\n",
       "      <th>TrippleNegative</th>\n",
       "      <th>HistologyType</th>\n",
       "      <th>LNStatus</th>\n",
       "      <th>original_shape_Elongation</th>\n",
       "      <th>...</th>\n",
       "      <th>ChemoGrade_1.0</th>\n",
       "      <th>ChemoGrade_2.0</th>\n",
       "      <th>ChemoGrade_3.0</th>\n",
       "      <th>Proliferation_1.0</th>\n",
       "      <th>Proliferation_2.0</th>\n",
       "      <th>Proliferation_3.0</th>\n",
       "      <th>TumourStage_1.0</th>\n",
       "      <th>TumourStage_2.0</th>\n",
       "      <th>TumourStage_3.0</th>\n",
       "      <th>TumourStage_4.0</th>\n",
       "    </tr>\n",
       "  </thead>\n",
       "  <tbody>\n",
       "    <tr>\n",
       "      <th>pcr</th>\n",
       "      <td>1.000000</td>\n",
       "      <td>-0.005779</td>\n",
       "      <td>-0.001893</td>\n",
       "      <td>-0.197180</td>\n",
       "      <td>-0.200306</td>\n",
       "      <td>0.211624</td>\n",
       "      <td>0.076205</td>\n",
       "      <td>-0.044693</td>\n",
       "      <td>-0.146932</td>\n",
       "      <td>0.028734</td>\n",
       "      <td>...</td>\n",
       "      <td>0.050472</td>\n",
       "      <td>-0.069386</td>\n",
       "      <td>0.062267</td>\n",
       "      <td>-0.077474</td>\n",
       "      <td>-0.036761</td>\n",
       "      <td>0.142485</td>\n",
       "      <td>0.068879</td>\n",
       "      <td>0.031663</td>\n",
       "      <td>0.030225</td>\n",
       "      <td>-0.115130</td>\n",
       "    </tr>\n",
       "    <tr>\n",
       "      <th>rfs</th>\n",
       "      <td>-0.005779</td>\n",
       "      <td>1.000000</td>\n",
       "      <td>-0.059959</td>\n",
       "      <td>0.014400</td>\n",
       "      <td>0.047658</td>\n",
       "      <td>0.077706</td>\n",
       "      <td>-0.038765</td>\n",
       "      <td>0.016077</td>\n",
       "      <td>-0.000409</td>\n",
       "      <td>0.046683</td>\n",
       "      <td>...</td>\n",
       "      <td>-0.022668</td>\n",
       "      <td>0.117625</td>\n",
       "      <td>-0.114594</td>\n",
       "      <td>0.091903</td>\n",
       "      <td>-0.109218</td>\n",
       "      <td>0.002841</td>\n",
       "      <td>-0.012570</td>\n",
       "      <td>0.179478</td>\n",
       "      <td>-0.120043</td>\n",
       "      <td>-0.082246</td>\n",
       "    </tr>\n",
       "    <tr>\n",
       "      <th>Age</th>\n",
       "      <td>-0.001893</td>\n",
       "      <td>-0.059959</td>\n",
       "      <td>1.000000</td>\n",
       "      <td>0.005765</td>\n",
       "      <td>-0.117406</td>\n",
       "      <td>0.038338</td>\n",
       "      <td>-0.060773</td>\n",
       "      <td>0.166465</td>\n",
       "      <td>0.118127</td>\n",
       "      <td>-0.031820</td>\n",
       "      <td>...</td>\n",
       "      <td>0.031087</td>\n",
       "      <td>0.032593</td>\n",
       "      <td>-0.037122</td>\n",
       "      <td>0.041764</td>\n",
       "      <td>-0.051389</td>\n",
       "      <td>0.003266</td>\n",
       "      <td>0.085350</td>\n",
       "      <td>-0.052630</td>\n",
       "      <td>-0.117167</td>\n",
       "      <td>0.136213</td>\n",
       "    </tr>\n",
       "    <tr>\n",
       "      <th>ER</th>\n",
       "      <td>-0.197180</td>\n",
       "      <td>0.014400</td>\n",
       "      <td>0.005765</td>\n",
       "      <td>1.000000</td>\n",
       "      <td>0.698884</td>\n",
       "      <td>0.101932</td>\n",
       "      <td>-0.770077</td>\n",
       "      <td>0.128708</td>\n",
       "      <td>0.189671</td>\n",
       "      <td>-0.110106</td>\n",
       "      <td>...</td>\n",
       "      <td>0.064445</td>\n",
       "      <td>0.253161</td>\n",
       "      <td>-0.262906</td>\n",
       "      <td>0.257562</td>\n",
       "      <td>-0.141701</td>\n",
       "      <td>-0.176903</td>\n",
       "      <td>-0.075104</td>\n",
       "      <td>-0.102760</td>\n",
       "      <td>0.035039</td>\n",
       "      <td>0.135770</td>\n",
       "    </tr>\n",
       "    <tr>\n",
       "      <th>PgR</th>\n",
       "      <td>-0.200306</td>\n",
       "      <td>0.047658</td>\n",
       "      <td>-0.117406</td>\n",
       "      <td>0.698884</td>\n",
       "      <td>1.000000</td>\n",
       "      <td>0.004445</td>\n",
       "      <td>-0.585572</td>\n",
       "      <td>0.138347</td>\n",
       "      <td>0.156528</td>\n",
       "      <td>-0.075347</td>\n",
       "      <td>...</td>\n",
       "      <td>0.013719</td>\n",
       "      <td>0.273570</td>\n",
       "      <td>-0.276066</td>\n",
       "      <td>0.282521</td>\n",
       "      <td>-0.128577</td>\n",
       "      <td>-0.224247</td>\n",
       "      <td>-0.053910</td>\n",
       "      <td>-0.103401</td>\n",
       "      <td>0.056659</td>\n",
       "      <td>0.099778</td>\n",
       "    </tr>\n",
       "  </tbody>\n",
       "</table>\n",
       "<p>5 rows × 126 columns</p>\n",
       "</div>"
      ],
      "text/plain": [
       "          pcr       rfs       Age        ER       PgR      HER2  \\\n",
       "pcr  1.000000 -0.005779 -0.001893 -0.197180 -0.200306  0.211624   \n",
       "rfs -0.005779  1.000000 -0.059959  0.014400  0.047658  0.077706   \n",
       "Age -0.001893 -0.059959  1.000000  0.005765 -0.117406  0.038338   \n",
       "ER  -0.197180  0.014400  0.005765  1.000000  0.698884  0.101932   \n",
       "PgR -0.200306  0.047658 -0.117406  0.698884  1.000000  0.004445   \n",
       "\n",
       "     TrippleNegative  HistologyType  LNStatus  original_shape_Elongation  ...  \\\n",
       "pcr         0.076205      -0.044693 -0.146932                   0.028734  ...   \n",
       "rfs        -0.038765       0.016077 -0.000409                   0.046683  ...   \n",
       "Age        -0.060773       0.166465  0.118127                  -0.031820  ...   \n",
       "ER         -0.770077       0.128708  0.189671                  -0.110106  ...   \n",
       "PgR        -0.585572       0.138347  0.156528                  -0.075347  ...   \n",
       "\n",
       "     ChemoGrade_1.0  ChemoGrade_2.0  ChemoGrade_3.0  Proliferation_1.0  \\\n",
       "pcr        0.050472       -0.069386        0.062267          -0.077474   \n",
       "rfs       -0.022668        0.117625       -0.114594           0.091903   \n",
       "Age        0.031087        0.032593       -0.037122           0.041764   \n",
       "ER         0.064445        0.253161       -0.262906           0.257562   \n",
       "PgR        0.013719        0.273570       -0.276066           0.282521   \n",
       "\n",
       "     Proliferation_2.0  Proliferation_3.0  TumourStage_1.0  TumourStage_2.0  \\\n",
       "pcr          -0.036761           0.142485         0.068879         0.031663   \n",
       "rfs          -0.109218           0.002841        -0.012570         0.179478   \n",
       "Age          -0.051389           0.003266         0.085350        -0.052630   \n",
       "ER           -0.141701          -0.176903        -0.075104        -0.102760   \n",
       "PgR          -0.128577          -0.224247        -0.053910        -0.103401   \n",
       "\n",
       "     TumourStage_3.0  TumourStage_4.0  \n",
       "pcr         0.030225        -0.115130  \n",
       "rfs        -0.120043        -0.082246  \n",
       "Age        -0.117167         0.136213  \n",
       "ER          0.035039         0.135770  \n",
       "PgR         0.056659         0.099778  \n",
       "\n",
       "[5 rows x 126 columns]"
      ]
     },
     "execution_count": 232,
     "metadata": {},
     "output_type": "execute_result"
    }
   ],
   "source": [
    "temp_corr.head()"
   ]
  },
  {
   "cell_type": "code",
   "execution_count": 241,
   "id": "3097e901-1c6a-49ab-9a2c-6fece366e9a2",
   "metadata": {},
   "outputs": [
    {
     "data": {
      "text/plain": [
       "pcr                  0.005779\n",
       "rfs                  1.000000\n",
       "Age                  0.059959\n",
       "ER                   0.014400\n",
       "PgR                  0.047658\n",
       "                       ...   \n",
       "Proliferation_3.0    0.002841\n",
       "TumourStage_1.0      0.012570\n",
       "TumourStage_2.0      0.179478\n",
       "TumourStage_3.0      0.120043\n",
       "TumourStage_4.0      0.082246\n",
       "Name: rfs, Length: 126, dtype: float64"
      ]
     },
     "execution_count": 241,
     "metadata": {},
     "output_type": "execute_result"
    }
   ],
   "source": []
  },
  {
   "cell_type": "code",
   "execution_count": 243,
   "id": "716d525a-e9af-4eec-84ec-2fb5fc9f901a",
   "metadata": {},
   "outputs": [
    {
     "data": {
      "text/plain": [
       "<Axes: >"
      ]
     },
     "execution_count": 243,
     "metadata": {},
     "output_type": "execute_result"
    },
    {
     "data": {
      "image/png": "[encoded data removed]",
      "text/plain": [
       "<Figure size 504x504 with 1 Axes>"
      ]
     },
     "metadata": {
      "needs_background": "light"
     },
     "output_type": "display_data"
    }
   ],
   "source": [
    "abs(temp_corr['rfs'].sort_values(ascending=False)).plot(kind='line', figsize=(7,7))"
   ]
  },
  {
   "cell_type": "code",
   "execution_count": 246,
   "id": "b7c26a01-47b4-4a8d-9b8e-53b26bfc2dc2",
   "metadata": {},
   "outputs": [
    {
     "data": {
      "text/plain": [
       "['pcr',\n",
       " 'rfs',\n",
       " 'Age',\n",
       " 'ER',\n",
       " 'PgR',\n",
       " 'HER2',\n",
       " 'TrippleNegative',\n",
       " 'HistologyType',\n",
       " 'LNStatus',\n",
       " 'original_shape_Elongation',\n",
       " 'original_shape_Flatness',\n",
       " 'original_shape_LeastAxisLength',\n",
       " 'original_shape_MajorAxisLength',\n",
       " 'original_shape_Maximum2DDiameterColumn',\n",
       " 'original_shape_Maximum2DDiameterRow',\n",
       " 'original_shape_Maximum2DDiameterSlice',\n",
       " 'original_shape_Maximum3DDiameter',\n",
       " 'original_shape_MeshVolume',\n",
       " 'original_shape_MinorAxisLength',\n",
       " 'original_shape_Sphericity',\n",
       " 'original_shape_SurfaceArea',\n",
       " 'original_shape_SurfaceVolumeRatio',\n",
       " 'original_shape_VoxelVolume',\n",
       " 'original_firstorder_10Percentile',\n",
       " 'original_firstorder_90Percentile',\n",
       " 'original_firstorder_Energy',\n",
       " 'original_firstorder_Entropy',\n",
       " 'original_firstorder_InterquartileRange',\n",
       " 'original_firstorder_Kurtosis',\n",
       " 'original_firstorder_Maximum',\n",
       " 'original_firstorder_MeanAbsoluteDeviation',\n",
       " 'original_firstorder_Mean',\n",
       " 'original_firstorder_Median',\n",
       " 'original_firstorder_Minimum',\n",
       " 'original_firstorder_Range',\n",
       " 'original_firstorder_RobustMeanAbsoluteDeviation',\n",
       " 'original_firstorder_RootMeanSquared',\n",
       " 'original_firstorder_Skewness',\n",
       " 'original_firstorder_TotalEnergy',\n",
       " 'original_firstorder_Uniformity',\n",
       " 'original_firstorder_Variance',\n",
       " 'original_glcm_Autocorrelation',\n",
       " 'original_glcm_ClusterProminence',\n",
       " 'original_glcm_ClusterShade',\n",
       " 'original_glcm_ClusterTendency',\n",
       " 'original_glcm_Contrast',\n",
       " 'original_glcm_Correlation',\n",
       " 'original_glcm_DifferenceAverage',\n",
       " 'original_glcm_DifferenceEntropy',\n",
       " 'original_glcm_DifferenceVariance',\n",
       " 'original_glcm_Id',\n",
       " 'original_glcm_Idm',\n",
       " 'original_glcm_Idmn',\n",
       " 'original_glcm_Idn',\n",
       " 'original_glcm_Imc1',\n",
       " 'original_glcm_Imc2',\n",
       " 'original_glcm_InverseVariance',\n",
       " 'original_glcm_JointAverage',\n",
       " 'original_glcm_JointEnergy',\n",
       " 'original_glcm_JointEntropy',\n",
       " 'original_glcm_MCC',\n",
       " 'original_glcm_MaximumProbability',\n",
       " 'original_glcm_SumAverage',\n",
       " 'original_glcm_SumEntropy',\n",
       " 'original_glcm_SumSquares',\n",
       " 'original_gldm_DependenceEntropy',\n",
       " 'original_gldm_DependenceNonUniformity',\n",
       " 'original_gldm_DependenceNonUniformityNormalized',\n",
       " 'original_gldm_DependenceVariance',\n",
       " 'original_gldm_GrayLevelNonUniformity',\n",
       " 'original_gldm_GrayLevelVariance',\n",
       " 'original_gldm_HighGrayLevelEmphasis',\n",
       " 'original_gldm_LargeDependenceEmphasis',\n",
       " 'original_gldm_LargeDependenceHighGrayLevelEmphasis',\n",
       " 'original_gldm_LargeDependenceLowGrayLevelEmphasis',\n",
       " 'original_gldm_LowGrayLevelEmphasis',\n",
       " 'original_gldm_SmallDependenceEmphasis',\n",
       " 'original_gldm_SmallDependenceHighGrayLevelEmphasis',\n",
       " 'original_gldm_SmallDependenceLowGrayLevelEmphasis',\n",
       " 'original_glrlm_GrayLevelNonUniformity',\n",
       " 'original_glrlm_GrayLevelNonUniformityNormalized',\n",
       " 'original_glrlm_GrayLevelVariance',\n",
       " 'original_glrlm_HighGrayLevelRunEmphasis',\n",
       " 'original_glrlm_LongRunEmphasis',\n",
       " 'original_glrlm_LongRunHighGrayLevelEmphasis',\n",
       " 'original_glrlm_LongRunLowGrayLevelEmphasis',\n",
       " 'original_glrlm_LowGrayLevelRunEmphasis',\n",
       " 'original_glrlm_RunEntropy',\n",
       " 'original_glrlm_RunLengthNonUniformity',\n",
       " 'original_glrlm_RunLengthNonUniformityNormalized',\n",
       " 'original_glrlm_RunPercentage',\n",
       " 'original_glrlm_RunVariance',\n",
       " 'original_glrlm_ShortRunEmphasis',\n",
       " 'original_glrlm_ShortRunHighGrayLevelEmphasis',\n",
       " 'original_glrlm_ShortRunLowGrayLevelEmphasis',\n",
       " 'original_glszm_GrayLevelNonUniformity',\n",
       " 'original_glszm_GrayLevelNonUniformityNormalized',\n",
       " 'original_glszm_GrayLevelVariance',\n",
       " 'original_glszm_HighGrayLevelZoneEmphasis',\n",
       " 'original_glszm_LargeAreaEmphasis',\n",
       " 'original_glszm_LargeAreaHighGrayLevelEmphasis',\n",
       " 'original_glszm_LargeAreaLowGrayLevelEmphasis',\n",
       " 'original_glszm_LowGrayLevelZoneEmphasis',\n",
       " 'original_glszm_SizeZoneNonUniformity',\n",
       " 'original_glszm_SizeZoneNonUniformityNormalized',\n",
       " 'original_glszm_SmallAreaEmphasis',\n",
       " 'original_glszm_SmallAreaHighGrayLevelEmphasis',\n",
       " 'original_glszm_SmallAreaLowGrayLevelEmphasis',\n",
       " 'original_glszm_ZoneEntropy',\n",
       " 'original_glszm_ZonePercentage',\n",
       " 'original_glszm_ZoneVariance',\n",
       " 'original_ngtdm_Busyness',\n",
       " 'original_ngtdm_Coarseness',\n",
       " 'original_ngtdm_Complexity',\n",
       " 'original_ngtdm_Contrast',\n",
       " 'original_ngtdm_Strength',\n",
       " 'ChemoGrade_1.0',\n",
       " 'ChemoGrade_2.0',\n",
       " 'ChemoGrade_3.0',\n",
       " 'Proliferation_1.0',\n",
       " 'Proliferation_2.0',\n",
       " 'Proliferation_3.0',\n",
       " 'TumourStage_1.0',\n",
       " 'TumourStage_2.0',\n",
       " 'TumourStage_3.0',\n",
       " 'TumourStage_4.0']"
      ]
     },
     "execution_count": 246,
     "metadata": {},
     "output_type": "execute_result"
    }
   ],
   "source": [
    "list(imputed_df.columns)"
   ]
  },
  {
   "cell_type": "code",
   "execution_count": 224,
   "id": "820dc614-c333-4abf-8374-35d2f650d457",
   "metadata": {},
   "outputs": [
    {
     "data": {
      "text/plain": [
       "'ChemoGrade_3.0'"
      ]
     },
     "execution_count": 224,
     "metadata": {},
     "output_type": "execute_result"
    }
   ],
   "source": [
    "pair[0]"
   ]
  },
  {
   "cell_type": "code",
   "execution_count": 20,
   "id": "c5f0be10-7bcb-4364-80ab-030cb641e368",
   "metadata": {},
   "outputs": [],
   "source": [
    "\n",
    "\n",
    "# Load your data\n",
    "# data = pd.read_csv('your_dataset.csv')\n",
    "\n",
    "target = 'rfs'\n",
    "\n",
    "# Step 1: Compute the correlation matrix\n",
    "correlation_matrix = imputed_df.drop(columns=['rfs', 'pcr']).corr()\n",
    "\n",
    "# Step 2: Identify pairs of highly correlated features\n",
    "high_corr_threshold = 0.8\n",
    "high_corr_pairs = []\n",
    "\n",
    "for i in range(len(correlation_matrix.columns)):\n",
    "    for j in range(i):\n",
    "        if abs(correlation_matrix.iloc[i, j]) > high_corr_threshold:\n",
    "            colname = correlation_matrix.columns[i]\n",
    "            high_corr_pairs.append((correlation_matrix.columns[j], colname))\n",
    "\n",
    "# Step 3 and 4: Remove the feature from each pair with lower correlation with the target\n",
    "features_to_remove = set()\n",
    "for pair in high_corr_pairs:\n",
    "    if abs(imputed_df[pair[0]].corr(imputed_df[target])) > abs(imputed_df[pair[1]].corr(imputed_df[target])):\n",
    "        features_to_remove.add(pair[1])\n",
    "    else:\n",
    "        features_to_remove.add(pair[0])\n",
    "\n",
    "# Creating a new dataset with reduced features\n",
    "imputed_df_reduced = imputed_df.drop(columns=features_to_remove)\n",
    "\n",
    "# Now you can proceed with splitting the data and applying your model\n",
    "# X = data_reduced.drop(columns=[target])\n",
    "# y = data_reduced[target]\n",
    "# X_train, X_test, y_train, y_test = train_test_split(X, y, test_size=0.2, random_state=42)\n",
    "\n",
    "# ... Continue with your model training and evaluation\n"
   ]
  },
  {
   "cell_type": "code",
   "execution_count": 24,
   "id": "65e4ae1f-bd60-44c7-9f35-020bad7f9340",
   "metadata": {},
   "outputs": [
    {
     "data": {
      "text/plain": [
       "(400, 44)"
      ]
     },
     "execution_count": 24,
     "metadata": {},
     "output_type": "execute_result"
    }
   ],
   "source": [
    "imputed_df_reduced.shape"
   ]
  },
  {
   "cell_type": "code",
   "execution_count": 39,
   "id": "b6c41c37-4902-4d97-bf1b-bf2090e76a3d",
   "metadata": {},
   "outputs": [],
   "source": [
    "train, test = train_test_split(imputed_df_reduced, test_size=0.20)"
   ]
  },
  {
   "cell_type": "code",
   "execution_count": 33,
   "id": "70ceddfa-ab99-4fa1-9626-4c2a95ce3efb",
   "metadata": {},
   "outputs": [],
   "source": [
    "categorical_cols = []\n",
    "for col in imputed_df_reduced.drop(columns=['pcr', 'rfs']):\n",
    "    if len(imputed_df_reduced[col].value_counts().index) < 4:\n",
    "        categorical_cols.append(col)"
   ]
  },
  {
   "cell_type": "code",
   "execution_count": 37,
   "id": "5ab97fa4-6da3-4e9c-879c-7a2a7b87fe96",
   "metadata": {
    "collapsed": true,
    "jupyter": {
     "outputs_hidden": true
    },
    "tags": []
   },
   "outputs": [
    {
     "data": {
      "text/plain": [
       "(['ER',\n",
       "  'PgR',\n",
       "  'HER2',\n",
       "  'TrippleNegative',\n",
       "  'HistologyType',\n",
       "  'LNStatus',\n",
       "  'ChemoGrade_1.0',\n",
       "  'ChemoGrade_2.0',\n",
       "  'Proliferation_2.0',\n",
       "  'Proliferation_3.0',\n",
       "  'TumourStage_1.0',\n",
       "  'TumourStage_2.0',\n",
       "  'TumourStage_3.0',\n",
       "  'TumourStage_4.0'],\n",
       " 14)"
      ]
     },
     "execution_count": 37,
     "metadata": {},
     "output_type": "execute_result"
    }
   ],
   "source": [
    "categorical_cols, len(categorical_cols)"
   ]
  },
  {
   "cell_type": "code",
   "execution_count": 42,
   "id": "656313e3-78b6-4b23-acfb-949dd776d51c",
   "metadata": {},
   "outputs": [],
   "source": [
    "trainX_df = train.drop(columns=['pcr', 'rfs'])\n",
    "trainY_df = train['rfs']\n",
    "\n",
    "testX_df = test.drop(columns=['pcr', 'rfs'])\n",
    "testY_df = test['rfs']\n",
    "\n",
    "multi_category_variables = ['ChemoGrade_1.0', 'ChemoGrade_2.0', 'Proliferation_2.0',\n",
    "       'Proliferation_3.0', 'TumourStage_1.0', 'TumourStage_2.0', 'TumourStage_3.0', 'TumourStage_4.0']\n",
    "\n",
    "categorical_features_labels = ['ER', 'PgR', 'LNStatus', 'HER2', 'HistologyType', 'TrippleNegative'] + multi_category_variables\n",
    "\n",
    "continous_features_labels = imputed_df_reduced.drop(columns=categorical_features_labels + ['pcr', 'rfs']).columns\n"
   ]
  },
  {
   "cell_type": "code",
   "execution_count": 129,
   "id": "fe69276f-d7fa-402b-bf26-b11779c1279f",
   "metadata": {},
   "outputs": [],
   "source": [
    "trainX_continous_feature_array = trainX_df[continous_features_labels].to_numpy()\n",
    "testX_continous_feature_array = testX_df[continous_features_labels].to_numpy()\n",
    "\n",
    "\n",
    "scalerTrainX = MinMaxScaler()\n",
    "scalerTrainY = MinMaxScaler()\n",
    "\n",
    "\n",
    "trainX_cont_X = scalerTrainX.fit_transform(trainX_continous_feature_array)\n",
    "testX_cont_X = scalerTrainX.transform(testX_continous_feature_array)\n",
    "\n",
    "trainX_cat_X = train[categorical_features_labels].to_numpy()\n",
    "testX_cat_X = test[categorical_features_labels].to_numpy()\n",
    "\n",
    "\n",
    "trainX = np.hstack((trainX_cat_X, trainX_cont_X))   \n",
    "testX = np.hstack((testX_cat_X, testX_cont_X))              \n",
    "\n",
    "trainY = scalerTrainY.fit_transform(train['rfs'].to_numpy().reshape(-1, 1))\n",
    "pcrtrainY = train['pcr'].to_numpy().reshape(-1, 1)\n",
    "\n",
    "testY = scalerTrainY.transform(test['rfs'].to_numpy().reshape(-1, 1))\n",
    "pcrtestY = test['pcr'].to_numpy().reshape(-1, 1)\n",
    "\n",
    "\n"
   ]
  },
  {
   "cell_type": "code",
   "execution_count": 44,
   "id": "02725f5d-b349-46ef-88ab-f69398210e0c",
   "metadata": {},
   "outputs": [
    {
     "data": {
      "text/plain": [
       "((320, 42), (80, 42), (320, 1), (80, 1))"
      ]
     },
     "execution_count": 44,
     "metadata": {},
     "output_type": "execute_result"
    }
   ],
   "source": [
    "trainX.shape, testX.shape, trainY.shape, testY.shape"
   ]
  },
  {
   "cell_type": "code",
   "execution_count": 51,
   "id": "e411139e-79fa-4965-b2b5-408e5d662ed9",
   "metadata": {},
   "outputs": [],
   "source": []
  },
  {
   "cell_type": "code",
   "execution_count": 52,
   "id": "87264e30-f865-4ba2-b439-8a0dd06cd506",
   "metadata": {},
   "outputs": [
    {
     "name": "stdout",
     "output_type": "stream",
     "text": [
      "TEST METRICS\n",
      "MSE error: 0.04257266481389791\n",
      "MAE error: 0.16130956572684857\n",
      "R2 error: -0.0665099665500728\n",
      "\n",
      "TRAIN METRICS\n",
      "MSE error: 0.004561844314985147\n",
      "MAE error: 0.05320767312213466\n",
      "R2 error: 0.8717057290111179\n"
     ]
    }
   ],
   "source": [
    "run_RF(trainX, testX, trainY, testY)"
   ]
  },
  {
   "cell_type": "code",
   "execution_count": 74,
   "id": "d0f5b511-4b38-4ccd-bf55-2b74d330b7ee",
   "metadata": {},
   "outputs": [],
   "source": [
    "import imblearn"
   ]
  },
  {
   "cell_type": "code",
   "execution_count": 79,
   "id": "6140bd01-605b-439a-bb70-6a5c11654420",
   "metadata": {},
   "outputs": [],
   "source": [
    "a = np.hstack((trainX, trainY))"
   ]
  },
  {
   "cell_type": "code",
   "execution_count": 91,
   "id": "f9d49168-9539-420b-992e-61782b2b052c",
   "metadata": {
    "tags": []
   },
   "outputs": [
    {
     "data": {
      "text/plain": [
       "(320, 43)"
      ]
     },
     "execution_count": 91,
     "metadata": {},
     "output_type": "execute_result"
    }
   ],
   "source": [
    "# a[:, -1] ==  trainY.ravel()\n",
    "a.shape"
   ]
  },
  {
   "cell_type": "code",
   "execution_count": 90,
   "id": "ca9799f3-8e4e-4c15-b22f-364b73bb4652",
   "metadata": {},
   "outputs": [
    {
     "data": {
      "text/plain": [
       "((494, 42), (494, 43))"
      ]
     },
     "execution_count": 90,
     "metadata": {},
     "output_type": "execute_result"
    }
   ],
   "source": [
    "imputed_x[:, :-1].shape, imputed_x.shape"
   ]
  },
  {
   "cell_type": "code",
   "execution_count": 92,
   "id": "01088e13-16ab-49e6-88ef-f295040f53a8",
   "metadata": {},
   "outputs": [],
   "source": [
    "# oversample = imblearn.over_sampling.BorderlineSMOTE(sampling_strategy=1)\n",
    "oversample = imblearn.over_sampling.ADASYN()\n",
    "\n",
    "\n",
    "imputed_x, imputed_y = oversample.fit_resample(np.hstack((trainX, trainY)), pcrtrainY)\n",
    "\n",
    "train_smote_X = imputed_x[:, :-1]\n",
    "train_smote_Y = imputed_x[:, -1]"
   ]
  },
  {
   "cell_type": "code",
   "execution_count": 93,
   "id": "87c600f3-ccad-4fd1-9880-52fe613a791b",
   "metadata": {},
   "outputs": [
    {
     "data": {
      "text/plain": [
       "((494, 42), (494,))"
      ]
     },
     "execution_count": 93,
     "metadata": {},
     "output_type": "execute_result"
    }
   ],
   "source": [
    "train_smote_X.shape, train_smote_Y.shape"
   ]
  },
  {
   "cell_type": "code",
   "execution_count": 94,
   "id": "63f06814-b525-4f00-b3e1-7faf9d55de9f",
   "metadata": {},
   "outputs": [
    {
     "name": "stdout",
     "output_type": "stream",
     "text": [
      "TEST METRICS\n",
      "MSE error: 0.041198466950229704\n",
      "MAE error: 0.16371505158326585\n",
      "R2 error: -0.03208422120336607\n",
      "\n",
      "TRAIN METRICS\n",
      "MSE error: 0.0029659204531387803\n",
      "MAE error: 0.03916584704186181\n",
      "R2 error: 0.9014347880961205\n"
     ]
    }
   ],
   "source": [
    "run_RF(train_smote_X, testX, train_smote_Y, testY)"
   ]
  },
  {
   "cell_type": "code",
   "execution_count": 120,
   "id": "1cda2c09-06a4-4b93-b916-acf425e77f2a",
   "metadata": {},
   "outputs": [],
   "source": [
    "import tensorflow as tf\n",
    "from tensorflow.keras.models import Model\n",
    "from tensorflow.keras.layers import Input, Dense, concatenate\n",
    "from tensorflow.keras.losses import MeanSquaredError, BinaryCrossentropy\n",
    "\n",
    "from tensorflow.keras import layers, regularizers, models\n",
    "from sklearn.utils.class_weight import compute_class_weight"
   ]
  },
  {
   "cell_type": "code",
   "execution_count": 96,
   "id": "5c663251-2e11-47a6-9209-6fb03fe62ddd",
   "metadata": {},
   "outputs": [],
   "source": [
    "# Enable eager execution\n",
    "tf.config.run_functions_eagerly(True)"
   ]
  },
  {
   "cell_type": "code",
   "execution_count": 97,
   "id": "6d3d5cd7-db99-4756-a7bf-0087a7c02540",
   "metadata": {},
   "outputs": [
    {
     "data": {
      "text/plain": [
       "42"
      ]
     },
     "execution_count": 102,
     "metadata": {},
     "output_type": "execute_result"
    }
   ],
   "source": [
    "trainX.shape[1]"
   ]
  },
  {
   "cell_type": "code",
   "execution_count": 162,
   "id": "fd00bb38-dbaf-4ed2-968e-6105f956b2fd",
   "metadata": {},
   "outputs": [
    {
     "name": "stdout",
     "output_type": "stream",
     "text": [
      "Model: \"model_11\"\n",
      "__________________________________________________________________________________________________\n",
      " Layer (type)                   Output Shape         Param #     Connected to                     \n",
      "==================================================================================================\n",
      " input_18 (InputLayer)          [(None, 42)]         0           []                               \n",
      "                                                                                                  \n",
      " dense_77 (Dense)               (None, 32)           1376        ['input_18[0][0]']               \n",
      "                                                                                                  \n",
      " dropout_35 (Dropout)           (None, 32)           0           ['dense_77[0][0]']               \n",
      "                                                                                                  \n",
      " dense_78 (Dense)               (None, 16)           528         ['dropout_35[0][0]']             \n",
      "                                                                                                  \n",
      " dropout_36 (Dropout)           (None, 16)           0           ['dense_78[0][0]']               \n",
      "                                                                                                  \n",
      " dense_79 (Dense)               (None, 8)            136         ['dropout_36[0][0]']             \n",
      "                                                                                                  \n",
      " dropout_37 (Dropout)           (None, 8)            0           ['dense_79[0][0]']               \n",
      "                                                                                                  \n",
      " dense_80 (Dense)               (None, 16)           144         ['dropout_37[0][0]']             \n",
      "                                                                                                  \n",
      " dropout_38 (Dropout)           (None, 16)           0           ['dense_80[0][0]']               \n",
      "                                                                                                  \n",
      " dense_81 (Dense)               (None, 32)           544         ['dropout_38[0][0]']             \n",
      "                                                                                                  \n",
      " dropout_39 (Dropout)           (None, 32)           0           ['dense_81[0][0]']               \n",
      "                                                                                                  \n",
      " decoded (Dense)                (None, 42)           1386        ['dropout_39[0][0]']             \n",
      "                                                                                                  \n",
      " regression_output (Dense)      (None, 1)            9           ['dropout_37[0][0]']             \n",
      "                                                                                                  \n",
      " classification (Dense)         (None, 1)            9           ['dropout_37[0][0]']             \n",
      "                                                                                                  \n",
      "==================================================================================================\n",
      "Total params: 4,132\n",
      "Trainable params: 4,132\n",
      "Non-trainable params: 0\n",
      "__________________________________________________________________________________________________\n"
     ]
    }
   ],
   "source": [
    "model.summary()"
   ]
  },
  {
   "cell_type": "code",
   "execution_count": 163,
   "id": "2029e418-7026-4028-8431-1f3b1314f88b",
   "metadata": {},
   "outputs": [],
   "source": [
    "\n",
    "\n",
    "# # Custom Binary Classification Metrics\n",
    "# class BalancedAccuracy(tf.keras.metrics.Metric):\n",
    "#     def __init__(self, name='balanced_accuracy', **kwargs):\n",
    "#         super(BalancedAccuracy, self).__init__(name=name, **kwargs)\n",
    "#         self.true_positives = self.add_weight(name='true_positives', initializer='zeros')\n",
    "#         self.true_negatives = self.add_weight(name='true_negatives', initializer='zeros')\n",
    "#         self.false_positives = self.add_weight(name='false_positives', initializer='zeros')\n",
    "#         self.false_negatives = self.add_weight(name='false_negatives', initializer='zeros')\n",
    "\n",
    "#     def update_state(self, y_true, y_pred, sample_weight=None):\n",
    "#         y_true = tf.keras.backend.cast(y_true, tf.float32)\n",
    "#         y_pred = tf.keras.backend.cast(y_pred, tf.float32)\n",
    "\n",
    "#         true_positives = tf.keras.backend.sum(tf.keras.backend.round(tf.keras.backend.clip(y_true * y_pred, 0, 1)))\n",
    "#         true_negatives = tf.keras.backend.sum(tf.keras.backend.round(tf.keras.backend.clip((1 - y_true) * (1 - y_pred), 0, 1)))\n",
    "#         false_positives = tf.keras.backend.sum(tf.keras.backend.round(tf.keras.backend.clip((1 - y_true) * y_pred, 0, 1)))\n",
    "#         false_negatives = tf.keras.backend.sum(tf.keras.backend.round(tf.keras.backend.clip(y_true * (1 - y_pred), 0, 1)))\n",
    "\n",
    "#         self.true_positives.assign_add(true_positives)\n",
    "#         self.true_negatives.assign_add(true_negatives)\n",
    "#         self.false_positives.assign_add(false_positives)\n",
    "#         self.false_negatives.assign_add(false_negatives)\n",
    "\n",
    "#     def result(self):\n",
    "#         balanced_accuracy = (self.true_positives / (self.true_positives + self.false_negatives) +\n",
    "#                              self.true_negatives / (self.true_negatives + self.false_positives)) / 2.0\n",
    "#         return balanced_accuracy\n",
    "\n",
    "#     def reset_states(self):\n",
    "#         self.true_positives.assign(0)\n",
    "#         self.true_negatives.assign(0)\n",
    "#         self.false_positives.assign(0)\n",
    "#         self.false_negatives.assign(0)\n",
    "\n",
    "# class F1Score(tf.keras.metrics.Metric):\n",
    "#     def __init__(self, name='f1_score', **kwargs):\n",
    "#         super(F1Score, self).__init__(name=name, **kwargs)\n",
    "#         self.true_positives = self.add_weight(name='true_positives', initializer='zeros')\n",
    "#         self.false_positives = self.add_weight(name='false_positives', initializer='zeros')\n",
    "#         self.false_negatives = self.add_weight(name='false_negatives', initializer='zeros')\n",
    "\n",
    "#     def update_state(self, y_true, y_pred, sample_weight=None):\n",
    "#         y_true = tf.keras.backend.cast(y_true, tf.float32)\n",
    "#         y_pred = tf.keras.backend.cast(y_pred, tf.float32)\n",
    "\n",
    "#         true_positives = tf.keras.backend.sum(tf.keras.backend.round(tf.keras.backend.clip(y_true * y_pred, 0, 1)))\n",
    "#         false_positives = tf.keras.backend.sum(tf.keras.backend.round(tf.keras.backend.clip((1 - y_true) * y_pred, 0, 1)))\n",
    "#         false_negatives = tf.keras.backend.sum(tf.keras.backend.round(tf.keras.backend.clip(y_true * (1 - y_pred), 0, 1)))\n",
    "\n",
    "#         self.true_positives.assign_add(true_positives)\n",
    "#         self.false_positives.assign_add(false_positives)\n",
    "#         self.false_negatives.assign_add(false_negatives)\n",
    "\n",
    "#     def result(self):\n",
    "#         precision = self.true_positives / (self.true_positives + self.false_positives + tf.keras.backend.epsilon())\n",
    "#         recall = self.true_positives / (self.true_positives + self.false_negatives + tf.keras.backend.epsilon())\n",
    "#         f1 = 2 * (precision * recall) / (precision + recall + tf.keras.backend.epsilon())\n",
    "#         return f1\n",
    "\n",
    "#     def reset_states(self):\n",
    "#         self.true_positives.assign(0)\n",
    "#         self.false_positives.assign(0)\n",
    "#         self.false_negatives.assign(0)\n",
    "\n",
    "\n",
    "# Custom R2 metric\n",
    "def r2_metric(y_true, y_pred):\n",
    "    return tf.py_function(r2_score, (y_true, y_pred), tf.float32)\n",
    "\n",
    "# Custom Balanced Accuracy metric\n",
    "def balanced_accuracy_metric(y_true, y_pred):\n",
    "    return tf.py_function(balanced_accuracy_score, (y_true, tf.round(y_pred)), tf.float32)\n",
    "\n",
    "# Custom Reconstruction MSE metric\n",
    "def reconstruction_mse(y_true, y_pred):\n",
    "    mse = tf.keras.losses.mean_squared_error(y_true, y_pred)\n",
    "    return mse\n",
    "\n",
    "# Custom F1 Score metric\n",
    "def f1_score_metric(y_true, y_pred):\n",
    "    return tf.py_function(f1_score, (y_true, tf.round(y_pred)), tf.float32)\n",
    "\n",
    "# Custom Mean Squared Error (MSE) metric for regression\n",
    "def mse_metric(y_true, y_pred):\n",
    "    return tf.py_function(mean_squared_error, (y_true, y_pred), tf.float32)"
   ]
  },
  {
   "cell_type": "code",
   "execution_count": 178,
   "id": "d265b037-ac73-448f-92a0-104fc79ac01c",
   "metadata": {},
   "outputs": [],
   "source": [
    "\n",
    "\n",
    "# # Assuming 'data' is your preprocessed DataFrame\n",
    "# X = data.drop(columns=['RelapseFreeSurvival (outcome)', 'pCR (outcome)'])  # Features\n",
    "# y_reg = data['RelapseFreeSurvival (outcome)']  # Regression target\n",
    "# y_clf = data['pCR (outcome)']  # Classification target\n",
    "\n",
    "# Splitting the dataset (not shown here for brevity)\n",
    "\n",
    "# Building the autoencoder architecture\n",
    "\n",
    "dropout_rate = 0.3\n",
    "l2_reg = 1\n",
    "\n",
    "input_layer = Input(shape=(trainX.shape[1],))\n",
    "encoded = Dense(32, activation='relu', kernel_regularizer=regularizers.l2(l2_reg))(input_layer,)\n",
    "encoded = layers.Dropout(dropout_rate)(encoded)\n",
    "encoded = Dense(16, activation='relu', kernel_regularizer=regularizers.l2(l2_reg))(encoded)\n",
    "encoded = layers.Dropout(dropout_rate)(encoded)\n",
    "\n",
    "encoded = Dense(8, activation='relu', kernel_regularizer=regularizers.l2(l2_reg))(encoded)\n",
    "encoded = layers.Dropout(dropout_rate)(encoded)\n",
    "\n",
    "decoded = Dense(16, activation='relu', kernel_regularizer=regularizers.l2(l2_reg))(encoded)\n",
    "decoded = layers.Dropout(dropout_rate)(decoded)\n",
    "\n",
    "decoded = Dense(32, activation='relu', kernel_regularizer=regularizers.l2(l2_reg))(decoded)\n",
    "decoded = layers.Dropout(dropout_rate)(decoded)\n",
    "decoded = Dense(trainX.shape[1], activation='sigmoid', name='decoded',\n",
    "                kernel_regularizer=regularizers.l2(l2_reg))(decoded)\n",
    "\n",
    "# Regression head\n",
    "# regression_head = Dense(16, activation='relu')(encoded)\n",
    "regression_output = Dense(1, activation='linear', name='regression_output' ,\n",
    "                          kernel_regularizer=regularizers.l2(l2_reg))(encoded)\n",
    "# Classification Head\n",
    "classification_output = layers.Dense(1, activation='sigmoid', name='classification',\n",
    "                                    kernel_regularizer=regularizers.l2(l2_reg))(encoded)\n",
    "\n",
    "# Classification head\n",
    "# classification_head = Dense(16, activation='relu')(encoded)\n",
    "# classification_output = Dense(1, activation='sigmoid', name='classification_output')(classification_head)\n",
    "\n",
    "# Model\n",
    "model = Model(inputs=input_layer, outputs=[decoded, regression_output, classification_output])\n"
   ]
  },
  {
   "cell_type": "code",
   "execution_count": 179,
   "id": "c53320a7-3ae9-490f-9ecb-cd305b172e91",
   "metadata": {},
   "outputs": [],
   "source": [
    "# Custom R2 metric\n",
    "# def r2_metric(y_true, y_pred):\n",
    "#     r2 = r2_score(y_true, y_pred)\n",
    "#     return r2\n",
    "\n",
    "# # Custom Reconstruction MSE metric\n",
    "# def reconstruction_mse(y_true, y_pred):\n",
    "#     mse = mean_squared_error(y_true, y_pred)\n",
    "#     return mse\n",
    "\n",
    "# # Custom Regression MSE metric\n",
    "# def regression_mse(y_true, y_pred):\n",
    "#     mse = mean_squared_error(y_true, y_pred)\n",
    "#     return mse\n",
    "# Define the learning rate\n",
    "learning_rate = 0.001  # Adjust as needed\n",
    "\n",
    "# Create Adam optimizer with the specified learning rate\n",
    "optimizer = tf.keras.optimizers.Adam(learning_rate=learning_rate)\n",
    "\n",
    "model.compile(optimizer=optimizer,\n",
    "              loss={'decoded': 'mse', 'regression_output': 'mse', 'classification': 'binary_crossentropy'},\n",
    "              loss_weights={'decoded': 0.3, 'regression_output': 1, 'classification': 0.2},\n",
    "              metrics={'decoded': 'mse',\n",
    "                       'regression_output': [mse_metric, r2_metric], \n",
    "                      'classification': [balanced_accuracy_metric, f1_score_metric]})\n"
   ]
  },
  {
   "cell_type": "code",
   "execution_count": 180,
   "id": "5107dc4a-d669-4cfe-a3ca-c0f068c25a73",
   "metadata": {
    "collapsed": true,
    "jupyter": {
     "outputs_hidden": true
    },
    "tags": []
   },
   "outputs": [
    {
     "name": "stdout",
     "output_type": "stream",
     "text": [
      "Epoch 1/200\n"
     ]
    },
    {
     "name": "stderr",
     "output_type": "stream",
     "text": [
      "C:\\Users\\sudar\\anaconda3\\lib\\site-packages\\tensorflow\\python\\data\\ops\\structured_function.py:264: UserWarning: Even though the `tf.config.experimental_run_functions_eagerly` option is set, this option does not apply to tf.data functions. To force eager execution of tf.data functions, please use `tf.data.experimental.enable_debug_mode()`.\n",
      "  warnings.warn(\n"
     ]
    },
    {
     "name": "stdout",
     "output_type": "stream",
     "text": [
      "31/31 [==============================] - ETA: 0s - loss: 124.1290 - decoded_loss: 0.1613 - regression_output_loss: 0.1169 - classification_loss: 0.7550 - decoded_mse: 0.1613 - regression_output_mse_metric: 0.1170 - regression_output_r2_metric: -3.6550 - classification_balanced_accuracy_metric: 0.4665 - classification_f1_score_metric: 0.5509"
     ]
    },
    {
     "name": "stderr",
     "output_type": "stream",
     "text": [
      "C:\\Users\\sudar\\anaconda3\\lib\\site-packages\\tensorflow\\python\\data\\ops\\structured_function.py:264: UserWarning: Even though the `tf.config.experimental_run_functions_eagerly` option is set, this option does not apply to tf.data functions. To force eager execution of tf.data functions, please use `tf.data.experimental.enable_debug_mode()`.\n",
      "  warnings.warn(\n"
     ]
    },
    {
     "name": "stdout",
     "output_type": "stream",
     "text": [
      "31/31 [==============================] - 3s 99ms/step - loss: 124.1290 - decoded_loss: 0.1613 - regression_output_loss: 0.1169 - classification_loss: 0.7550 - decoded_mse: 0.1613 - regression_output_mse_metric: 0.1170 - regression_output_r2_metric: -3.6550 - classification_balanced_accuracy_metric: 0.4665 - classification_f1_score_metric: 0.5509 - val_loss: 106.4881 - val_decoded_loss: 0.1593 - val_regression_output_loss: 0.1140 - val_classification_loss: 0.7606 - val_decoded_mse: 0.1593 - val_regression_output_mse_metric: 0.1140 - val_regression_output_r2_metric: -2.5127 - val_classification_balanced_accuracy_metric: 0.5071 - val_classification_f1_score_metric: 0.2582\n",
      "Epoch 2/200\n",
      "31/31 [==============================] - 3s 98ms/step - loss: 92.7302 - decoded_loss: 0.1500 - regression_output_loss: 0.0904 - classification_loss: 0.7085 - decoded_mse: 0.1500 - regression_output_mse_metric: 0.0904 - regression_output_r2_metric: -2.6734 - classification_balanced_accuracy_metric: 0.4734 - classification_f1_score_metric: 0.5409 - val_loss: 79.3137 - val_decoded_loss: 0.1541 - val_regression_output_loss: 0.0957 - val_classification_loss: 0.7109 - val_decoded_mse: 0.1541 - val_regression_output_mse_metric: 0.0957 - val_regression_output_r2_metric: -1.8605 - val_classification_balanced_accuracy_metric: 0.4214 - val_classification_f1_score_metric: 0.2402\n",
      "Epoch 3/200\n",
      "31/31 [==============================] - 3s 97ms/step - loss: 68.9700 - decoded_loss: 0.1449 - regression_output_loss: 0.0765 - classification_loss: 0.6994 - decoded_mse: 0.1449 - regression_output_mse_metric: 0.0763 - regression_output_r2_metric: -1.8386 - classification_balanced_accuracy_metric: 0.5089 - classification_f1_score_metric: 0.5352 - val_loss: 58.8868 - val_decoded_loss: 0.1508 - val_regression_output_loss: 0.0711 - val_classification_loss: 0.6933 - val_decoded_mse: 0.1508 - val_regression_output_mse_metric: 0.0711 - val_regression_output_r2_metric: -1.0233 - val_classification_balanced_accuracy_metric: 0.5143 - val_classification_f1_score_metric: 0.2400\n",
      "Epoch 4/200\n",
      "31/31 [==============================] - 3s 93ms/step - loss: 51.1397 - decoded_loss: 0.1415 - regression_output_loss: 0.0585 - classification_loss: 0.6926 - decoded_mse: 0.1415 - regression_output_mse_metric: 0.0584 - regression_output_r2_metric: -1.2425 - classification_balanced_accuracy_metric: 0.5148 - classification_f1_score_metric: 0.4854 - val_loss: 43.5953 - val_decoded_loss: 0.1479 - val_regression_output_loss: 0.0550 - val_classification_loss: 0.6878 - val_decoded_mse: 0.1479 - val_regression_output_mse_metric: 0.0550 - val_regression_output_r2_metric: -0.5089 - val_classification_balanced_accuracy_metric: 0.5280 - val_classification_f1_score_metric: 0.1300\n",
      "Epoch 5/200\n",
      "31/31 [==============================] - 3s 92ms/step - loss: 37.8168 - decoded_loss: 0.1386 - regression_output_loss: 0.0472 - classification_loss: 0.6958 - decoded_mse: 0.1386 - regression_output_mse_metric: 0.0472 - regression_output_r2_metric: -0.6947 - classification_balanced_accuracy_metric: 0.5183 - classification_f1_score_metric: 0.5243 - val_loss: 32.2003 - val_decoded_loss: 0.1451 - val_regression_output_loss: 0.0493 - val_classification_loss: 0.6909 - val_decoded_mse: 0.1451 - val_regression_output_mse_metric: 0.0493 - val_regression_output_r2_metric: -0.3312 - val_classification_balanced_accuracy_metric: 0.5332 - val_classification_f1_score_metric: 0.1800\n",
      "Epoch 6/200\n",
      "31/31 [==============================] - 3s 93ms/step - loss: 27.9069 - decoded_loss: 0.1360 - regression_output_loss: 0.0423 - classification_loss: 0.6928 - decoded_mse: 0.1360 - regression_output_mse_metric: 0.0422 - regression_output_r2_metric: -0.5023 - classification_balanced_accuracy_metric: 0.5437 - classification_f1_score_metric: 0.5497 - val_loss: 23.7485 - val_decoded_loss: 0.1425 - val_regression_output_loss: 0.0458 - val_classification_loss: 0.6980 - val_decoded_mse: 0.1425 - val_regression_output_mse_metric: 0.0458 - val_regression_output_r2_metric: -0.2244 - val_classification_balanced_accuracy_metric: 0.5083 - val_classification_f1_score_metric: 0.2598\n",
      "Epoch 7/200\n",
      "31/31 [==============================] - 3s 96ms/step - loss: 20.5789 - decoded_loss: 0.1335 - regression_output_loss: 0.0439 - classification_loss: 0.6932 - decoded_mse: 0.1335 - regression_output_mse_metric: 0.0438 - regression_output_r2_metric: -0.6644 - classification_balanced_accuracy_metric: 0.5030 - classification_f1_score_metric: 0.5205 - val_loss: 17.5129 - val_decoded_loss: 0.1401 - val_regression_output_loss: 0.0451 - val_classification_loss: 0.7005 - val_decoded_mse: 0.1401 - val_regression_output_mse_metric: 0.0451 - val_regression_output_r2_metric: -0.2024 - val_classification_balanced_accuracy_metric: 0.5000 - val_classification_f1_score_metric: 0.2556\n",
      "Epoch 8/200\n",
      "31/31 [==============================] - 3s 93ms/step - loss: 15.1773 - decoded_loss: 0.1311 - regression_output_loss: 0.0388 - classification_loss: 0.6934 - decoded_mse: 0.1311 - regression_output_mse_metric: 0.0389 - regression_output_r2_metric: -0.3896 - classification_balanced_accuracy_metric: 0.5390 - classification_f1_score_metric: 0.5761 - val_loss: 12.9337 - val_decoded_loss: 0.1377 - val_regression_output_loss: 0.0446 - val_classification_loss: 0.7022 - val_decoded_mse: 0.1377 - val_regression_output_mse_metric: 0.0446 - val_regression_output_r2_metric: -0.1855 - val_classification_balanced_accuracy_metric: 0.5000 - val_classification_f1_score_metric: 0.2556\n",
      "Epoch 9/200\n",
      "31/31 [==============================] - 3s 93ms/step - loss: 11.2185 - decoded_loss: 0.1288 - regression_output_loss: 0.0350 - classification_loss: 0.6945 - decoded_mse: 0.1288 - regression_output_mse_metric: 0.0349 - regression_output_r2_metric: -0.2755 - classification_balanced_accuracy_metric: 0.4931 - classification_f1_score_metric: 0.5398 - val_loss: 9.5843 - val_decoded_loss: 0.1355 - val_regression_output_loss: 0.0434 - val_classification_loss: 0.7050 - val_decoded_mse: 0.1355 - val_regression_output_mse_metric: 0.0434 - val_regression_output_r2_metric: -0.1520 - val_classification_balanced_accuracy_metric: 0.5000 - val_classification_f1_score_metric: 0.2556\n",
      "Epoch 10/200\n",
      "31/31 [==============================] - 3s 98ms/step - loss: 8.3330 - decoded_loss: 0.1266 - regression_output_loss: 0.0377 - classification_loss: 0.6957 - decoded_mse: 0.1266 - regression_output_mse_metric: 0.0377 - regression_output_r2_metric: -0.3596 - classification_balanced_accuracy_metric: 0.4712 - classification_f1_score_metric: 0.5093 - val_loss: 7.1410 - val_decoded_loss: 0.1334 - val_regression_output_loss: 0.0429 - val_classification_loss: 0.7031 - val_decoded_mse: 0.1334 - val_regression_output_mse_metric: 0.0429 - val_regression_output_r2_metric: -0.1391 - val_classification_balanced_accuracy_metric: 0.5000 - val_classification_f1_score_metric: 0.2556\n",
      "Epoch 11/200\n",
      "31/31 [==============================] - 3s 93ms/step - loss: 6.2270 - decoded_loss: 0.1245 - regression_output_loss: 0.0372 - classification_loss: 0.6948 - decoded_mse: 0.1245 - regression_output_mse_metric: 0.0373 - regression_output_r2_metric: -0.3551 - classification_balanced_accuracy_metric: 0.4984 - classification_f1_score_metric: 0.5425 - val_loss: 5.3614 - val_decoded_loss: 0.1313 - val_regression_output_loss: 0.0426 - val_classification_loss: 0.7011 - val_decoded_mse: 0.1313 - val_regression_output_mse_metric: 0.0426 - val_regression_output_r2_metric: -0.1316 - val_classification_balanced_accuracy_metric: 0.5000 - val_classification_f1_score_metric: 0.2556\n",
      "Epoch 12/200\n",
      "31/31 [==============================] - 3s 92ms/step - loss: 4.6928 - decoded_loss: 0.1224 - regression_output_loss: 0.0361 - classification_loss: 0.6954 - decoded_mse: 0.1224 - regression_output_mse_metric: 0.0361 - regression_output_r2_metric: -0.3273 - classification_balanced_accuracy_metric: 0.4794 - classification_f1_score_metric: 0.5172 - val_loss: 4.0650 - val_decoded_loss: 0.1293 - val_regression_output_loss: 0.0423 - val_classification_loss: 0.6995 - val_decoded_mse: 0.1293 - val_regression_output_mse_metric: 0.0423 - val_regression_output_r2_metric: -0.1242 - val_classification_balanced_accuracy_metric: 0.5000 - val_classification_f1_score_metric: 0.2556\n",
      "Epoch 13/200\n",
      "31/31 [==============================] - 3s 94ms/step - loss: 3.5716 - decoded_loss: 0.1204 - regression_output_loss: 0.0331 - classification_loss: 0.6934 - decoded_mse: 0.1204 - regression_output_mse_metric: 0.0332 - regression_output_r2_metric: -0.1844 - classification_balanced_accuracy_metric: 0.5071 - classification_f1_score_metric: 0.5657 - val_loss: 3.1181 - val_decoded_loss: 0.1274 - val_regression_output_loss: 0.0419 - val_classification_loss: 0.6974 - val_decoded_mse: 0.1274 - val_regression_output_mse_metric: 0.0419 - val_regression_output_r2_metric: -0.1122 - val_classification_balanced_accuracy_metric: 0.5000 - val_classification_f1_score_metric: 0.2556\n",
      "Epoch 14/200\n",
      "31/31 [==============================] - 3s 92ms/step - loss: 2.7551 - decoded_loss: 0.1186 - regression_output_loss: 0.0339 - classification_loss: 0.6948 - decoded_mse: 0.1186 - regression_output_mse_metric: 0.0341 - regression_output_r2_metric: -0.1923 - classification_balanced_accuracy_metric: 0.4828 - classification_f1_score_metric: 0.5056 - val_loss: 2.4236 - val_decoded_loss: 0.1256 - val_regression_output_loss: 0.0416 - val_classification_loss: 0.6958 - val_decoded_mse: 0.1256 - val_regression_output_mse_metric: 0.0416 - val_regression_output_r2_metric: -0.1059 - val_classification_balanced_accuracy_metric: 0.5000 - val_classification_f1_score_metric: 0.2556\n",
      "Epoch 15/200\n",
      "31/31 [==============================] - 3s 92ms/step - loss: 2.1538 - decoded_loss: 0.1167 - regression_output_loss: 0.0350 - classification_loss: 0.6903 - decoded_mse: 0.1167 - regression_output_mse_metric: 0.0350 - regression_output_r2_metric: -0.2190 - classification_balanced_accuracy_metric: 0.5400 - classification_f1_score_metric: 0.5608 - val_loss: 1.9109 - val_decoded_loss: 0.1238 - val_regression_output_loss: 0.0415 - val_classification_loss: 0.6934 - val_decoded_mse: 0.1238 - val_regression_output_mse_metric: 0.0415 - val_regression_output_r2_metric: -0.1031 - val_classification_balanced_accuracy_metric: 0.5000 - val_classification_f1_score_metric: 0.2556\n",
      "Epoch 16/200\n",
      "31/31 [==============================] - 3s 92ms/step - loss: 1.7079 - decoded_loss: 0.1150 - regression_output_loss: 0.0337 - classification_loss: 0.6930 - decoded_mse: 0.1150 - regression_output_mse_metric: 0.0337 - regression_output_r2_metric: -0.2117 - classification_balanced_accuracy_metric: 0.4983 - classification_f1_score_metric: 0.5035 - val_loss: 1.5299 - val_decoded_loss: 0.1221 - val_regression_output_loss: 0.0412 - val_classification_loss: 0.6931 - val_decoded_mse: 0.1221 - val_regression_output_mse_metric: 0.0412 - val_regression_output_r2_metric: -0.0966 - val_classification_balanced_accuracy_metric: 0.5000 - val_classification_f1_score_metric: 0.0000e+00\n",
      "Epoch 17/200\n",
      "31/31 [==============================] - 3s 93ms/step - loss: 1.3733 - decoded_loss: 0.1133 - regression_output_loss: 0.0317 - classification_loss: 0.6917 - decoded_mse: 0.1133 - regression_output_mse_metric: 0.0317 - regression_output_r2_metric: -0.1127 - classification_balanced_accuracy_metric: 0.5218 - classification_f1_score_metric: 0.5355 - val_loss: 1.2434 - val_decoded_loss: 0.1205 - val_regression_output_loss: 0.0409 - val_classification_loss: 0.6902 - val_decoded_mse: 0.1205 - val_regression_output_mse_metric: 0.0409 - val_regression_output_r2_metric: -0.0905 - val_classification_balanced_accuracy_metric: 0.5000 - val_classification_f1_score_metric: 0.0000e+00\n",
      "Epoch 18/200\n",
      "31/31 [==============================] - 3s 96ms/step - loss: 1.1246 - decoded_loss: 0.1117 - regression_output_loss: 0.0330 - classification_loss: 0.6940 - decoded_mse: 0.1117 - regression_output_mse_metric: 0.0330 - regression_output_r2_metric: -0.1596 - classification_balanced_accuracy_metric: 0.4668 - classification_f1_score_metric: 0.4868 - val_loss: 1.0266 - val_decoded_loss: 0.1189 - val_regression_output_loss: 0.0408 - val_classification_loss: 0.6899 - val_decoded_mse: 0.1189 - val_regression_output_mse_metric: 0.0408 - val_regression_output_r2_metric: -0.0886 - val_classification_balanced_accuracy_metric: 0.5000 - val_classification_f1_score_metric: 0.0000e+00\n",
      "Epoch 19/200\n",
      "31/31 [==============================] - 3s 97ms/step - loss: 0.9321 - decoded_loss: 0.1101 - regression_output_loss: 0.0315 - classification_loss: 0.6936 - decoded_mse: 0.1101 - regression_output_mse_metric: 0.0315 - regression_output_r2_metric: -0.1440 - classification_balanced_accuracy_metric: 0.4962 - classification_f1_score_metric: 0.4961 - val_loss: 0.8603 - val_decoded_loss: 0.1174 - val_regression_output_loss: 0.0407 - val_classification_loss: 0.6878 - val_decoded_mse: 0.1174 - val_regression_output_mse_metric: 0.0407 - val_regression_output_r2_metric: -0.0876 - val_classification_balanced_accuracy_metric: 0.5000 - val_classification_f1_score_metric: 0.0000e+00\n",
      "Epoch 20/200\n",
      "31/31 [==============================] - 3s 94ms/step - loss: 0.7860 - decoded_loss: 0.1087 - regression_output_loss: 0.0322 - classification_loss: 0.6936 - decoded_mse: 0.1087 - regression_output_mse_metric: 0.0322 - regression_output_r2_metric: -0.1490 - classification_balanced_accuracy_metric: 0.4732 - classification_f1_score_metric: 0.4360 - val_loss: 0.7316 - val_decoded_loss: 0.1160 - val_regression_output_loss: 0.0406 - val_classification_loss: 0.6865 - val_decoded_mse: 0.1160 - val_regression_output_mse_metric: 0.0406 - val_regression_output_r2_metric: -0.0846 - val_classification_balanced_accuracy_metric: 0.5000 - val_classification_f1_score_metric: 0.0000e+00\n",
      "Epoch 21/200\n",
      "31/31 [==============================] - 3s 92ms/step - loss: 0.6715 - decoded_loss: 0.1073 - regression_output_loss: 0.0321 - classification_loss: 0.6929 - decoded_mse: 0.1073 - regression_output_mse_metric: 0.0320 - regression_output_r2_metric: -0.1210 - classification_balanced_accuracy_metric: 0.5168 - classification_f1_score_metric: 0.2915 - val_loss: 0.6311 - val_decoded_loss: 0.1147 - val_regression_output_loss: 0.0405 - val_classification_loss: 0.6858 - val_decoded_mse: 0.1147 - val_regression_output_mse_metric: 0.0405 - val_regression_output_r2_metric: -0.0843 - val_classification_balanced_accuracy_metric: 0.5000 - val_classification_f1_score_metric: 0.0000e+00\n",
      "Epoch 22/200\n",
      "31/31 [==============================] - 3s 93ms/step - loss: 0.5821 - decoded_loss: 0.1059 - regression_output_loss: 0.0319 - classification_loss: 0.6945 - decoded_mse: 0.1059 - regression_output_mse_metric: 0.0319 - regression_output_r2_metric: -0.1597 - classification_balanced_accuracy_metric: 0.4719 - classification_f1_score_metric: 0.2014 - val_loss: 0.5517 - val_decoded_loss: 0.1134 - val_regression_output_loss: 0.0404 - val_classification_loss: 0.6855 - val_decoded_mse: 0.1134 - val_regression_output_mse_metric: 0.0404 - val_regression_output_r2_metric: -0.0828 - val_classification_balanced_accuracy_metric: 0.5000 - val_classification_f1_score_metric: 0.0000e+00\n",
      "Epoch 23/200\n",
      "31/31 [==============================] - 3s 94ms/step - loss: 0.5100 - decoded_loss: 0.1046 - regression_output_loss: 0.0315 - classification_loss: 0.6921 - decoded_mse: 0.1046 - regression_output_mse_metric: 0.0315 - regression_output_r2_metric: -0.1137 - classification_balanced_accuracy_metric: 0.5100 - classification_f1_score_metric: 0.2236 - val_loss: 0.4885 - val_decoded_loss: 0.1121 - val_regression_output_loss: 0.0404 - val_classification_loss: 0.6854 - val_decoded_mse: 0.1121 - val_regression_output_mse_metric: 0.0404 - val_regression_output_r2_metric: -0.0821 - val_classification_balanced_accuracy_metric: 0.5000 - val_classification_f1_score_metric: 0.0000e+00\n",
      "Epoch 24/200\n",
      "31/31 [==============================] - 3s 94ms/step - loss: 0.4528 - decoded_loss: 0.1034 - regression_output_loss: 0.0308 - classification_loss: 0.6929 - decoded_mse: 0.1034 - regression_output_mse_metric: 0.0309 - regression_output_r2_metric: -0.1008 - classification_balanced_accuracy_metric: 0.5269 - classification_f1_score_metric: 0.2652 - val_loss: 0.4377 - val_decoded_loss: 0.1109 - val_regression_output_loss: 0.0403 - val_classification_loss: 0.6847 - val_decoded_mse: 0.1109 - val_regression_output_mse_metric: 0.0403 - val_regression_output_r2_metric: -0.0811 - val_classification_balanced_accuracy_metric: 0.5000 - val_classification_f1_score_metric: 0.0000e+00\n",
      "Epoch 25/200\n",
      "31/31 [==============================] - 3s 94ms/step - loss: 0.4071 - decoded_loss: 0.1022 - regression_output_loss: 0.0309 - classification_loss: 0.6933 - decoded_mse: 0.1022 - regression_output_mse_metric: 0.0309 - regression_output_r2_metric: -0.1393 - classification_balanced_accuracy_metric: 0.5055 - classification_f1_score_metric: 0.1810 - val_loss: 0.3969 - val_decoded_loss: 0.1098 - val_regression_output_loss: 0.0402 - val_classification_loss: 0.6855 - val_decoded_mse: 0.1098 - val_regression_output_mse_metric: 0.0402 - val_regression_output_r2_metric: -0.0806 - val_classification_balanced_accuracy_metric: 0.5000 - val_classification_f1_score_metric: 0.0000e+00\n",
      "Epoch 26/200\n",
      "31/31 [==============================] - 3s 94ms/step - loss: 0.3695 - decoded_loss: 0.1011 - regression_output_loss: 0.0305 - classification_loss: 0.6927 - decoded_mse: 0.1011 - regression_output_mse_metric: 0.0305 - regression_output_r2_metric: -0.0818 - classification_balanced_accuracy_metric: 0.4929 - classification_f1_score_metric: 0.2177 - val_loss: 0.3631 - val_decoded_loss: 0.1087 - val_regression_output_loss: 0.0402 - val_classification_loss: 0.6837 - val_decoded_mse: 0.1087 - val_regression_output_mse_metric: 0.0402 - val_regression_output_r2_metric: -0.0803 - val_classification_balanced_accuracy_metric: 0.5000 - val_classification_f1_score_metric: 0.0000e+00\n",
      "Epoch 27/200\n",
      "31/31 [==============================] - 3s 100ms/step - loss: 0.3399 - decoded_loss: 0.1000 - regression_output_loss: 0.0310 - classification_loss: 0.6939 - decoded_mse: 0.1000 - regression_output_mse_metric: 0.0311 - regression_output_r2_metric: -0.1061 - classification_balanced_accuracy_metric: 0.4761 - classification_f1_score_metric: 0.1057 - val_loss: 0.3355 - val_decoded_loss: 0.1077 - val_regression_output_loss: 0.0401 - val_classification_loss: 0.6826 - val_decoded_mse: 0.1077 - val_regression_output_mse_metric: 0.0401 - val_regression_output_r2_metric: -0.0802 - val_classification_balanced_accuracy_metric: 0.5000 - val_classification_f1_score_metric: 0.0000e+00\n",
      "Epoch 28/200\n",
      "31/31 [==============================] - 3s 112ms/step - loss: 0.3145 - decoded_loss: 0.0990 - regression_output_loss: 0.0306 - classification_loss: 0.6931 - decoded_mse: 0.0990 - regression_output_mse_metric: 0.0307 - regression_output_r2_metric: -0.1105 - classification_balanced_accuracy_metric: 0.5087 - classification_f1_score_metric: 0.1021 - val_loss: 0.3130 - val_decoded_loss: 0.1067 - val_regression_output_loss: 0.0401 - val_classification_loss: 0.6826 - val_decoded_mse: 0.1067 - val_regression_output_mse_metric: 0.0401 - val_regression_output_r2_metric: -0.0802 - val_classification_balanced_accuracy_metric: 0.5000 - val_classification_f1_score_metric: 0.0000e+00\n",
      "Epoch 29/200\n",
      "31/31 [==============================] - 3s 108ms/step - loss: 0.2936 - decoded_loss: 0.0980 - regression_output_loss: 0.0303 - classification_loss: 0.6928 - decoded_mse: 0.0980 - regression_output_mse_metric: 0.0304 - regression_output_r2_metric: -0.0804 - classification_balanced_accuracy_metric: 0.5000 - classification_f1_score_metric: 0.0000e+00 - val_loss: 0.2946 - val_decoded_loss: 0.1058 - val_regression_output_loss: 0.0401 - val_classification_loss: 0.6830 - val_decoded_mse: 0.1058 - val_regression_output_mse_metric: 0.0401 - val_regression_output_r2_metric: -0.0802 - val_classification_balanced_accuracy_metric: 0.5000 - val_classification_f1_score_metric: 0.0000e+00\n",
      "Epoch 30/200\n",
      "31/31 [==============================] - 3s 113ms/step - loss: 0.2768 - decoded_loss: 0.0971 - regression_output_loss: 0.0303 - classification_loss: 0.6933 - decoded_mse: 0.0971 - regression_output_mse_metric: 0.0303 - regression_output_r2_metric: -0.0744 - classification_balanced_accuracy_metric: 0.5000 - classification_f1_score_metric: 0.0000e+00 - val_loss: 0.2793 - val_decoded_loss: 0.1049 - val_regression_output_loss: 0.0400 - val_classification_loss: 0.6832 - val_decoded_mse: 0.1049 - val_regression_output_mse_metric: 0.0400 - val_regression_output_r2_metric: -0.0805 - val_classification_balanced_accuracy_metric: 0.5000 - val_classification_f1_score_metric: 0.0000e+00\n",
      "Epoch 31/200\n",
      "31/31 [==============================] - 3s 92ms/step - loss: 0.2628 - decoded_loss: 0.0962 - regression_output_loss: 0.0303 - classification_loss: 0.6935 - decoded_mse: 0.0962 - regression_output_mse_metric: 0.0302 - regression_output_r2_metric: -0.0961 - classification_balanced_accuracy_metric: 0.5000 - classification_f1_score_metric: 0.0000e+00 - val_loss: 0.2664 - val_decoded_loss: 0.1040 - val_regression_output_loss: 0.0400 - val_classification_loss: 0.6827 - val_decoded_mse: 0.1040 - val_regression_output_mse_metric: 0.0400 - val_regression_output_r2_metric: -0.0805 - val_classification_balanced_accuracy_metric: 0.5000 - val_classification_f1_score_metric: 0.0000e+00\n",
      "Epoch 32/200\n",
      "31/31 [==============================] - 3s 92ms/step - loss: 0.2510 - decoded_loss: 0.0953 - regression_output_loss: 0.0303 - classification_loss: 0.6932 - decoded_mse: 0.0953 - regression_output_mse_metric: 0.0303 - regression_output_r2_metric: -0.0576 - classification_balanced_accuracy_metric: 0.5000 - classification_f1_score_metric: 0.0000e+00 - val_loss: 0.2557 - val_decoded_loss: 0.1032 - val_regression_output_loss: 0.0400 - val_classification_loss: 0.6819 - val_decoded_mse: 0.1032 - val_regression_output_mse_metric: 0.0400 - val_regression_output_r2_metric: -0.0806 - val_classification_balanced_accuracy_metric: 0.5000 - val_classification_f1_score_metric: 0.0000e+00\n",
      "Epoch 33/200\n",
      "31/31 [==============================] - 3s 92ms/step - loss: 0.2413 - decoded_loss: 0.0945 - regression_output_loss: 0.0302 - classification_loss: 0.6935 - decoded_mse: 0.0945 - regression_output_mse_metric: 0.0302 - regression_output_r2_metric: -0.0522 - classification_balanced_accuracy_metric: 0.5000 - classification_f1_score_metric: 0.0000e+00 - val_loss: 0.2470 - val_decoded_loss: 0.1024 - val_regression_output_loss: 0.0400 - val_classification_loss: 0.6827 - val_decoded_mse: 0.1024 - val_regression_output_mse_metric: 0.0400 - val_regression_output_r2_metric: -0.0809 - val_classification_balanced_accuracy_metric: 0.5000 - val_classification_f1_score_metric: 0.0000e+00\n",
      "Epoch 34/200\n",
      "31/31 [==============================] - 3s 96ms/step - loss: 0.2333 - decoded_loss: 0.0937 - regression_output_loss: 0.0303 - classification_loss: 0.6935 - decoded_mse: 0.0937 - regression_output_mse_metric: 0.0302 - regression_output_r2_metric: -0.1027 - classification_balanced_accuracy_metric: 0.5000 - classification_f1_score_metric: 0.0000e+00 - val_loss: 0.2397 - val_decoded_loss: 0.1017 - val_regression_output_loss: 0.0400 - val_classification_loss: 0.6828 - val_decoded_mse: 0.1017 - val_regression_output_mse_metric: 0.0400 - val_regression_output_r2_metric: -0.0817 - val_classification_balanced_accuracy_metric: 0.5000 - val_classification_f1_score_metric: 0.0000e+00\n",
      "Epoch 35/200\n",
      "31/31 [==============================] - 3s 93ms/step - loss: 0.2265 - decoded_loss: 0.0929 - regression_output_loss: 0.0304 - classification_loss: 0.6930 - decoded_mse: 0.0929 - regression_output_mse_metric: 0.0303 - regression_output_r2_metric: -0.0621 - classification_balanced_accuracy_metric: 0.5000 - classification_f1_score_metric: 0.0000e+00 - val_loss: 0.2334 - val_decoded_loss: 0.1010 - val_regression_output_loss: 0.0400 - val_classification_loss: 0.6823 - val_decoded_mse: 0.1010 - val_regression_output_mse_metric: 0.0400 - val_regression_output_r2_metric: -0.0811 - val_classification_balanced_accuracy_metric: 0.5000 - val_classification_f1_score_metric: 0.0000e+00\n",
      "Epoch 36/200\n",
      "31/31 [==============================] - 3s 95ms/step - loss: 0.2208 - decoded_loss: 0.0922 - regression_output_loss: 0.0302 - classification_loss: 0.6936 - decoded_mse: 0.0922 - regression_output_mse_metric: 0.0302 - regression_output_r2_metric: -0.1365 - classification_balanced_accuracy_metric: 0.5000 - classification_f1_score_metric: 0.0000e+00 - val_loss: 0.2285 - val_decoded_loss: 0.1003 - val_regression_output_loss: 0.0400 - val_classification_loss: 0.6832 - val_decoded_mse: 0.1003 - val_regression_output_mse_metric: 0.0400 - val_regression_output_r2_metric: -0.0812 - val_classification_balanced_accuracy_metric: 0.5000 - val_classification_f1_score_metric: 0.0000e+00\n",
      "Epoch 37/200\n",
      "31/31 [==============================] - 3s 95ms/step - loss: 0.2160 - decoded_loss: 0.0915 - regression_output_loss: 0.0300 - classification_loss: 0.6934 - decoded_mse: 0.0915 - regression_output_mse_metric: 0.0300 - regression_output_r2_metric: -0.0956 - classification_balanced_accuracy_metric: 0.5000 - classification_f1_score_metric: 0.0000e+00 - val_loss: 0.2242 - val_decoded_loss: 0.0997 - val_regression_output_loss: 0.0400 - val_classification_loss: 0.6830 - val_decoded_mse: 0.0997 - val_regression_output_mse_metric: 0.0400 - val_regression_output_r2_metric: -0.0814 - val_classification_balanced_accuracy_metric: 0.5000 - val_classification_f1_score_metric: 0.0000e+00\n",
      "Epoch 38/200\n",
      "31/31 [==============================] - 3s 93ms/step - loss: 0.2122 - decoded_loss: 0.0909 - regression_output_loss: 0.0302 - classification_loss: 0.6934 - decoded_mse: 0.0909 - regression_output_mse_metric: 0.0301 - regression_output_r2_metric: -0.0500 - classification_balanced_accuracy_metric: 0.5000 - classification_f1_score_metric: 0.0000e+00 - val_loss: 0.2206 - val_decoded_loss: 0.0990 - val_regression_output_loss: 0.0399 - val_classification_loss: 0.6825 - val_decoded_mse: 0.0990 - val_regression_output_mse_metric: 0.0399 - val_regression_output_r2_metric: -0.0829 - val_classification_balanced_accuracy_metric: 0.5000 - val_classification_f1_score_metric: 0.0000e+00\n",
      "Epoch 39/200\n",
      "31/31 [==============================] - 3s 94ms/step - loss: 0.2090 - decoded_loss: 0.0903 - regression_output_loss: 0.0301 - classification_loss: 0.6934 - decoded_mse: 0.0903 - regression_output_mse_metric: 0.0302 - regression_output_r2_metric: -0.0458 - classification_balanced_accuracy_metric: 0.5000 - classification_f1_score_metric: 0.0000e+00 - val_loss: 0.2178 - val_decoded_loss: 0.0984 - val_regression_output_loss: 0.0400 - val_classification_loss: 0.6830 - val_decoded_mse: 0.0984 - val_regression_output_mse_metric: 0.0400 - val_regression_output_r2_metric: -0.0823 - val_classification_balanced_accuracy_metric: 0.5000 - val_classification_f1_score_metric: 0.0000e+00\n",
      "Epoch 40/200\n",
      "31/31 [==============================] - 3s 99ms/step - loss: 0.2063 - decoded_loss: 0.0897 - regression_output_loss: 0.0302 - classification_loss: 0.6934 - decoded_mse: 0.0897 - regression_output_mse_metric: 0.0302 - regression_output_r2_metric: -0.1167 - classification_balanced_accuracy_metric: 0.5000 - classification_f1_score_metric: 0.0000e+00 - val_loss: 0.2154 - val_decoded_loss: 0.0979 - val_regression_output_loss: 0.0399 - val_classification_loss: 0.6833 - val_decoded_mse: 0.0979 - val_regression_output_mse_metric: 0.0399 - val_regression_output_r2_metric: -0.0829 - val_classification_balanced_accuracy_metric: 0.5000 - val_classification_f1_score_metric: 0.0000e+00\n",
      "Epoch 41/200\n",
      "31/31 [==============================] - 3s 96ms/step - loss: 0.2040 - decoded_loss: 0.0891 - regression_output_loss: 0.0301 - classification_loss: 0.6932 - decoded_mse: 0.0891 - regression_output_mse_metric: 0.0301 - regression_output_r2_metric: -0.0980 - classification_balanced_accuracy_metric: 0.5000 - classification_f1_score_metric: 0.0000e+00 - val_loss: 0.2134 - val_decoded_loss: 0.0973 - val_regression_output_loss: 0.0399 - val_classification_loss: 0.6836 - val_decoded_mse: 0.0973 - val_regression_output_mse_metric: 0.0399 - val_regression_output_r2_metric: -0.0829 - val_classification_balanced_accuracy_metric: 0.5000 - val_classification_f1_score_metric: 0.0000e+00\n",
      "Epoch 42/200\n",
      "31/31 [==============================] - 3s 95ms/step - loss: 0.2022 - decoded_loss: 0.0885 - regression_output_loss: 0.0301 - classification_loss: 0.6933 - decoded_mse: 0.0885 - regression_output_mse_metric: 0.0303 - regression_output_r2_metric: -0.0538 - classification_balanced_accuracy_metric: 0.5000 - classification_f1_score_metric: 0.0000e+00 - val_loss: 0.2119 - val_decoded_loss: 0.0968 - val_regression_output_loss: 0.0399 - val_classification_loss: 0.6840 - val_decoded_mse: 0.0968 - val_regression_output_mse_metric: 0.0399 - val_regression_output_r2_metric: -0.0832 - val_classification_balanced_accuracy_metric: 0.5000 - val_classification_f1_score_metric: 0.0000e+00\n",
      "Epoch 43/200\n",
      "31/31 [==============================] - 3s 99ms/step - loss: 0.2007 - decoded_loss: 0.0880 - regression_output_loss: 0.0302 - classification_loss: 0.6933 - decoded_mse: 0.0880 - regression_output_mse_metric: 0.0302 - regression_output_r2_metric: -0.0843 - classification_balanced_accuracy_metric: 0.5000 - classification_f1_score_metric: 0.0000e+00 - val_loss: 0.2105 - val_decoded_loss: 0.0963 - val_regression_output_loss: 0.0399 - val_classification_loss: 0.6839 - val_decoded_mse: 0.0963 - val_regression_output_mse_metric: 0.0399 - val_regression_output_r2_metric: -0.0843 - val_classification_balanced_accuracy_metric: 0.5000 - val_classification_f1_score_metric: 0.0000e+00\n",
      "Epoch 44/200\n",
      "31/31 [==============================] - 3s 97ms/step - loss: 0.1993 - decoded_loss: 0.0875 - regression_output_loss: 0.0301 - classification_loss: 0.6932 - decoded_mse: 0.0875 - regression_output_mse_metric: 0.0301 - regression_output_r2_metric: -0.0692 - classification_balanced_accuracy_metric: 0.5000 - classification_f1_score_metric: 0.0000e+00 - val_loss: 0.2092 - val_decoded_loss: 0.0958 - val_regression_output_loss: 0.0399 - val_classification_loss: 0.6833 - val_decoded_mse: 0.0958 - val_regression_output_mse_metric: 0.0399 - val_regression_output_r2_metric: -0.0836 - val_classification_balanced_accuracy_metric: 0.5000 - val_classification_f1_score_metric: 0.0000e+00\n",
      "Epoch 45/200\n",
      "31/31 [==============================] - 3s 96ms/step - loss: 0.1983 - decoded_loss: 0.0870 - regression_output_loss: 0.0301 - classification_loss: 0.6933 - decoded_mse: 0.0870 - regression_output_mse_metric: 0.0301 - regression_output_r2_metric: -0.1084 - classification_balanced_accuracy_metric: 0.5000 - classification_f1_score_metric: 0.0000e+00 - val_loss: 0.2085 - val_decoded_loss: 0.0954 - val_regression_output_loss: 0.0399 - val_classification_loss: 0.6844 - val_decoded_mse: 0.0954 - val_regression_output_mse_metric: 0.0399 - val_regression_output_r2_metric: -0.0842 - val_classification_balanced_accuracy_metric: 0.5000 - val_classification_f1_score_metric: 0.0000e+00\n",
      "Epoch 46/200\n",
      "31/31 [==============================] - 3s 92ms/step - loss: 0.1975 - decoded_loss: 0.0865 - regression_output_loss: 0.0301 - classification_loss: 0.6933 - decoded_mse: 0.0865 - regression_output_mse_metric: 0.0301 - regression_output_r2_metric: -0.0710 - classification_balanced_accuracy_metric: 0.5000 - classification_f1_score_metric: 0.0000e+00 - val_loss: 0.2076 - val_decoded_loss: 0.0949 - val_regression_output_loss: 0.0399 - val_classification_loss: 0.6839 - val_decoded_mse: 0.0949 - val_regression_output_mse_metric: 0.0399 - val_regression_output_r2_metric: -0.0835 - val_classification_balanced_accuracy_metric: 0.5000 - val_classification_f1_score_metric: 0.0000e+00\n",
      "Epoch 47/200\n",
      "31/31 [==============================] - 3s 97ms/step - loss: 0.1967 - decoded_loss: 0.0861 - regression_output_loss: 0.0301 - classification_loss: 0.6933 - decoded_mse: 0.0861 - regression_output_mse_metric: 0.0301 - regression_output_r2_metric: -0.0842 - classification_balanced_accuracy_metric: 0.5000 - classification_f1_score_metric: 0.0000e+00 - val_loss: 0.2071 - val_decoded_loss: 0.0945 - val_regression_output_loss: 0.0399 - val_classification_loss: 0.6846 - val_decoded_mse: 0.0945 - val_regression_output_mse_metric: 0.0399 - val_regression_output_r2_metric: -0.0830 - val_classification_balanced_accuracy_metric: 0.5000 - val_classification_f1_score_metric: 0.0000e+00\n",
      "Epoch 48/200\n",
      "31/31 [==============================] - 3s 102ms/step - loss: 0.1961 - decoded_loss: 0.0857 - regression_output_loss: 0.0301 - classification_loss: 0.6932 - decoded_mse: 0.0857 - regression_output_mse_metric: 0.0300 - regression_output_r2_metric: -0.0948 - classification_balanced_accuracy_metric: 0.5000 - classification_f1_score_metric: 0.0000e+00 - val_loss: 0.2067 - val_decoded_loss: 0.0941 - val_regression_output_loss: 0.0399 - val_classification_loss: 0.6854 - val_decoded_mse: 0.0941 - val_regression_output_mse_metric: 0.0399 - val_regression_output_r2_metric: -0.0842 - val_classification_balanced_accuracy_metric: 0.5000 - val_classification_f1_score_metric: 0.0000e+00\n",
      "Epoch 49/200\n",
      "31/31 [==============================] - 3s 94ms/step - loss: 0.1957 - decoded_loss: 0.0852 - regression_output_loss: 0.0302 - classification_loss: 0.6932 - decoded_mse: 0.0852 - regression_output_mse_metric: 0.0301 - regression_output_r2_metric: -0.1006 - classification_balanced_accuracy_metric: 0.5000 - classification_f1_score_metric: 0.0000e+00 - val_loss: 0.2062 - val_decoded_loss: 0.0937 - val_regression_output_loss: 0.0399 - val_classification_loss: 0.6848 - val_decoded_mse: 0.0937 - val_regression_output_mse_metric: 0.0399 - val_regression_output_r2_metric: -0.0834 - val_classification_balanced_accuracy_metric: 0.5000 - val_classification_f1_score_metric: 0.0000e+00\n",
      "Epoch 50/200\n",
      "31/31 [==============================] - 3s 94ms/step - loss: 0.1952 - decoded_loss: 0.0848 - regression_output_loss: 0.0301 - classification_loss: 0.6932 - decoded_mse: 0.0848 - regression_output_mse_metric: 0.0302 - regression_output_r2_metric: -0.0639 - classification_balanced_accuracy_metric: 0.5000 - classification_f1_score_metric: 0.0000e+00 - val_loss: 0.2059 - val_decoded_loss: 0.0933 - val_regression_output_loss: 0.0399 - val_classification_loss: 0.6852 - val_decoded_mse: 0.0933 - val_regression_output_mse_metric: 0.0399 - val_regression_output_r2_metric: -0.0845 - val_classification_balanced_accuracy_metric: 0.5000 - val_classification_f1_score_metric: 0.0000e+00\n",
      "Epoch 51/200\n",
      "31/31 [==============================] - 3s 91ms/step - loss: 0.1949 - decoded_loss: 0.0845 - regression_output_loss: 0.0301 - classification_loss: 0.6932 - decoded_mse: 0.0845 - regression_output_mse_metric: 0.0301 - regression_output_r2_metric: -0.0599 - classification_balanced_accuracy_metric: 0.5000 - classification_f1_score_metric: 0.0000e+00 - val_loss: 0.2056 - val_decoded_loss: 0.0930 - val_regression_output_loss: 0.0399 - val_classification_loss: 0.6854 - val_decoded_mse: 0.0930 - val_regression_output_mse_metric: 0.0399 - val_regression_output_r2_metric: -0.0855 - val_classification_balanced_accuracy_metric: 0.5000 - val_classification_f1_score_metric: 0.0000e+00\n",
      "Epoch 52/200\n",
      "31/31 [==============================] - 3s 94ms/step - loss: 0.1946 - decoded_loss: 0.0841 - regression_output_loss: 0.0301 - classification_loss: 0.6932 - decoded_mse: 0.0841 - regression_output_mse_metric: 0.0300 - regression_output_r2_metric: -0.0631 - classification_balanced_accuracy_metric: 0.5000 - classification_f1_score_metric: 0.0000e+00 - val_loss: 0.2053 - val_decoded_loss: 0.0926 - val_regression_output_loss: 0.0399 - val_classification_loss: 0.6855 - val_decoded_mse: 0.0926 - val_regression_output_mse_metric: 0.0399 - val_regression_output_r2_metric: -0.0839 - val_classification_balanced_accuracy_metric: 0.5000 - val_classification_f1_score_metric: 0.0000e+00\n",
      "Epoch 53/200\n",
      "31/31 [==============================] - 3s 94ms/step - loss: 0.1943 - decoded_loss: 0.0837 - regression_output_loss: 0.0301 - classification_loss: 0.6931 - decoded_mse: 0.0837 - regression_output_mse_metric: 0.0302 - regression_output_r2_metric: -0.0600 - classification_balanced_accuracy_metric: 0.5000 - classification_f1_score_metric: 0.0000e+00 - val_loss: 0.2052 - val_decoded_loss: 0.0923 - val_regression_output_loss: 0.0399 - val_classification_loss: 0.6859 - val_decoded_mse: 0.0923 - val_regression_output_mse_metric: 0.0399 - val_regression_output_r2_metric: -0.0839 - val_classification_balanced_accuracy_metric: 0.5000 - val_classification_f1_score_metric: 0.0000e+00\n",
      "Epoch 54/200\n",
      "31/31 [==============================] - 3s 93ms/step - loss: 0.1942 - decoded_loss: 0.0834 - regression_output_loss: 0.0302 - classification_loss: 0.6932 - decoded_mse: 0.0834 - regression_output_mse_metric: 0.0301 - regression_output_r2_metric: -0.0843 - classification_balanced_accuracy_metric: 0.5000 - classification_f1_score_metric: 0.0000e+00 - val_loss: 0.2050 - val_decoded_loss: 0.0920 - val_regression_output_loss: 0.0399 - val_classification_loss: 0.6860 - val_decoded_mse: 0.0920 - val_regression_output_mse_metric: 0.0399 - val_regression_output_r2_metric: -0.0859 - val_classification_balanced_accuracy_metric: 0.5000 - val_classification_f1_score_metric: 0.0000e+00\n",
      "Epoch 55/200\n",
      "31/31 [==============================] - 3s 96ms/step - loss: 0.1940 - decoded_loss: 0.0831 - regression_output_loss: 0.0301 - classification_loss: 0.6932 - decoded_mse: 0.0831 - regression_output_mse_metric: 0.0301 - regression_output_r2_metric: -0.0999 - classification_balanced_accuracy_metric: 0.5000 - classification_f1_score_metric: 0.0000e+00 - val_loss: 0.2050 - val_decoded_loss: 0.0917 - val_regression_output_loss: 0.0399 - val_classification_loss: 0.6865 - val_decoded_mse: 0.0917 - val_regression_output_mse_metric: 0.0399 - val_regression_output_r2_metric: -0.0844 - val_classification_balanced_accuracy_metric: 0.5000 - val_classification_f1_score_metric: 0.0000e+00\n",
      "Epoch 56/200\n",
      "31/31 [==============================] - 3s 96ms/step - loss: 0.1938 - decoded_loss: 0.0828 - regression_output_loss: 0.0301 - classification_loss: 0.6932 - decoded_mse: 0.0828 - regression_output_mse_metric: 0.0301 - regression_output_r2_metric: -0.0583 - classification_balanced_accuracy_metric: 0.5000 - classification_f1_score_metric: 0.0000e+00 - val_loss: 0.2048 - val_decoded_loss: 0.0914 - val_regression_output_loss: 0.0399 - val_classification_loss: 0.6864 - val_decoded_mse: 0.0914 - val_regression_output_mse_metric: 0.0399 - val_regression_output_r2_metric: -0.0843 - val_classification_balanced_accuracy_metric: 0.5000 - val_classification_f1_score_metric: 0.0000e+00\n",
      "Epoch 57/200\n",
      "31/31 [==============================] - 3s 99ms/step - loss: 0.1937 - decoded_loss: 0.0825 - regression_output_loss: 0.0301 - classification_loss: 0.6932 - decoded_mse: 0.0825 - regression_output_mse_metric: 0.0300 - regression_output_r2_metric: -0.1006 - classification_balanced_accuracy_metric: 0.5000 - classification_f1_score_metric: 0.0000e+00 - val_loss: 0.2046 - val_decoded_loss: 0.0911 - val_regression_output_loss: 0.0399 - val_classification_loss: 0.6862 - val_decoded_mse: 0.0911 - val_regression_output_mse_metric: 0.0399 - val_regression_output_r2_metric: -0.0844 - val_classification_balanced_accuracy_metric: 0.5000 - val_classification_f1_score_metric: 0.0000e+00\n",
      "Epoch 58/200\n",
      "31/31 [==============================] - 3s 95ms/step - loss: 0.1935 - decoded_loss: 0.0822 - regression_output_loss: 0.0301 - classification_loss: 0.6932 - decoded_mse: 0.0822 - regression_output_mse_metric: 0.0301 - regression_output_r2_metric: -0.0615 - classification_balanced_accuracy_metric: 0.5000 - classification_f1_score_metric: 0.0000e+00 - val_loss: 0.2046 - val_decoded_loss: 0.0909 - val_regression_output_loss: 0.0399 - val_classification_loss: 0.6865 - val_decoded_mse: 0.0909 - val_regression_output_mse_metric: 0.0399 - val_regression_output_r2_metric: -0.0829 - val_classification_balanced_accuracy_metric: 0.5000 - val_classification_f1_score_metric: 0.0000e+00\n",
      "Epoch 59/200\n",
      "31/31 [==============================] - 3s 95ms/step - loss: 0.1934 - decoded_loss: 0.0819 - regression_output_loss: 0.0301 - classification_loss: 0.6932 - decoded_mse: 0.0819 - regression_output_mse_metric: 0.0302 - regression_output_r2_metric: -0.0644 - classification_balanced_accuracy_metric: 0.5000 - classification_f1_score_metric: 0.0000e+00 - val_loss: 0.2045 - val_decoded_loss: 0.0906 - val_regression_output_loss: 0.0399 - val_classification_loss: 0.6866 - val_decoded_mse: 0.0906 - val_regression_output_mse_metric: 0.0399 - val_regression_output_r2_metric: -0.0832 - val_classification_balanced_accuracy_metric: 0.5000 - val_classification_f1_score_metric: 0.0000e+00\n",
      "Epoch 60/200\n",
      "31/31 [==============================] - 3s 96ms/step - loss: 0.1933 - decoded_loss: 0.0816 - regression_output_loss: 0.0301 - classification_loss: 0.6932 - decoded_mse: 0.0816 - regression_output_mse_metric: 0.0300 - regression_output_r2_metric: -0.0667 - classification_balanced_accuracy_metric: 0.5000 - classification_f1_score_metric: 0.0000e+00 - val_loss: 0.2045 - val_decoded_loss: 0.0903 - val_regression_output_loss: 0.0399 - val_classification_loss: 0.6869 - val_decoded_mse: 0.0903 - val_regression_output_mse_metric: 0.0399 - val_regression_output_r2_metric: -0.0850 - val_classification_balanced_accuracy_metric: 0.5000 - val_classification_f1_score_metric: 0.0000e+00\n",
      "Epoch 61/200\n",
      "31/31 [==============================] - 3s 92ms/step - loss: 0.1932 - decoded_loss: 0.0814 - regression_output_loss: 0.0301 - classification_loss: 0.6932 - decoded_mse: 0.0814 - regression_output_mse_metric: 0.0302 - regression_output_r2_metric: -0.0766 - classification_balanced_accuracy_metric: 0.5000 - classification_f1_score_metric: 0.0000e+00 - val_loss: 0.2045 - val_decoded_loss: 0.0901 - val_regression_output_loss: 0.0399 - val_classification_loss: 0.6877 - val_decoded_mse: 0.0901 - val_regression_output_mse_metric: 0.0399 - val_regression_output_r2_metric: -0.0845 - val_classification_balanced_accuracy_metric: 0.5000 - val_classification_f1_score_metric: 0.0000e+00\n",
      "Epoch 62/200\n",
      "31/31 [==============================] - 3s 96ms/step - loss: 0.1931 - decoded_loss: 0.0811 - regression_output_loss: 0.0301 - classification_loss: 0.6932 - decoded_mse: 0.0811 - regression_output_mse_metric: 0.0301 - regression_output_r2_metric: -0.0714 - classification_balanced_accuracy_metric: 0.5000 - classification_f1_score_metric: 0.0000e+00 - val_loss: 0.2044 - val_decoded_loss: 0.0899 - val_regression_output_loss: 0.0399 - val_classification_loss: 0.6876 - val_decoded_mse: 0.0899 - val_regression_output_mse_metric: 0.0399 - val_regression_output_r2_metric: -0.0849 - val_classification_balanced_accuracy_metric: 0.5000 - val_classification_f1_score_metric: 0.0000e+00\n",
      "Epoch 63/200\n",
      "31/31 [==============================] - 3s 97ms/step - loss: 0.1930 - decoded_loss: 0.0809 - regression_output_loss: 0.0301 - classification_loss: 0.6932 - decoded_mse: 0.0809 - regression_output_mse_metric: 0.0302 - regression_output_r2_metric: -0.1060 - classification_balanced_accuracy_metric: 0.5000 - classification_f1_score_metric: 0.0000e+00 - val_loss: 0.2044 - val_decoded_loss: 0.0897 - val_regression_output_loss: 0.0399 - val_classification_loss: 0.6878 - val_decoded_mse: 0.0897 - val_regression_output_mse_metric: 0.0399 - val_regression_output_r2_metric: -0.0837 - val_classification_balanced_accuracy_metric: 0.5000 - val_classification_f1_score_metric: 0.0000e+00\n",
      "Epoch 64/200\n",
      "31/31 [==============================] - 3s 105ms/step - loss: 0.1930 - decoded_loss: 0.0806 - regression_output_loss: 0.0301 - classification_loss: 0.6932 - decoded_mse: 0.0806 - regression_output_mse_metric: 0.0302 - regression_output_r2_metric: -0.0555 - classification_balanced_accuracy_metric: 0.5000 - classification_f1_score_metric: 0.0000e+00 - val_loss: 0.2043 - val_decoded_loss: 0.0894 - val_regression_output_loss: 0.0399 - val_classification_loss: 0.6877 - val_decoded_mse: 0.0894 - val_regression_output_mse_metric: 0.0399 - val_regression_output_r2_metric: -0.0834 - val_classification_balanced_accuracy_metric: 0.5000 - val_classification_f1_score_metric: 0.0000e+00\n",
      "Epoch 65/200\n",
      "31/31 [==============================] - 3s 101ms/step - loss: 0.1929 - decoded_loss: 0.0804 - regression_output_loss: 0.0301 - classification_loss: 0.6932 - decoded_mse: 0.0804 - regression_output_mse_metric: 0.0301 - regression_output_r2_metric: -0.0808 - classification_balanced_accuracy_metric: 0.5000 - classification_f1_score_metric: 0.0000e+00 - val_loss: 0.2045 - val_decoded_loss: 0.0892 - val_regression_output_loss: 0.0399 - val_classification_loss: 0.6889 - val_decoded_mse: 0.0892 - val_regression_output_mse_metric: 0.0399 - val_regression_output_r2_metric: -0.0863 - val_classification_balanced_accuracy_metric: 0.5000 - val_classification_f1_score_metric: 0.0000e+00\n",
      "Epoch 66/200\n",
      "31/31 [==============================] - 3s 96ms/step - loss: 0.1928 - decoded_loss: 0.0802 - regression_output_loss: 0.0301 - classification_loss: 0.6932 - decoded_mse: 0.0802 - regression_output_mse_metric: 0.0302 - regression_output_r2_metric: -0.0989 - classification_balanced_accuracy_metric: 0.5000 - classification_f1_score_metric: 0.0000e+00 - val_loss: 0.2043 - val_decoded_loss: 0.0891 - val_regression_output_loss: 0.0399 - val_classification_loss: 0.6882 - val_decoded_mse: 0.0891 - val_regression_output_mse_metric: 0.0399 - val_regression_output_r2_metric: -0.0843 - val_classification_balanced_accuracy_metric: 0.5000 - val_classification_f1_score_metric: 0.0000e+00\n",
      "Epoch 67/200\n",
      "31/31 [==============================] - 3s 94ms/step - loss: 0.1927 - decoded_loss: 0.0800 - regression_output_loss: 0.0301 - classification_loss: 0.6932 - decoded_mse: 0.0800 - regression_output_mse_metric: 0.0301 - regression_output_r2_metric: -0.0543 - classification_balanced_accuracy_metric: 0.5000 - classification_f1_score_metric: 0.0000e+00 - val_loss: 0.2041 - val_decoded_loss: 0.0889 - val_regression_output_loss: 0.0399 - val_classification_loss: 0.6875 - val_decoded_mse: 0.0889 - val_regression_output_mse_metric: 0.0399 - val_regression_output_r2_metric: -0.0845 - val_classification_balanced_accuracy_metric: 0.5000 - val_classification_f1_score_metric: 0.0000e+00\n",
      "Epoch 68/200\n",
      "31/31 [==============================] - 3s 92ms/step - loss: 0.1927 - decoded_loss: 0.0798 - regression_output_loss: 0.0301 - classification_loss: 0.6932 - decoded_mse: 0.0798 - regression_output_mse_metric: 0.0301 - regression_output_r2_metric: -0.0769 - classification_balanced_accuracy_metric: 0.5000 - classification_f1_score_metric: 0.0000e+00 - val_loss: 0.2044 - val_decoded_loss: 0.0887 - val_regression_output_loss: 0.0399 - val_classification_loss: 0.6892 - val_decoded_mse: 0.0887 - val_regression_output_mse_metric: 0.0399 - val_regression_output_r2_metric: -0.0847 - val_classification_balanced_accuracy_metric: 0.5000 - val_classification_f1_score_metric: 0.0000e+00\n",
      "Epoch 69/200\n",
      "31/31 [==============================] - 3s 91ms/step - loss: 0.1926 - decoded_loss: 0.0796 - regression_output_loss: 0.0301 - classification_loss: 0.6932 - decoded_mse: 0.0796 - regression_output_mse_metric: 0.0301 - regression_output_r2_metric: -0.0718 - classification_balanced_accuracy_metric: 0.5000 - classification_f1_score_metric: 0.0000e+00 - val_loss: 0.2040 - val_decoded_loss: 0.0885 - val_regression_output_loss: 0.0399 - val_classification_loss: 0.6878 - val_decoded_mse: 0.0885 - val_regression_output_mse_metric: 0.0399 - val_regression_output_r2_metric: -0.0853 - val_classification_balanced_accuracy_metric: 0.5000 - val_classification_f1_score_metric: 0.0000e+00\n",
      "Epoch 70/200\n",
      "31/31 [==============================] - 3s 98ms/step - loss: 0.1926 - decoded_loss: 0.0794 - regression_output_loss: 0.0301 - classification_loss: 0.6931 - decoded_mse: 0.0794 - regression_output_mse_metric: 0.0301 - regression_output_r2_metric: -0.1010 - classification_balanced_accuracy_metric: 0.5000 - classification_f1_score_metric: 0.0000e+00 - val_loss: 0.2042 - val_decoded_loss: 0.0883 - val_regression_output_loss: 0.0399 - val_classification_loss: 0.6887 - val_decoded_mse: 0.0883 - val_regression_output_mse_metric: 0.0399 - val_regression_output_r2_metric: -0.0854 - val_classification_balanced_accuracy_metric: 0.5000 - val_classification_f1_score_metric: 0.0000e+00\n",
      "Epoch 71/200\n",
      "31/31 [==============================] - 3s 92ms/step - loss: 0.1925 - decoded_loss: 0.0792 - regression_output_loss: 0.0301 - classification_loss: 0.6932 - decoded_mse: 0.0792 - regression_output_mse_metric: 0.0301 - regression_output_r2_metric: -0.0631 - classification_balanced_accuracy_metric: 0.5000 - classification_f1_score_metric: 0.0000e+00 - val_loss: 0.2042 - val_decoded_loss: 0.0882 - val_regression_output_loss: 0.0399 - val_classification_loss: 0.6892 - val_decoded_mse: 0.0882 - val_regression_output_mse_metric: 0.0399 - val_regression_output_r2_metric: -0.0844 - val_classification_balanced_accuracy_metric: 0.5000 - val_classification_f1_score_metric: 0.0000e+00\n",
      "Epoch 72/200\n",
      "31/31 [==============================] - 3s 90ms/step - loss: 0.1925 - decoded_loss: 0.0791 - regression_output_loss: 0.0301 - classification_loss: 0.6932 - decoded_mse: 0.0791 - regression_output_mse_metric: 0.0301 - regression_output_r2_metric: -0.0683 - classification_balanced_accuracy_metric: 0.5000 - classification_f1_score_metric: 0.0000e+00 - val_loss: 0.2041 - val_decoded_loss: 0.0880 - val_regression_output_loss: 0.0399 - val_classification_loss: 0.6890 - val_decoded_mse: 0.0880 - val_regression_output_mse_metric: 0.0399 - val_regression_output_r2_metric: -0.0849 - val_classification_balanced_accuracy_metric: 0.5000 - val_classification_f1_score_metric: 0.0000e+00\n",
      "Epoch 73/200\n",
      "31/31 [==============================] - 3s 91ms/step - loss: 0.1925 - decoded_loss: 0.0789 - regression_output_loss: 0.0302 - classification_loss: 0.6932 - decoded_mse: 0.0789 - regression_output_mse_metric: 0.0301 - regression_output_r2_metric: -0.0892 - classification_balanced_accuracy_metric: 0.5000 - classification_f1_score_metric: 0.0000e+00 - val_loss: 0.2040 - val_decoded_loss: 0.0879 - val_regression_output_loss: 0.0399 - val_classification_loss: 0.6883 - val_decoded_mse: 0.0879 - val_regression_output_mse_metric: 0.0399 - val_regression_output_r2_metric: -0.0844 - val_classification_balanced_accuracy_metric: 0.5000 - val_classification_f1_score_metric: 0.0000e+00\n",
      "Epoch 74/200\n",
      "31/31 [==============================] - 3s 90ms/step - loss: 0.1924 - decoded_loss: 0.0787 - regression_output_loss: 0.0301 - classification_loss: 0.6932 - decoded_mse: 0.0787 - regression_output_mse_metric: 0.0300 - regression_output_r2_metric: -0.0594 - classification_balanced_accuracy_metric: 0.5000 - classification_f1_score_metric: 0.0000e+00 - val_loss: 0.2040 - val_decoded_loss: 0.0877 - val_regression_output_loss: 0.0399 - val_classification_loss: 0.6890 - val_decoded_mse: 0.0877 - val_regression_output_mse_metric: 0.0399 - val_regression_output_r2_metric: -0.0855 - val_classification_balanced_accuracy_metric: 0.5000 - val_classification_f1_score_metric: 0.0000e+00\n",
      "Epoch 75/200\n",
      "31/31 [==============================] - 3s 92ms/step - loss: 0.1923 - decoded_loss: 0.0786 - regression_output_loss: 0.0301 - classification_loss: 0.6932 - decoded_mse: 0.0786 - regression_output_mse_metric: 0.0301 - regression_output_r2_metric: -0.0747 - classification_balanced_accuracy_metric: 0.5000 - classification_f1_score_metric: 0.0000e+00 - val_loss: 0.2040 - val_decoded_loss: 0.0876 - val_regression_output_loss: 0.0399 - val_classification_loss: 0.6892 - val_decoded_mse: 0.0876 - val_regression_output_mse_metric: 0.0399 - val_regression_output_r2_metric: -0.0861 - val_classification_balanced_accuracy_metric: 0.5000 - val_classification_f1_score_metric: 0.0000e+00\n",
      "Epoch 76/200\n",
      "31/31 [==============================] - 3s 91ms/step - loss: 0.1923 - decoded_loss: 0.0784 - regression_output_loss: 0.0301 - classification_loss: 0.6932 - decoded_mse: 0.0784 - regression_output_mse_metric: 0.0301 - regression_output_r2_metric: -0.0994 - classification_balanced_accuracy_metric: 0.5000 - classification_f1_score_metric: 0.0000e+00 - val_loss: 0.2039 - val_decoded_loss: 0.0875 - val_regression_output_loss: 0.0399 - val_classification_loss: 0.6887 - val_decoded_mse: 0.0875 - val_regression_output_mse_metric: 0.0399 - val_regression_output_r2_metric: -0.0845 - val_classification_balanced_accuracy_metric: 0.5000 - val_classification_f1_score_metric: 0.0000e+00\n",
      "Epoch 77/200\n",
      "31/31 [==============================] - 3s 90ms/step - loss: 0.1922 - decoded_loss: 0.0783 - regression_output_loss: 0.0301 - classification_loss: 0.6932 - decoded_mse: 0.0783 - regression_output_mse_metric: 0.0301 - regression_output_r2_metric: -0.1064 - classification_balanced_accuracy_metric: 0.5000 - classification_f1_score_metric: 0.0000e+00 - val_loss: 0.2040 - val_decoded_loss: 0.0873 - val_regression_output_loss: 0.0399 - val_classification_loss: 0.6896 - val_decoded_mse: 0.0873 - val_regression_output_mse_metric: 0.0399 - val_regression_output_r2_metric: -0.0854 - val_classification_balanced_accuracy_metric: 0.5000 - val_classification_f1_score_metric: 0.0000e+00\n",
      "Epoch 78/200\n",
      "31/31 [==============================] - 3s 92ms/step - loss: 0.1922 - decoded_loss: 0.0781 - regression_output_loss: 0.0301 - classification_loss: 0.6932 - decoded_mse: 0.0781 - regression_output_mse_metric: 0.0303 - regression_output_r2_metric: -0.0469 - classification_balanced_accuracy_metric: 0.5000 - classification_f1_score_metric: 0.0000e+00 - val_loss: 0.2039 - val_decoded_loss: 0.0872 - val_regression_output_loss: 0.0399 - val_classification_loss: 0.6889 - val_decoded_mse: 0.0872 - val_regression_output_mse_metric: 0.0399 - val_regression_output_r2_metric: -0.0848 - val_classification_balanced_accuracy_metric: 0.5000 - val_classification_f1_score_metric: 0.0000e+00\n",
      "Epoch 79/200\n",
      "31/31 [==============================] - 3s 90ms/step - loss: 0.1921 - decoded_loss: 0.0780 - regression_output_loss: 0.0301 - classification_loss: 0.6932 - decoded_mse: 0.0780 - regression_output_mse_metric: 0.0301 - regression_output_r2_metric: -0.0587 - classification_balanced_accuracy_metric: 0.5000 - classification_f1_score_metric: 0.0000e+00 - val_loss: 0.2040 - val_decoded_loss: 0.0871 - val_regression_output_loss: 0.0399 - val_classification_loss: 0.6896 - val_decoded_mse: 0.0871 - val_regression_output_mse_metric: 0.0399 - val_regression_output_r2_metric: -0.0849 - val_classification_balanced_accuracy_metric: 0.5000 - val_classification_f1_score_metric: 0.0000e+00\n",
      "Epoch 80/200\n",
      "31/31 [==============================] - 3s 92ms/step - loss: 0.1921 - decoded_loss: 0.0779 - regression_output_loss: 0.0301 - classification_loss: 0.6932 - decoded_mse: 0.0779 - regression_output_mse_metric: 0.0301 - regression_output_r2_metric: -0.0762 - classification_balanced_accuracy_metric: 0.5000 - classification_f1_score_metric: 0.0000e+00 - val_loss: 0.2039 - val_decoded_loss: 0.0869 - val_regression_output_loss: 0.0399 - val_classification_loss: 0.6893 - val_decoded_mse: 0.0869 - val_regression_output_mse_metric: 0.0399 - val_regression_output_r2_metric: -0.0846 - val_classification_balanced_accuracy_metric: 0.5000 - val_classification_f1_score_metric: 0.0000e+00\n",
      "Epoch 81/200\n",
      "31/31 [==============================] - 3s 98ms/step - loss: 0.1921 - decoded_loss: 0.0777 - regression_output_loss: 0.0301 - classification_loss: 0.6932 - decoded_mse: 0.0777 - regression_output_mse_metric: 0.0301 - regression_output_r2_metric: -0.1014 - classification_balanced_accuracy_metric: 0.5000 - classification_f1_score_metric: 0.0000e+00 - val_loss: 0.2040 - val_decoded_loss: 0.0868 - val_regression_output_loss: 0.0399 - val_classification_loss: 0.6898 - val_decoded_mse: 0.0868 - val_regression_output_mse_metric: 0.0399 - val_regression_output_r2_metric: -0.0830 - val_classification_balanced_accuracy_metric: 0.5000 - val_classification_f1_score_metric: 0.0000e+00\n",
      "Epoch 82/200\n",
      "31/31 [==============================] - 3s 97ms/step - loss: 0.1921 - decoded_loss: 0.0776 - regression_output_loss: 0.0301 - classification_loss: 0.6932 - decoded_mse: 0.0776 - regression_output_mse_metric: 0.0301 - regression_output_r2_metric: -0.1108 - classification_balanced_accuracy_metric: 0.5000 - classification_f1_score_metric: 0.0000e+00 - val_loss: 0.2038 - val_decoded_loss: 0.0867 - val_regression_output_loss: 0.0399 - val_classification_loss: 0.6892 - val_decoded_mse: 0.0867 - val_regression_output_mse_metric: 0.0399 - val_regression_output_r2_metric: -0.0853 - val_classification_balanced_accuracy_metric: 0.5000 - val_classification_f1_score_metric: 0.0000e+00\n",
      "Epoch 83/200\n",
      "31/31 [==============================] - 3s 95ms/step - loss: 0.1920 - decoded_loss: 0.0775 - regression_output_loss: 0.0301 - classification_loss: 0.6932 - decoded_mse: 0.0775 - regression_output_mse_metric: 0.0301 - regression_output_r2_metric: -0.0552 - classification_balanced_accuracy_metric: 0.5000 - classification_f1_score_metric: 0.0000e+00 - val_loss: 0.2039 - val_decoded_loss: 0.0866 - val_regression_output_loss: 0.0399 - val_classification_loss: 0.6901 - val_decoded_mse: 0.0866 - val_regression_output_mse_metric: 0.0399 - val_regression_output_r2_metric: -0.0846 - val_classification_balanced_accuracy_metric: 0.5000 - val_classification_f1_score_metric: 0.0000e+00\n",
      "Epoch 84/200\n",
      "31/31 [==============================] - 3s 94ms/step - loss: 0.1920 - decoded_loss: 0.0774 - regression_output_loss: 0.0301 - classification_loss: 0.6932 - decoded_mse: 0.0774 - regression_output_mse_metric: 0.0301 - regression_output_r2_metric: -0.0443 - classification_balanced_accuracy_metric: 0.5000 - classification_f1_score_metric: 0.0000e+00 - val_loss: 0.2039 - val_decoded_loss: 0.0865 - val_regression_output_loss: 0.0399 - val_classification_loss: 0.6900 - val_decoded_mse: 0.0865 - val_regression_output_mse_metric: 0.0399 - val_regression_output_r2_metric: -0.0835 - val_classification_balanced_accuracy_metric: 0.5000 - val_classification_f1_score_metric: 0.0000e+00\n",
      "Epoch 85/200\n",
      "31/31 [==============================] - 3s 90ms/step - loss: 0.1920 - decoded_loss: 0.0773 - regression_output_loss: 0.0302 - classification_loss: 0.6932 - decoded_mse: 0.0773 - regression_output_mse_metric: 0.0302 - regression_output_r2_metric: -0.0740 - classification_balanced_accuracy_metric: 0.5000 - classification_f1_score_metric: 0.0000e+00 - val_loss: 0.2040 - val_decoded_loss: 0.0864 - val_regression_output_loss: 0.0399 - val_classification_loss: 0.6907 - val_decoded_mse: 0.0864 - val_regression_output_mse_metric: 0.0399 - val_regression_output_r2_metric: -0.0845 - val_classification_balanced_accuracy_metric: 0.5000 - val_classification_f1_score_metric: 0.0000e+00\n",
      "Epoch 86/200\n",
      "31/31 [==============================] - 3s 91ms/step - loss: 0.1919 - decoded_loss: 0.0772 - regression_output_loss: 0.0301 - classification_loss: 0.6932 - decoded_mse: 0.0772 - regression_output_mse_metric: 0.0301 - regression_output_r2_metric: -0.0436 - classification_balanced_accuracy_metric: 0.5000 - classification_f1_score_metric: 0.0000e+00 - val_loss: 0.2037 - val_decoded_loss: 0.0863 - val_regression_output_loss: 0.0399 - val_classification_loss: 0.6896 - val_decoded_mse: 0.0863 - val_regression_output_mse_metric: 0.0399 - val_regression_output_r2_metric: -0.0846 - val_classification_balanced_accuracy_metric: 0.5000 - val_classification_f1_score_metric: 0.0000e+00\n",
      "Epoch 87/200\n",
      "31/31 [==============================] - 3s 94ms/step - loss: 0.1919 - decoded_loss: 0.0770 - regression_output_loss: 0.0301 - classification_loss: 0.6932 - decoded_mse: 0.0770 - regression_output_mse_metric: 0.0301 - regression_output_r2_metric: -0.1302 - classification_balanced_accuracy_metric: 0.5000 - classification_f1_score_metric: 0.0000e+00 - val_loss: 0.2040 - val_decoded_loss: 0.0862 - val_regression_output_loss: 0.0399 - val_classification_loss: 0.6910 - val_decoded_mse: 0.0862 - val_regression_output_mse_metric: 0.0399 - val_regression_output_r2_metric: -0.0868 - val_classification_balanced_accuracy_metric: 0.5000 - val_classification_f1_score_metric: 0.0000e+00\n",
      "Epoch 88/200\n",
      "31/31 [==============================] - 3s 93ms/step - loss: 0.1918 - decoded_loss: 0.0769 - regression_output_loss: 0.0301 - classification_loss: 0.6931 - decoded_mse: 0.0769 - regression_output_mse_metric: 0.0301 - regression_output_r2_metric: -0.0415 - classification_balanced_accuracy_metric: 0.5000 - classification_f1_score_metric: 0.0000e+00 - val_loss: 0.2038 - val_decoded_loss: 0.0861 - val_regression_output_loss: 0.0399 - val_classification_loss: 0.6902 - val_decoded_mse: 0.0861 - val_regression_output_mse_metric: 0.0399 - val_regression_output_r2_metric: -0.0848 - val_classification_balanced_accuracy_metric: 0.5000 - val_classification_f1_score_metric: 0.0000e+00\n",
      "Epoch 89/200\n",
      "31/31 [==============================] - 3s 95ms/step - loss: 0.1918 - decoded_loss: 0.0768 - regression_output_loss: 0.0301 - classification_loss: 0.6931 - decoded_mse: 0.0768 - regression_output_mse_metric: 0.0301 - regression_output_r2_metric: -0.1477 - classification_balanced_accuracy_metric: 0.5000 - classification_f1_score_metric: 0.0000e+00 - val_loss: 0.2037 - val_decoded_loss: 0.0860 - val_regression_output_loss: 0.0399 - val_classification_loss: 0.6897 - val_decoded_mse: 0.0860 - val_regression_output_mse_metric: 0.0399 - val_regression_output_r2_metric: -0.0865 - val_classification_balanced_accuracy_metric: 0.5000 - val_classification_f1_score_metric: 0.0000e+00\n",
      "Epoch 90/200\n",
      "31/31 [==============================] - 3s 93ms/step - loss: 0.1918 - decoded_loss: 0.0767 - regression_output_loss: 0.0301 - classification_loss: 0.6932 - decoded_mse: 0.0767 - regression_output_mse_metric: 0.0301 - regression_output_r2_metric: -0.0349 - classification_balanced_accuracy_metric: 0.5000 - classification_f1_score_metric: 0.0000e+00 - val_loss: 0.2038 - val_decoded_loss: 0.0860 - val_regression_output_loss: 0.0399 - val_classification_loss: 0.6903 - val_decoded_mse: 0.0860 - val_regression_output_mse_metric: 0.0399 - val_regression_output_r2_metric: -0.0840 - val_classification_balanced_accuracy_metric: 0.5000 - val_classification_f1_score_metric: 0.0000e+00\n",
      "Epoch 91/200\n",
      "31/31 [==============================] - 3s 92ms/step - loss: 0.1918 - decoded_loss: 0.0767 - regression_output_loss: 0.0301 - classification_loss: 0.6932 - decoded_mse: 0.0767 - regression_output_mse_metric: 0.0301 - regression_output_r2_metric: -0.0877 - classification_balanced_accuracy_metric: 0.5000 - classification_f1_score_metric: 0.0000e+00 - val_loss: 0.2039 - val_decoded_loss: 0.0859 - val_regression_output_loss: 0.0399 - val_classification_loss: 0.6909 - val_decoded_mse: 0.0859 - val_regression_output_mse_metric: 0.0399 - val_regression_output_r2_metric: -0.0845 - val_classification_balanced_accuracy_metric: 0.5000 - val_classification_f1_score_metric: 0.0000e+00\n",
      "Epoch 92/200\n",
      "31/31 [==============================] - 3s 92ms/step - loss: 0.1917 - decoded_loss: 0.0766 - regression_output_loss: 0.0301 - classification_loss: 0.6932 - decoded_mse: 0.0766 - regression_output_mse_metric: 0.0301 - regression_output_r2_metric: -0.0854 - classification_balanced_accuracy_metric: 0.5000 - classification_f1_score_metric: 0.0000e+00 - val_loss: 0.2036 - val_decoded_loss: 0.0858 - val_regression_output_loss: 0.0399 - val_classification_loss: 0.6896 - val_decoded_mse: 0.0858 - val_regression_output_mse_metric: 0.0399 - val_regression_output_r2_metric: -0.0836 - val_classification_balanced_accuracy_metric: 0.5000 - val_classification_f1_score_metric: 0.0000e+00\n",
      "Epoch 93/200\n",
      "31/31 [==============================] - 3s 91ms/step - loss: 0.1917 - decoded_loss: 0.0765 - regression_output_loss: 0.0301 - classification_loss: 0.6932 - decoded_mse: 0.0765 - regression_output_mse_metric: 0.0301 - regression_output_r2_metric: -0.0764 - classification_balanced_accuracy_metric: 0.5000 - classification_f1_score_metric: 0.0000e+00 - val_loss: 0.2035 - val_decoded_loss: 0.0857 - val_regression_output_loss: 0.0399 - val_classification_loss: 0.6895 - val_decoded_mse: 0.0857 - val_regression_output_mse_metric: 0.0399 - val_regression_output_r2_metric: -0.0849 - val_classification_balanced_accuracy_metric: 0.5000 - val_classification_f1_score_metric: 0.0000e+00\n",
      "Epoch 94/200\n",
      "31/31 [==============================] - 3s 92ms/step - loss: 0.1917 - decoded_loss: 0.0764 - regression_output_loss: 0.0301 - classification_loss: 0.6932 - decoded_mse: 0.0764 - regression_output_mse_metric: 0.0303 - regression_output_r2_metric: -0.0902 - classification_balanced_accuracy_metric: 0.5000 - classification_f1_score_metric: 0.0000e+00 - val_loss: 0.2037 - val_decoded_loss: 0.0857 - val_regression_output_loss: 0.0399 - val_classification_loss: 0.6905 - val_decoded_mse: 0.0857 - val_regression_output_mse_metric: 0.0399 - val_regression_output_r2_metric: -0.0840 - val_classification_balanced_accuracy_metric: 0.5000 - val_classification_f1_score_metric: 0.0000e+00\n",
      "Epoch 95/200\n",
      "31/31 [==============================] - 3s 90ms/step - loss: 0.1917 - decoded_loss: 0.0763 - regression_output_loss: 0.0301 - classification_loss: 0.6932 - decoded_mse: 0.0763 - regression_output_mse_metric: 0.0301 - regression_output_r2_metric: -0.1223 - classification_balanced_accuracy_metric: 0.5000 - classification_f1_score_metric: 0.0000e+00 - val_loss: 0.2036 - val_decoded_loss: 0.0856 - val_regression_output_loss: 0.0399 - val_classification_loss: 0.6901 - val_decoded_mse: 0.0856 - val_regression_output_mse_metric: 0.0399 - val_regression_output_r2_metric: -0.0861 - val_classification_balanced_accuracy_metric: 0.5000 - val_classification_f1_score_metric: 0.0000e+00\n",
      "Epoch 96/200\n",
      "31/31 [==============================] - 3s 98ms/step - loss: 0.1916 - decoded_loss: 0.0762 - regression_output_loss: 0.0301 - classification_loss: 0.6932 - decoded_mse: 0.0762 - regression_output_mse_metric: 0.0301 - regression_output_r2_metric: -0.1093 - classification_balanced_accuracy_metric: 0.5000 - classification_f1_score_metric: 0.0000e+00 - val_loss: 0.2035 - val_decoded_loss: 0.0855 - val_regression_output_loss: 0.0399 - val_classification_loss: 0.6895 - val_decoded_mse: 0.0855 - val_regression_output_mse_metric: 0.0399 - val_regression_output_r2_metric: -0.0856 - val_classification_balanced_accuracy_metric: 0.5000 - val_classification_f1_score_metric: 0.0000e+00\n",
      "Epoch 97/200\n",
      "31/31 [==============================] - 3s 99ms/step - loss: 0.1916 - decoded_loss: 0.0762 - regression_output_loss: 0.0301 - classification_loss: 0.6933 - decoded_mse: 0.0762 - regression_output_mse_metric: 0.0301 - regression_output_r2_metric: -0.0613 - classification_balanced_accuracy_metric: 0.5000 - classification_f1_score_metric: 0.0000e+00 - val_loss: 0.2035 - val_decoded_loss: 0.0855 - val_regression_output_loss: 0.0399 - val_classification_loss: 0.6896 - val_decoded_mse: 0.0855 - val_regression_output_mse_metric: 0.0399 - val_regression_output_r2_metric: -0.0840 - val_classification_balanced_accuracy_metric: 0.5000 - val_classification_f1_score_metric: 0.0000e+00\n",
      "Epoch 98/200\n",
      "31/31 [==============================] - ETA: 0s - loss: 0.1916 - decoded_loss: 0.0761 - regression_output_loss: 0.0301 - classification_loss: 0.6932 - decoded_mse: 0.0761 - regression_output_mse_metric: 0.0300 - regression_output_r2_metric: -0.0525 - classification_balanced_accuracy_metric: 0.5000 - classification_f1_score_metric: 0.0000e+00"
     ]
    },
    {
     "ename": "KeyboardInterrupt",
     "evalue": "",
     "output_type": "error",
     "traceback": [
      "\u001b[1;31m---------------------------------------------------------------------------\u001b[0m",
      "\u001b[1;31mKeyboardInterrupt\u001b[0m                         Traceback (most recent call last)",
      "Input \u001b[1;32mIn [180]\u001b[0m, in \u001b[0;36m<cell line: 2>\u001b[1;34m()\u001b[0m\n\u001b[0;32m      1\u001b[0m \u001b[38;5;66;03m# Training the model\u001b[39;00m\n\u001b[1;32m----> 2\u001b[0m summary \u001b[38;5;241m=\u001b[39m \u001b[43mmodel\u001b[49m\u001b[38;5;241;43m.\u001b[39;49m\u001b[43mfit\u001b[49m\u001b[43m(\u001b[49m\u001b[43mtrain_smote_X\u001b[49m\u001b[43m,\u001b[49m\u001b[43m \u001b[49m\u001b[43m{\u001b[49m\u001b[38;5;124;43m'\u001b[39;49m\u001b[38;5;124;43mdecoded\u001b[39;49m\u001b[38;5;124;43m'\u001b[39;49m\u001b[43m:\u001b[49m\u001b[43m \u001b[49m\u001b[43mtrain_smote_X\u001b[49m\u001b[43m,\u001b[49m\u001b[43m \u001b[49m\u001b[38;5;124;43m'\u001b[39;49m\u001b[38;5;124;43mregression_output\u001b[39;49m\u001b[38;5;124;43m'\u001b[39;49m\u001b[43m:\u001b[49m\u001b[43m \u001b[49m\u001b[43mtrain_smote_Y\u001b[49m\u001b[43m,\u001b[49m\u001b[43m \u001b[49m\u001b[38;5;124;43m'\u001b[39;49m\u001b[38;5;124;43mclassification\u001b[39;49m\u001b[38;5;124;43m'\u001b[39;49m\u001b[43m:\u001b[49m\u001b[43mimputed_y\u001b[49m\u001b[43m}\u001b[49m\u001b[43m,\u001b[49m\u001b[43m \u001b[49m\n\u001b[0;32m      3\u001b[0m \u001b[43m          \u001b[49m\u001b[43mvalidation_data\u001b[49m\u001b[38;5;241;43m=\u001b[39;49m\u001b[43m(\u001b[49m\u001b[43mtestX\u001b[49m\u001b[43m,\u001b[49m\u001b[43m \u001b[49m\u001b[43m{\u001b[49m\u001b[38;5;124;43m'\u001b[39;49m\u001b[38;5;124;43mdecoded\u001b[39;49m\u001b[38;5;124;43m'\u001b[39;49m\u001b[43m:\u001b[49m\u001b[43m \u001b[49m\u001b[43mtestX\u001b[49m\u001b[43m,\u001b[49m\u001b[43m \u001b[49m\u001b[38;5;124;43m'\u001b[39;49m\u001b[38;5;124;43mregression_output\u001b[39;49m\u001b[38;5;124;43m'\u001b[39;49m\u001b[43m:\u001b[49m\u001b[43m \u001b[49m\u001b[43mtestY\u001b[49m\u001b[43m,\u001b[49m\u001b[43m \u001b[49m\u001b[38;5;124;43m'\u001b[39;49m\u001b[38;5;124;43mclassification\u001b[39;49m\u001b[38;5;124;43m'\u001b[39;49m\u001b[43m:\u001b[49m\u001b[43mpcrtestY\u001b[49m\u001b[43m}\u001b[49m\u001b[43m)\u001b[49m\u001b[43m,\u001b[49m\n\u001b[0;32m      4\u001b[0m \u001b[43m          \u001b[49m\u001b[43mepochs\u001b[49m\u001b[38;5;241;43m=\u001b[39;49m\u001b[38;5;241;43m200\u001b[39;49m\u001b[43m,\u001b[49m\u001b[43m \u001b[49m\u001b[43mbatch_size\u001b[49m\u001b[38;5;241;43m=\u001b[39;49m\u001b[38;5;241;43m16\u001b[39;49m\u001b[43m)\u001b[49m\n",
      "File \u001b[1;32m~\\anaconda3\\lib\\site-packages\\keras\\utils\\traceback_utils.py:65\u001b[0m, in \u001b[0;36mfilter_traceback.<locals>.error_handler\u001b[1;34m(*args, **kwargs)\u001b[0m\n\u001b[0;32m     63\u001b[0m filtered_tb \u001b[38;5;241m=\u001b[39m \u001b[38;5;28;01mNone\u001b[39;00m\n\u001b[0;32m     64\u001b[0m \u001b[38;5;28;01mtry\u001b[39;00m:\n\u001b[1;32m---> 65\u001b[0m     \u001b[38;5;28;01mreturn\u001b[39;00m fn(\u001b[38;5;241m*\u001b[39margs, \u001b[38;5;241m*\u001b[39m\u001b[38;5;241m*\u001b[39mkwargs)\n\u001b[0;32m     66\u001b[0m \u001b[38;5;28;01mexcept\u001b[39;00m \u001b[38;5;167;01mException\u001b[39;00m \u001b[38;5;28;01mas\u001b[39;00m e:\n\u001b[0;32m     67\u001b[0m     filtered_tb \u001b[38;5;241m=\u001b[39m _process_traceback_frames(e\u001b[38;5;241m.\u001b[39m__traceback__)\n",
      "File \u001b[1;32m~\\anaconda3\\lib\\site-packages\\keras\\engine\\training.py:1606\u001b[0m, in \u001b[0;36mModel.fit\u001b[1;34m(self, x, y, batch_size, epochs, verbose, callbacks, validation_split, validation_data, shuffle, class_weight, sample_weight, initial_epoch, steps_per_epoch, validation_steps, validation_batch_size, validation_freq, max_queue_size, workers, use_multiprocessing)\u001b[0m\n\u001b[0;32m   1591\u001b[0m \u001b[38;5;28;01mif\u001b[39;00m \u001b[38;5;28mgetattr\u001b[39m(\u001b[38;5;28mself\u001b[39m, \u001b[38;5;124m\"\u001b[39m\u001b[38;5;124m_eval_data_handler\u001b[39m\u001b[38;5;124m\"\u001b[39m, \u001b[38;5;28;01mNone\u001b[39;00m) \u001b[38;5;129;01mis\u001b[39;00m \u001b[38;5;28;01mNone\u001b[39;00m:\n\u001b[0;32m   1592\u001b[0m     \u001b[38;5;28mself\u001b[39m\u001b[38;5;241m.\u001b[39m_eval_data_handler \u001b[38;5;241m=\u001b[39m data_adapter\u001b[38;5;241m.\u001b[39mget_data_handler(\n\u001b[0;32m   1593\u001b[0m         x\u001b[38;5;241m=\u001b[39mval_x,\n\u001b[0;32m   1594\u001b[0m         y\u001b[38;5;241m=\u001b[39mval_y,\n\u001b[1;32m   (...)\u001b[0m\n\u001b[0;32m   1604\u001b[0m         steps_per_execution\u001b[38;5;241m=\u001b[39m\u001b[38;5;28mself\u001b[39m\u001b[38;5;241m.\u001b[39m_steps_per_execution,\n\u001b[0;32m   1605\u001b[0m     )\n\u001b[1;32m-> 1606\u001b[0m val_logs \u001b[38;5;241m=\u001b[39m \u001b[38;5;28;43mself\u001b[39;49m\u001b[38;5;241;43m.\u001b[39;49m\u001b[43mevaluate\u001b[49m\u001b[43m(\u001b[49m\n\u001b[0;32m   1607\u001b[0m \u001b[43m    \u001b[49m\u001b[43mx\u001b[49m\u001b[38;5;241;43m=\u001b[39;49m\u001b[43mval_x\u001b[49m\u001b[43m,\u001b[49m\n\u001b[0;32m   1608\u001b[0m \u001b[43m    \u001b[49m\u001b[43my\u001b[49m\u001b[38;5;241;43m=\u001b[39;49m\u001b[43mval_y\u001b[49m\u001b[43m,\u001b[49m\n\u001b[0;32m   1609\u001b[0m \u001b[43m    \u001b[49m\u001b[43msample_weight\u001b[49m\u001b[38;5;241;43m=\u001b[39;49m\u001b[43mval_sample_weight\u001b[49m\u001b[43m,\u001b[49m\n\u001b[0;32m   1610\u001b[0m \u001b[43m    \u001b[49m\u001b[43mbatch_size\u001b[49m\u001b[38;5;241;43m=\u001b[39;49m\u001b[43mvalidation_batch_size\u001b[49m\u001b[43m \u001b[49m\u001b[38;5;129;43;01mor\u001b[39;49;00m\u001b[43m \u001b[49m\u001b[43mbatch_size\u001b[49m\u001b[43m,\u001b[49m\n\u001b[0;32m   1611\u001b[0m \u001b[43m    \u001b[49m\u001b[43msteps\u001b[49m\u001b[38;5;241;43m=\u001b[39;49m\u001b[43mvalidation_steps\u001b[49m\u001b[43m,\u001b[49m\n\u001b[0;32m   1612\u001b[0m \u001b[43m    \u001b[49m\u001b[43mcallbacks\u001b[49m\u001b[38;5;241;43m=\u001b[39;49m\u001b[43mcallbacks\u001b[49m\u001b[43m,\u001b[49m\n\u001b[0;32m   1613\u001b[0m \u001b[43m    \u001b[49m\u001b[43mmax_queue_size\u001b[49m\u001b[38;5;241;43m=\u001b[39;49m\u001b[43mmax_queue_size\u001b[49m\u001b[43m,\u001b[49m\n\u001b[0;32m   1614\u001b[0m \u001b[43m    \u001b[49m\u001b[43mworkers\u001b[49m\u001b[38;5;241;43m=\u001b[39;49m\u001b[43mworkers\u001b[49m\u001b[43m,\u001b[49m\n\u001b[0;32m   1615\u001b[0m \u001b[43m    \u001b[49m\u001b[43muse_multiprocessing\u001b[49m\u001b[38;5;241;43m=\u001b[39;49m\u001b[43muse_multiprocessing\u001b[49m\u001b[43m,\u001b[49m\n\u001b[0;32m   1616\u001b[0m \u001b[43m    \u001b[49m\u001b[43mreturn_dict\u001b[49m\u001b[38;5;241;43m=\u001b[39;49m\u001b[38;5;28;43;01mTrue\u001b[39;49;00m\u001b[43m,\u001b[49m\n\u001b[0;32m   1617\u001b[0m \u001b[43m    \u001b[49m\u001b[43m_use_cached_eval_dataset\u001b[49m\u001b[38;5;241;43m=\u001b[39;49m\u001b[38;5;28;43;01mTrue\u001b[39;49;00m\u001b[43m,\u001b[49m\n\u001b[0;32m   1618\u001b[0m \u001b[43m\u001b[49m\u001b[43m)\u001b[49m\n\u001b[0;32m   1619\u001b[0m val_logs \u001b[38;5;241m=\u001b[39m {\n\u001b[0;32m   1620\u001b[0m     \u001b[38;5;124m\"\u001b[39m\u001b[38;5;124mval_\u001b[39m\u001b[38;5;124m\"\u001b[39m \u001b[38;5;241m+\u001b[39m name: val \u001b[38;5;28;01mfor\u001b[39;00m name, val \u001b[38;5;129;01min\u001b[39;00m val_logs\u001b[38;5;241m.\u001b[39mitems()\n\u001b[0;32m   1621\u001b[0m }\n\u001b[0;32m   1622\u001b[0m epoch_logs\u001b[38;5;241m.\u001b[39mupdate(val_logs)\n",
      "File \u001b[1;32m~\\anaconda3\\lib\\site-packages\\keras\\utils\\traceback_utils.py:65\u001b[0m, in \u001b[0;36mfilter_traceback.<locals>.error_handler\u001b[1;34m(*args, **kwargs)\u001b[0m\n\u001b[0;32m     63\u001b[0m filtered_tb \u001b[38;5;241m=\u001b[39m \u001b[38;5;28;01mNone\u001b[39;00m\n\u001b[0;32m     64\u001b[0m \u001b[38;5;28;01mtry\u001b[39;00m:\n\u001b[1;32m---> 65\u001b[0m     \u001b[38;5;28;01mreturn\u001b[39;00m fn(\u001b[38;5;241m*\u001b[39margs, \u001b[38;5;241m*\u001b[39m\u001b[38;5;241m*\u001b[39mkwargs)\n\u001b[0;32m     66\u001b[0m \u001b[38;5;28;01mexcept\u001b[39;00m \u001b[38;5;167;01mException\u001b[39;00m \u001b[38;5;28;01mas\u001b[39;00m e:\n\u001b[0;32m     67\u001b[0m     filtered_tb \u001b[38;5;241m=\u001b[39m _process_traceback_frames(e\u001b[38;5;241m.\u001b[39m__traceback__)\n",
      "File \u001b[1;32m~\\anaconda3\\lib\\site-packages\\keras\\engine\\training.py:1947\u001b[0m, in \u001b[0;36mModel.evaluate\u001b[1;34m(self, x, y, batch_size, verbose, sample_weight, steps, callbacks, max_queue_size, workers, use_multiprocessing, return_dict, **kwargs)\u001b[0m\n\u001b[0;32m   1943\u001b[0m \u001b[38;5;28;01mwith\u001b[39;00m tf\u001b[38;5;241m.\u001b[39mprofiler\u001b[38;5;241m.\u001b[39mexperimental\u001b[38;5;241m.\u001b[39mTrace(\n\u001b[0;32m   1944\u001b[0m     \u001b[38;5;124m\"\u001b[39m\u001b[38;5;124mtest\u001b[39m\u001b[38;5;124m\"\u001b[39m, step_num\u001b[38;5;241m=\u001b[39mstep, _r\u001b[38;5;241m=\u001b[39m\u001b[38;5;241m1\u001b[39m\n\u001b[0;32m   1945\u001b[0m ):\n\u001b[0;32m   1946\u001b[0m     callbacks\u001b[38;5;241m.\u001b[39mon_test_batch_begin(step)\n\u001b[1;32m-> 1947\u001b[0m     tmp_logs \u001b[38;5;241m=\u001b[39m \u001b[38;5;28;43mself\u001b[39;49m\u001b[38;5;241;43m.\u001b[39;49m\u001b[43mtest_function\u001b[49m\u001b[43m(\u001b[49m\u001b[43miterator\u001b[49m\u001b[43m)\u001b[49m\n\u001b[0;32m   1948\u001b[0m     \u001b[38;5;28;01mif\u001b[39;00m data_handler\u001b[38;5;241m.\u001b[39mshould_sync:\n\u001b[0;32m   1949\u001b[0m         context\u001b[38;5;241m.\u001b[39masync_wait()\n",
      "File \u001b[1;32m~\\anaconda3\\lib\\site-packages\\keras\\engine\\training.py:1727\u001b[0m, in \u001b[0;36mModel.make_test_function.<locals>.test_function\u001b[1;34m(iterator)\u001b[0m\n\u001b[0;32m   1725\u001b[0m \u001b[38;5;28;01mdef\u001b[39;00m \u001b[38;5;21mtest_function\u001b[39m(iterator):\n\u001b[0;32m   1726\u001b[0m     \u001b[38;5;124;03m\"\"\"Runs a test execution with a single step.\"\"\"\u001b[39;00m\n\u001b[1;32m-> 1727\u001b[0m     \u001b[38;5;28;01mreturn\u001b[39;00m \u001b[43mstep_function\u001b[49m\u001b[43m(\u001b[49m\u001b[38;5;28;43mself\u001b[39;49m\u001b[43m,\u001b[49m\u001b[43m \u001b[49m\u001b[43miterator\u001b[49m\u001b[43m)\u001b[49m\n",
      "File \u001b[1;32m~\\anaconda3\\lib\\site-packages\\keras\\engine\\training.py:1713\u001b[0m, in \u001b[0;36mModel.make_test_function.<locals>.step_function\u001b[1;34m(model, iterator)\u001b[0m\n\u001b[0;32m   1708\u001b[0m     run_step \u001b[38;5;241m=\u001b[39m tf\u001b[38;5;241m.\u001b[39mfunction(\n\u001b[0;32m   1709\u001b[0m         run_step, jit_compile\u001b[38;5;241m=\u001b[39m\u001b[38;5;28;01mTrue\u001b[39;00m, reduce_retracing\u001b[38;5;241m=\u001b[39m\u001b[38;5;28;01mTrue\u001b[39;00m\n\u001b[0;32m   1710\u001b[0m     )\n\u001b[0;32m   1712\u001b[0m data \u001b[38;5;241m=\u001b[39m \u001b[38;5;28mnext\u001b[39m(iterator)\n\u001b[1;32m-> 1713\u001b[0m outputs \u001b[38;5;241m=\u001b[39m \u001b[43mmodel\u001b[49m\u001b[38;5;241;43m.\u001b[39;49m\u001b[43mdistribute_strategy\u001b[49m\u001b[38;5;241;43m.\u001b[39;49m\u001b[43mrun\u001b[49m\u001b[43m(\u001b[49m\u001b[43mrun_step\u001b[49m\u001b[43m,\u001b[49m\u001b[43m \u001b[49m\u001b[43margs\u001b[49m\u001b[38;5;241;43m=\u001b[39;49m\u001b[43m(\u001b[49m\u001b[43mdata\u001b[49m\u001b[43m,\u001b[49m\u001b[43m)\u001b[49m\u001b[43m)\u001b[49m\n\u001b[0;32m   1714\u001b[0m outputs \u001b[38;5;241m=\u001b[39m reduce_per_replica(\n\u001b[0;32m   1715\u001b[0m     outputs, \u001b[38;5;28mself\u001b[39m\u001b[38;5;241m.\u001b[39mdistribute_strategy, reduction\u001b[38;5;241m=\u001b[39m\u001b[38;5;124m\"\u001b[39m\u001b[38;5;124mfirst\u001b[39m\u001b[38;5;124m\"\u001b[39m\n\u001b[0;32m   1716\u001b[0m )\n\u001b[0;32m   1717\u001b[0m \u001b[38;5;28;01mreturn\u001b[39;00m outputs\n",
      "File \u001b[1;32m~\\anaconda3\\lib\\site-packages\\tensorflow\\python\\distribute\\distribute_lib.py:1315\u001b[0m, in \u001b[0;36mStrategyBase.run\u001b[1;34m(***failed resolving arguments***)\u001b[0m\n\u001b[0;32m   1310\u001b[0m \u001b[38;5;28;01mwith\u001b[39;00m \u001b[38;5;28mself\u001b[39m\u001b[38;5;241m.\u001b[39mscope():\n\u001b[0;32m   1311\u001b[0m   \u001b[38;5;66;03m# tf.distribute supports Eager functions, so AutoGraph should not be\u001b[39;00m\n\u001b[0;32m   1312\u001b[0m   \u001b[38;5;66;03m# applied when the caller is also in Eager mode.\u001b[39;00m\n\u001b[0;32m   1313\u001b[0m   fn \u001b[38;5;241m=\u001b[39m autograph\u001b[38;5;241m.\u001b[39mtf_convert(\n\u001b[0;32m   1314\u001b[0m       fn, autograph_ctx\u001b[38;5;241m.\u001b[39mcontrol_status_ctx(), convert_by_default\u001b[38;5;241m=\u001b[39m\u001b[38;5;28;01mFalse\u001b[39;00m)\n\u001b[1;32m-> 1315\u001b[0m   \u001b[38;5;28;01mreturn\u001b[39;00m \u001b[38;5;28;43mself\u001b[39;49m\u001b[38;5;241;43m.\u001b[39;49m\u001b[43m_extended\u001b[49m\u001b[38;5;241;43m.\u001b[39;49m\u001b[43mcall_for_each_replica\u001b[49m\u001b[43m(\u001b[49m\u001b[43mfn\u001b[49m\u001b[43m,\u001b[49m\u001b[43m \u001b[49m\u001b[43margs\u001b[49m\u001b[38;5;241;43m=\u001b[39;49m\u001b[43margs\u001b[49m\u001b[43m,\u001b[49m\u001b[43m \u001b[49m\u001b[43mkwargs\u001b[49m\u001b[38;5;241;43m=\u001b[39;49m\u001b[43mkwargs\u001b[49m\u001b[43m)\u001b[49m\n",
      "File \u001b[1;32m~\\anaconda3\\lib\\site-packages\\tensorflow\\python\\distribute\\distribute_lib.py:2891\u001b[0m, in \u001b[0;36mStrategyExtendedV1.call_for_each_replica\u001b[1;34m(self, fn, args, kwargs)\u001b[0m\n\u001b[0;32m   2889\u001b[0m   kwargs \u001b[38;5;241m=\u001b[39m {}\n\u001b[0;32m   2890\u001b[0m \u001b[38;5;28;01mwith\u001b[39;00m \u001b[38;5;28mself\u001b[39m\u001b[38;5;241m.\u001b[39m_container_strategy()\u001b[38;5;241m.\u001b[39mscope():\n\u001b[1;32m-> 2891\u001b[0m   \u001b[38;5;28;01mreturn\u001b[39;00m \u001b[38;5;28;43mself\u001b[39;49m\u001b[38;5;241;43m.\u001b[39;49m\u001b[43m_call_for_each_replica\u001b[49m\u001b[43m(\u001b[49m\u001b[43mfn\u001b[49m\u001b[43m,\u001b[49m\u001b[43m \u001b[49m\u001b[43margs\u001b[49m\u001b[43m,\u001b[49m\u001b[43m \u001b[49m\u001b[43mkwargs\u001b[49m\u001b[43m)\u001b[49m\n",
      "File \u001b[1;32m~\\anaconda3\\lib\\site-packages\\tensorflow\\python\\distribute\\distribute_lib.py:3692\u001b[0m, in \u001b[0;36m_DefaultDistributionExtended._call_for_each_replica\u001b[1;34m(self, fn, args, kwargs)\u001b[0m\n\u001b[0;32m   3690\u001b[0m \u001b[38;5;28;01mdef\u001b[39;00m \u001b[38;5;21m_call_for_each_replica\u001b[39m(\u001b[38;5;28mself\u001b[39m, fn, args, kwargs):\n\u001b[0;32m   3691\u001b[0m   \u001b[38;5;28;01mwith\u001b[39;00m ReplicaContext(\u001b[38;5;28mself\u001b[39m\u001b[38;5;241m.\u001b[39m_container_strategy(), replica_id_in_sync_group\u001b[38;5;241m=\u001b[39m\u001b[38;5;241m0\u001b[39m):\n\u001b[1;32m-> 3692\u001b[0m     \u001b[38;5;28;01mreturn\u001b[39;00m fn(\u001b[38;5;241m*\u001b[39margs, \u001b[38;5;241m*\u001b[39m\u001b[38;5;241m*\u001b[39mkwargs)\n",
      "File \u001b[1;32m~\\anaconda3\\lib\\site-packages\\tensorflow\\python\\autograph\\impl\\api.py:595\u001b[0m, in \u001b[0;36mcall_with_unspecified_conversion_status.<locals>.wrapper\u001b[1;34m(*args, **kwargs)\u001b[0m\n\u001b[0;32m    593\u001b[0m \u001b[38;5;28;01mdef\u001b[39;00m \u001b[38;5;21mwrapper\u001b[39m(\u001b[38;5;241m*\u001b[39margs, \u001b[38;5;241m*\u001b[39m\u001b[38;5;241m*\u001b[39mkwargs):\n\u001b[0;32m    594\u001b[0m   \u001b[38;5;28;01mwith\u001b[39;00m ag_ctx\u001b[38;5;241m.\u001b[39mControlStatusCtx(status\u001b[38;5;241m=\u001b[39mag_ctx\u001b[38;5;241m.\u001b[39mStatus\u001b[38;5;241m.\u001b[39mUNSPECIFIED):\n\u001b[1;32m--> 595\u001b[0m     \u001b[38;5;28;01mreturn\u001b[39;00m func(\u001b[38;5;241m*\u001b[39margs, \u001b[38;5;241m*\u001b[39m\u001b[38;5;241m*\u001b[39mkwargs)\n",
      "File \u001b[1;32m~\\anaconda3\\lib\\site-packages\\keras\\engine\\training.py:1701\u001b[0m, in \u001b[0;36mModel.make_test_function.<locals>.step_function.<locals>.run_step\u001b[1;34m(data)\u001b[0m\n\u001b[0;32m   1700\u001b[0m \u001b[38;5;28;01mdef\u001b[39;00m \u001b[38;5;21mrun_step\u001b[39m(data):\n\u001b[1;32m-> 1701\u001b[0m     outputs \u001b[38;5;241m=\u001b[39m \u001b[43mmodel\u001b[49m\u001b[38;5;241;43m.\u001b[39;49m\u001b[43mtest_step\u001b[49m\u001b[43m(\u001b[49m\u001b[43mdata\u001b[49m\u001b[43m)\u001b[49m\n\u001b[0;32m   1702\u001b[0m     \u001b[38;5;66;03m# Ensure counter is updated only if `test_step` succeeds.\u001b[39;00m\n\u001b[0;32m   1703\u001b[0m     \u001b[38;5;28;01mwith\u001b[39;00m tf\u001b[38;5;241m.\u001b[39mcontrol_dependencies(_minimum_control_deps(outputs)):\n",
      "File \u001b[1;32m~\\anaconda3\\lib\\site-packages\\keras\\engine\\training.py:1668\u001b[0m, in \u001b[0;36mModel.test_step\u001b[1;34m(self, data)\u001b[0m\n\u001b[0;32m   1666\u001b[0m \u001b[38;5;66;03m# Updates stateful loss metrics.\u001b[39;00m\n\u001b[0;32m   1667\u001b[0m \u001b[38;5;28mself\u001b[39m\u001b[38;5;241m.\u001b[39mcompute_loss(x, y, y_pred, sample_weight)\n\u001b[1;32m-> 1668\u001b[0m \u001b[38;5;28;01mreturn\u001b[39;00m \u001b[38;5;28;43mself\u001b[39;49m\u001b[38;5;241;43m.\u001b[39;49m\u001b[43mcompute_metrics\u001b[49m\u001b[43m(\u001b[49m\u001b[43mx\u001b[49m\u001b[43m,\u001b[49m\u001b[43m \u001b[49m\u001b[43my\u001b[49m\u001b[43m,\u001b[49m\u001b[43m \u001b[49m\u001b[43my_pred\u001b[49m\u001b[43m,\u001b[49m\u001b[43m \u001b[49m\u001b[43msample_weight\u001b[49m\u001b[43m)\u001b[49m\n",
      "File \u001b[1;32m~\\anaconda3\\lib\\site-packages\\keras\\engine\\training.py:1092\u001b[0m, in \u001b[0;36mModel.compute_metrics\u001b[1;34m(***failed resolving arguments***)\u001b[0m\n\u001b[0;32m   1057\u001b[0m \u001b[38;5;124;03m\"\"\"Update metric states and collect all metrics to be returned.\u001b[39;00m\n\u001b[0;32m   1058\u001b[0m \n\u001b[0;32m   1059\u001b[0m \u001b[38;5;124;03mSubclasses can optionally override this method to provide custom metric\u001b[39;00m\n\u001b[1;32m   (...)\u001b[0m\n\u001b[0;32m   1089\u001b[0m \u001b[38;5;124;03m  `{'loss': 0.2, 'accuracy': 0.7}`.\u001b[39;00m\n\u001b[0;32m   1090\u001b[0m \u001b[38;5;124;03m\"\"\"\u001b[39;00m\n\u001b[0;32m   1091\u001b[0m \u001b[38;5;28;01mdel\u001b[39;00m x  \u001b[38;5;66;03m# The default implementation does not use `x`.\u001b[39;00m\n\u001b[1;32m-> 1092\u001b[0m \u001b[38;5;28;43mself\u001b[39;49m\u001b[38;5;241;43m.\u001b[39;49m\u001b[43mcompiled_metrics\u001b[49m\u001b[38;5;241;43m.\u001b[39;49m\u001b[43mupdate_state\u001b[49m\u001b[43m(\u001b[49m\u001b[43my\u001b[49m\u001b[43m,\u001b[49m\u001b[43m \u001b[49m\u001b[43my_pred\u001b[49m\u001b[43m,\u001b[49m\u001b[43m \u001b[49m\u001b[43msample_weight\u001b[49m\u001b[43m)\u001b[49m\n\u001b[0;32m   1093\u001b[0m \u001b[38;5;66;03m# Collect metrics to return\u001b[39;00m\n\u001b[0;32m   1094\u001b[0m return_metrics \u001b[38;5;241m=\u001b[39m {}\n",
      "File \u001b[1;32m~\\anaconda3\\lib\\site-packages\\keras\\engine\\compile_utils.py:605\u001b[0m, in \u001b[0;36mMetricsContainer.update_state\u001b[1;34m(self, y_true, y_pred, sample_weight)\u001b[0m\n\u001b[0;32m    603\u001b[0m     \u001b[38;5;28;01mif\u001b[39;00m metric_obj \u001b[38;5;129;01mis\u001b[39;00m \u001b[38;5;28;01mNone\u001b[39;00m:\n\u001b[0;32m    604\u001b[0m         \u001b[38;5;28;01mcontinue\u001b[39;00m\n\u001b[1;32m--> 605\u001b[0m     \u001b[43mmetric_obj\u001b[49m\u001b[38;5;241;43m.\u001b[39;49m\u001b[43mupdate_state\u001b[49m\u001b[43m(\u001b[49m\u001b[43my_t\u001b[49m\u001b[43m,\u001b[49m\u001b[43m \u001b[49m\u001b[43my_p\u001b[49m\u001b[43m,\u001b[49m\u001b[43m \u001b[49m\u001b[43msample_weight\u001b[49m\u001b[38;5;241;43m=\u001b[39;49m\u001b[43mmask\u001b[49m\u001b[43m)\u001b[49m\n\u001b[0;32m    607\u001b[0m \u001b[38;5;28;01mfor\u001b[39;00m weighted_metric_obj \u001b[38;5;129;01min\u001b[39;00m weighted_metric_objs:\n\u001b[0;32m    608\u001b[0m     \u001b[38;5;28;01mif\u001b[39;00m weighted_metric_obj \u001b[38;5;129;01mis\u001b[39;00m \u001b[38;5;28;01mNone\u001b[39;00m:\n",
      "File \u001b[1;32m~\\anaconda3\\lib\\site-packages\\keras\\utils\\metrics_utils.py:77\u001b[0m, in \u001b[0;36mupdate_state_wrapper.<locals>.decorated\u001b[1;34m(metric_obj, *args, **kwargs)\u001b[0m\n\u001b[0;32m     69\u001b[0m         \u001b[38;5;28;01mraise\u001b[39;00m \u001b[38;5;167;01mValueError\u001b[39;00m(\n\u001b[0;32m     70\u001b[0m             \u001b[38;5;124m\"\u001b[39m\u001b[38;5;124mTrying to run metric.update_state in replica context when \u001b[39m\u001b[38;5;124m\"\u001b[39m\n\u001b[0;32m     71\u001b[0m             \u001b[38;5;124m\"\u001b[39m\u001b[38;5;124mthe metric was not created in TPUStrategy scope. \u001b[39m\u001b[38;5;124m\"\u001b[39m\n\u001b[0;32m     72\u001b[0m             \u001b[38;5;124m\"\u001b[39m\u001b[38;5;124mMake sure the keras Metric is created in TPUstrategy \u001b[39m\u001b[38;5;124m\"\u001b[39m\n\u001b[0;32m     73\u001b[0m             \u001b[38;5;124m\"\u001b[39m\u001b[38;5;124mscope. \u001b[39m\u001b[38;5;124m\"\u001b[39m\n\u001b[0;32m     74\u001b[0m         )\n\u001b[0;32m     76\u001b[0m \u001b[38;5;28;01mwith\u001b[39;00m tf_utils\u001b[38;5;241m.\u001b[39mgraph_context_for_symbolic_tensors(\u001b[38;5;241m*\u001b[39margs, \u001b[38;5;241m*\u001b[39m\u001b[38;5;241m*\u001b[39mkwargs):\n\u001b[1;32m---> 77\u001b[0m     update_op \u001b[38;5;241m=\u001b[39m update_state_fn(\u001b[38;5;241m*\u001b[39margs, \u001b[38;5;241m*\u001b[39m\u001b[38;5;241m*\u001b[39mkwargs)\n\u001b[0;32m     78\u001b[0m \u001b[38;5;28;01mif\u001b[39;00m update_op \u001b[38;5;129;01mis\u001b[39;00m \u001b[38;5;129;01mnot\u001b[39;00m \u001b[38;5;28;01mNone\u001b[39;00m:  \u001b[38;5;66;03m# update_op will be None in eager execution.\u001b[39;00m\n\u001b[0;32m     79\u001b[0m     metric_obj\u001b[38;5;241m.\u001b[39madd_update(update_op)\n",
      "File \u001b[1;32m~\\anaconda3\\lib\\site-packages\\keras\\metrics\\base_metric.py:143\u001b[0m, in \u001b[0;36mMetric.__new__.<locals>.update_state_fn\u001b[1;34m(*args, **kwargs)\u001b[0m\n\u001b[0;32m    139\u001b[0m control_status \u001b[38;5;241m=\u001b[39m tf\u001b[38;5;241m.\u001b[39m__internal__\u001b[38;5;241m.\u001b[39mautograph\u001b[38;5;241m.\u001b[39mcontrol_status_ctx()\n\u001b[0;32m    140\u001b[0m ag_update_state \u001b[38;5;241m=\u001b[39m tf\u001b[38;5;241m.\u001b[39m__internal__\u001b[38;5;241m.\u001b[39mautograph\u001b[38;5;241m.\u001b[39mtf_convert(\n\u001b[0;32m    141\u001b[0m     obj_update_state, control_status\n\u001b[0;32m    142\u001b[0m )\n\u001b[1;32m--> 143\u001b[0m \u001b[38;5;28;01mreturn\u001b[39;00m ag_update_state(\u001b[38;5;241m*\u001b[39margs, \u001b[38;5;241m*\u001b[39m\u001b[38;5;241m*\u001b[39mkwargs)\n",
      "File \u001b[1;32m~\\anaconda3\\lib\\site-packages\\tensorflow\\python\\autograph\\impl\\api.py:689\u001b[0m, in \u001b[0;36mconvert.<locals>.decorator.<locals>.wrapper\u001b[1;34m(*args, **kwargs)\u001b[0m\n\u001b[0;32m    687\u001b[0m \u001b[38;5;28;01mtry\u001b[39;00m:\n\u001b[0;32m    688\u001b[0m   \u001b[38;5;28;01mwith\u001b[39;00m conversion_ctx:\n\u001b[1;32m--> 689\u001b[0m     \u001b[38;5;28;01mreturn\u001b[39;00m \u001b[43mconverted_call\u001b[49m\u001b[43m(\u001b[49m\u001b[43mf\u001b[49m\u001b[43m,\u001b[49m\u001b[43m \u001b[49m\u001b[43margs\u001b[49m\u001b[43m,\u001b[49m\u001b[43m \u001b[49m\u001b[43mkwargs\u001b[49m\u001b[43m,\u001b[49m\u001b[43m \u001b[49m\u001b[43moptions\u001b[49m\u001b[38;5;241;43m=\u001b[39;49m\u001b[43moptions\u001b[49m\u001b[43m)\u001b[49m\n\u001b[0;32m    690\u001b[0m \u001b[38;5;28;01mexcept\u001b[39;00m \u001b[38;5;167;01mException\u001b[39;00m \u001b[38;5;28;01mas\u001b[39;00m e:  \u001b[38;5;66;03m# pylint:disable=broad-except\u001b[39;00m\n\u001b[0;32m    691\u001b[0m   \u001b[38;5;28;01mif\u001b[39;00m \u001b[38;5;28mhasattr\u001b[39m(e, \u001b[38;5;124m'\u001b[39m\u001b[38;5;124mag_error_metadata\u001b[39m\u001b[38;5;124m'\u001b[39m):\n",
      "File \u001b[1;32m~\\anaconda3\\lib\\site-packages\\tensorflow\\python\\autograph\\impl\\api.py:331\u001b[0m, in \u001b[0;36mconverted_call\u001b[1;34m(f, args, kwargs, caller_fn_scope, options)\u001b[0m\n\u001b[0;32m    329\u001b[0m \u001b[38;5;28;01mif\u001b[39;00m conversion\u001b[38;5;241m.\u001b[39mis_in_allowlist_cache(f, options):\n\u001b[0;32m    330\u001b[0m   logging\u001b[38;5;241m.\u001b[39mlog(\u001b[38;5;241m2\u001b[39m, \u001b[38;5;124m'\u001b[39m\u001b[38;5;124mAllowlisted \u001b[39m\u001b[38;5;132;01m%s\u001b[39;00m\u001b[38;5;124m: from cache\u001b[39m\u001b[38;5;124m'\u001b[39m, f)\n\u001b[1;32m--> 331\u001b[0m   \u001b[38;5;28;01mreturn\u001b[39;00m \u001b[43m_call_unconverted\u001b[49m\u001b[43m(\u001b[49m\u001b[43mf\u001b[49m\u001b[43m,\u001b[49m\u001b[43m \u001b[49m\u001b[43margs\u001b[49m\u001b[43m,\u001b[49m\u001b[43m \u001b[49m\u001b[43mkwargs\u001b[49m\u001b[43m,\u001b[49m\u001b[43m \u001b[49m\u001b[43moptions\u001b[49m\u001b[43m,\u001b[49m\u001b[43m \u001b[49m\u001b[38;5;28;43;01mFalse\u001b[39;49;00m\u001b[43m)\u001b[49m\n\u001b[0;32m    333\u001b[0m \u001b[38;5;28;01mif\u001b[39;00m ag_ctx\u001b[38;5;241m.\u001b[39mcontrol_status_ctx()\u001b[38;5;241m.\u001b[39mstatus \u001b[38;5;241m==\u001b[39m ag_ctx\u001b[38;5;241m.\u001b[39mStatus\u001b[38;5;241m.\u001b[39mDISABLED:\n\u001b[0;32m    334\u001b[0m   logging\u001b[38;5;241m.\u001b[39mlog(\u001b[38;5;241m2\u001b[39m, \u001b[38;5;124m'\u001b[39m\u001b[38;5;124mAllowlisted: \u001b[39m\u001b[38;5;132;01m%s\u001b[39;00m\u001b[38;5;124m: AutoGraph is disabled in context\u001b[39m\u001b[38;5;124m'\u001b[39m, f)\n",
      "File \u001b[1;32m~\\anaconda3\\lib\\site-packages\\tensorflow\\python\\autograph\\impl\\api.py:458\u001b[0m, in \u001b[0;36m_call_unconverted\u001b[1;34m(f, args, kwargs, options, update_cache)\u001b[0m\n\u001b[0;32m    455\u001b[0m   \u001b[38;5;28;01mreturn\u001b[39;00m f\u001b[38;5;241m.\u001b[39m\u001b[38;5;18m__self__\u001b[39m\u001b[38;5;241m.\u001b[39mcall(args, kwargs)\n\u001b[0;32m    457\u001b[0m \u001b[38;5;28;01mif\u001b[39;00m kwargs \u001b[38;5;129;01mis\u001b[39;00m \u001b[38;5;129;01mnot\u001b[39;00m \u001b[38;5;28;01mNone\u001b[39;00m:\n\u001b[1;32m--> 458\u001b[0m   \u001b[38;5;28;01mreturn\u001b[39;00m f(\u001b[38;5;241m*\u001b[39margs, \u001b[38;5;241m*\u001b[39m\u001b[38;5;241m*\u001b[39mkwargs)\n\u001b[0;32m    459\u001b[0m \u001b[38;5;28;01mreturn\u001b[39;00m f(\u001b[38;5;241m*\u001b[39margs)\n",
      "File \u001b[1;32m~\\anaconda3\\lib\\site-packages\\keras\\metrics\\base_metric.py:705\u001b[0m, in \u001b[0;36mMeanMetricWrapper.update_state\u001b[1;34m(self, y_true, y_pred, sample_weight)\u001b[0m\n\u001b[0;32m    701\u001b[0m mask \u001b[38;5;241m=\u001b[39m losses_utils\u001b[38;5;241m.\u001b[39mget_mask(matches)\n\u001b[0;32m    702\u001b[0m sample_weight \u001b[38;5;241m=\u001b[39m losses_utils\u001b[38;5;241m.\u001b[39mapply_valid_mask(\n\u001b[0;32m    703\u001b[0m     matches, sample_weight, mask, \u001b[38;5;28mself\u001b[39m\u001b[38;5;241m.\u001b[39mreduction\n\u001b[0;32m    704\u001b[0m )\n\u001b[1;32m--> 705\u001b[0m \u001b[38;5;28;01mreturn\u001b[39;00m \u001b[38;5;28;43msuper\u001b[39;49m\u001b[43m(\u001b[49m\u001b[43m)\u001b[49m\u001b[38;5;241;43m.\u001b[39;49m\u001b[43mupdate_state\u001b[49m\u001b[43m(\u001b[49m\u001b[43mmatches\u001b[49m\u001b[43m,\u001b[49m\u001b[43m \u001b[49m\u001b[43msample_weight\u001b[49m\u001b[38;5;241;43m=\u001b[39;49m\u001b[43msample_weight\u001b[49m\u001b[43m)\u001b[49m\n",
      "File \u001b[1;32m~\\anaconda3\\lib\\site-packages\\keras\\metrics\\base_metric.py:503\u001b[0m, in \u001b[0;36mReduce.update_state\u001b[1;34m(self, values, sample_weight)\u001b[0m\n\u001b[0;32m    498\u001b[0m             values \u001b[38;5;241m=\u001b[39m tf\u001b[38;5;241m.\u001b[39mreduce_mean(\n\u001b[0;32m    499\u001b[0m                 values, axis\u001b[38;5;241m=\u001b[39m\u001b[38;5;28mlist\u001b[39m(\u001b[38;5;28mrange\u001b[39m(weight_ndim, ndim))\n\u001b[0;32m    500\u001b[0m             )\n\u001b[0;32m    501\u001b[0m     values \u001b[38;5;241m=\u001b[39m tf\u001b[38;5;241m.\u001b[39mmultiply(values, sample_weight)\n\u001b[1;32m--> 503\u001b[0m value_sum \u001b[38;5;241m=\u001b[39m \u001b[43mtf\u001b[49m\u001b[38;5;241;43m.\u001b[39;49m\u001b[43mreduce_sum\u001b[49m\u001b[43m(\u001b[49m\u001b[43mvalues\u001b[49m\u001b[43m)\u001b[49m\n\u001b[0;32m    504\u001b[0m \u001b[38;5;28;01mwith\u001b[39;00m tf\u001b[38;5;241m.\u001b[39mcontrol_dependencies([value_sum]):\n\u001b[0;32m    505\u001b[0m     update_total_op \u001b[38;5;241m=\u001b[39m \u001b[38;5;28mself\u001b[39m\u001b[38;5;241m.\u001b[39mtotal\u001b[38;5;241m.\u001b[39massign_add(value_sum)\n",
      "File \u001b[1;32m~\\anaconda3\\lib\\site-packages\\tensorflow\\python\\util\\traceback_utils.py:150\u001b[0m, in \u001b[0;36mfilter_traceback.<locals>.error_handler\u001b[1;34m(*args, **kwargs)\u001b[0m\n\u001b[0;32m    148\u001b[0m filtered_tb \u001b[38;5;241m=\u001b[39m \u001b[38;5;28;01mNone\u001b[39;00m\n\u001b[0;32m    149\u001b[0m \u001b[38;5;28;01mtry\u001b[39;00m:\n\u001b[1;32m--> 150\u001b[0m   \u001b[38;5;28;01mreturn\u001b[39;00m fn(\u001b[38;5;241m*\u001b[39margs, \u001b[38;5;241m*\u001b[39m\u001b[38;5;241m*\u001b[39mkwargs)\n\u001b[0;32m    151\u001b[0m \u001b[38;5;28;01mexcept\u001b[39;00m \u001b[38;5;167;01mException\u001b[39;00m \u001b[38;5;28;01mas\u001b[39;00m e:\n\u001b[0;32m    152\u001b[0m   filtered_tb \u001b[38;5;241m=\u001b[39m _process_traceback_frames(e\u001b[38;5;241m.\u001b[39m__traceback__)\n",
      "File \u001b[1;32m~\\anaconda3\\lib\\site-packages\\tensorflow\\python\\util\\dispatch.py:1176\u001b[0m, in \u001b[0;36madd_dispatch_support.<locals>.decorator.<locals>.op_dispatch_handler\u001b[1;34m(*args, **kwargs)\u001b[0m\n\u001b[0;32m   1174\u001b[0m \u001b[38;5;66;03m# Fallback dispatch system (dispatch v1):\u001b[39;00m\n\u001b[0;32m   1175\u001b[0m \u001b[38;5;28;01mtry\u001b[39;00m:\n\u001b[1;32m-> 1176\u001b[0m   \u001b[38;5;28;01mreturn\u001b[39;00m dispatch_target(\u001b[38;5;241m*\u001b[39margs, \u001b[38;5;241m*\u001b[39m\u001b[38;5;241m*\u001b[39mkwargs)\n\u001b[0;32m   1177\u001b[0m \u001b[38;5;28;01mexcept\u001b[39;00m (\u001b[38;5;167;01mTypeError\u001b[39;00m, \u001b[38;5;167;01mValueError\u001b[39;00m):\n\u001b[0;32m   1178\u001b[0m   \u001b[38;5;66;03m# Note: convert_to_eager_tensor currently raises a ValueError, not a\u001b[39;00m\n\u001b[0;32m   1179\u001b[0m   \u001b[38;5;66;03m# TypeError, when given unexpected types.  So we need to catch both.\u001b[39;00m\n\u001b[0;32m   1180\u001b[0m   result \u001b[38;5;241m=\u001b[39m dispatch(op_dispatch_handler, args, kwargs)\n",
      "File \u001b[1;32m~\\anaconda3\\lib\\site-packages\\tensorflow\\python\\ops\\math_ops.py:2313\u001b[0m, in \u001b[0;36mreduce_sum\u001b[1;34m(input_tensor, axis, keepdims, name)\u001b[0m\n\u001b[0;32m   2249\u001b[0m \u001b[38;5;129m@tf_export\u001b[39m(\u001b[38;5;124m\"\u001b[39m\u001b[38;5;124mmath.reduce_sum\u001b[39m\u001b[38;5;124m\"\u001b[39m, \u001b[38;5;124m\"\u001b[39m\u001b[38;5;124mreduce_sum\u001b[39m\u001b[38;5;124m\"\u001b[39m, v1\u001b[38;5;241m=\u001b[39m[])\n\u001b[0;32m   2250\u001b[0m \u001b[38;5;129m@dispatch\u001b[39m\u001b[38;5;241m.\u001b[39madd_dispatch_support\n\u001b[0;32m   2251\u001b[0m \u001b[38;5;28;01mdef\u001b[39;00m \u001b[38;5;21mreduce_sum\u001b[39m(input_tensor, axis\u001b[38;5;241m=\u001b[39m\u001b[38;5;28;01mNone\u001b[39;00m, keepdims\u001b[38;5;241m=\u001b[39m\u001b[38;5;28;01mFalse\u001b[39;00m, name\u001b[38;5;241m=\u001b[39m\u001b[38;5;28;01mNone\u001b[39;00m):\n\u001b[0;32m   2252\u001b[0m   \u001b[38;5;124;03m\"\"\"Computes the sum of elements across dimensions of a tensor.\u001b[39;00m\n\u001b[0;32m   2253\u001b[0m \n\u001b[0;32m   2254\u001b[0m \u001b[38;5;124;03m  This is the reduction operation for the elementwise `tf.math.add` op.\u001b[39;00m\n\u001b[1;32m   (...)\u001b[0m\n\u001b[0;32m   2309\u001b[0m \u001b[38;5;124;03m  @end_compatibility\u001b[39;00m\n\u001b[0;32m   2310\u001b[0m \u001b[38;5;124;03m  \"\"\"\u001b[39;00m\n\u001b[0;32m   2312\u001b[0m   \u001b[38;5;28;01mreturn\u001b[39;00m reduce_sum_with_dims(input_tensor, axis, keepdims, name,\n\u001b[1;32m-> 2313\u001b[0m                               \u001b[43m_ReductionDims\u001b[49m\u001b[43m(\u001b[49m\u001b[43minput_tensor\u001b[49m\u001b[43m,\u001b[49m\u001b[43m \u001b[49m\u001b[43maxis\u001b[49m\u001b[43m)\u001b[49m)\n",
      "File \u001b[1;32m~\\anaconda3\\lib\\site-packages\\tensorflow\\python\\ops\\math_ops.py:2153\u001b[0m, in \u001b[0;36m_ReductionDims\u001b[1;34m(x, axis)\u001b[0m\n\u001b[0;32m   2150\u001b[0m   \u001b[38;5;28;01mreturn\u001b[39;00m constant_op\u001b[38;5;241m.\u001b[39mconstant(np\u001b[38;5;241m.\u001b[39marange(x_rank, dtype\u001b[38;5;241m=\u001b[39mnp\u001b[38;5;241m.\u001b[39mint32))\n\u001b[0;32m   2151\u001b[0m \u001b[38;5;28;01melse\u001b[39;00m:\n\u001b[0;32m   2152\u001b[0m   \u001b[38;5;66;03m# Otherwise, we rely on Range and Rank to do the right thing at run-time.\u001b[39;00m\n\u001b[1;32m-> 2153\u001b[0m   \u001b[38;5;28;01mreturn\u001b[39;00m \u001b[38;5;28;43mrange\u001b[39;49m\u001b[43m(\u001b[49m\u001b[38;5;241;43m0\u001b[39;49m\u001b[43m,\u001b[49m\u001b[43m \u001b[49m\u001b[43marray_ops\u001b[49m\u001b[38;5;241;43m.\u001b[39;49m\u001b[43mrank\u001b[49m\u001b[43m(\u001b[49m\u001b[43mx\u001b[49m\u001b[43m)\u001b[49m\u001b[43m)\u001b[49m\n",
      "File \u001b[1;32m~\\anaconda3\\lib\\site-packages\\tensorflow\\python\\util\\traceback_utils.py:150\u001b[0m, in \u001b[0;36mfilter_traceback.<locals>.error_handler\u001b[1;34m(*args, **kwargs)\u001b[0m\n\u001b[0;32m    148\u001b[0m filtered_tb \u001b[38;5;241m=\u001b[39m \u001b[38;5;28;01mNone\u001b[39;00m\n\u001b[0;32m    149\u001b[0m \u001b[38;5;28;01mtry\u001b[39;00m:\n\u001b[1;32m--> 150\u001b[0m   \u001b[38;5;28;01mreturn\u001b[39;00m fn(\u001b[38;5;241m*\u001b[39margs, \u001b[38;5;241m*\u001b[39m\u001b[38;5;241m*\u001b[39mkwargs)\n\u001b[0;32m    151\u001b[0m \u001b[38;5;28;01mexcept\u001b[39;00m \u001b[38;5;167;01mException\u001b[39;00m \u001b[38;5;28;01mas\u001b[39;00m e:\n\u001b[0;32m    152\u001b[0m   filtered_tb \u001b[38;5;241m=\u001b[39m _process_traceback_frames(e\u001b[38;5;241m.\u001b[39m__traceback__)\n",
      "File \u001b[1;32m~\\anaconda3\\lib\\site-packages\\tensorflow\\python\\util\\dispatch.py:1176\u001b[0m, in \u001b[0;36madd_dispatch_support.<locals>.decorator.<locals>.op_dispatch_handler\u001b[1;34m(*args, **kwargs)\u001b[0m\n\u001b[0;32m   1174\u001b[0m \u001b[38;5;66;03m# Fallback dispatch system (dispatch v1):\u001b[39;00m\n\u001b[0;32m   1175\u001b[0m \u001b[38;5;28;01mtry\u001b[39;00m:\n\u001b[1;32m-> 1176\u001b[0m   \u001b[38;5;28;01mreturn\u001b[39;00m dispatch_target(\u001b[38;5;241m*\u001b[39margs, \u001b[38;5;241m*\u001b[39m\u001b[38;5;241m*\u001b[39mkwargs)\n\u001b[0;32m   1177\u001b[0m \u001b[38;5;28;01mexcept\u001b[39;00m (\u001b[38;5;167;01mTypeError\u001b[39;00m, \u001b[38;5;167;01mValueError\u001b[39;00m):\n\u001b[0;32m   1178\u001b[0m   \u001b[38;5;66;03m# Note: convert_to_eager_tensor currently raises a ValueError, not a\u001b[39;00m\n\u001b[0;32m   1179\u001b[0m   \u001b[38;5;66;03m# TypeError, when given unexpected types.  So we need to catch both.\u001b[39;00m\n\u001b[0;32m   1180\u001b[0m   result \u001b[38;5;241m=\u001b[39m dispatch(op_dispatch_handler, args, kwargs)\n",
      "File \u001b[1;32m~\\anaconda3\\lib\\site-packages\\tensorflow\\python\\ops\\math_ops.py:2124\u001b[0m, in \u001b[0;36mrange\u001b[1;34m(start, limit, delta, dtype, name)\u001b[0m\n\u001b[0;32m   2121\u001b[0m limit \u001b[38;5;241m=\u001b[39m cast(limit, inferred_dtype)\n\u001b[0;32m   2122\u001b[0m delta \u001b[38;5;241m=\u001b[39m cast(delta, inferred_dtype)\n\u001b[1;32m-> 2124\u001b[0m \u001b[38;5;28;01mreturn\u001b[39;00m \u001b[43mgen_math_ops\u001b[49m\u001b[38;5;241;43m.\u001b[39;49m\u001b[43m_range\u001b[49m\u001b[43m(\u001b[49m\u001b[43mstart\u001b[49m\u001b[43m,\u001b[49m\u001b[43m \u001b[49m\u001b[43mlimit\u001b[49m\u001b[43m,\u001b[49m\u001b[43m \u001b[49m\u001b[43mdelta\u001b[49m\u001b[43m,\u001b[49m\u001b[43m \u001b[49m\u001b[43mname\u001b[49m\u001b[38;5;241;43m=\u001b[39;49m\u001b[43mname\u001b[49m\u001b[43m)\u001b[49m\n",
      "File \u001b[1;32m~\\anaconda3\\lib\\site-packages\\tensorflow\\python\\ops\\gen_math_ops.py:7732\u001b[0m, in \u001b[0;36m_range\u001b[1;34m(start, limit, delta, name)\u001b[0m\n\u001b[0;32m   7730\u001b[0m \u001b[38;5;28;01mif\u001b[39;00m tld\u001b[38;5;241m.\u001b[39mis_eager:\n\u001b[0;32m   7731\u001b[0m   \u001b[38;5;28;01mtry\u001b[39;00m:\n\u001b[1;32m-> 7732\u001b[0m     _result \u001b[38;5;241m=\u001b[39m \u001b[43mpywrap_tfe\u001b[49m\u001b[38;5;241;43m.\u001b[39;49m\u001b[43mTFE_Py_FastPathExecute\u001b[49m\u001b[43m(\u001b[49m\n\u001b[0;32m   7733\u001b[0m \u001b[43m      \u001b[49m\u001b[43m_ctx\u001b[49m\u001b[43m,\u001b[49m\u001b[43m \u001b[49m\u001b[38;5;124;43m\"\u001b[39;49m\u001b[38;5;124;43mRange\u001b[39;49m\u001b[38;5;124;43m\"\u001b[39;49m\u001b[43m,\u001b[49m\u001b[43m \u001b[49m\u001b[43mname\u001b[49m\u001b[43m,\u001b[49m\u001b[43m \u001b[49m\u001b[43mstart\u001b[49m\u001b[43m,\u001b[49m\u001b[43m \u001b[49m\u001b[43mlimit\u001b[49m\u001b[43m,\u001b[49m\u001b[43m \u001b[49m\u001b[43mdelta\u001b[49m\u001b[43m)\u001b[49m\n\u001b[0;32m   7734\u001b[0m     \u001b[38;5;28;01mreturn\u001b[39;00m _result\n\u001b[0;32m   7735\u001b[0m   \u001b[38;5;28;01mexcept\u001b[39;00m _core\u001b[38;5;241m.\u001b[39m_NotOkStatusException \u001b[38;5;28;01mas\u001b[39;00m e:\n",
      "\u001b[1;31mKeyboardInterrupt\u001b[0m: "
     ]
    }
   ],
   "source": [
    "\n",
    "# Training the model\n",
    "summary = model.fit(train_smote_X, {'decoded': train_smote_X, 'regression_output': train_smote_Y, 'classification':imputed_y}, \n",
    "          validation_data=(testX, {'decoded': testX, 'regression_output': testY, 'classification':pcrtestY}),\n",
    "          epochs=200, batch_size=16)\n"
   ]
  },
  {
   "cell_type": "code",
   "execution_count": 71,
   "id": "d3464900-27be-4945-8cac-3249bfa8dcbc",
   "metadata": {},
   "outputs": [],
   "source": []
  },
  {
   "cell_type": "code",
   "execution_count": null,
   "id": "f2ca6100-d528-4103-b455-8e544e0f208e",
   "metadata": {},
   "outputs": [],
   "source": [
    "# Evaluate the model\n",
    "model.evaluate(X_test, {'regression_output': y_test_reg, 'classification_output': y_test_clf})"
   ]
  },
  {
   "cell_type": "markdown",
   "id": "7d312056-c5f3-46aa-a324-68b1d6d893ef",
   "metadata": {},
   "source": [
    "# RF with Linear regression post processor"
   ]
  },
  {
   "cell_type": "code",
   "execution_count": 183,
   "id": "e5958636-ec84-439f-bd9e-a4e3faa765b5",
   "metadata": {},
   "outputs": [],
   "source": [
    "from sklearn.metrics import mean_squared_error, mean_absolute_error, r2_score, balanced_accuracy_score\n"
   ]
  },
  {
   "cell_type": "code",
   "execution_count": 181,
   "id": "84ff21e5-e7e5-42e5-a25b-b02e7c8a0725",
   "metadata": {},
   "outputs": [
    {
     "data": {
      "text/plain": [
       "RandomForestRegressor()"
      ]
     },
     "execution_count": 181,
     "metadata": {},
     "output_type": "execute_result"
    }
   ],
   "source": [
    "regressor = RandomForestRegressor()\n",
    "regressor.fit(train_smote_X, train_smote_Y.ravel())"
   ]
  },
  {
   "cell_type": "code",
   "execution_count": 185,
   "id": "3946ecca-3869-4f59-baa2-8321bd610d8d",
   "metadata": {},
   "outputs": [
    {
     "name": "stdout",
     "output_type": "stream",
     "text": [
      "TEST METRICS\n",
      "MSE error: 0.04110539651418987\n",
      "MAE error: 0.15787932805039612\n",
      "R2 error: -0.029752665308014903\n",
      "\n",
      "TRAIN METRICS\n",
      "MSE error: 0.004699746059744034\n",
      "MAE error: 0.05440448943664831\n",
      "R2 error: 0.8678274721942817\n"
     ]
    }
   ],
   "source": [
    "\n",
    "\n",
    "predicted = regressor.predict(testX)\n",
    "test_mse_error = mean_squared_error(testY, predicted)\n",
    "test_mae_error = mean_absolute_error(testY, predicted)\n",
    "test_r2_error = r2_score(testY, predicted)\n",
    "print('TEST METRICS')\n",
    "print(f'MSE error: {test_mse_error}')\n",
    "print(f'MAE error: {test_mae_error}')\n",
    "print(f'R2 error: {test_r2_error}')\n",
    "print()\n",
    "predicted = regressor.predict(trainX)\n",
    "test_mse_error = mean_squared_error(trainY, predicted,)\n",
    "test_mae_error = mean_absolute_error(trainY, predicted)\n",
    "test_r2_error = r2_score(trainY, predicted)\n",
    "print('TRAIN METRICS')\n",
    "print(f'MSE error: {test_mse_error}')\n",
    "print(f'MAE error: {test_mae_error}')\n",
    "print(f'R2 error: {test_r2_error}')"
   ]
  },
  {
   "cell_type": "code",
   "execution_count": 187,
   "id": "04d7ca0d-4d0e-4468-89c4-b514c5035b0f",
   "metadata": {},
   "outputs": [
    {
     "data": {
      "text/plain": [
       "((80, 1), (320,))"
      ]
     },
     "execution_count": 187,
     "metadata": {},
     "output_type": "execute_result"
    }
   ],
   "source": [
    "testY.shape, predicted.shape"
   ]
  },
  {
   "cell_type": "code",
   "execution_count": 188,
   "id": "80d70126-88b8-40c6-b29d-54855b16c513",
   "metadata": {},
   "outputs": [
    {
     "data": {
      "image/png": "[encoded data removed]",
      "text/plain": [
       "<Figure size 720x720 with 1 Axes>"
      ]
     },
     "metadata": {
      "needs_background": "light"
     },
     "output_type": "display_data"
    }
   ],
   "source": [
    "# Calculate residuals\n",
    "predicted = regressor.predict(testX)\n",
    "\n",
    "residuals = testY.ravel() - predicted\n",
    "\n",
    "# Plot residuals\n",
    "plt.figure(figsize=(10,10))\n",
    "plt.scatter(testY.ravel(), residuals)\n",
    "plt.xlabel(\"Predicted Values\")\n",
    "plt.ylabel(\"Residuals\")\n",
    "plt.title(\"Residuals Plot\")\n",
    "plt.axhline(y=0, color='r', linestyle='--', label=\"Zero Residuals Line\")\n",
    "plt.legend()\n",
    "plt.show()"
   ]
  },
  {
   "cell_type": "code",
   "execution_count": 200,
   "id": "c61a79ff-6df3-4e9f-9d55-7a5d80a8f8e6",
   "metadata": {},
   "outputs": [
    {
     "data": {
      "image/png": "[encoded data removed]",
      "text/plain": [
       "<Figure size 720x720 with 1 Axes>"
      ]
     },
     "metadata": {
      "needs_background": "light"
     },
     "output_type": "display_data"
    }
   ],
   "source": [
    "# Calculate residuals\n",
    "train_predicted = regressor.predict(train_smote_X)\n",
    "\n",
    "train_residuals = train_smote_Y.ravel() - train_predicted\n",
    "\n",
    "# Plot residuals\n",
    "plt.figure(figsize=(10,10))\n",
    "plt.scatter(train_smote_Y.ravel(), train_residuals)\n",
    "plt.xlabel(\"Predicted Values\")\n",
    "plt.ylabel(\"Residuals\")\n",
    "plt.title(\"Residuals Plot\")\n",
    "plt.axhline(y=0, color='r', linestyle='--', label=\"Zero Residuals Line\")\n",
    "plt.legend()\n",
    "plt.show()"
   ]
  },
  {
   "cell_type": "code",
   "execution_count": 207,
   "id": "43c400db-7196-48e9-9bd9-d561ca0cb8a3",
   "metadata": {},
   "outputs": [
    {
     "data": {
      "image/png": "[encoded data removed]",
      "text/plain": [
       "<Figure size 720x720 with 1 Axes>"
      ]
     },
     "metadata": {
      "needs_background": "light"
     },
     "output_type": "display_data"
    }
   ],
   "source": [
    "\n",
    "# Plot residuals\n",
    "plt.figure(figsize=(10,10))\n",
    "plt.scatter(train_predicted, train_residuals)\n",
    "plt.xlabel(\"Predicted Values\")\n",
    "plt.ylabel(\"Residuals\")\n",
    "plt.title(\"Residuals Plot\")\n",
    "plt.axhline(y=0, color='r', linestyle='--', label=\"Zero Residuals Line\")\n",
    "plt.legend()\n",
    "plt.show()"
   ]
  },
  {
   "cell_type": "code",
   "execution_count": 189,
   "id": "69824fb5-1092-433b-9b1b-a5c0b7cadd6f",
   "metadata": {},
   "outputs": [
    {
     "data": {
      "text/plain": [
       "array([-0.12465376,  0.10984742,  0.19782864, -0.09555751, -0.10551643,\n",
       "       -0.16911385, -0.03712441,  0.31409038, -0.04497653, -0.40299296,\n",
       "       -0.15698944, -0.2915493 ,  0.04946009, -0.24297535, -0.02244131,\n",
       "       -0.16293427, -0.06940728, -0.20605047, -0.01149648,  0.08730634,\n",
       "        0.33371479, -0.31193662,  0.34362676,  0.17689554, -0.11394953,\n",
       "       -0.15187793, -0.04537559, -0.44107981,  0.27251761,  0.03599178,\n",
       "        0.03672535,  0.07468897, -0.19188967,  0.54921948,  0.12968897,\n",
       "        0.35805164,  0.01232394, -0.01701291,  0.34850352,  0.06312207,\n",
       "        0.53425469,  0.12527582, -0.43211854, -0.01840376, -0.00119131,\n",
       "       -0.0131338 , -0.21860329,  0.17963615,  0.01532864, -0.16805751,\n",
       "        0.13282864, -0.04447183,  0.15012324,  0.22491197,  0.07849178,\n",
       "       -0.18967136, -0.33896127, -0.19200117,  0.3478169 , -0.27318662,\n",
       "        0.0152054 ,  0.08188967,  0.08786385,  0.0643662 , -0.20170775,\n",
       "       -0.18798122, -0.07803404, -0.08110915, -0.05330986,  0.06179577,\n",
       "        0.07788732,  0.02809859,  0.18621479,  0.10894366,  0.07339789,\n",
       "        0.17090962, -0.09107981,  0.10599178,  0.2672946 ,  0.01829225])"
      ]
     },
     "execution_count": 189,
     "metadata": {},
     "output_type": "execute_result"
    }
   ],
   "source": [
    "residuals"
   ]
  },
  {
   "cell_type": "code",
   "execution_count": 191,
   "id": "2c494ffe-fabc-4026-9f6b-dc58dcc142d0",
   "metadata": {},
   "outputs": [],
   "source": [
    "import numpy as np\n",
    "import matplotlib.pyplot as plt\n",
    "from sklearn.linear_model import LinearRegression\n"
   ]
  },
  {
   "cell_type": "code",
   "execution_count": 203,
   "id": "9a6b9e05-43ec-44ae-aceb-622a7dae3b84",
   "metadata": {},
   "outputs": [
    {
     "data": {
      "text/plain": [
       "((494,), (494,))"
      ]
     },
     "execution_count": 203,
     "metadata": {},
     "output_type": "execute_result"
    }
   ],
   "source": [
    "train_residuals.shape, train_smote_Y.shape"
   ]
  },
  {
   "cell_type": "code",
   "execution_count": 208,
   "id": "64f6d284-9b32-4dcb-b384-3cad17b9e5cd",
   "metadata": {},
   "outputs": [
    {
     "data": {
      "image/png": "[encoded data removed]",
      "text/plain": [
       "<Figure size 432x288 with 1 Axes>"
      ]
     },
     "metadata": {
      "needs_background": "light"
     },
     "output_type": "display_data"
    }
   ],
   "source": [
    "\n",
    "# Generating some sample data for the single feature linear regression model\n",
    "# np.random.seed(0)\n",
    "# x = np.random.rand(100, 1) * 100  # 100 random points between 0 and 100\n",
    "# y = 3 * x + np.random.randn(100, 1) * 30  # A linear relationship with some noise\n",
    "\n",
    "# Creating and training the linear regression model\n",
    "model = LinearRegression()\n",
    "model.fit(train_predicted.reshape(-1, 1), train_residuals.reshape(-1, 1))\n",
    "\n",
    "# Predicting values for the training data\n",
    "y_pred = model.predict(train_predicted.reshape(-1, 1))\n",
    "\n",
    "# Plotting the data and the fitted model\n",
    "plt.scatter(train_predicted, train_residuals, color='blue', label='Data points')\n",
    "plt.plot(train_predicted, y_pred, color='red', label='Fitted line')\n",
    "plt.title('Linear Regression Model')\n",
    "plt.xlabel('Feature')\n",
    "plt.ylabel('Target')\n",
    "plt.legend()\n",
    "plt.show()"
   ]
  },
  {
   "cell_type": "code",
   "execution_count": 219,
   "id": "0ddcdcb4-fe31-4045-bf19-2ecc4ef1d608",
   "metadata": {},
   "outputs": [
    {
     "data": {
      "image/png": "[encoded data removed]",
      "text/plain": [
       "<Figure size 432x288 with 1 Axes>"
      ]
     },
     "metadata": {
      "needs_background": "light"
     },
     "output_type": "display_data"
    }
   ],
   "source": [
    " # Predicting values for the training data\n",
    "\n",
    "predicted = regressor.predict(testX)\n",
    "y_pred = model.predict(predicted.reshape(-1, 1))\n",
    "test_residuals = testY.ravel() - predicted\n",
    "\n",
    "# Plotting the data and the fitted model\n",
    "plt.scatter(predicted, test_residuals, color='blue', label='Data points')\n",
    "plt.plot(predicted, y_pred, color='red', label='Fitted line')\n",
    "plt.title('Linear Regression Model')\n",
    "plt.xlabel('Feature')\n",
    "plt.ylabel('Target')\n",
    "plt.legend()\n",
    "plt.show()"
   ]
  },
  {
   "cell_type": "code",
   "execution_count": 209,
   "id": "9a62144a-70eb-44ef-90ca-b17a47e3cbd7",
   "metadata": {},
   "outputs": [],
   "source": [
    "predicted = regressor.predict(testX)\n",
    "y_pred = model.predict(predicted.reshape(-1, 1))\n"
   ]
  },
  {
   "cell_type": "code",
   "execution_count": 212,
   "id": "60e9e69a-da38-4f84-b980-5a107e306e97",
   "metadata": {},
   "outputs": [
    {
     "data": {
      "text/plain": [
       "((80,), (80,))"
      ]
     },
     "execution_count": 212,
     "metadata": {},
     "output_type": "execute_result"
    }
   ],
   "source": [
    "predicted.shape, y_pred.ravel().shape"
   ]
  },
  {
   "cell_type": "code",
   "execution_count": 217,
   "id": "fac6b77d-35f5-4b0a-8671-f790a6b28a10",
   "metadata": {},
   "outputs": [],
   "source": [
    "pp_outs = predicted + y_pred.ravel()"
   ]
  },
  {
   "cell_type": "code",
   "execution_count": 218,
   "id": "b28f6fb5-a208-4b5a-93bc-b2cbe0009fee",
   "metadata": {},
   "outputs": [
    {
     "name": "stdout",
     "output_type": "stream",
     "text": [
      "TEST METRICS\n",
      "MSE error: 0.04443581369279065\n",
      "MAE error: 0.16592633098740536\n",
      "R2 error: -0.1131846780625414\n"
     ]
    }
   ],
   "source": [
    "\n",
    "\n",
    "test_mse_error = mean_squared_error(testY, pp_outs)\n",
    "test_mae_error = mean_absolute_error(testY, pp_outs)\n",
    "test_r2_error = r2_score(testY, pp_outs)\n",
    "print('TEST METRICS')\n",
    "print(f'MSE error: {test_mse_error}')\n",
    "print(f'MAE error: {test_mae_error}')\n",
    "print(f'R2 error: {test_r2_error}')"
   ]
  },
  {
   "cell_type": "code",
   "execution_count": 245,
   "id": "64639eef-51dd-449f-a930-9eb3cfcad835",
   "metadata": {
    "collapsed": true,
    "jupyter": {
     "outputs_hidden": true
    },
    "tags": []
   },
   "outputs": [
    {
     "data": {
      "text/plain": [
       "['ID',\n",
       " 'pcr',\n",
       " 'rfs',\n",
       " 'Age',\n",
       " 'ER',\n",
       " 'PgR',\n",
       " 'HER2',\n",
       " 'TrippleNegative',\n",
       " 'ChemoGrade',\n",
       " 'Proliferation',\n",
       " 'HistologyType',\n",
       " 'LNStatus',\n",
       " 'TumourStage',\n",
       " 'original_shape_Elongation',\n",
       " 'original_shape_Flatness',\n",
       " 'original_shape_LeastAxisLength',\n",
       " 'original_shape_MajorAxisLength',\n",
       " 'original_shape_Maximum2DDiameterColumn',\n",
       " 'original_shape_Maximum2DDiameterRow',\n",
       " 'original_shape_Maximum2DDiameterSlice',\n",
       " 'original_shape_Maximum3DDiameter',\n",
       " 'original_shape_MeshVolume',\n",
       " 'original_shape_MinorAxisLength',\n",
       " 'original_shape_Sphericity',\n",
       " 'original_shape_SurfaceArea',\n",
       " 'original_shape_SurfaceVolumeRatio',\n",
       " 'original_shape_VoxelVolume',\n",
       " 'original_firstorder_10Percentile',\n",
       " 'original_firstorder_90Percentile',\n",
       " 'original_firstorder_Energy',\n",
       " 'original_firstorder_Entropy',\n",
       " 'original_firstorder_InterquartileRange',\n",
       " 'original_firstorder_Kurtosis',\n",
       " 'original_firstorder_Maximum',\n",
       " 'original_firstorder_MeanAbsoluteDeviation',\n",
       " 'original_firstorder_Mean',\n",
       " 'original_firstorder_Median',\n",
       " 'original_firstorder_Minimum',\n",
       " 'original_firstorder_Range',\n",
       " 'original_firstorder_RobustMeanAbsoluteDeviation',\n",
       " 'original_firstorder_RootMeanSquared',\n",
       " 'original_firstorder_Skewness',\n",
       " 'original_firstorder_TotalEnergy',\n",
       " 'original_firstorder_Uniformity',\n",
       " 'original_firstorder_Variance',\n",
       " 'original_glcm_Autocorrelation',\n",
       " 'original_glcm_ClusterProminence',\n",
       " 'original_glcm_ClusterShade',\n",
       " 'original_glcm_ClusterTendency',\n",
       " 'original_glcm_Contrast',\n",
       " 'original_glcm_Correlation',\n",
       " 'original_glcm_DifferenceAverage',\n",
       " 'original_glcm_DifferenceEntropy',\n",
       " 'original_glcm_DifferenceVariance',\n",
       " 'original_glcm_Id',\n",
       " 'original_glcm_Idm',\n",
       " 'original_glcm_Idmn',\n",
       " 'original_glcm_Idn',\n",
       " 'original_glcm_Imc1',\n",
       " 'original_glcm_Imc2',\n",
       " 'original_glcm_InverseVariance',\n",
       " 'original_glcm_JointAverage',\n",
       " 'original_glcm_JointEnergy',\n",
       " 'original_glcm_JointEntropy',\n",
       " 'original_glcm_MCC',\n",
       " 'original_glcm_MaximumProbability',\n",
       " 'original_glcm_SumAverage',\n",
       " 'original_glcm_SumEntropy',\n",
       " 'original_glcm_SumSquares',\n",
       " 'original_gldm_DependenceEntropy',\n",
       " 'original_gldm_DependenceNonUniformity',\n",
       " 'original_gldm_DependenceNonUniformityNormalized',\n",
       " 'original_gldm_DependenceVariance',\n",
       " 'original_gldm_GrayLevelNonUniformity',\n",
       " 'original_gldm_GrayLevelVariance',\n",
       " 'original_gldm_HighGrayLevelEmphasis',\n",
       " 'original_gldm_LargeDependenceEmphasis',\n",
       " 'original_gldm_LargeDependenceHighGrayLevelEmphasis',\n",
       " 'original_gldm_LargeDependenceLowGrayLevelEmphasis',\n",
       " 'original_gldm_LowGrayLevelEmphasis',\n",
       " 'original_gldm_SmallDependenceEmphasis',\n",
       " 'original_gldm_SmallDependenceHighGrayLevelEmphasis',\n",
       " 'original_gldm_SmallDependenceLowGrayLevelEmphasis',\n",
       " 'original_glrlm_GrayLevelNonUniformity',\n",
       " 'original_glrlm_GrayLevelNonUniformityNormalized',\n",
       " 'original_glrlm_GrayLevelVariance',\n",
       " 'original_glrlm_HighGrayLevelRunEmphasis',\n",
       " 'original_glrlm_LongRunEmphasis',\n",
       " 'original_glrlm_LongRunHighGrayLevelEmphasis',\n",
       " 'original_glrlm_LongRunLowGrayLevelEmphasis',\n",
       " 'original_glrlm_LowGrayLevelRunEmphasis',\n",
       " 'original_glrlm_RunEntropy',\n",
       " 'original_glrlm_RunLengthNonUniformity',\n",
       " 'original_glrlm_RunLengthNonUniformityNormalized',\n",
       " 'original_glrlm_RunPercentage',\n",
       " 'original_glrlm_RunVariance',\n",
       " 'original_glrlm_ShortRunEmphasis',\n",
       " 'original_glrlm_ShortRunHighGrayLevelEmphasis',\n",
       " 'original_glrlm_ShortRunLowGrayLevelEmphasis',\n",
       " 'original_glszm_GrayLevelNonUniformity',\n",
       " 'original_glszm_GrayLevelNonUniformityNormalized',\n",
       " 'original_glszm_GrayLevelVariance',\n",
       " 'original_glszm_HighGrayLevelZoneEmphasis',\n",
       " 'original_glszm_LargeAreaEmphasis',\n",
       " 'original_glszm_LargeAreaHighGrayLevelEmphasis',\n",
       " 'original_glszm_LargeAreaLowGrayLevelEmphasis',\n",
       " 'original_glszm_LowGrayLevelZoneEmphasis',\n",
       " 'original_glszm_SizeZoneNonUniformity',\n",
       " 'original_glszm_SizeZoneNonUniformityNormalized',\n",
       " 'original_glszm_SmallAreaEmphasis',\n",
       " 'original_glszm_SmallAreaHighGrayLevelEmphasis',\n",
       " 'original_glszm_SmallAreaLowGrayLevelEmphasis',\n",
       " 'original_glszm_ZoneEntropy',\n",
       " 'original_glszm_ZonePercentage',\n",
       " 'original_glszm_ZoneVariance',\n",
       " 'original_ngtdm_Busyness',\n",
       " 'original_ngtdm_Coarseness',\n",
       " 'original_ngtdm_Complexity',\n",
       " 'original_ngtdm_Contrast',\n",
       " 'original_ngtdm_Strength']"
      ]
     },
     "execution_count": 245,
     "metadata": {},
     "output_type": "execute_result"
    }
   ],
   "source": [
    "list(og_df.columns)"
   ]
  },
  {
   "cell_type": "code",
   "execution_count": 249,
   "id": "afc873fc-b9e7-4b33-b5e3-695ad534ecc7",
   "metadata": {},
   "outputs": [],
   "source": [
    "gpt_chosen_columns = ['Age', 'ER', 'PgR', 'HER2', 'TrippleNegative', 'ChemoGrade', 'HistologyType',\n",
    "                     'LNStatus', 'TumourStage', 'original_shape_Elongation', 'Sphericity',\n",
    "                      'original_shape_Sphericity', 'original_firstorder_Entropy',\n",
    "                      'original_firstorder_Energy', 'pcr']\n",
    "\n",
    "personal_chosen = ['Age', 'ER', 'PgR', 'HER2', 'TrippleNegative', 'HistologyType',\n",
    "                     'LNStatus',  'original_shape_Elongation',\n",
    "                      'original_shape_Sphericity', 'original_firstorder_Entropy',\n",
    "                      'original_firstorder_Energy', 'pcr']"
   ]
  },
  {
   "cell_type": "code",
   "execution_count": 250,
   "id": "51cac139-08bf-4d87-bc2d-be539b88cbbc",
   "metadata": {},
   "outputs": [
    {
     "data": {
      "text/html": [
       "<div>\n",
       "<style scoped>\n",
       "    .dataframe tbody tr th:only-of-type {\n",
       "        vertical-align: middle;\n",
       "    }\n",
       "\n",
       "    .dataframe tbody tr th {\n",
       "        vertical-align: top;\n",
       "    }\n",
       "\n",
       "    .dataframe thead th {\n",
       "        text-align: right;\n",
       "    }\n",
       "</style>\n",
       "<table border=\"1\" class=\"dataframe\">\n",
       "  <thead>\n",
       "    <tr style=\"text-align: right;\">\n",
       "      <th></th>\n",
       "      <th>Age</th>\n",
       "      <th>ER</th>\n",
       "      <th>PgR</th>\n",
       "      <th>HER2</th>\n",
       "      <th>TrippleNegative</th>\n",
       "      <th>HistologyType</th>\n",
       "      <th>LNStatus</th>\n",
       "      <th>original_shape_Elongation</th>\n",
       "      <th>original_shape_Sphericity</th>\n",
       "      <th>original_firstorder_Entropy</th>\n",
       "      <th>original_firstorder_Energy</th>\n",
       "      <th>pcr</th>\n",
       "    </tr>\n",
       "  </thead>\n",
       "  <tbody>\n",
       "    <tr>\n",
       "      <th>0</th>\n",
       "      <td>41.0</td>\n",
       "      <td>0.0</td>\n",
       "      <td>0.0</td>\n",
       "      <td>0.0</td>\n",
       "      <td>1.0</td>\n",
       "      <td>1.0</td>\n",
       "      <td>1.0</td>\n",
       "      <td>0.813912</td>\n",
       "      <td>0.771675</td>\n",
       "      <td>0.738088</td>\n",
       "      <td>2897.689300</td>\n",
       "      <td>1.0</td>\n",
       "    </tr>\n",
       "    <tr>\n",
       "      <th>1</th>\n",
       "      <td>39.0</td>\n",
       "      <td>1.0</td>\n",
       "      <td>1.0</td>\n",
       "      <td>0.0</td>\n",
       "      <td>0.0</td>\n",
       "      <td>1.0</td>\n",
       "      <td>1.0</td>\n",
       "      <td>0.666118</td>\n",
       "      <td>0.603481</td>\n",
       "      <td>0.179893</td>\n",
       "      <td>41105.325100</td>\n",
       "      <td>0.0</td>\n",
       "    </tr>\n",
       "    <tr>\n",
       "      <th>2</th>\n",
       "      <td>31.0</td>\n",
       "      <td>0.0</td>\n",
       "      <td>0.0</td>\n",
       "      <td>0.0</td>\n",
       "      <td>1.0</td>\n",
       "      <td>1.0</td>\n",
       "      <td>0.0</td>\n",
       "      <td>0.645083</td>\n",
       "      <td>0.608183</td>\n",
       "      <td>0.136183</td>\n",
       "      <td>19774.948930</td>\n",
       "      <td>1.0</td>\n",
       "    </tr>\n",
       "    <tr>\n",
       "      <th>3</th>\n",
       "      <td>35.0</td>\n",
       "      <td>0.0</td>\n",
       "      <td>0.0</td>\n",
       "      <td>0.0</td>\n",
       "      <td>1.0</td>\n",
       "      <td>1.0</td>\n",
       "      <td>1.0</td>\n",
       "      <td>0.770842</td>\n",
       "      <td>0.474509</td>\n",
       "      <td>0.087137</td>\n",
       "      <td>72854.171510</td>\n",
       "      <td>0.0</td>\n",
       "    </tr>\n",
       "    <tr>\n",
       "      <th>4</th>\n",
       "      <td>61.0</td>\n",
       "      <td>1.0</td>\n",
       "      <td>0.0</td>\n",
       "      <td>0.0</td>\n",
       "      <td>0.0</td>\n",
       "      <td>1.0</td>\n",
       "      <td>0.0</td>\n",
       "      <td>0.861035</td>\n",
       "      <td>0.756228</td>\n",
       "      <td>0.183666</td>\n",
       "      <td>15697.309140</td>\n",
       "      <td>0.0</td>\n",
       "    </tr>\n",
       "    <tr>\n",
       "      <th>...</th>\n",
       "      <td>...</td>\n",
       "      <td>...</td>\n",
       "      <td>...</td>\n",
       "      <td>...</td>\n",
       "      <td>...</td>\n",
       "      <td>...</td>\n",
       "      <td>...</td>\n",
       "      <td>...</td>\n",
       "      <td>...</td>\n",
       "      <td>...</td>\n",
       "      <td>...</td>\n",
       "      <td>...</td>\n",
       "    </tr>\n",
       "    <tr>\n",
       "      <th>395</th>\n",
       "      <td>58.5</td>\n",
       "      <td>1.0</td>\n",
       "      <td>0.0</td>\n",
       "      <td>1.0</td>\n",
       "      <td>0.0</td>\n",
       "      <td>1.0</td>\n",
       "      <td>1.0</td>\n",
       "      <td>0.389439</td>\n",
       "      <td>0.574024</td>\n",
       "      <td>0.108749</td>\n",
       "      <td>21255.710020</td>\n",
       "      <td>0.0</td>\n",
       "    </tr>\n",
       "    <tr>\n",
       "      <th>396</th>\n",
       "      <td>34.3</td>\n",
       "      <td>0.0</td>\n",
       "      <td>0.0</td>\n",
       "      <td>0.0</td>\n",
       "      <td>1.0</td>\n",
       "      <td>1.0</td>\n",
       "      <td>0.0</td>\n",
       "      <td>0.915643</td>\n",
       "      <td>0.601545</td>\n",
       "      <td>0.699626</td>\n",
       "      <td>14484.595310</td>\n",
       "      <td>0.0</td>\n",
       "    </tr>\n",
       "    <tr>\n",
       "      <th>397</th>\n",
       "      <td>53.3</td>\n",
       "      <td>0.0</td>\n",
       "      <td>0.0</td>\n",
       "      <td>0.0</td>\n",
       "      <td>1.0</td>\n",
       "      <td>1.0</td>\n",
       "      <td>0.0</td>\n",
       "      <td>0.657236</td>\n",
       "      <td>0.670158</td>\n",
       "      <td>0.042800</td>\n",
       "      <td>4029.994702</td>\n",
       "      <td>0.0</td>\n",
       "    </tr>\n",
       "    <tr>\n",
       "      <th>398</th>\n",
       "      <td>68.8</td>\n",
       "      <td>1.0</td>\n",
       "      <td>0.0</td>\n",
       "      <td>0.0</td>\n",
       "      <td>0.0</td>\n",
       "      <td>1.0</td>\n",
       "      <td>1.0</td>\n",
       "      <td>0.890276</td>\n",
       "      <td>0.758747</td>\n",
       "      <td>0.379238</td>\n",
       "      <td>54652.156380</td>\n",
       "      <td>0.0</td>\n",
       "    </tr>\n",
       "    <tr>\n",
       "      <th>399</th>\n",
       "      <td>46.0</td>\n",
       "      <td>1.0</td>\n",
       "      <td>0.0</td>\n",
       "      <td>0.0</td>\n",
       "      <td>0.0</td>\n",
       "      <td>1.0</td>\n",
       "      <td>1.0</td>\n",
       "      <td>0.464971</td>\n",
       "      <td>0.491660</td>\n",
       "      <td>0.108759</td>\n",
       "      <td>15064.310640</td>\n",
       "      <td>0.0</td>\n",
       "    </tr>\n",
       "  </tbody>\n",
       "</table>\n",
       "<p>400 rows × 12 columns</p>\n",
       "</div>"
      ],
      "text/plain": [
       "      Age   ER  PgR  HER2  TrippleNegative  HistologyType  LNStatus  \\\n",
       "0    41.0  0.0  0.0   0.0              1.0            1.0       1.0   \n",
       "1    39.0  1.0  1.0   0.0              0.0            1.0       1.0   \n",
       "2    31.0  0.0  0.0   0.0              1.0            1.0       0.0   \n",
       "3    35.0  0.0  0.0   0.0              1.0            1.0       1.0   \n",
       "4    61.0  1.0  0.0   0.0              0.0            1.0       0.0   \n",
       "..    ...  ...  ...   ...              ...            ...       ...   \n",
       "395  58.5  1.0  0.0   1.0              0.0            1.0       1.0   \n",
       "396  34.3  0.0  0.0   0.0              1.0            1.0       0.0   \n",
       "397  53.3  0.0  0.0   0.0              1.0            1.0       0.0   \n",
       "398  68.8  1.0  0.0   0.0              0.0            1.0       1.0   \n",
       "399  46.0  1.0  0.0   0.0              0.0            1.0       1.0   \n",
       "\n",
       "     original_shape_Elongation  original_shape_Sphericity  \\\n",
       "0                     0.813912                   0.771675   \n",
       "1                     0.666118                   0.603481   \n",
       "2                     0.645083                   0.608183   \n",
       "3                     0.770842                   0.474509   \n",
       "4                     0.861035                   0.756228   \n",
       "..                         ...                        ...   \n",
       "395                   0.389439                   0.574024   \n",
       "396                   0.915643                   0.601545   \n",
       "397                   0.657236                   0.670158   \n",
       "398                   0.890276                   0.758747   \n",
       "399                   0.464971                   0.491660   \n",
       "\n",
       "     original_firstorder_Entropy  original_firstorder_Energy  pcr  \n",
       "0                       0.738088                 2897.689300  1.0  \n",
       "1                       0.179893                41105.325100  0.0  \n",
       "2                       0.136183                19774.948930  1.0  \n",
       "3                       0.087137                72854.171510  0.0  \n",
       "4                       0.183666                15697.309140  0.0  \n",
       "..                           ...                         ...  ...  \n",
       "395                     0.108749                21255.710020  0.0  \n",
       "396                     0.699626                14484.595310  0.0  \n",
       "397                     0.042800                 4029.994702  0.0  \n",
       "398                     0.379238                54652.156380  0.0  \n",
       "399                     0.108759                15064.310640  0.0  \n",
       "\n",
       "[400 rows x 12 columns]"
      ]
     },
     "execution_count": 250,
     "metadata": {},
     "output_type": "execute_result"
    }
   ],
   "source": [
    "imputed_df[personal_chosen]"
   ]
  },
  {
   "cell_type": "code",
   "execution_count": 258,
   "id": "846b9868-f30c-4413-a068-5194177e0db5",
   "metadata": {},
   "outputs": [],
   "source": [
    "\n",
    "for col in imputed_df[personal_chosen].columns:\n",
    "    if len(imputed_df[col].value_counts().index) > 2 and  len(imputed_df[col].value_counts().index) < 4:\n",
    "        print(col)"
   ]
  },
  {
   "cell_type": "code",
   "execution_count": null,
   "id": "983d6e53-d3fd-42d3-aaab-f6f0884e2422",
   "metadata": {},
   "outputs": [],
   "source": [
    "hand_imputed_df = get_cat_to_one_hot(imputed_df[personal_chosen], multi_cat_cols=multiclass_categorical_features)\n",
    "imputed_df.head()"
   ]
  },
  {
   "cell_type": "code",
   "execution_count": 251,
   "id": "30b040ff-0410-4628-a6d1-f3bca141dbe2",
   "metadata": {},
   "outputs": [],
   "source": [
    "trainX, testX, trainY, testY = train_test_split(imputed_df[personal_chosen], \n",
    "                                                imputed_df['rfs'], test_size=0.20)"
   ]
  },
  {
   "cell_type": "code",
   "execution_count": 252,
   "id": "3fdbc9e4-c703-49ed-b8ca-90b2beeb3ec9",
   "metadata": {},
   "outputs": [
    {
     "name": "stdout",
     "output_type": "stream",
     "text": [
      "TEST METRICS\n",
      "MSE error: 803.0920242123568\n",
      "MAE error: 21.97405208332875\n",
      "R2 error: -0.06554187403837886\n",
      "\n",
      "TRAIN METRICS\n",
      "MSE error: 113.10146489331882\n",
      "MAE error: 8.348455729145002\n",
      "R2 error: 0.8438155163163026\n"
     ]
    }
   ],
   "source": [
    "run_RF(trainX, testX, trainY, testY )"
   ]
  },
  {
   "cell_type": "code",
   "execution_count": 260,
   "id": "b2c33421-a95b-441d-843c-5100cc85f939",
   "metadata": {},
   "outputs": [],
   "source": [
    "features_to_bin = [\n",
    "    'original_shape_Elongation',\n",
    "    'original_shape_Sphericity',\n",
    "    'original_firstorder_Energy',\n",
    "    'original_firstorder_Entropy',\n",
    "    'original_firstorder_Kurtosis',\n",
    "    'original_firstorder_Skewness',\n",
    "    'original_glcm_Contrast',\n",
    "    'original_glcm_Correlation'\n",
    "]"
   ]
  },
  {
   "cell_type": "code",
   "execution_count": 265,
   "id": "ace7d96a-b770-4141-bc31-7a12b867a431",
   "metadata": {},
   "outputs": [],
   "source": [
    "f_in = []\n",
    "f_not = []\n",
    "for col in features_to_bin:\n",
    "    if col in list(imputed_df_reduced.columns):\n",
    "        f_in.append(col)\n",
    "    else:\n",
    "        f_not.append(col)"
   ]
  },
  {
   "cell_type": "code",
   "execution_count": 268,
   "id": "2b1a3b33-ca3c-4e1e-be10-c1979d8d449f",
   "metadata": {},
   "outputs": [],
   "source": [
    "ff_not = []\n",
    "for col in list(imputed_df_reduced.columns):\n",
    "    if col not in features_to_bin:\n",
    "        ff_not.append(col)"
   ]
  },
  {
   "cell_type": "code",
   "execution_count": 267,
   "id": "5c798499-b74c-4d3f-b6f4-f9800a08af7b",
   "metadata": {},
   "outputs": [
    {
     "name": "stdout",
     "output_type": "stream",
     "text": [
      "\n"
     ]
    },
    {
     "data": {
      "text/plain": [
       "(['original_shape_Sphericity',\n",
       "  'original_firstorder_Kurtosis',\n",
       "  'original_firstorder_Skewness'],\n",
       " None,\n",
       " ['original_shape_Elongation',\n",
       "  'original_firstorder_Energy',\n",
       "  'original_firstorder_Entropy',\n",
       "  'original_glcm_Contrast',\n",
       "  'original_glcm_Correlation'])"
      ]
     },
     "execution_count": 267,
     "metadata": {},
     "output_type": "execute_result"
    }
   ],
   "source": [
    "f_in, print(), f_not"
   ]
  },
  {
   "cell_type": "code",
   "execution_count": 269,
   "id": "0552fabd-243a-4f68-83fa-87070bf51c3e",
   "metadata": {},
   "outputs": [
    {
     "data": {
      "text/plain": [
       "['pcr',\n",
       " 'rfs',\n",
       " 'Age',\n",
       " 'ER',\n",
       " 'PgR',\n",
       " 'HER2',\n",
       " 'TrippleNegative',\n",
       " 'HistologyType',\n",
       " 'LNStatus',\n",
       " 'original_shape_Flatness',\n",
       " 'original_shape_MajorAxisLength',\n",
       " 'original_shape_SurfaceVolumeRatio',\n",
       " 'original_firstorder_90Percentile',\n",
       " 'original_firstorder_MeanAbsoluteDeviation',\n",
       " 'original_firstorder_Minimum',\n",
       " 'original_firstorder_Range',\n",
       " 'original_glcm_ClusterShade',\n",
       " 'original_glcm_MCC',\n",
       " 'original_gldm_DependenceEntropy',\n",
       " 'original_gldm_LargeDependenceHighGrayLevelEmphasis',\n",
       " 'original_gldm_LargeDependenceLowGrayLevelEmphasis',\n",
       " 'original_glrlm_LongRunLowGrayLevelEmphasis',\n",
       " 'original_glrlm_LowGrayLevelRunEmphasis',\n",
       " 'original_glrlm_RunLengthNonUniformity',\n",
       " 'original_glrlm_ShortRunHighGrayLevelEmphasis',\n",
       " 'original_glszm_LargeAreaLowGrayLevelEmphasis',\n",
       " 'original_glszm_LowGrayLevelZoneEmphasis',\n",
       " 'original_glszm_SizeZoneNonUniformity',\n",
       " 'original_glszm_SmallAreaHighGrayLevelEmphasis',\n",
       " 'original_glszm_ZoneEntropy',\n",
       " 'original_glszm_ZonePercentage',\n",
       " 'original_ngtdm_Busyness',\n",
       " 'original_ngtdm_Strength',\n",
       " 'ChemoGrade_1.0',\n",
       " 'ChemoGrade_2.0',\n",
       " 'Proliferation_2.0',\n",
       " 'Proliferation_3.0',\n",
       " 'TumourStage_1.0',\n",
       " 'TumourStage_2.0',\n",
       " 'TumourStage_3.0',\n",
       " 'TumourStage_4.0']"
      ]
     },
     "execution_count": 269,
     "metadata": {},
     "output_type": "execute_result"
    }
   ],
   "source": [
    "ff_not"
   ]
  },
  {
   "cell_type": "code",
   "execution_count": null,
   "id": "bed5254c-47f2-492c-ac42-b0bf7daafe7d",
   "metadata": {},
   "outputs": [],
   "source": [
    "def apply_binning(df, features_to_bin, num_bins=5):\n",
    "    binned_features = {}\n",
    "    for feature in features_to_bin:\n",
    "        if feature in df.columns:\n",
    "            binned_column_name = feature + '_binned'\n",
    "            df[binned_column_name] = pd.cut(df[feature], bins=num_bins, labels=False)\n",
    "            binned_features[feature] = binned_column_name\n",
    "        else:\n",
    "            print(f\"Feature '{feature}' not found in DataFrame\")\n",
    "    return df, binned_features"
   ]
  }
 ],
 "metadata": {
  "kernelspec": {
   "display_name": "Python 3 (ipykernel)",
   "language": "python",
   "name": "python3"
  },
  "language_info": {
   "codemirror_mode": {
    "name": "ipython",
    "version": 3
   },
   "file_extension": ".py",
   "mimetype": "text/x-python",
   "name": "python",
   "nbconvert_exporter": "python",
   "pygments_lexer": "ipython3",
   "version": "3.9.12"
  }
 },
 "nbformat": 4,
 "nbformat_minor": 5
}
