{
 "cells": [
  {
   "cell_type": "code",
   "execution_count": 1,
   "id": "dbba58bd-16b2-4649-aedb-15d6b5a65de3",
   "metadata": {},
   "outputs": [],
   "source": [
    "import pandas as pd\n",
    "from matplotlib import pyplot as plt\n",
    "import seaborn as sns\n",
    "from sklearn.preprocessing import OrdinalEncoder, StandardScaler\n",
    "from sklearn.model_selection import train_test_split, GridSearchCV\n",
    "from sklearn.metrics import mean_squared_error, mean_absolute_error, r2_score, balanced_accuracy_score\n",
    "from sklearn.preprocessing import StandardScaler, RobustScaler, Normalizer, MinMaxScaler\n",
    "import numpy as np\n",
    "import pickle\n",
    "from sklearn.impute import KNNImputer\n",
    "import imblearn\n",
    "from sklearn import metrics\n",
    "\n",
    "from utils.general_utils import get_outlier_info, get_outlier_val_counts\n",
    "from utils.saver_utils import save_normalizer, load_normalizer\n",
    "from utils.saver_utils import save_dataset, load_dataset "
   ]
  },
  {
   "cell_type": "code",
   "execution_count": 2,
   "id": "b04c95ce-fc80-4199-a41e-1ef203d3eee3",
   "metadata": {},
   "outputs": [],
   "source": [
    "from sklearn.ensemble import RandomForestClassifier\n",
    "from utils.general_utils import save_model\n",
    "from sklearn.model_selection import train_test_split, GridSearchCV,cross_val_score, RepeatedStratifiedKFold\n",
    "from sklearn.metrics import mean_squared_error, mean_absolute_error, r2_score, balanced_accuracy_score\n",
    "from sklearn.metrics import ConfusionMatrixDisplay, confusion_matrix\n",
    "from sklearn.metrics import f1_score, precision_score, recall_score\n",
    "from sklearn.metrics import classification_report\n",
    "from sklearn.cluster import DBSCAN\n",
    "from sklearn.ensemble import IsolationForest\n",
    "\n",
    "import imblearn\n",
    "from imblearn.pipeline import Pipeline\n",
    "\n",
    "from sklearn.manifold import TSNE # TSNE module\n",
    "from sklearn.decomposition import PCA"
   ]
  },
  {
   "cell_type": "code",
   "execution_count": 6,
   "id": "5d74375c-aa7f-45ac-a611-405721403ff1",
   "metadata": {},
   "outputs": [],
   "source": [
    "# datasetv2_save_path = \"dataset/dataset_v2\"\n",
    "# trainX, trainY, testX, testY = load_dataset(path=datasetv2_save_path)\n",
    "# scalerTrainX = load_normalizer(path=datasetv2_save_path, task='classification')"
   ]
  },
  {
   "cell_type": "code",
   "execution_count": 3,
   "id": "6ba5bba8-d43d-45a0-8424-e01bf44fc87d",
   "metadata": {},
   "outputs": [],
   "source": [
    "def knn_impute(df, missing_val_indicator=999, int_col_index:list=[]):\n",
    "    \n",
    "    missing_vals = np.sum(df == missing_val_indicator)\n",
    "    missing_cols_valuecounts = missing_vals[missing_vals > 0]\n",
    "    impute_knn = KNNImputer(n_neighbors=3, missing_values=999)\n",
    "    imputed_arr = impute_knn.fit_transform(df.drop(columns=['ID']))\n",
    "    \n",
    "    for idx in int_col_index:\n",
    "        imputed_arr[:, idx] = np.rint(imputed_arr[:, idx])\n",
    "\n",
    "    imputed_df = pd.DataFrame.from_records(imputed_arr, columns=df.columns[1:])\n",
    "    \n",
    "    return imputed_df\n",
    "\n",
    "def get_cat_to_one_hot(df, multi_cat_cols):\n",
    "    df = pd.get_dummies(df, columns=multi_cat_cols)\n",
    "    \n",
    "    multi_category_variables = ['ChemoGrade_1.0', 'ChemoGrade_2.0', 'ChemoGrade_3.0', 'Proliferation_1.0', 'Proliferation_2.0',\n",
    "       'Proliferation_3.0', 'TumourStage_1.0', 'TumourStage_2.0', 'TumourStage_3.0', 'TumourStage_4.0']\n",
    "    \n",
    "    for column in multi_category_variables:\n",
    "        df[column] = df[column].astype(np.float32)\n",
    "        \n",
    "    return df\n",
    "    "
   ]
  },
  {
   "cell_type": "code",
   "execution_count": 4,
   "id": "139ef73d-e454-4b51-aa43-4f3784b1dca8",
   "metadata": {},
   "outputs": [],
   "source": [
    "og_df = pd.read_csv('dataset/TrainDataset2023.csv')\n",
    "og_df.rename(columns={'pCR (outcome)': 'pcr', 'RelapseFreeSurvival (outcome)': 'rfs'}, inplace=True)\n",
    "\n",
    "\n",
    "int_col_mask = og_df.drop(columns=['ID']).dtypes == 'int64'\n",
    "categorical_features = list(og_df.drop(columns=['ID']).columns[int_col_mask])\n",
    "\n",
    "#Ignoring 'original_shape_VoxelVolume' because even though it is a int column it is not a categorical feature\n",
    "categorical_features.remove('original_shape_VoxelVolume')"
   ]
  },
  {
   "cell_type": "code",
   "execution_count": 7,
   "id": "76a86bab-8871-473c-b9df-1ce828a7c096",
   "metadata": {},
   "outputs": [],
   "source": [
    "\n",
    "int_col_index = [i for i, x in enumerate(np.array(int_col_mask)) if x]\n",
    "\n",
    "imputed_df = knn_impute(og_df, int_col_index = int_col_index)\n",
    "multiclass_categorical_features = []\n",
    "others = []\n",
    "\n",
    "for cat_col_name in categorical_features:\n",
    "    temp_len = len(imputed_df[cat_col_name].value_counts())\n",
    "    if temp_len > 2:\n",
    "        multiclass_categorical_features.append(cat_col_name)\n",
    "    else:\n",
    "        others.append(temp_len)\n",
    "\n",
    "multi_category_variables = ['ChemoGrade_1.0', 'ChemoGrade_2.0', 'ChemoGrade_3.0', 'Proliferation_1.0', 'Proliferation_2.0',\n",
    "       'Proliferation_3.0', 'TumourStage_1.0', 'TumourStage_2.0', 'TumourStage_3.0', 'TumourStage_4.0']\n",
    "\n",
    "categorical_features_labels = categorical_features + multi_category_variables\n",
    "temp_categorical_features_labels = categorical_features_labels\n",
    "\n",
    "# Removing multiclass_categorical_features because these features are \n",
    "# converted to one-hot encoding\n",
    "\n",
    "for col_name in multiclass_categorical_features:\n",
    "    temp_categorical_features_labels.remove(col_name)\n",
    "\n",
    "temp_categorical_features_labels.remove('pcr')\n",
    "\n"
   ]
  },
  {
   "cell_type": "code",
   "execution_count": 8,
   "id": "3fa3e007-de8f-4794-ad27-76452813fffe",
   "metadata": {},
   "outputs": [
    {
     "name": "stdout",
     "output_type": "stream",
     "text": [
      "NaN Columns : Index([], dtype='object')\n"
     ]
    }
   ],
   "source": [
    "\n",
    "imputed_df = get_cat_to_one_hot(imputed_df, multi_cat_cols=multiclass_categorical_features)\n",
    "imputed_df.head()\n",
    "\n",
    "\n",
    "nan_cols = imputed_df.columns[imputed_df.isnull().sum() > 0]\n",
    "\n",
    "print(f'NaN Columns : {nan_cols}')\n",
    "if len(nan_cols) > 0:\n",
    "    imputed_df.drop(columns=nan_cols, inplace=True)\n"
   ]
  },
  {
   "cell_type": "code",
   "execution_count": 9,
   "id": "f78039e1-7017-4c49-8015-562e148cd063",
   "metadata": {},
   "outputs": [],
   "source": [
    "\n",
    "\n",
    "target = 'pcr'\n",
    "\n",
    "# Ignoring RFS too, because we decided to keep RFS as RFS and PCR are related and often used clinically for analysis\n",
    "correlation_matrix = imputed_df.drop(columns=['rfs', 'pcr']).corr()\n",
    "\n",
    "\n",
    "# Level 1 Correlation, comparing all the features as a pair exhaustively\n",
    "high_corr_threshold = 0.8\n",
    "high_corr_pairs = []\n",
    "\n",
    "for i in range(len(correlation_matrix.columns)):\n",
    "    for j in range(i):\n",
    "        if abs(correlation_matrix.iloc[i, j]) > high_corr_threshold:\n",
    "            colname = correlation_matrix.columns[i]\n",
    "            high_corr_pairs.append((correlation_matrix.columns[j], colname))\n",
    "\n",
    "\n",
    "# Level 2 correlation, from the pair of highly correlated features remove only those which are less correlated with target variable\n",
    "features_to_remove = set()\n",
    "for pair in high_corr_pairs:\n",
    "    if abs(imputed_df[pair[0]].corr(imputed_df[target])) > abs(imputed_df[pair[1]].corr(imputed_df[target])):\n",
    "        features_to_remove.add(pair[1])\n",
    "    else:\n",
    "        features_to_remove.add(pair[0])\n",
    "\n",
    "# Dropping the selected features\n",
    "imputed_df_reduced = imputed_df.drop(columns=features_to_remove)\n"
   ]
  },
  {
   "cell_type": "code",
   "execution_count": 10,
   "id": "98d26920-587c-413b-969a-238e96f5f2ae",
   "metadata": {},
   "outputs": [],
   "source": [
    "train, test = train_test_split(imputed_df_reduced, test_size=0.20)\n"
   ]
  },
  {
   "cell_type": "code",
   "execution_count": 11,
   "id": "d3c7c73d-0f62-4dbf-bc6c-510def51edf5",
   "metadata": {},
   "outputs": [],
   "source": [
    "\n",
    "categorical_cols = []\n",
    "for col in imputed_df_reduced.drop(columns=['pcr', 'rfs']):\n",
    "    temp_count = len(imputed_df_reduced[col].value_counts().index)\n",
    "    if temp_count < 3:\n",
    "        categorical_cols.append(col)\n",
    "\n",
    "        \n"
   ]
  },
  {
   "cell_type": "markdown",
   "id": "9803633c-3cbd-4a47-8357-50dc0df91e91",
   "metadata": {},
   "source": [
    "# Processing Continous and Categorical variable separately"
   ]
  },
  {
   "cell_type": "code",
   "execution_count": 13,
   "id": "3cbb410c-dc53-4309-b6d7-bb9ff0060879",
   "metadata": {},
   "outputs": [],
   "source": [
    "trainX_df = train.drop(columns=['pcr'])\n",
    "trainY_df = train['pcr']\n",
    "\n",
    "testX_df = test.drop(columns=['pcr'])\n",
    "testY_df = test['pcr']\n",
    "\n",
    "#'ChemoGrade_2.0'\n",
    "multi_category_variables = ['ChemoGrade_1.0', 'Proliferation_2.0',\n",
    "       'Proliferation_3.0', 'TumourStage_1.0', 'TumourStage_2.0', 'TumourStage_3.0', 'TumourStage_4.0']\n",
    "\n",
    "categorical_features_labels = ['ER', 'PgR', 'LNStatus', 'HER2', 'HistologyType', 'TrippleNegative'] + multi_category_variables\n",
    "\n",
    "continous_features_labels = imputed_df_reduced.drop(columns=categorical_features_labels + ['pcr']).columns\n"
   ]
  },
  {
   "cell_type": "code",
   "execution_count": 14,
   "id": "75bdb164-32a0-4b5e-b898-399cb6557c4d",
   "metadata": {},
   "outputs": [],
   "source": [
    "trainX_continous_feature_array = trainX_df[continous_features_labels].to_numpy()\n",
    "testX_continous_feature_array = testX_df[continous_features_labels].to_numpy()\n",
    "\n",
    "\n",
    "scalerTrainX = MinMaxScaler()\n",
    "scalerTrainY = MinMaxScaler()\n",
    "\n",
    "\n",
    "trainX_cont_X = scalerTrainX.fit_transform(trainX_continous_feature_array)\n",
    "testX_cont_X = scalerTrainX.transform(testX_continous_feature_array)\n",
    "\n",
    "trainX_cat_X = train[categorical_features_labels].to_numpy()\n",
    "testX_cat_X = test[categorical_features_labels].to_numpy()\n",
    "\n",
    "\n",
    "trainX = np.hstack((trainX_cat_X, trainX_cont_X))   \n",
    "testX = np.hstack((testX_cat_X, testX_cont_X))              \n",
    "\n",
    "trainY = scalerTrainY.fit_transform(train['pcr'].to_numpy().reshape(-1, 1))\n",
    "# pcrtrainY = train['pcr'].to_numpy().reshape(-1, 1)\n",
    "\n",
    "testY = scalerTrainY.transform(test['pcr'].to_numpy().reshape(-1, 1))\n",
    "# pcrtestY = test['pcr'].to_numpy().reshape(-1, 1)"
   ]
  },
  {
   "cell_type": "code",
   "execution_count": 15,
   "id": "f1a6ece1-0ab9-48f1-a513-48be6f301806",
   "metadata": {},
   "outputs": [
    {
     "data": {
      "text/plain": [
       "((320, 44), (80, 44), (320, 1), (80, 1))"
      ]
     },
     "execution_count": 15,
     "metadata": {},
     "output_type": "execute_result"
    }
   ],
   "source": [
    "trainX.shape, testX.shape, trainY.shape, testY.shape"
   ]
  },
  {
   "cell_type": "code",
   "execution_count": null,
   "id": "06bcca72-44da-4104-8084-399aa08e103b",
   "metadata": {},
   "outputs": [],
   "source": []
  },
  {
   "cell_type": "markdown",
   "id": "5a353a38-7402-49d4-9e4e-2fb4f1c04fe9",
   "metadata": {},
   "source": [
    "## Training with Isolation Forest"
   ]
  },
  {
   "cell_type": "code",
   "execution_count": 16,
   "id": "6ae7e7ce-bb96-4fbe-9880-608c00da8e2f",
   "metadata": {},
   "outputs": [],
   "source": [
    "train_negative_pcr_data = trainX[(trainY == 0).ravel()]\n",
    "train_positive_pcr_data = trainX[(trainY == 1).ravel()]\n",
    "\n",
    "test_negative_pcr_data = testX[(testY == 0).ravel()]\n",
    "test_positive_pcr_data = testX[(testY == 1).ravel()]"
   ]
  },
  {
   "cell_type": "code",
   "execution_count": 17,
   "id": "4502140f-476f-4051-a12d-ce0bd0005563",
   "metadata": {},
   "outputs": [
    {
     "name": "stdout",
     "output_type": "stream",
     "text": [
      "True contamination % : 0.2125\n"
     ]
    }
   ],
   "source": [
    "print(f'True contamination % : {len(train_positive_pcr_data)/(len(train_negative_pcr_data) + len(train_positive_pcr_data))}')"
   ]
  },
  {
   "cell_type": "markdown",
   "id": "6ed12880-57ee-4ddb-9917-f8d051cea0ed",
   "metadata": {},
   "source": [
    "# Training the Isolation Forest on the majority class with Contamination as 0.05\n"
   ]
  },
  {
   "cell_type": "code",
   "execution_count": 18,
   "id": "aa3352a5-4f44-472f-b1d2-14f85729bdc3",
   "metadata": {},
   "outputs": [
    {
     "data": {
      "text/plain": [
       "IsolationForest(contamination=0.05)"
      ]
     },
     "execution_count": 18,
     "metadata": {},
     "output_type": "execute_result"
    }
   ],
   "source": [
    "isolation_anomaly_det = IsolationForest(contamination=0.05)  \n",
    "isolation_anomaly_det.fit(train_negative_pcr_data)"
   ]
  },
  {
   "cell_type": "code",
   "execution_count": 19,
   "id": "c20530db-c262-4e27-8150-e36e9ad79ef8",
   "metadata": {},
   "outputs": [],
   "source": [
    "test_neg_preds = isolation_anomaly_det.predict(test_negative_pcr_data)"
   ]
  },
  {
   "cell_type": "code",
   "execution_count": 20,
   "id": "3e6b5137-9072-4de7-863a-8f9cd610b316",
   "metadata": {},
   "outputs": [
    {
     "name": "stdout",
     "output_type": "stream",
     "text": [
      "Test Normal data:\n",
      "              precision    recall  f1-score   support\n",
      "\n",
      "           0       1.00      0.98      0.99        64\n",
      "           1       0.00      0.00      0.00         0\n",
      "\n",
      "    accuracy                           0.98        64\n",
      "   macro avg       0.50      0.49      0.50        64\n",
      "weighted avg       1.00      0.98      0.99        64\n",
      "\n"
     ]
    }
   ],
   "source": [
    "# Evaluate the model's performance\n",
    "print(\"Test Normal data:\")\n",
    "print(classification_report([0] * len(test_negative_pcr_data), (test_neg_preds == -1).astype(int),\n",
    "                           zero_division = 0))"
   ]
  },
  {
   "cell_type": "code",
   "execution_count": 21,
   "id": "72540a3e-71bd-4cd0-b47f-211cca89e448",
   "metadata": {},
   "outputs": [
    {
     "name": "stdout",
     "output_type": "stream",
     "text": [
      "Test Normal data:\n",
      "              precision    recall  f1-score   support\n",
      "\n",
      "           0       1.00      0.98      0.99        64\n",
      "           1       0.00      0.00      0.00         0\n",
      "\n",
      "    accuracy                           0.98        64\n",
      "   macro avg       0.50      0.49      0.50        64\n",
      "weighted avg       1.00      0.98      0.99        64\n",
      "\n"
     ]
    }
   ],
   "source": [
    "# Evaluate the model's performance\n",
    "print(\"Test Normal data:\")\n",
    "print(classification_report([0] * len(test_negative_pcr_data), (test_neg_preds == -1).astype(int),\n",
    "                           zero_division = 0))"
   ]
  },
  {
   "cell_type": "code",
   "execution_count": 22,
   "id": "e59160f5-1f5b-4f2c-b749-f4889049e6ab",
   "metadata": {},
   "outputs": [],
   "source": [
    "test_pos_preds = isolation_anomaly_det.predict(test_positive_pcr_data)"
   ]
  },
  {
   "cell_type": "code",
   "execution_count": 23,
   "id": "e6bd8540-f633-424e-8d29-ce37a748b3bb",
   "metadata": {},
   "outputs": [
    {
     "name": "stdout",
     "output_type": "stream",
     "text": [
      "Test Anomaly data\n",
      "              precision    recall  f1-score   support\n",
      "\n",
      "           0       0.00      0.00      0.00         0\n",
      "           1       1.00      0.88      0.93        16\n",
      "\n",
      "    accuracy                           0.88        16\n",
      "   macro avg       0.50      0.44      0.47        16\n",
      "weighted avg       1.00      0.88      0.93        16\n",
      "\n"
     ]
    }
   ],
   "source": [
    "# Evaluate the model's performance\n",
    "print(\"Test Anomaly data\")\n",
    "print(classification_report([1] * len(test_positive_pcr_data), (test_pos_preds == 1).astype(int),\n",
    "                            zero_division = 0))"
   ]
  },
  {
   "cell_type": "code",
   "execution_count": 24,
   "id": "a9288902-eabf-4d6d-93bc-1d97d32c7978",
   "metadata": {},
   "outputs": [],
   "source": [
    "train_pos_preds = isolation_anomaly_det.predict(train_positive_pcr_data)"
   ]
  },
  {
   "cell_type": "code",
   "execution_count": 25,
   "id": "9d8681ce-551f-438b-b4e8-448afd7c5281",
   "metadata": {},
   "outputs": [
    {
     "name": "stdout",
     "output_type": "stream",
     "text": [
      "Train Anamoly Set:\n",
      "              precision    recall  f1-score   support\n",
      "\n",
      "           0       0.00      0.00      0.00         0\n",
      "           1       1.00      0.94      0.97        68\n",
      "\n",
      "    accuracy                           0.94        68\n",
      "   macro avg       0.50      0.47      0.48        68\n",
      "weighted avg       1.00      0.94      0.97        68\n",
      "\n"
     ]
    }
   ],
   "source": [
    "# Evaluate the model's performance\n",
    "print(\"Train Anamoly Set:\")\n",
    "print(classification_report([1] * len(train_positive_pcr_data), (train_pos_preds == 1).astype(int),\n",
    "                           zero_division = 0))"
   ]
  },
  {
   "cell_type": "markdown",
   "id": "33c5f0ac-2061-4018-8a3e-9567482d80ca",
   "metadata": {},
   "source": [
    "# Final Report on testing Isolation Forest"
   ]
  },
  {
   "cell_type": "code",
   "execution_count": 26,
   "id": "ce193836-8d49-4eff-9882-a30c5aba5aaf",
   "metadata": {},
   "outputs": [],
   "source": [
    "test_preds = np.concatenate(((test_neg_preds == -1).astype(int),(test_pos_preds == 1).astype(int)))\n",
    "true_labels_concat = np.concatenate((([0] * len(test_negative_pcr_data)), ([1] * len(test_positive_pcr_data))))"
   ]
  },
  {
   "cell_type": "code",
   "execution_count": 27,
   "id": "2bf4dd0b-5c99-4f82-9fb5-ef4b10fe2130",
   "metadata": {},
   "outputs": [
    {
     "name": "stdout",
     "output_type": "stream",
     "text": [
      "Balanced classification accuracy : 0.9296875\n",
      "\n",
      "              precision    recall  f1-score   support\n",
      "\n",
      "           0       0.97      0.98      0.98        64\n",
      "           1       0.93      0.88      0.90        16\n",
      "\n",
      "    accuracy                           0.96        80\n",
      "   macro avg       0.95      0.93      0.94        80\n",
      "weighted avg       0.96      0.96      0.96        80\n",
      "\n"
     ]
    },
    {
     "data": {
      "image/png": "[encoded data removed]",
      "text/plain": [
       "<Figure size 432x288 with 2 Axes>"
      ]
     },
     "metadata": {
      "needs_background": "light"
     },
     "output_type": "display_data"
    }
   ],
   "source": [
    "test_bas_error = balanced_accuracy_score(true_labels_concat, test_preds)\n",
    "print(f'Balanced classification accuracy : {test_bas_error}')\n",
    "\n",
    "print()\n",
    "\n",
    "print(classification_report(true_labels_concat, test_preds))\n",
    "\n",
    "confusion_matrix = metrics.confusion_matrix(true_labels_concat, test_preds)\n",
    "\n",
    "cm_display = metrics.ConfusionMatrixDisplay(confusion_matrix = confusion_matrix, display_labels = [0, 1])\n",
    "cm_display.plot(cmap=plt.cm.Blues)\n",
    "plt.show()"
   ]
  },
  {
   "cell_type": "markdown",
   "id": "75e1e563-f099-423f-9b04-b1e4dca78a04",
   "metadata": {},
   "source": [
    "# Testing Isolation FOrest with various Parameters"
   ]
  },
  {
   "cell_type": "code",
   "execution_count": 28,
   "id": "e9842e8b-8fcf-4e61-b121-6a4d9b678c94",
   "metadata": {},
   "outputs": [
    {
     "data": {
      "text/plain": [
       "IsolationForest()"
      ]
     },
     "execution_count": 28,
     "metadata": {},
     "output_type": "execute_result"
    }
   ],
   "source": [
    "# Training the Isolation Forest on the majority class\n",
    "isolation_anomaly_det = IsolationForest()  \n",
    "isolation_anomaly_det.fit(train_negative_pcr_data)"
   ]
  },
  {
   "cell_type": "code",
   "execution_count": 29,
   "id": "37438e61-d9db-4f32-873a-936e7d10bbeb",
   "metadata": {},
   "outputs": [],
   "source": [
    "test_pos_preds = isolation_anomaly_det.predict(test_positive_pcr_data)\n",
    "test_neg_preds = isolation_anomaly_det.predict(test_negative_pcr_data)"
   ]
  },
  {
   "cell_type": "code",
   "execution_count": 30,
   "id": "a135f4d8-2ad5-472c-91bd-f9e9bc563346",
   "metadata": {},
   "outputs": [],
   "source": [
    "test_preds = np.concatenate(((test_neg_preds == -1).astype(int),(test_pos_preds == 1).astype(int)))\n",
    "true_labels_concat = np.concatenate((([0] * len(test_negative_pcr_data)), ([1] * len(test_positive_pcr_data))))"
   ]
  },
  {
   "cell_type": "code",
   "execution_count": 31,
   "id": "2a46d40a-46b1-4d88-95dd-ad794003aa0f",
   "metadata": {},
   "outputs": [
    {
     "name": "stdout",
     "output_type": "stream",
     "text": [
      "Balanced classification accuracy : 0.84375\n",
      "\n",
      "              precision    recall  f1-score   support\n",
      "\n",
      "           0       0.94      0.94      0.94        64\n",
      "           1       0.75      0.75      0.75        16\n",
      "\n",
      "    accuracy                           0.90        80\n",
      "   macro avg       0.84      0.84      0.84        80\n",
      "weighted avg       0.90      0.90      0.90        80\n",
      "\n"
     ]
    },
    {
     "data": {
      "image/png": "[encoded data removed]",
      "text/plain": [
       "<Figure size 432x288 with 2 Axes>"
      ]
     },
     "metadata": {
      "needs_background": "light"
     },
     "output_type": "display_data"
    }
   ],
   "source": [
    "test_bas_error = balanced_accuracy_score(true_labels_concat, test_preds)\n",
    "print(f'Balanced classification accuracy : {test_bas_error}')\n",
    "\n",
    "print()\n",
    "\n",
    "print(classification_report(true_labels_concat, test_preds))\n",
    "\n",
    "confusion_matrix = metrics.confusion_matrix(true_labels_concat, test_preds)\n",
    "\n",
    "cm_display = metrics.ConfusionMatrixDisplay(confusion_matrix = confusion_matrix,\n",
    "                                            display_labels = [0, 1])\n",
    "cm_display.plot(cmap=plt.cm.Blues)\n",
    "plt.show()"
   ]
  },
  {
   "cell_type": "code",
   "execution_count": 32,
   "id": "cc4d7bc4-267a-4f27-802d-70768f5c5d41",
   "metadata": {},
   "outputs": [],
   "source": [
    "isolation_parameter_grid = np.linspace(0.05, 0.25, num=20)"
   ]
  },
  {
   "cell_type": "code",
   "execution_count": 33,
   "id": "fd2cd3b9-12b5-4b67-b677-1d40618133e2",
   "metadata": {},
   "outputs": [],
   "source": [
    "metrics_dict = {}\n",
    "for param in isolation_parameter_grid:\n",
    "    isolation_anomaly_det = IsolationForest(contamination=param)  \n",
    "    isolation_anomaly_det.fit(train_negative_pcr_data)\n",
    "    \n",
    "    test_pos_preds = isolation_anomaly_det.predict(test_positive_pcr_data)\n",
    "    test_neg_preds = isolation_anomaly_det.predict(test_negative_pcr_data)\n",
    "    \n",
    "    test_preds = np.concatenate(((test_neg_preds == -1).astype(int),(test_pos_preds == 1).astype(int)))\n",
    "    true_labels_concat = np.concatenate((([0] * len(test_negative_pcr_data)), ([1] * len(test_positive_pcr_data))))\n",
    "    \n",
    "    metrics_dict[param] = balanced_accuracy_score(true_labels_concat, test_preds)\n",
    "    "
   ]
  },
  {
   "cell_type": "code",
   "execution_count": 34,
   "id": "f7a5d4ed-ed7b-41af-93b3-9febd357d78f",
   "metadata": {},
   "outputs": [
    {
     "data": {
      "image/png": "[encoded data removed]",
      "text/plain": [
       "<Figure size 504x504 with 1 Axes>"
      ]
     },
     "metadata": {
      "needs_background": "light"
     },
     "output_type": "display_data"
    }
   ],
   "source": [
    "plt.figure(figsize = (7,7))\n",
    "plt.plot(metrics_dict.keys(), metrics_dict.values())\n",
    "plt.title('Decay of Balanced classification accuracy with respective to Contamination Parameter')\n",
    "plt.show()"
   ]
  },
  {
   "cell_type": "markdown",
   "id": "caa91853-1e7c-4d49-b743-1db76cc8155e",
   "metadata": {},
   "source": [
    "# TODO\n",
    "1. Identify what happens if we decrease contamination more than we expect in the dataset"
   ]
  },
  {
   "cell_type": "code",
   "execution_count": null,
   "id": "ae6aad14-f989-4954-a487-bfb2142c2b5e",
   "metadata": {},
   "outputs": [],
   "source": []
  }
 ],
 "metadata": {
  "kernelspec": {
   "display_name": "Python 3 (ipykernel)",
   "language": "python",
   "name": "python3"
  },
  "language_info": {
   "codemirror_mode": {
    "name": "ipython",
    "version": 3
   },
   "file_extension": ".py",
   "mimetype": "text/x-python",
   "name": "python",
   "nbconvert_exporter": "python",
   "pygments_lexer": "ipython3",
   "version": "3.9.12"
  }
 },
 "nbformat": 4,
 "nbformat_minor": 5
}
