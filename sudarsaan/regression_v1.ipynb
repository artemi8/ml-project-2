{
 "cells": [
  {
   "cell_type": "code",
   "execution_count": 1,
   "id": "5c876c64-f67f-4961-b50a-3aea3e5e9361",
   "metadata": {},
   "outputs": [],
   "source": [
    "import pandas as pd\n",
    "from matplotlib import pyplot as plt\n",
    "import seaborn as sns\n",
    "from sklearn.preprocessing import OrdinalEncoder, StandardScaler, RobustScaler, Normalizer, MinMaxScaler\n",
    "from sklearn.model_selection import train_test_split, GridSearchCV\n",
    "from sklearn.metrics import mean_squared_error, mean_absolute_error, r2_score, balanced_accuracy_score, make_scorer\n",
    "import numpy as np\n",
    "import pickle\n",
    "from sklearn.impute import KNNImputer\n",
    "import imblearn\n",
    "from sklearn import metrics\n",
    "\n",
    "from sklearn.ensemble import RandomForestRegressor, HistGradientBoostingRegressor\n",
    "from utils.general_utils import save_model\n",
    "from sklearn.model_selection import train_test_split, GridSearchCV,cross_val_score, RepeatedStratifiedKFold\n",
    "from sklearn.metrics import mean_squared_error, mean_absolute_error, r2_score, balanced_accuracy_score\n",
    "import imblearn\n",
    "from imblearn.pipeline import Pipeline\n",
    "\n",
    "from sklearn.manifold import TSNE # TSNE module\n",
    "from sklearn.decomposition import PCA\n",
    "\n",
    "\n",
    "\n",
    "from utils.general_utils import get_outlier_info, get_outlier_val_counts, clean_outliers\n",
    "from utils.saver_utils import save_normalizer, load_normalizer\n",
    "from utils.saver_utils import save_dataset, load_dataset "
   ]
  },
  {
   "cell_type": "code",
   "execution_count": 2,
   "id": "f0273e71-efd3-4f99-aa34-bf82d16c342a",
   "metadata": {},
   "outputs": [],
   "source": [
    "from scipy import stats"
   ]
  },
  {
   "cell_type": "code",
   "execution_count": 3,
   "id": "c9bd48ef-6476-4d19-a909-499864e305b8",
   "metadata": {},
   "outputs": [
    {
     "data": {
      "text/html": [
       "<div>\n",
       "<style scoped>\n",
       "    .dataframe tbody tr th:only-of-type {\n",
       "        vertical-align: middle;\n",
       "    }\n",
       "\n",
       "    .dataframe tbody tr th {\n",
       "        vertical-align: top;\n",
       "    }\n",
       "\n",
       "    .dataframe thead th {\n",
       "        text-align: right;\n",
       "    }\n",
       "</style>\n",
       "<table border=\"1\" class=\"dataframe\">\n",
       "  <thead>\n",
       "    <tr style=\"text-align: right;\">\n",
       "      <th></th>\n",
       "      <th>pcr</th>\n",
       "      <th>rfs</th>\n",
       "      <th>Age</th>\n",
       "      <th>ER</th>\n",
       "      <th>PgR</th>\n",
       "      <th>LNStatus</th>\n",
       "      <th>original_shape_Elongation</th>\n",
       "      <th>original_shape_Flatness</th>\n",
       "      <th>original_shape_LeastAxisLength</th>\n",
       "      <th>original_shape_MajorAxisLength</th>\n",
       "      <th>...</th>\n",
       "      <th>ChemoGrade_1.0</th>\n",
       "      <th>ChemoGrade_2.0</th>\n",
       "      <th>ChemoGrade_3.0</th>\n",
       "      <th>Proliferation_1.0</th>\n",
       "      <th>Proliferation_2.0</th>\n",
       "      <th>Proliferation_3.0</th>\n",
       "      <th>TumourStage_1.0</th>\n",
       "      <th>TumourStage_2.0</th>\n",
       "      <th>TumourStage_3.0</th>\n",
       "      <th>TumourStage_4.0</th>\n",
       "    </tr>\n",
       "  </thead>\n",
       "  <tbody>\n",
       "    <tr>\n",
       "      <th>0</th>\n",
       "      <td>1.0</td>\n",
       "      <td>144.0</td>\n",
       "      <td>41.0</td>\n",
       "      <td>0.0</td>\n",
       "      <td>0.0</td>\n",
       "      <td>1.0</td>\n",
       "      <td>0.813912</td>\n",
       "      <td>0.724080</td>\n",
       "      <td>23.781937</td>\n",
       "      <td>32.844370</td>\n",
       "      <td>...</td>\n",
       "      <td>0.0</td>\n",
       "      <td>0.0</td>\n",
       "      <td>1.0</td>\n",
       "      <td>0.0</td>\n",
       "      <td>0.0</td>\n",
       "      <td>1.0</td>\n",
       "      <td>0.0</td>\n",
       "      <td>1.0</td>\n",
       "      <td>0.0</td>\n",
       "      <td>0.0</td>\n",
       "    </tr>\n",
       "    <tr>\n",
       "      <th>1</th>\n",
       "      <td>0.0</td>\n",
       "      <td>142.0</td>\n",
       "      <td>39.0</td>\n",
       "      <td>1.0</td>\n",
       "      <td>1.0</td>\n",
       "      <td>1.0</td>\n",
       "      <td>0.666118</td>\n",
       "      <td>0.476173</td>\n",
       "      <td>20.715461</td>\n",
       "      <td>43.504095</td>\n",
       "      <td>...</td>\n",
       "      <td>0.0</td>\n",
       "      <td>0.0</td>\n",
       "      <td>1.0</td>\n",
       "      <td>0.0</td>\n",
       "      <td>0.0</td>\n",
       "      <td>1.0</td>\n",
       "      <td>0.0</td>\n",
       "      <td>1.0</td>\n",
       "      <td>0.0</td>\n",
       "      <td>0.0</td>\n",
       "    </tr>\n",
       "    <tr>\n",
       "      <th>2</th>\n",
       "      <td>1.0</td>\n",
       "      <td>135.0</td>\n",
       "      <td>31.0</td>\n",
       "      <td>0.0</td>\n",
       "      <td>0.0</td>\n",
       "      <td>0.0</td>\n",
       "      <td>0.645083</td>\n",
       "      <td>0.594470</td>\n",
       "      <td>21.659822</td>\n",
       "      <td>36.435505</td>\n",
       "      <td>...</td>\n",
       "      <td>0.0</td>\n",
       "      <td>1.0</td>\n",
       "      <td>0.0</td>\n",
       "      <td>1.0</td>\n",
       "      <td>0.0</td>\n",
       "      <td>0.0</td>\n",
       "      <td>0.0</td>\n",
       "      <td>1.0</td>\n",
       "      <td>0.0</td>\n",
       "      <td>0.0</td>\n",
       "    </tr>\n",
       "    <tr>\n",
       "      <th>3</th>\n",
       "      <td>0.0</td>\n",
       "      <td>12.0</td>\n",
       "      <td>35.0</td>\n",
       "      <td>0.0</td>\n",
       "      <td>0.0</td>\n",
       "      <td>1.0</td>\n",
       "      <td>0.770842</td>\n",
       "      <td>0.501228</td>\n",
       "      <td>26.590504</td>\n",
       "      <td>53.050724</td>\n",
       "      <td>...</td>\n",
       "      <td>0.0</td>\n",
       "      <td>0.0</td>\n",
       "      <td>1.0</td>\n",
       "      <td>0.0</td>\n",
       "      <td>0.0</td>\n",
       "      <td>1.0</td>\n",
       "      <td>0.0</td>\n",
       "      <td>0.0</td>\n",
       "      <td>1.0</td>\n",
       "      <td>0.0</td>\n",
       "    </tr>\n",
       "    <tr>\n",
       "      <th>4</th>\n",
       "      <td>0.0</td>\n",
       "      <td>109.0</td>\n",
       "      <td>61.0</td>\n",
       "      <td>1.0</td>\n",
       "      <td>0.0</td>\n",
       "      <td>0.0</td>\n",
       "      <td>0.861035</td>\n",
       "      <td>0.750267</td>\n",
       "      <td>20.456571</td>\n",
       "      <td>27.265716</td>\n",
       "      <td>...</td>\n",
       "      <td>0.0</td>\n",
       "      <td>1.0</td>\n",
       "      <td>0.0</td>\n",
       "      <td>1.0</td>\n",
       "      <td>0.0</td>\n",
       "      <td>0.0</td>\n",
       "      <td>0.0</td>\n",
       "      <td>1.0</td>\n",
       "      <td>0.0</td>\n",
       "      <td>0.0</td>\n",
       "    </tr>\n",
       "  </tbody>\n",
       "</table>\n",
       "<p>5 rows × 62 columns</p>\n",
       "</div>"
      ],
      "text/plain": [
       "   pcr    rfs   Age   ER  PgR  LNStatus  original_shape_Elongation  \\\n",
       "0  1.0  144.0  41.0  0.0  0.0       1.0                   0.813912   \n",
       "1  0.0  142.0  39.0  1.0  1.0       1.0                   0.666118   \n",
       "2  1.0  135.0  31.0  0.0  0.0       0.0                   0.645083   \n",
       "3  0.0   12.0  35.0  0.0  0.0       1.0                   0.770842   \n",
       "4  0.0  109.0  61.0  1.0  0.0       0.0                   0.861035   \n",
       "\n",
       "   original_shape_Flatness  original_shape_LeastAxisLength  \\\n",
       "0                 0.724080                       23.781937   \n",
       "1                 0.476173                       20.715461   \n",
       "2                 0.594470                       21.659822   \n",
       "3                 0.501228                       26.590504   \n",
       "4                 0.750267                       20.456571   \n",
       "\n",
       "   original_shape_MajorAxisLength  ...  ChemoGrade_1.0  ChemoGrade_2.0  \\\n",
       "0                       32.844370  ...             0.0             0.0   \n",
       "1                       43.504095  ...             0.0             0.0   \n",
       "2                       36.435505  ...             0.0             1.0   \n",
       "3                       53.050724  ...             0.0             0.0   \n",
       "4                       27.265716  ...             0.0             1.0   \n",
       "\n",
       "   ChemoGrade_3.0  Proliferation_1.0  Proliferation_2.0  Proliferation_3.0  \\\n",
       "0             1.0                0.0                0.0                1.0   \n",
       "1             1.0                0.0                0.0                1.0   \n",
       "2             0.0                1.0                0.0                0.0   \n",
       "3             1.0                0.0                0.0                1.0   \n",
       "4             0.0                1.0                0.0                0.0   \n",
       "\n",
       "   TumourStage_1.0  TumourStage_2.0  TumourStage_3.0  TumourStage_4.0  \n",
       "0              0.0              1.0              0.0              0.0  \n",
       "1              0.0              1.0              0.0              0.0  \n",
       "2              0.0              1.0              0.0              0.0  \n",
       "3              0.0              0.0              1.0              0.0  \n",
       "4              0.0              1.0              0.0              0.0  \n",
       "\n",
       "[5 rows x 62 columns]"
      ]
     },
     "execution_count": 3,
     "metadata": {},
     "output_type": "execute_result"
    }
   ],
   "source": [
    "datasetv2_save_path = \"dataset/dataset_v2\"\n",
    "imputed_df = pd.read_csv(f'{datasetv2_save_path}/imputed_df.csv', index_col=0)\n",
    "imputed_df.head()"
   ]
  },
  {
   "cell_type": "code",
   "execution_count": 4,
   "id": "0a28640d-1251-46fe-9619-fafbdbf77d00",
   "metadata": {},
   "outputs": [],
   "source": [
    "train, test = train_test_split(imputed_df, test_size=0.20)"
   ]
  },
  {
   "cell_type": "code",
   "execution_count": 5,
   "id": "d4308f69-5802-4457-9bae-f957516af5cf",
   "metadata": {},
   "outputs": [],
   "source": [
    "multi_category_variables = ['ChemoGrade_1.0', 'ChemoGrade_2.0', 'ChemoGrade_3.0', 'Proliferation_1.0', 'Proliferation_2.0',\n",
    "       'Proliferation_3.0', 'TumourStage_1.0', 'TumourStage_2.0', 'TumourStage_3.0', 'TumourStage_4.0']\n",
    "\n",
    "categorical_features_labels = ['ER', 'PgR', 'LNStatus'] + multi_category_variables\n",
    "\n",
    "continous_features_labels = imputed_df.drop(columns=categorical_features_labels+['pcr', 'rfs']).columns"
   ]
  },
  {
   "cell_type": "code",
   "execution_count": 6,
   "id": "f22a9b72-fe0e-4832-9056-885941cd78f9",
   "metadata": {},
   "outputs": [],
   "source": [
    "train_continous_feature_array = train[continous_features_labels].to_numpy()\n",
    "\n",
    "test_continous_feature_array = test[continous_features_labels].to_numpy()"
   ]
  },
  {
   "cell_type": "code",
   "execution_count": 7,
   "id": "e7ff77a4-9f5e-45b6-843d-826315e10f18",
   "metadata": {},
   "outputs": [],
   "source": [
    "# scalerTrainX = StandardScaler()\n",
    "# scalerTrainY = StandardScaler()\n",
    "# scalerTrainX = RobustScaler()\n",
    "# scalerTrainY = RobustScaler()\n",
    "\n",
    "scalerTrainX = MinMaxScaler()\n",
    "scalerTrainY = MinMaxScaler()\n",
    "\n",
    "\n",
    "train_cont_X = scalerTrainX.fit_transform(train_continous_feature_array)\n",
    "train_cat_X = train[categorical_features_labels].to_numpy()\n",
    "trainX = np.hstack((train_cat_X, train_cont_X))\n",
    "                   \n",
    "trainY = scalerTrainY.fit_transform(train['rfs'].to_numpy().reshape(-1, 1))\n",
    "\n",
    "                   \n",
    "test_cont_X = scalerTrainX.transform(test_continous_feature_array)\n",
    "test_cat_X = test[categorical_features_labels].to_numpy()\n",
    "testX = np.hstack((test_cat_X, test_cont_X))\n",
    "                   \n",
    "testY = scalerTrainY.transform(test['rfs'].to_numpy().reshape(-1, 1))\n"
   ]
  },
  {
   "cell_type": "code",
   "execution_count": 8,
   "id": "e632fa0e-cd4a-4796-bf75-5405837580d2",
   "metadata": {},
   "outputs": [
    {
     "data": {
      "text/plain": [
       "((320, 60), (320, 1), (80, 60), (80, 1))"
      ]
     },
     "execution_count": 8,
     "metadata": {},
     "output_type": "execute_result"
    }
   ],
   "source": [
    "trainX.shape, trainY.shape, testX.shape, testY.shape"
   ]
  },
  {
   "cell_type": "code",
   "execution_count": 9,
   "id": "bd6d2160-2439-4a3a-8a75-30d81592643f",
   "metadata": {},
   "outputs": [
    {
     "data": {
      "image/png": "[encoded data removed]",
      "text/plain": [
       "<Figure size 720x432 with 2 Axes>"
      ]
     },
     "metadata": {
      "needs_background": "light"
     },
     "output_type": "display_data"
    }
   ],
   "source": [
    "fig, axes = plt.subplots(1,2, figsize=(10, 6))\n",
    "\n",
    "train['rfs'].plot(kind='hist', bins=15, ax=axes[0])\n",
    "test['rfs'].plot(kind='hist', bins=15, ax=axes[1])\n",
    "\n",
    "plt.show()"
   ]
  },
  {
   "cell_type": "code",
   "execution_count": null,
   "id": "ba427df0-7db1-4022-b470-cf418b47d63b",
   "metadata": {},
   "outputs": [],
   "source": [
    "# lower_outlier_gate, upper_outlier_gate = get_outlier_info(imputed_df['rfs'])\n",
    "# get_outlier_val_counts(imputed_df['rfs'], lower_outlier_gate, upper_outlier_gate)"
   ]
  },
  {
   "cell_type": "code",
   "execution_count": 14,
   "id": "7702df49-9b6f-4d25-9791-7f4336425eed",
   "metadata": {},
   "outputs": [],
   "source": [
    "# criterion = ['squared_error', 'friedman_mse', 'absolute_error', 'poisson']\n",
    "criterion = ['squared_error', 'absolute_error']\n",
    "max_depth = [10, 20, 30, 45, 50, 55, 60]\n",
    "min_samples_split  = [5, 6, 7, 8, 9, 10, 11, 12, 13]\n",
    "min_samples_leaf = [2, 3, 4, 5,6,7,8,9,]\n",
    "max_features = [10, 20, 30, 50, 60]\n",
    "\n",
    "parameters = dict(criterion=criterion, max_depth=max_depth, min_samples_split=min_samples_split,\n",
    "                  min_samples_leaf=min_samples_leaf, max_features=max_features)\n"
   ]
  },
  {
   "cell_type": "code",
   "execution_count": 22,
   "id": "040242e9-b252-47f5-9fdf-4d7915c4988b",
   "metadata": {},
   "outputs": [],
   "source": [
    "regressor = RandomForestRegressor(random_state=0)\n",
    "regrRF_GS = GridSearchCV(regressor, parameters, scoring=make_scorer(mean_absolute_error))"
   ]
  },
  {
   "cell_type": "code",
   "execution_count": 23,
   "id": "f0842620-3a13-4810-a1d1-a55fb57b1641",
   "metadata": {
    "collapsed": true,
    "jupyter": {
     "outputs_hidden": true
    },
    "tags": []
   },
   "outputs": [
    {
     "ename": "NameError",
     "evalue": "name 'clf_GS' is not defined",
     "output_type": "error",
     "traceback": [
      "\u001b[1;31m---------------------------------------------------------------------------\u001b[0m",
      "\u001b[1;31mNameError\u001b[0m                                 Traceback (most recent call last)",
      "Input \u001b[1;32mIn [23]\u001b[0m, in \u001b[0;36m<cell line: 3>\u001b[1;34m()\u001b[0m\n\u001b[0;32m      1\u001b[0m regrRF_GS\u001b[38;5;241m.\u001b[39mfit(trainX, trainY\u001b[38;5;241m.\u001b[39mravel())\n\u001b[1;32m----> 3\u001b[0m \u001b[38;5;28mprint\u001b[39m(\u001b[38;5;124m'\u001b[39m\u001b[38;5;124mBest Criterion:\u001b[39m\u001b[38;5;124m'\u001b[39m, \u001b[43mclf_GS\u001b[49m\u001b[38;5;241m.\u001b[39mbest_estimator_\u001b[38;5;241m.\u001b[39mget_params()[\u001b[38;5;124m'\u001b[39m\u001b[38;5;124mcriterion\u001b[39m\u001b[38;5;124m'\u001b[39m])\n\u001b[0;32m      4\u001b[0m \u001b[38;5;28mprint\u001b[39m(\u001b[38;5;124m'\u001b[39m\u001b[38;5;124mBest max_depth:\u001b[39m\u001b[38;5;124m'\u001b[39m, clf_GS\u001b[38;5;241m.\u001b[39mbest_estimator_\u001b[38;5;241m.\u001b[39mget_params()[\u001b[38;5;124m'\u001b[39m\u001b[38;5;124mmax_depth\u001b[39m\u001b[38;5;124m'\u001b[39m])\n\u001b[0;32m      5\u001b[0m \u001b[38;5;28mprint\u001b[39m(\u001b[38;5;124m'\u001b[39m\u001b[38;5;124mBest Number Of min_samples_leaf:\u001b[39m\u001b[38;5;124m'\u001b[39m, clf_GS\u001b[38;5;241m.\u001b[39mbest_estimator_\u001b[38;5;241m.\u001b[39mget_params()[\u001b[38;5;124m'\u001b[39m\u001b[38;5;124mmin_samples_leaf\u001b[39m\u001b[38;5;124m'\u001b[39m])\n",
      "\u001b[1;31mNameError\u001b[0m: name 'clf_GS' is not defined"
     ]
    }
   ],
   "source": [
    "regrRF_GS.fit(trainX, trainY.ravel())\n",
    "\n",
    "print('Best Criterion:', regrRF_GS.best_estimator_.get_params()['criterion'])\n",
    "print('Best max_depth:', regrRF_GS.best_estimator_.get_params()['max_depth'])\n",
    "print('Best Number Of min_samples_leaf:', regrRF_GS.best_estimator_.get_params()['min_samples_leaf'])\n",
    "print('Best Number Of min_samples_split:', regrRF_GS.best_estimator_.get_params()['min_samples_split'])"
   ]
  },
  {
   "cell_type": "code",
   "execution_count": 24,
   "id": "60e17307-4b0d-4d14-a501-67b83612ad52",
   "metadata": {},
   "outputs": [
    {
     "name": "stdout",
     "output_type": "stream",
     "text": [
      "Best Criterion: absolute_error\n",
      "Best max_depth: 10\n",
      "Best Number Of min_samples_leaf: 4\n",
      "Best Number Of min_samples_split: 5\n"
     ]
    }
   ],
   "source": [
    "print('Best Criterion:', regrRF_GS.best_estimator_.get_params()['criterion'])\n",
    "print('Best max_depth:', regrRF_GS.best_estimator_.get_params()['max_depth'])\n",
    "print('Best Number Of min_samples_leaf:', regrRF_GS.best_estimator_.get_params()['min_samples_leaf'])\n",
    "print('Best Number Of min_samples_split:', regrRF_GS.best_estimator_.get_params()['min_samples_split'])"
   ]
  },
  {
   "cell_type": "code",
   "execution_count": 10,
   "id": "e1892751-5b3e-4beb-912f-e8a7a1352a04",
   "metadata": {},
   "outputs": [],
   "source": [
    "best_params = {'bootstrap': True,\n",
    " 'ccp_alpha': 0.0,\n",
    " 'criterion': 'absolute_error',\n",
    " 'max_depth': 10,\n",
    " 'max_features': 20,\n",
    " 'max_leaf_nodes': None,\n",
    " 'max_samples': None,\n",
    " 'min_impurity_decrease': 0.0,\n",
    " 'min_samples_leaf': 4,\n",
    " 'min_samples_split': 5,\n",
    " 'min_weight_fraction_leaf': 0.0,\n",
    " 'n_estimators': 100,\n",
    " 'n_jobs': None,\n",
    " 'oob_score': False,\n",
    " 'random_state': 0,\n",
    " 'verbose': 0,\n",
    " 'warm_start': False}"
   ]
  },
  {
   "cell_type": "code",
   "execution_count": 11,
   "id": "70334ab3-4abb-47d1-91a6-bc7b9bc80809",
   "metadata": {},
   "outputs": [
    {
     "data": {
      "text/plain": [
       "RandomForestRegressor(criterion='absolute_error', max_depth=10, max_features=20,\n",
       "                      min_samples_leaf=4, min_samples_split=5, random_state=0)"
      ]
     },
     "execution_count": 11,
     "metadata": {},
     "output_type": "execute_result"
    }
   ],
   "source": [
    "regressor = RandomForestRegressor(**best_params)\n",
    "regressor.fit(trainX, trainY.ravel())"
   ]
  },
  {
   "cell_type": "code",
   "execution_count": 12,
   "id": "2880ca23-923a-41dc-bd45-645043a54a10",
   "metadata": {},
   "outputs": [
    {
     "name": "stdout",
     "output_type": "stream",
     "text": [
      "MSE error: 0.02706745449075203\n",
      "MAE error: 0.13543605324205293\n",
      "R2 error: -11.838156581098652\n"
     ]
    }
   ],
   "source": [
    "predicted = regressor.predict(testX)\n",
    "test_mse_error = mean_squared_error(predicted, testY)\n",
    "test_mae_error = mean_absolute_error(predicted, testY)\n",
    "test_r2_error = r2_score(predicted, testY)\n",
    "\n",
    "print(f'MSE error: {test_mse_error}')\n",
    "print(f'MAE error: {test_mae_error}')\n",
    "print(f'R2 error: {test_r2_error}')"
   ]
  },
  {
   "cell_type": "markdown",
   "id": "dc2237b4-a2b3-4f92-a186-60ee66ce6571",
   "metadata": {},
   "source": [
    "# PCA features"
   ]
  },
  {
   "cell_type": "code",
   "execution_count": 41,
   "id": "44ff6f9f-a1b4-412c-906d-017ee315cce6",
   "metadata": {},
   "outputs": [],
   "source": [
    "pca = PCA(n_components=6)\n",
    "pca_6d = pca.fit_transform(trainX)"
   ]
  },
  {
   "cell_type": "code",
   "execution_count": 42,
   "id": "174d1536-d1ac-46c9-84b7-1588e9f84c7e",
   "metadata": {},
   "outputs": [
    {
     "name": "stderr",
     "output_type": "stream",
     "text": [
      "[Parallel(n_jobs=1)]: Done  49 tasks      | elapsed:    0.0s\n"
     ]
    },
    {
     "data": {
      "text/plain": [
       "RandomForestRegressor(random_state=0, verbose=1)"
      ]
     },
     "execution_count": 42,
     "metadata": {},
     "output_type": "execute_result"
    }
   ],
   "source": [
    "regressor = RandomForestRegressor(random_state=0, verbose=1)\n",
    "regressor.fit(pca_6d, trainY.ravel())"
   ]
  },
  {
   "cell_type": "code",
   "execution_count": 43,
   "id": "90625526-68ce-464d-a645-4917c32122e9",
   "metadata": {},
   "outputs": [
    {
     "name": "stdout",
     "output_type": "stream",
     "text": [
      "MSE error: 0.8434375879196239\n",
      "MAE error: 0.7172646297280019\n",
      "R2 error: -6.169478558997657\n"
     ]
    },
    {
     "name": "stderr",
     "output_type": "stream",
     "text": [
      "[Parallel(n_jobs=1)]: Done  49 tasks      | elapsed:    0.0s\n"
     ]
    }
   ],
   "source": [
    "predicted = regressor.predict(pca.transform(testX))\n",
    "test_mse_error = mean_squared_error(predicted, testY)\n",
    "test_mae_error = mean_absolute_error(predicted, testY)\n",
    "test_r2_error = r2_score(predicted, testY)\n",
    "\n",
    "print(f'MSE error: {test_mse_error}')\n",
    "print(f'MAE error: {test_mae_error}')\n",
    "print(f'R2 error: {test_r2_error}')"
   ]
  },
  {
   "cell_type": "code",
   "execution_count": 28,
   "id": "7c21afd3-bb9c-4846-8e19-f0d3ad24cd17",
   "metadata": {},
   "outputs": [
    {
     "data": {
      "image/png": "[encoded data removed]",
      "text/plain": [
       "<Figure size 1080x504 with 1 Axes>"
      ]
     },
     "metadata": {
      "needs_background": "light"
     },
     "output_type": "display_data"
    }
   ],
   "source": [
    "plt.figure(figsize=(15,7))\n",
    "plt.plot(list(range(len(predicted))), predicted, color='orange', label='Predictions')\n",
    "plt.plot(list(range(len(predicted))), testY.flatten(), label='Ground Truth')\n",
    "plt.xlabel(\"Instances\")\n",
    "plt.ylabel(\"Predictions\")\n",
    "plt.legend()\n",
    "plt.show()"
   ]
  },
  {
   "cell_type": "markdown",
   "id": "342f0856-f7e2-49b7-afba-44963745d82c",
   "metadata": {},
   "source": [
    "# Lasso regression for feature selection"
   ]
  },
  {
   "cell_type": "code",
   "execution_count": 122,
   "id": "fb8b707a-5b24-4912-a430-67641973d0d7",
   "metadata": {},
   "outputs": [],
   "source": [
    "from sklearn.linear_model import Lasso"
   ]
  },
  {
   "cell_type": "code",
   "execution_count": 46,
   "id": "56508d2c-56c8-4d86-90ff-fc4256ed4c1d",
   "metadata": {},
   "outputs": [
    {
     "data": {
      "text/plain": [
       "{1e-15: 231, 1e-10: 232, 0.0001: 233, 0.001: 234, 0.01: 235, 5: 236}"
      ]
     },
     "execution_count": 46,
     "metadata": {},
     "output_type": "execute_result"
    }
   ],
   "source": [
    "models_to_plot = {1e-15:231, 1e-10:232, 1e-4:233, 1e-3:234, 1e-2:235, 5:236}\n",
    "models_to_plot"
   ]
  },
  {
   "cell_type": "code",
   "execution_count": 131,
   "id": "c1d469f2-731e-4c9a-9abf-5307e12aa672",
   "metadata": {},
   "outputs": [],
   "source": [
    "lassoX = imputed_df.drop(columns=['rfs', 'pcr']).to_numpy()\n",
    "lassoY = imputed_df['rfs'].to_numpy()"
   ]
  },
  {
   "cell_type": "code",
   "execution_count": 132,
   "id": "c6732ec6-eb62-45c2-88b7-fd74002276bc",
   "metadata": {},
   "outputs": [],
   "source": [
    "scalerLassoX = StandardScaler()\n",
    "scalerLassoY = StandardScaler()\n",
    "\n",
    "norm_lassoX = scalerLassoX.fit_transform(lassoX)                   \n",
    "norm_lassoY = scalerLassoY.fit_transform(lassoY.reshape(1,-1))\n"
   ]
  },
  {
   "cell_type": "code",
   "execution_count": 139,
   "id": "6336fd0b-7a2e-4cfb-9056-bc001bb0e48f",
   "metadata": {},
   "outputs": [
    {
     "data": {
      "image/png": "[encoded data removed]",
      "text/plain": [
       "<Figure size 720x432 with 1 Axes>"
      ]
     },
     "metadata": {
      "needs_background": "light"
     },
     "output_type": "display_data"
    }
   ],
   "source": [
    "\n",
    "plt.figure(figsize=(10, 6))\n",
    "\n",
    "plt.hist(lassoY, bins=20)\n",
    "plt.show()"
   ]
  },
  {
   "cell_type": "code",
   "execution_count": 133,
   "id": "35ecfc66-4058-4a2d-8964-d077efed5b26",
   "metadata": {},
   "outputs": [
    {
     "data": {
      "text/plain": [
       "((400, 60), (1, 400))"
      ]
     },
     "execution_count": 133,
     "metadata": {},
     "output_type": "execute_result"
    }
   ],
   "source": [
    "norm_lassoX.shape, norm_lassoY.shape"
   ]
  },
  {
   "cell_type": "code",
   "execution_count": 134,
   "id": "80dde8e8-86ee-4aa9-81bb-50338fb3c4fc",
   "metadata": {},
   "outputs": [
    {
     "name": "stderr",
     "output_type": "stream",
     "text": [
      "C:\\Users\\sudar\\anaconda3\\lib\\site-packages\\sklearn\\linear_model\\_coordinate_descent.py:647: ConvergenceWarning: Objective did not converge. You might want to increase the number of iterations, check the scale of the features or consider increasing regularisation. Duality gap: 0.000e+00, tolerance: 0.000e+00\n",
      "  model = cd_fast.enet_coordinate_descent(\n"
     ]
    },
    {
     "data": {
      "text/plain": [
       "Lasso(alpha=0.0001, max_iter=5000)"
      ]
     },
     "execution_count": 134,
     "metadata": {},
     "output_type": "execute_result"
    }
   ],
   "source": [
    "lasso1 = Lasso(alpha=0.0001, max_iter=5000)\n",
    "lasso1.fit(norm_lassoX, norm_lassoY.ravel())"
   ]
  },
  {
   "cell_type": "code",
   "execution_count": 120,
   "id": "064061b4-3cb4-4410-8ec7-47672915db12",
   "metadata": {},
   "outputs": [
    {
     "data": {
      "text/plain": [
       "array([0., 0., 0., 0., 0., 0., 0., 0., 0., 0., 0., 0., 0., 0., 0., 0., 0.,\n",
       "       0., 0., 0., 0., 0., 0., 0., 0., 0., 0., 0., 0., 0., 0., 0., 0., 0.,\n",
       "       0., 0., 0., 0., 0., 0., 0., 0., 0., 0., 0., 0., 0., 0., 0., 0., 0.,\n",
       "       0., 0., 0., 0., 0., 0., 0., 0., 0.])"
      ]
     },
     "execution_count": 120,
     "metadata": {},
     "output_type": "execute_result"
    }
   ],
   "source": [
    "lasso1.coef_"
   ]
  },
  {
   "cell_type": "code",
   "execution_count": 111,
   "id": "772ab4f4-4ec1-4420-97e0-877f2f147e03",
   "metadata": {},
   "outputs": [
    {
     "data": {
      "image/png": "[encoded data removed]",
      "text/plain": [
       "<Figure size 720x720 with 1 Axes>"
      ]
     },
     "metadata": {
      "needs_background": "light"
     },
     "output_type": "display_data"
    }
   ],
   "source": [
    "plt.figure(figsize=(10,10))\n",
    "plt.bar(imputed_df.drop(columns=['pcr','rfs']).columns, np.abs(lasso1.coef_))\n",
    "# plt.xticks(rotation=90)\n",
    "# plt.grid()\n",
    "# plt.title(\"Feature Selection Based on Lasso\")\n",
    "# plt.xlabel(\"Features\")\n",
    "# plt.ylabel(\"Importance\")\n",
    "plt.ylim(0, 0.5)\n",
    "plt.show()"
   ]
  },
  {
   "cell_type": "code",
   "execution_count": 56,
   "id": "5a323882-42a0-434e-b1fc-b36a1e477475",
   "metadata": {},
   "outputs": [
    {
     "data": {
      "text/plain": [
       "60"
      ]
     },
     "execution_count": 56,
     "metadata": {},
     "output_type": "execute_result"
    }
   ],
   "source": [
    "len(lasso1.coef_)"
   ]
  },
  {
   "cell_type": "code",
   "execution_count": 60,
   "id": "eb9b27f1-106f-44d4-aa7c-08286042cca1",
   "metadata": {},
   "outputs": [],
   "source": [
    "x_axis_features = imputed_df.drop(columns=['pcr','rfs']).columns"
   ]
  },
  {
   "cell_type": "code",
   "execution_count": 62,
   "id": "7e533bdd-ff01-4122-91b4-926c249fb7e6",
   "metadata": {},
   "outputs": [
    {
     "data": {
      "text/plain": [
       "Index(['Age'], dtype='object')"
      ]
     },
     "execution_count": 62,
     "metadata": {},
     "output_type": "execute_result"
    }
   ],
   "source": []
  },
  {
   "cell_type": "code",
   "execution_count": 58,
   "id": "4db3379f-2653-4848-9cf2-fe0f58530acc",
   "metadata": {},
   "outputs": [
    {
     "data": {
      "text/plain": [
       "array([0.58532608, 1.23567999, 0.63321825, 0.71311202, 0.77236411,\n",
       "       0.4719844 ])"
      ]
     },
     "execution_count": 58,
     "metadata": {},
     "output_type": "execute_result"
    }
   ],
   "source": [
    "lasso1.coef_[lasso1.coef_ > 0.45]"
   ]
  },
  {
   "cell_type": "markdown",
   "id": "e35cfaf9-e922-472c-a1bd-bce13f64b3fd",
   "metadata": {},
   "source": [
    "# Selecting features which has importance more than 0.45 in Lasso regression"
   ]
  },
  {
   "cell_type": "code",
   "execution_count": 82,
   "id": "3909f3aa-32cd-4625-99a6-162880c9fa56",
   "metadata": {},
   "outputs": [],
   "source": [
    "lasso_selected_features = x_axis_features[np.abs(lasso1.coef_) > 0.45]"
   ]
  },
  {
   "cell_type": "code",
   "execution_count": 83,
   "id": "47ec54eb-7090-45ad-b1a8-a853ca4c3964",
   "metadata": {},
   "outputs": [],
   "source": [
    "lasso_selected_features = list(lasso_selected_features)\n",
    "lasso_selected_features.append('rfs')"
   ]
  },
  {
   "cell_type": "code",
   "execution_count": 84,
   "id": "fd537583-bb5e-4f10-87ff-95de67ad910a",
   "metadata": {
    "collapsed": true,
    "jupyter": {
     "outputs_hidden": true
    },
    "tags": []
   },
   "outputs": [
    {
     "data": {
      "text/plain": [
       "['original_shape_SurfaceVolumeRatio',\n",
       " 'original_firstorder_10Percentile',\n",
       " 'original_firstorder_90Percentile',\n",
       " 'original_firstorder_Skewness',\n",
       " 'original_glcm_Autocorrelation',\n",
       " 'original_glrlm_LongRunEmphasis',\n",
       " 'original_glszm_GrayLevelNonUniformityNormalized',\n",
       " 'original_glszm_LargeAreaLowGrayLevelEmphasis',\n",
       " 'original_glszm_SmallAreaEmphasis',\n",
       " 'original_glszm_ZoneEntropy',\n",
       " 'rfs']"
      ]
     },
     "execution_count": 84,
     "metadata": {},
     "output_type": "execute_result"
    }
   ],
   "source": [
    "lasso_selected_features"
   ]
  },
  {
   "cell_type": "code",
   "execution_count": 85,
   "id": "e05cd29c-fdd6-42f4-8878-25be06771388",
   "metadata": {},
   "outputs": [],
   "source": [
    "lasso_selected_df = imputed_df[lasso_selected_features]"
   ]
  },
  {
   "cell_type": "code",
   "execution_count": 86,
   "id": "091f6bd9-717f-4a8a-9d1e-8406d82a2d30",
   "metadata": {},
   "outputs": [
    {
     "data": {
      "text/html": [
       "<div>\n",
       "<style scoped>\n",
       "    .dataframe tbody tr th:only-of-type {\n",
       "        vertical-align: middle;\n",
       "    }\n",
       "\n",
       "    .dataframe tbody tr th {\n",
       "        vertical-align: top;\n",
       "    }\n",
       "\n",
       "    .dataframe thead th {\n",
       "        text-align: right;\n",
       "    }\n",
       "</style>\n",
       "<table border=\"1\" class=\"dataframe\">\n",
       "  <thead>\n",
       "    <tr style=\"text-align: right;\">\n",
       "      <th></th>\n",
       "      <th>original_shape_SurfaceVolumeRatio</th>\n",
       "      <th>original_firstorder_10Percentile</th>\n",
       "      <th>original_firstorder_90Percentile</th>\n",
       "      <th>original_firstorder_Skewness</th>\n",
       "      <th>original_glcm_Autocorrelation</th>\n",
       "      <th>original_glrlm_LongRunEmphasis</th>\n",
       "      <th>original_glszm_GrayLevelNonUniformityNormalized</th>\n",
       "      <th>original_glszm_LargeAreaLowGrayLevelEmphasis</th>\n",
       "      <th>original_glszm_SmallAreaEmphasis</th>\n",
       "      <th>original_glszm_ZoneEntropy</th>\n",
       "      <th>rfs</th>\n",
       "    </tr>\n",
       "  </thead>\n",
       "  <tbody>\n",
       "    <tr>\n",
       "      <th>0</th>\n",
       "      <td>0.258736</td>\n",
       "      <td>-0.163500</td>\n",
       "      <td>0.708860</td>\n",
       "      <td>0.386237</td>\n",
       "      <td>3.328814</td>\n",
       "      <td>36.191087</td>\n",
       "      <td>0.834711</td>\n",
       "      <td>1.170667e+06</td>\n",
       "      <td>0.403535</td>\n",
       "      <td>3.325332</td>\n",
       "      <td>144.0</td>\n",
       "    </tr>\n",
       "    <tr>\n",
       "      <th>1</th>\n",
       "      <td>0.330900</td>\n",
       "      <td>0.665558</td>\n",
       "      <td>2.322627</td>\n",
       "      <td>-0.634246</td>\n",
       "      <td>3.934749</td>\n",
       "      <td>109.743182</td>\n",
       "      <td>0.975313</td>\n",
       "      <td>6.010027e+05</td>\n",
       "      <td>0.444391</td>\n",
       "      <td>3.032144</td>\n",
       "      <td>142.0</td>\n",
       "    </tr>\n",
       "    <tr>\n",
       "      <th>2</th>\n",
       "      <td>0.359083</td>\n",
       "      <td>0.638035</td>\n",
       "      <td>1.961740</td>\n",
       "      <td>0.545105</td>\n",
       "      <td>3.955045</td>\n",
       "      <td>100.817995</td>\n",
       "      <td>0.973338</td>\n",
       "      <td>3.905040e+05</td>\n",
       "      <td>0.534549</td>\n",
       "      <td>2.485848</td>\n",
       "      <td>135.0</td>\n",
       "    </tr>\n",
       "    <tr>\n",
       "      <th>3</th>\n",
       "      <td>0.340781</td>\n",
       "      <td>0.759496</td>\n",
       "      <td>2.164869</td>\n",
       "      <td>-0.792678</td>\n",
       "      <td>3.973627</td>\n",
       "      <td>125.498739</td>\n",
       "      <td>0.980394</td>\n",
       "      <td>1.751932e+06</td>\n",
       "      <td>0.506185</td>\n",
       "      <td>2.606255</td>\n",
       "      <td>12.0</td>\n",
       "    </tr>\n",
       "    <tr>\n",
       "      <th>4</th>\n",
       "      <td>0.309200</td>\n",
       "      <td>0.434385</td>\n",
       "      <td>1.832410</td>\n",
       "      <td>-0.732889</td>\n",
       "      <td>3.933264</td>\n",
       "      <td>110.775276</td>\n",
       "      <td>0.966112</td>\n",
       "      <td>3.222760e+05</td>\n",
       "      <td>0.462282</td>\n",
       "      <td>2.809279</td>\n",
       "      <td>109.0</td>\n",
       "    </tr>\n",
       "  </tbody>\n",
       "</table>\n",
       "</div>"
      ],
      "text/plain": [
       "   original_shape_SurfaceVolumeRatio  original_firstorder_10Percentile  \\\n",
       "0                           0.258736                         -0.163500   \n",
       "1                           0.330900                          0.665558   \n",
       "2                           0.359083                          0.638035   \n",
       "3                           0.340781                          0.759496   \n",
       "4                           0.309200                          0.434385   \n",
       "\n",
       "   original_firstorder_90Percentile  original_firstorder_Skewness  \\\n",
       "0                          0.708860                      0.386237   \n",
       "1                          2.322627                     -0.634246   \n",
       "2                          1.961740                      0.545105   \n",
       "3                          2.164869                     -0.792678   \n",
       "4                          1.832410                     -0.732889   \n",
       "\n",
       "   original_glcm_Autocorrelation  original_glrlm_LongRunEmphasis  \\\n",
       "0                       3.328814                       36.191087   \n",
       "1                       3.934749                      109.743182   \n",
       "2                       3.955045                      100.817995   \n",
       "3                       3.973627                      125.498739   \n",
       "4                       3.933264                      110.775276   \n",
       "\n",
       "   original_glszm_GrayLevelNonUniformityNormalized  \\\n",
       "0                                         0.834711   \n",
       "1                                         0.975313   \n",
       "2                                         0.973338   \n",
       "3                                         0.980394   \n",
       "4                                         0.966112   \n",
       "\n",
       "   original_glszm_LargeAreaLowGrayLevelEmphasis  \\\n",
       "0                                  1.170667e+06   \n",
       "1                                  6.010027e+05   \n",
       "2                                  3.905040e+05   \n",
       "3                                  1.751932e+06   \n",
       "4                                  3.222760e+05   \n",
       "\n",
       "   original_glszm_SmallAreaEmphasis  original_glszm_ZoneEntropy    rfs  \n",
       "0                          0.403535                    3.325332  144.0  \n",
       "1                          0.444391                    3.032144  142.0  \n",
       "2                          0.534549                    2.485848  135.0  \n",
       "3                          0.506185                    2.606255   12.0  \n",
       "4                          0.462282                    2.809279  109.0  "
      ]
     },
     "execution_count": 86,
     "metadata": {},
     "output_type": "execute_result"
    }
   ],
   "source": [
    "lasso_selected_df.head()"
   ]
  },
  {
   "cell_type": "code",
   "execution_count": 87,
   "id": "6c81ed4d-d16b-4ca0-8390-4459f84c20f2",
   "metadata": {},
   "outputs": [],
   "source": [
    "train, test = train_test_split(lasso_selected_df, test_size=0.20)"
   ]
  },
  {
   "cell_type": "code",
   "execution_count": 89,
   "id": "603a4c8f-9256-4811-ad1c-d6cb8f78b053",
   "metadata": {},
   "outputs": [
    {
     "data": {
      "text/plain": [
       "Index(['original_shape_SurfaceVolumeRatio', 'original_firstorder_10Percentile',\n",
       "       'original_firstorder_90Percentile', 'original_firstorder_Skewness',\n",
       "       'original_glcm_Autocorrelation', 'original_glrlm_LongRunEmphasis',\n",
       "       'original_glszm_GrayLevelNonUniformityNormalized',\n",
       "       'original_glszm_LargeAreaLowGrayLevelEmphasis',\n",
       "       'original_glszm_SmallAreaEmphasis', 'original_glszm_ZoneEntropy',\n",
       "       'rfs'],\n",
       "      dtype='object')"
      ]
     },
     "execution_count": 89,
     "metadata": {},
     "output_type": "execute_result"
    }
   ],
   "source": [
    "train.columns"
   ]
  },
  {
   "cell_type": "code",
   "execution_count": 90,
   "id": "b4578a0c-158e-493e-a0dd-864a4bfc54b7",
   "metadata": {},
   "outputs": [],
   "source": [
    "scalerTrainX = StandardScaler()\n",
    "scalerTrainY = StandardScaler()\n",
    "\n",
    "trainX = scalerTrainX.fit_transform(train.drop(columns=['rfs']).to_numpy())                   \n",
    "trainY = scalerTrainY.fit_transform(train['rfs'].to_numpy().reshape(-1, 1))\n",
    "\n",
    "                   \n",
    "testX = scalerTrainX.transform(test.drop(columns=['rfs']).to_numpy())                   \n",
    "testY = scalerTrainY.transform(test['rfs'].to_numpy().reshape(-1, 1))\n"
   ]
  },
  {
   "cell_type": "code",
   "execution_count": 143,
   "id": "101dbd84-e583-4416-99fd-8d16e6b630c8",
   "metadata": {},
   "outputs": [
    {
     "data": {
      "text/plain": [
       "((400, 60), (1, 400), (80, 10), (80, 1))"
      ]
     },
     "execution_count": 143,
     "metadata": {},
     "output_type": "execute_result"
    }
   ],
   "source": [
    "trainX.shape, trainY.shape, testX.shape, testY.shape"
   ]
  },
  {
   "cell_type": "code",
   "execution_count": 165,
   "id": "23d0e818-fbda-4b11-8806-cc8cc5a18f20",
   "metadata": {
    "tags": []
   },
   "outputs": [
    {
     "data": {
      "text/plain": [
       "HistGradientBoostingRegressor(random_state=0)"
      ]
     },
     "execution_count": 165,
     "metadata": {},
     "output_type": "execute_result"
    }
   ],
   "source": [
    "regressor = HistGradientBoostingRegressor(random_state=0, verbose=0,\n",
    "                                          loss='squared_error', max_iter=100)\n",
    "regressor.fit(trainX, trainY.ravel())"
   ]
  },
  {
   "cell_type": "code",
   "execution_count": 166,
   "id": "7f563254-de40-4240-af3e-e503f0c70cdc",
   "metadata": {},
   "outputs": [
    {
     "name": "stdout",
     "output_type": "stream",
     "text": [
      "MSE error: 0.9930915613577515\n",
      "MAE error: 0.7973522885566366\n",
      "R2 error: -4.010842624322039\n"
     ]
    }
   ],
   "source": [
    "predicted = regressor.predict(testX)\n",
    "test_mse_error = mean_squared_error(predicted, testY)\n",
    "test_mae_error = mean_absolute_error(predicted, testY)\n",
    "test_r2_error = r2_score(predicted, testY)\n",
    "\n",
    "print(f'MSE error: {test_mse_error}')\n",
    "print(f'MAE error: {test_mae_error}')\n",
    "print(f'R2 error: {test_r2_error}')"
   ]
  },
  {
   "cell_type": "code",
   "execution_count": 155,
   "id": "f89b8661-7fe5-4296-a98a-43ba6f551673",
   "metadata": {},
   "outputs": [
    {
     "data": {
      "image/png": "[encoded data removed]",
      "text/plain": [
       "<Figure size 1080x504 with 1 Axes>"
      ]
     },
     "metadata": {
      "needs_background": "light"
     },
     "output_type": "display_data"
    }
   ],
   "source": [
    "plt.figure(figsize=(15,7))\n",
    "plt.plot(list(range(len(predicted))), predicted, color='orange', label='Predictions')\n",
    "plt.plot(list(range(len(predicted))), testY.flatten(), label='Ground Truth')\n",
    "plt.xlabel(\"Instances\")\n",
    "plt.ylabel(\"Predictions\")\n",
    "plt.legend()\n",
    "plt.show()"
   ]
  },
  {
   "cell_type": "markdown",
   "id": "d83695c3-3f31-485e-96c2-9a73de9b9f7a",
   "metadata": {},
   "source": [
    "## One way ANOVA test for categorical features and RFS\n",
    "\n",
    "The one-way ANOVA tests the null hypothesis that two or more groups have\n",
    "the same population mean.  The test is applied to samples from two or\n",
    "more groups, possibly with differing sizes"
   ]
  },
  {
   "cell_type": "code",
   "execution_count": 170,
   "id": "97220b89-3636-4114-b914-e1dfc7b4b620",
   "metadata": {},
   "outputs": [],
   "source": [
    "from scipy.stats import f_oneway\n"
   ]
  },
  {
   "cell_type": "code",
   "execution_count": 172,
   "id": "b0f78a5c-20d5-46cb-9f98-c898b9648378",
   "metadata": {},
   "outputs": [
    {
     "data": {
      "text/plain": [
       "(320, 60)"
      ]
     },
     "execution_count": 172,
     "metadata": {},
     "output_type": "execute_result"
    }
   ],
   "source": [
    "trainX.shape"
   ]
  },
  {
   "cell_type": "code",
   "execution_count": 176,
   "id": "449f90ed-3cb9-46c7-9129-6f0bd00c4517",
   "metadata": {},
   "outputs": [
    {
     "data": {
      "text/plain": [
       "F_onewayResult(statistic=8.452151207486152, pvalue=0.0002297841831577408)"
      ]
     },
     "execution_count": 176,
     "metadata": {},
     "output_type": "execute_result"
    }
   ],
   "source": [
    "f_oneway(trainX[:,0], trainX[:,1], trainX[:,2])\n"
   ]
  },
  {
   "cell_type": "markdown",
   "id": "7a8b32ae-8cfb-4240-a110-26040106e315",
   "metadata": {},
   "source": [
    "# Cleaning the outliers by replacing the outlier values with the Upper gate of the quantile plot"
   ]
  },
  {
   "cell_type": "code",
   "execution_count": 187,
   "id": "87963260-2dba-49e6-b89b-df7a22d1735f",
   "metadata": {},
   "outputs": [],
   "source": [
    "outlier_removed_df = imputed_df.drop(columns=['rfs', 'pcr'])"
   ]
  },
  {
   "cell_type": "code",
   "execution_count": 188,
   "id": "9cc967f4-e617-4fee-81c6-984dbe4ad2e2",
   "metadata": {
    "collapsed": true,
    "jupyter": {
     "outputs_hidden": true
    },
    "tags": []
   },
   "outputs": [
    {
     "name": "stdout",
     "output_type": "stream",
     "text": [
      "[{21.291923749999988: [0, Series([], Name: Age, dtype: float64)], 83.22484575000001: [0, Series([], Name: Age, dtype: float64)]}, {-1.5: [0, Series([], Name: ER, dtype: float64)], 2.5: [0, Series([], Name: ER, dtype: float64)]}, {-1.5: [0, Series([], Name: PgR, dtype: float64)], 2.5: [0, Series([], Name: PgR, dtype: float64)]}, {-1.5: [0, Series([], Name: LNStatus, dtype: float64)], 2.5: [0, Series([], Name: LNStatus, dtype: float64)]}, {0.27522773712500015: [0, Series([], Name: original_shape_Elongation, dtype: float64)], 1.178945288125: [0, Series([], Name: original_shape_Elongation, dtype: float64)]}, {0.017247716499999954: [0, Series([], Name: original_shape_Flatness, dtype: float64)], 1.0910565965: [0, Series([], Name: original_shape_Flatness, dtype: float64)]}, {-0.929200788750002: [0, Series([], Name: original_shape_LeastAxisLength, dtype: float64)], 44.91466886125001: [0, Series([], Name: original_shape_LeastAxisLength, dtype: float64)]}, {-16.195967998750003: [0, Series([], Name: original_shape_MajorAxisLength, dtype: float64)], 102.70597697125001: [0, Series([], Name: original_shape_MajorAxisLength, dtype: float64)]}, {-11.249178996250013: [0, Series([], Name: original_shape_Maximum2DDiameterColumn, dtype: float64)], 101.80149299375002: [0, Series([], Name: original_shape_Maximum2DDiameterColumn, dtype: float64)]}, {-9.097072302500003: [0, Series([], Name: original_shape_Maximum2DDiameterRow, dtype: float64)], 92.5407141775: [0, Series([], Name: original_shape_Maximum2DDiameterRow, dtype: float64)]}, {-12.921646201249995: [0, Series([], Name: original_shape_Maximum2DDiameterSlice, dtype: float64)], 101.75799142874999: [0, Series([], Name: original_shape_Maximum2DDiameterSlice, dtype: float64)]}, {-21171.47916625: [0, Series([], Name: original_shape_MeshVolume, dtype: float64)], 49966.43749975: [0, Series([], Name: original_shape_MeshVolume, dtype: float64)]}, {-4.823725197500007: [0, Series([], Name: original_shape_MinorAxisLength, dtype: float64)], 63.781508362500006: [0, Series([], Name: original_shape_MinorAxisLength, dtype: float64)]}, {0.0705695201249999: [0, Series([], Name: original_shape_Sphericity, dtype: float64)], 1.1362640711250003: [0, Series([], Name: original_shape_Sphericity, dtype: float64)]}, {0.08077746299999991: [0, Series([], Name: original_shape_SurfaceVolumeRatio, dtype: float64)], 0.6868484890000001: [0, Series([], Name: original_shape_SurfaceVolumeRatio, dtype: float64)]}, {-0.9037633429999999: [0, Series([], Name: original_firstorder_10Percentile, dtype: float64)], 1.552746799: [0, Series([], Name: original_firstorder_10Percentile, dtype: float64)]}, {0.9075237280000001: [0, Series([], Name: original_firstorder_90Percentile, dtype: float64)], 4.02011393: [0, Series([], Name: original_firstorder_90Percentile, dtype: float64)]}, {0.040106412750000264: [0, Series([], Name: original_firstorder_InterquartileRange, dtype: float64)], 2.3663554727499996: [0, Series([], Name: original_firstorder_InterquartileRange, dtype: float64)]}, {1.277193008125: [0, Series([], Name: original_firstorder_Kurtosis, dtype: float64)], 4.089788049125: [0, Series([], Name: original_firstorder_Kurtosis, dtype: float64)]}, {1.0171099247499993: [0, Series([], Name: original_firstorder_Maximum, dtype: float64)], 6.53401806275: [0, Series([], Name: original_firstorder_Maximum, dtype: float64)]}, {0.3107621673750002: [0, Series([], Name: original_firstorder_Mean, dtype: float64)], 2.575410956375: [0, Series([], Name: original_firstorder_Mean, dtype: float64)]}, {-2.2190470135: [0, Series([], Name: original_firstorder_Minimum, dtype: float64)], 0.09818546849999987: [0, Series([], Name: original_firstorder_Minimum, dtype: float64)]}, {-1.3247849045: [0, Series([], Name: original_firstorder_Skewness, dtype: float64)], 0.8585303875000001: [0, Series([], Name: original_firstorder_Skewness, dtype: float64)]}, {3.37452652425: [0, Series([], Name: original_glcm_Autocorrelation, dtype: float64)], 4.29473919025: [0, Series([], Name: original_glcm_Autocorrelation, dtype: float64)]}, {-0.547554286125: [0, Series([], Name: original_glcm_ClusterShade, dtype: float64)], 0.276163130875: [0, Series([], Name: original_glcm_ClusterShade, dtype: float64)]}, {-0.08426798125000004: [0, Series([], Name: original_glcm_Correlation, dtype: float64)], 0.67696648875: [0, Series([], Name: original_glcm_Correlation, dtype: float64)]}, {-0.31361993762499996: [0, Series([], Name: original_glcm_Imc1, dtype: float64)], 0.067673429375: [0, Series([], Name: original_glcm_Imc1, dtype: float64)]}, {1.8788547574999992: [0, Series([], Name: original_gldm_DependenceEntropy, dtype: float64)], 4.698385543500001: [0, Series([], Name: original_gldm_DependenceEntropy, dtype: float64)]}, {4.340935136249989: [0, Series([], Name: original_gldm_DependenceVariance, dtype: float64)], 61.41226632625001: [0, Series([], Name: original_gldm_DependenceVariance, dtype: float64)]}, {1573.4216302499995: [0, Series([], Name: original_gldm_LargeDependenceHighGrayLevelEmphasis, dtype: float64)], 2730.2902182500006: [0, Series([], Name: original_gldm_LargeDependenceHighGrayLevelEmphasis, dtype: float64)]}, {-0.0008205772500000002: [0, Series([], Name: original_gldm_SmallDependenceEmphasis, dtype: float64)], 0.01142905675: [0, Series([], Name: original_gldm_SmallDependenceEmphasis, dtype: float64)]}, {0.005272624874999999: [0, Series([], Name: original_gldm_SmallDependenceHighGrayLevelEmphasis, dtype: float64)], 0.017872607875: [0, Series([], Name: original_gldm_SmallDependenceHighGrayLevelEmphasis, dtype: float64)]}, {1.56776738825: [0, Series([], Name: original_glrlm_HighGrayLevelRunEmphasis, dtype: float64)], 4.91335835825: [0, Series([], Name: original_glrlm_HighGrayLevelRunEmphasis, dtype: float64)]}, {-37.46752584375001: [0, Series([], Name: original_glrlm_LongRunEmphasis, dtype: float64)], 187.84696130625002: [0, Series([], Name: original_glrlm_LongRunEmphasis, dtype: float64)]}, {-11.107130204999997: [0, Series([], Name: original_glrlm_LongRunLowGrayLevelEmphasis, dtype: float64)], 52.434800055: [0, Series([], Name: original_glrlm_LongRunLowGrayLevelEmphasis, dtype: float64)]}, {2.9213298625000004: [0, Series([], Name: original_glrlm_RunEntropy, dtype: float64)], 5.0106835125: [0, Series([], Name: original_glrlm_RunEntropy, dtype: float64)]}, {-0.0066280481250000495: [0, Series([], Name: original_glrlm_RunLengthNonUniformityNormalized, dtype: float64)], 0.24030059287500005: [0, Series([], Name: original_glrlm_RunLengthNonUniformityNormalized, dtype: float64)]}, {0.251754015: [0, Series([], Name: original_glrlm_ShortRunHighGrayLevelEmphasis, dtype: float64)], 0.853661421: [0, Series([], Name: original_glrlm_ShortRunHighGrayLevelEmphasis, dtype: float64)]}, {-68.62732267375: [0, Series([], Name: original_glszm_GrayLevelNonUniformity, dtype: float64)], 138.86371960825: [0, Series([], Name: original_glszm_GrayLevelNonUniformity, dtype: float64)]}, {0.64206038075: [0, Series([], Name: original_glszm_GrayLevelNonUniformityNormalized, dtype: float64)], 1.15579468275: [0, Series([], Name: original_glszm_GrayLevelNonUniformityNormalized, dtype: float64)]}, {0.7317633892499998: [0, Series([], Name: original_glszm_HighGrayLevelZoneEmphasis, dtype: float64)], 1.5973056032500001: [0, Series([], Name: original_glszm_HighGrayLevelZoneEmphasis, dtype: float64)]}, {-11908252.588125: [0, Series([], Name: original_glszm_LargeAreaEmphasis, dtype: float64)], 23345124.896875: [0, Series([], Name: original_glszm_LargeAreaEmphasis, dtype: float64)]}, {-45339030.166875005: [0, Series([], Name: original_glszm_LargeAreaHighGrayLevelEmphasis, dtype: float64)], 88983338.24812502: [0, Series([], Name: original_glszm_LargeAreaHighGrayLevelEmphasis, dtype: float64)]}, {-3141541.7896875003: [0, Series([], Name: original_glszm_LargeAreaLowGrayLevelEmphasis, dtype: float64)], 6187189.3798125: [0, Series([], Name: original_glszm_LargeAreaLowGrayLevelEmphasis, dtype: float64)]}, {-0.015425681375: [0, Series([], Name: original_glszm_SizeZoneNonUniformityNormalized, dtype: float64)], 0.453363789625: [0, Series([], Name: original_glszm_SizeZoneNonUniformityNormalized, dtype: float64)]}, {0.056215515125000004: [0, Series([], Name: original_glszm_SmallAreaEmphasis, dtype: float64)], 0.759378068125: [0, Series([], Name: original_glszm_SmallAreaEmphasis, dtype: float64)]}, {0.8953409225000004: [0, Series([], Name: original_glszm_ZoneEntropy, dtype: float64)], 4.7498531305: [0, Series([], Name: original_glszm_ZoneEntropy, dtype: float64)]}, {-0.0037234436249999996: [0, Series([], Name: original_glszm_ZonePercentage, dtype: float64)], 0.009910141375: [0, Series([], Name: original_glszm_ZonePercentage, dtype: float64)]}, {-189.15401634375: [0, Series([], Name: original_ngtdm_Busyness, dtype: float64)], 365.28487972625: [0, Series([], Name: original_ngtdm_Busyness, dtype: float64)]}, {-0.010558355875: [0, Series([], Name: original_ngtdm_Strength, dtype: float64)], 0.021501301125: [0, Series([], Name: original_ngtdm_Strength, dtype: float64)]}, {0.0: [0, Series([], Name: ChemoGrade_1.0, dtype: float64)]}, {-1.5: [0, Series([], Name: ChemoGrade_2.0, dtype: float64)], 2.5: [0, Series([], Name: ChemoGrade_2.0, dtype: float64)]}, {-1.5: [0, Series([], Name: ChemoGrade_3.0, dtype: float64)], 2.5: [0, Series([], Name: ChemoGrade_3.0, dtype: float64)]}, {-1.5: [0, Series([], Name: Proliferation_1.0, dtype: float64)], 2.5: [0, Series([], Name: Proliferation_1.0, dtype: float64)]}, {0.0: [0, Series([], Name: Proliferation_2.0, dtype: float64)]}, {0.0: [0, Series([], Name: Proliferation_3.0, dtype: float64)]}, {0.0: [0, Series([], Name: TumourStage_1.0, dtype: float64)]}, {-1.5: [0, Series([], Name: TumourStage_2.0, dtype: float64)], 2.5: [0, Series([], Name: TumourStage_2.0, dtype: float64)]}, {-1.5: [0, Series([], Name: TumourStage_3.0, dtype: float64)], 2.5: [0, Series([], Name: TumourStage_3.0, dtype: float64)]}, {0.0: [0, Series([], Name: TumourStage_4.0, dtype: float64)]}]\n"
     ]
    }
   ],
   "source": [
    "val_dict_list = []\n",
    "\n",
    "for col in outlier_removed_df.columns:\n",
    "    \n",
    "    lower_outlier_gate, upper_outlier_gate = get_outlier_info(outlier_removed_df[col])\n",
    "    outlier_removed_df = clean_outliers(outlier_removed_df, col, lower_outlier_gate, upper_outlier_gate)\n",
    "    \n",
    "    #Sanity Check\n",
    "    val_dict = get_outlier_val_counts(outlier_removed_df[col], lower_outlier_gate, upper_outlier_gate)\n",
    "    val_dict_list.append(val_dict)\n",
    "    \n",
    "    \n",
    "\n",
    "            \n",
    "print(val_dict_list)"
   ]
  },
  {
   "cell_type": "code",
   "execution_count": 189,
   "id": "ff7e9c90-f65a-4daa-af9b-87b65d89be78",
   "metadata": {},
   "outputs": [],
   "source": [
    "outlier_removed_df['rfs'] = imputed_df['rfs']"
   ]
  },
  {
   "cell_type": "code",
   "execution_count": null,
   "id": "06d2019a-a653-4635-bc1f-2e4a0989c39c",
   "metadata": {},
   "outputs": [],
   "source": [
    "# criterion = ['squared_error', 'friedman_mse', 'absolute_error', 'poisson']\n",
    "criterion = ['squared_error', 'absolute_error']\n",
    "max_depth = [10, 20, 30, 45, 50, 55, 60]\n",
    "min_samples_split  = [5, 6, 7, 8, 9, 10, 11, 12, 13]\n",
    "min_samples_leaf = [2, 3, 4, 5,6,7,8,9,]\n",
    "max_features = [3, 5, 6]\n",
    "\n",
    "parameters = dict(criterion=criterion, max_depth=max_depth, min_samples_split=min_samples_split,\n",
    "                  min_samples_leaf=min_samples_leaf, max_features=max_features)"
   ]
  },
  {
   "cell_type": "code",
   "execution_count": null,
   "id": "8d1d854b-4e75-4ac3-9e57-346e22921e72",
   "metadata": {},
   "outputs": [],
   "source": []
  },
  {
   "cell_type": "code",
   "execution_count": null,
   "id": "74f533f9-8297-4cfc-bdcb-e6cea0da6bb8",
   "metadata": {},
   "outputs": [],
   "source": [
    "df[numeric_columns + '_log'] = df[numeric_columns].apply(lambda x: np.log1p(x))\n"
   ]
  }
 ],
 "metadata": {
  "kernelspec": {
   "display_name": "Python 3 (ipykernel)",
   "language": "python",
   "name": "python3"
  },
  "language_info": {
   "codemirror_mode": {
    "name": "ipython",
    "version": 3
   },
   "file_extension": ".py",
   "mimetype": "text/x-python",
   "name": "python",
   "nbconvert_exporter": "python",
   "pygments_lexer": "ipython3",
   "version": "3.9.12"
  }
 },
 "nbformat": 4,
 "nbformat_minor": 5
}
