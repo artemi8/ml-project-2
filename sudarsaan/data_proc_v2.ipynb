{
 "cells": [
  {
   "cell_type": "code",
   "execution_count": 3,
   "id": "a59d7f9b-de1b-4133-a525-ea6e8e0ab33e",
   "metadata": {},
   "outputs": [],
   "source": [
    "import pandas as pd\n",
    "from matplotlib import pyplot as plt\n",
    "import seaborn as sns\n",
    "from sklearn.preprocessing import OrdinalEncoder, StandardScaler\n",
    "from sklearn.model_selection import train_test_split, GridSearchCV\n",
    "from sklearn.metrics import mean_squared_error, mean_absolute_error, r2_score, balanced_accuracy_score\n",
    "import numpy as np\n",
    "import pickle\n",
    "\n",
    "\n",
    "\n",
    "from utils.general_utils import get_outlier_info, get_outlier_val_counts"
   ]
  },
  {
   "cell_type": "markdown",
   "id": "d864bdab-a69e-4d5b-ad8c-a3ff9885c817",
   "metadata": {},
   "source": [
    "## TODO \n",
    "1. Stratified split\n",
    "2. Handle class imbalance\n",
    "3. Handle outliers"
   ]
  },
  {
   "cell_type": "code",
   "execution_count": 1,
   "id": "422e42dd-bc18-4dd6-a840-b84bc4ba06bb",
   "metadata": {
    "collapsed": true,
    "jupyter": {
     "outputs_hidden": true
    },
    "tags": []
   },
   "outputs": [
    {
     "ename": "NameError",
     "evalue": "name 'pd' is not defined",
     "output_type": "error",
     "traceback": [
      "\u001b[1;31m---------------------------------------------------------------------------\u001b[0m",
      "\u001b[1;31mNameError\u001b[0m                                 Traceback (most recent call last)",
      "Input \u001b[1;32mIn [1]\u001b[0m, in \u001b[0;36m<cell line: 1>\u001b[1;34m()\u001b[0m\n\u001b[1;32m----> 1\u001b[0m og_df \u001b[38;5;241m=\u001b[39m \u001b[43mpd\u001b[49m\u001b[38;5;241m.\u001b[39mread_csv(\u001b[38;5;124m'\u001b[39m\u001b[38;5;124mdataset/TrainDataset2023.csv\u001b[39m\u001b[38;5;124m'\u001b[39m)\n\u001b[0;32m      2\u001b[0m og_df\u001b[38;5;241m.\u001b[39mrename(columns\u001b[38;5;241m=\u001b[39m{\u001b[38;5;124m'\u001b[39m\u001b[38;5;124mpCR (outcome)\u001b[39m\u001b[38;5;124m'\u001b[39m: \u001b[38;5;124m'\u001b[39m\u001b[38;5;124mpcr\u001b[39m\u001b[38;5;124m'\u001b[39m, \u001b[38;5;124m'\u001b[39m\u001b[38;5;124mRelapseFreeSurvival (outcome)\u001b[39m\u001b[38;5;124m'\u001b[39m: \u001b[38;5;124m'\u001b[39m\u001b[38;5;124mrfs\u001b[39m\u001b[38;5;124m'\u001b[39m}, inplace\u001b[38;5;241m=\u001b[39m\u001b[38;5;28;01mTrue\u001b[39;00m)\n",
      "\u001b[1;31mNameError\u001b[0m: name 'pd' is not defined"
     ]
    }
   ],
   "source": [
    "og_df = pd.read_csv('dataset/TrainDataset2023.csv')\n",
    "og_df.rename(columns={'pCR (outcome)': 'pcr', 'RelapseFreeSurvival (outcome)': 'rfs'}, inplace=True)"
   ]
  },
  {
   "cell_type": "code",
   "execution_count": 4,
   "id": "cf8f979f-1f7e-494e-b32a-c05c249526a5",
   "metadata": {},
   "outputs": [],
   "source": [
    "with open(f'dataset/dataset_v1/data.npy', 'rb') as f:\n",
    "    imputed_arr = np.load(f)"
   ]
  },
  {
   "cell_type": "code",
   "execution_count": 5,
   "id": "1dcf680b-9390-4eb1-a9ec-7a2099038370",
   "metadata": {},
   "outputs": [
    {
     "data": {
      "text/plain": [
       "(400, 55)"
      ]
     },
     "execution_count": 5,
     "metadata": {},
     "output_type": "execute_result"
    }
   ],
   "source": [
    "imputed_arr.shape"
   ]
  },
  {
   "cell_type": "code",
   "execution_count": null,
   "id": "9ea4631a-512e-465c-bf10-45588cd75d8f",
   "metadata": {},
   "outputs": [],
   "source": []
  },
  {
   "cell_type": "code",
   "execution_count": 14,
   "id": "cc0b2088-2eaa-4da3-940b-0fa9df6fb87c",
   "metadata": {},
   "outputs": [],
   "source": [
    "classification_y = imputed_arr[:,0]\n",
    "regression_y = imputed_arr[:,1]\n",
    "x_data =  imputed_arr[2:]"
   ]
  },
  {
   "cell_type": "code",
   "execution_count": 15,
   "id": "86ca639e-0941-4444-ba90-bda1adb1b2c6",
   "metadata": {},
   "outputs": [
    {
     "data": {
      "text/plain": [
       "((400, 55), (398, 55), (400,), (400,))"
      ]
     },
     "execution_count": 15,
     "metadata": {},
     "output_type": "execute_result"
    }
   ],
   "source": [
    "imputed_arr.shape, x_data.shape, regression_y.shape, classification_y.shape"
   ]
  },
  {
   "cell_type": "code",
   "execution_count": 67,
   "id": "63b2dfad-5222-403d-a0d7-1e75ea92b91d",
   "metadata": {},
   "outputs": [],
   "source": [
    "with open(f'dataset/dataset_v1/data.npy', 'wb') as f:\n",
    "    np.save(f, imputed_arr)"
   ]
  },
  {
   "cell_type": "code",
   "execution_count": 16,
   "id": "3e4aa9b3-0f44-449f-8d80-ecc68182a0ef",
   "metadata": {},
   "outputs": [
    {
     "data": {
      "text/plain": [
       "((320, 55), (80, 55))"
      ]
     },
     "execution_count": 16,
     "metadata": {},
     "output_type": "execute_result"
    }
   ],
   "source": [
    "train, test = train_test_split(imputed_arr, test_size=0.20)\n",
    "train.shape, test.shape"
   ]
  },
  {
   "cell_type": "code",
   "execution_count": 27,
   "id": "f17a6408-d517-4c36-9915-cc840064c0fc",
   "metadata": {},
   "outputs": [],
   "source": [
    "train_classification_y = train[:,0]\n",
    "train_regression_y = train[:,1]\n",
    "\n",
    "test_classification_y = test[:,0]\n",
    "test_regression_y = test[:,1]\n",
    "\n",
    "xTrain_data =  train[:,2:]\n",
    "xTest_data =  test[:, 2:]"
   ]
  },
  {
   "cell_type": "code",
   "execution_count": 28,
   "id": "67eb0897-f262-4283-8c25-dab624411adb",
   "metadata": {},
   "outputs": [
    {
     "data": {
      "text/plain": [
       "((320,), (320,), (80,), (80,), (320, 53), (80, 53))"
      ]
     },
     "execution_count": 28,
     "metadata": {},
     "output_type": "execute_result"
    }
   ],
   "source": [
    "train_classification_y.shape, train_regression_y.shape, test_classification_y.shape, test_regression_y.shape, xTrain_data.shape, xTest_data.shape"
   ]
  },
  {
   "cell_type": "markdown",
   "id": "faa4b85d-788a-44f3-8c34-d8217a740cdf",
   "metadata": {},
   "source": [
    "# Regression Task split and z-score normalization"
   ]
  },
  {
   "cell_type": "code",
   "execution_count": 29,
   "id": "18913bc4-19cd-487f-be61-821932840a37",
   "metadata": {},
   "outputs": [],
   "source": [
    "scalerTrainX = StandardScaler()\n",
    "scalerTrainY = StandardScaler()\n",
    "\n",
    "trainX = scalerTrainX.fit_transform(xTrain_data)\n",
    "trainY = scalerTrainY.fit_transform(train_regression_y.ravel())\n",
    "\n",
    "testX = scalerTrainX.transform(xTest_data)\n",
    "testY = scalerTrainY.transform(test_regression_y.ravel())"
   ]
  },
  {
   "cell_type": "code",
   "execution_count": 20,
   "id": "69f6d5a3-12b3-4fb9-952a-905432b84f5b",
   "metadata": {},
   "outputs": [
    {
     "data": {
      "text/plain": [
       "<function sklearn.metrics._classification.balanced_accuracy_score(y_true, y_pred, *, sample_weight=None, adjusted=False)>"
      ]
     },
     "execution_count": 20,
     "metadata": {},
     "output_type": "execute_result"
    }
   ],
   "source": [
    "mean_absolute_error\n",
    "balanced_accuracy_score"
   ]
  },
  {
   "cell_type": "markdown",
   "id": "8a8b3188-a2d4-48c7-b9c3-41440a8a05e4",
   "metadata": {},
   "source": [
    "# Model training - dry run\n",
    "### Random Forest"
   ]
  },
  {
   "cell_type": "code",
   "execution_count": 54,
   "id": "af31de7a-c225-4a25-9695-29dd579dad38",
   "metadata": {},
   "outputs": [],
   "source": [
    "from sklearn.ensemble import RandomForestRegressor\n",
    "from utils.general_utils import save_model"
   ]
  },
  {
   "cell_type": "code",
   "execution_count": 44,
   "id": "ce22af0b-3b48-4c0b-917e-7af92b94e4cb",
   "metadata": {},
   "outputs": [],
   "source": [
    "regressor = RandomForestRegressor(random_state=0, verbose=1)\n"
   ]
  },
  {
   "cell_type": "code",
   "execution_count": 45,
   "id": "b4fc1a56-13b3-4ad8-b606-5fe20b6d46cf",
   "metadata": {},
   "outputs": [
    {
     "name": "stderr",
     "output_type": "stream",
     "text": [
      "[Parallel(n_jobs=1)]: Done  49 tasks      | elapsed:    0.5s\n"
     ]
    },
    {
     "data": {
      "text/plain": [
       "RandomForestRegressor(random_state=0, verbose=1)"
      ]
     },
     "execution_count": 45,
     "metadata": {},
     "output_type": "execute_result"
    }
   ],
   "source": [
    "regressor.fit(trainX, trainY.ravel())"
   ]
  },
  {
   "cell_type": "code",
   "execution_count": 46,
   "id": "2d86035a-c4e0-4578-aafe-a918636102b0",
   "metadata": {},
   "outputs": [
    {
     "name": "stdout",
     "output_type": "stream",
     "text": [
      "MSE error: 0.9765851073017249\n",
      "MAE error: 0.7654654184592893\n",
      "R2 error: -5.57654164850365\n"
     ]
    },
    {
     "name": "stderr",
     "output_type": "stream",
     "text": [
      "[Parallel(n_jobs=1)]: Done  49 tasks      | elapsed:    0.0s\n"
     ]
    }
   ],
   "source": [
    "predicted = regressor.predict(testX)\n",
    "test_mse_error = mean_squared_error(predicted, testY)\n",
    "test_mae_error = mean_absolute_error(predicted, testY)\n",
    "test_r2_error = r2_score(predicted, testY)\n",
    "\n",
    "print(f'MSE error: {test_mse_error}')\n",
    "print(f'MAE error: {test_mae_error}')\n",
    "print(f'R2 error: {test_r2_error}')"
   ]
  },
  {
   "cell_type": "code",
   "execution_count": 59,
   "id": "b130d66b-6393-4caf-a201-c1128008e688",
   "metadata": {},
   "outputs": [],
   "source": [
    "def save_normalizer(path, Xnormalizer, Ynormalizer):\n",
    "    \n",
    "    print('Caution, saving normalizer in order!.. Check arguments')\n",
    "    \n",
    "    normalilzer_list = [Xnormalizer, Ynormalizer]\n",
    "    name_list = ['scalerTrainX', 'scalerTrainY']\n",
    "    \n",
    "    for nlz, name in zip(normalilzer_list, name_list):\n",
    "        with open(f'{path}/{name}.pkl','wb') as f:\n",
    "            pickle.dump(nlz, f)\n",
    "        \n",
    "def load_normalizer(path):\n",
    "    \n",
    "    print('Caution, loading normalizer in order!.. Check arguments')\n",
    "    \n",
    "    name_list = ['scalerTrainX', 'scalerTrainY']\n",
    "    normalilzer_list = []\n",
    "    \n",
    "    for name in name_list:\n",
    "        with open(f'{path}/{name}.pkl','rb') as f:\n",
    "            normalilzer_list.append(pickle.load(f))\n",
    "            \n",
    "    return normalilzer_list[0], normalilzer_list[1]\n",
    "        \n",
    "def save_dataset(xTrain, yTrain, xTest, yTest, path):\n",
    "    print('Caution, saving dataset in order!.. Check arguments')\n",
    "    data_list = [xTrain, yTrain, xTest, yTest]\n",
    "    data_name = ['xTrain', 'yTrain', 'xTest', 'yTest']\n",
    "    \n",
    "    for arr, name in zip(data_list, data_name):\n",
    "        with open(f'{path}/{name}.npy', 'wb') as f:\n",
    "            np.save(f,arr)\n",
    "\n",
    "def load_dataset(path):\n",
    "    \n",
    "    print('Caution, loading dataset in order!.. Check arguments')\n",
    "    \n",
    "    data_name = ['xTrain', 'yTrain', 'xTest', 'yTest']      \n",
    "    data_list = []\n",
    "    for name in data_name:\n",
    "        with open(f'{path}/{name}.npy', 'rb') as f:\n",
    "            data_list.append(np.load(f))\n",
    "            \n",
    "    return data_list[0], data_list[1], data_list[2], data_list[3]\n",
    "            "
   ]
  },
  {
   "cell_type": "code",
   "execution_count": 61,
   "id": "23f92107-5554-4c40-8338-8d909fa1e45a",
   "metadata": {},
   "outputs": [
    {
     "name": "stdout",
     "output_type": "stream",
     "text": [
      "Caution, saving things in order!.. Check arguments\n"
     ]
    }
   ],
   "source": [
    "save_normalizer('baseline_model/normalizer/', scalerTrainX, scalerTrainY)\n",
    "save_dataset(xTrain=trainX, yTrain=trainY, xTest=testX, yTest=testY, path='baseline_model/dataset/')\n",
    "save_model(model=regressor, save_path='baseline_model/model/', name=\"randomforest\")"
   ]
  },
  {
   "cell_type": "code",
   "execution_count": null,
   "id": "1f290d3c-8373-4515-b989-e3a133c1093e",
   "metadata": {},
   "outputs": [],
   "source": [
    "# Make sure not changing the oridinal feature, binary feature "
   ]
  }
 ],
 "metadata": {
  "kernelspec": {
   "display_name": "Python 3 (ipykernel)",
   "language": "python",
   "name": "python3"
  },
  "language_info": {
   "codemirror_mode": {
    "name": "ipython",
    "version": 3
   },
   "file_extension": ".py",
   "mimetype": "text/x-python",
   "name": "python",
   "nbconvert_exporter": "python",
   "pygments_lexer": "ipython3",
   "version": "3.9.12"
  }
 },
 "nbformat": 4,
 "nbformat_minor": 5
}
