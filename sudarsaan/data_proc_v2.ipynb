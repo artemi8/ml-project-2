{
 "cells": [
  {
   "cell_type": "code",
   "execution_count": 1,
   "id": "a59d7f9b-de1b-4133-a525-ea6e8e0ab33e",
   "metadata": {},
   "outputs": [],
   "source": [
    "import pandas as pd\n",
    "from matplotlib import pyplot as plt\n",
    "import seaborn as sns\n",
    "from sklearn.preprocessing import OrdinalEncoder, StandardScaler\n",
    "from sklearn.model_selection import train_test_split, GridSearchCV\n",
    "from sklearn.metrics import mean_squared_error, mean_absolute_error, r2_score, balanced_accuracy_score\n",
    "import numpy as np\n",
    "import pickle\n",
    "from sklearn.impute import KNNImputer\n",
    "import imblearn\n",
    "\n",
    "from utils.general_utils import get_outlier_info, get_outlier_val_counts\n",
    "from utils.saver_utils import save_normalizer, load_normalizer\n",
    "from utils.saver_utils import save_dataset, load_dataset "
   ]
  },
  {
   "cell_type": "markdown",
   "id": "d864bdab-a69e-4d5b-ad8c-a3ff9885c817",
   "metadata": {},
   "source": [
    "## TODO \n",
    "1. Stratified split\n",
    "2. Handle class imbalance\n",
    "3. Handle outliers"
   ]
  },
  {
   "cell_type": "code",
   "execution_count": 21,
   "id": "422e42dd-bc18-4dd6-a840-b84bc4ba06bb",
   "metadata": {
    "tags": []
   },
   "outputs": [],
   "source": [
    "og_df = pd.read_csv('dataset/TrainDataset2023.csv')\n",
    "og_df.rename(columns={'pCR (outcome)': 'pcr', 'RelapseFreeSurvival (outcome)': 'rfs'}, inplace=True)"
   ]
  },
  {
   "cell_type": "code",
   "execution_count": 22,
   "id": "4bb6ce41-d58f-42d8-8588-ac92cecfb549",
   "metadata": {},
   "outputs": [],
   "source": [
    "columns_drop_path = 'dataset/dataset_v1/columns_dropped.pkl'\n",
    "\n",
    "with open(columns_drop_path, 'rb') as f:\n",
    "    to_drop_90 = pickle.load(f)"
   ]
  },
  {
   "cell_type": "code",
   "execution_count": 23,
   "id": "2189248c-f7c0-45c0-bae1-7b121ef00583",
   "metadata": {},
   "outputs": [],
   "source": [
    "fs_df_v1 = og_df.drop(to_drop_90, axis=1)"
   ]
  },
  {
   "cell_type": "code",
   "execution_count": 24,
   "id": "1e23ba7e-de93-494b-9d1e-cef8b1ebcacf",
   "metadata": {},
   "outputs": [],
   "source": [
    "impute_knn = KNNImputer(n_neighbors=3, missing_values=999)\n",
    "imputed_arr = impute_knn.fit_transform(fs_df_v1.drop(columns=['ID']))\n",
    "imputed_df = pd.DataFrame.from_records(imputed_arr, columns=fs_df_v1.columns[1:])"
   ]
  },
  {
   "cell_type": "code",
   "execution_count": 25,
   "id": "35176150-991e-47cc-b577-fc8fc445ca2f",
   "metadata": {},
   "outputs": [],
   "source": [
    "# imputed_df.to_csv('dataset/dataset_v1/imputed_df.csv')"
   ]
  },
  {
   "cell_type": "code",
   "execution_count": 26,
   "id": "42e0408c-3243-48d5-9831-b35eeec24b8c",
   "metadata": {},
   "outputs": [
    {
     "data": {
      "text/html": [
       "<div>\n",
       "<style scoped>\n",
       "    .dataframe tbody tr th:only-of-type {\n",
       "        vertical-align: middle;\n",
       "    }\n",
       "\n",
       "    .dataframe tbody tr th {\n",
       "        vertical-align: top;\n",
       "    }\n",
       "\n",
       "    .dataframe thead th {\n",
       "        text-align: right;\n",
       "    }\n",
       "</style>\n",
       "<table border=\"1\" class=\"dataframe\">\n",
       "  <thead>\n",
       "    <tr style=\"text-align: right;\">\n",
       "      <th></th>\n",
       "      <th>pcr</th>\n",
       "      <th>rfs</th>\n",
       "      <th>Age</th>\n",
       "      <th>ER</th>\n",
       "      <th>PgR</th>\n",
       "      <th>ChemoGrade</th>\n",
       "      <th>Proliferation</th>\n",
       "      <th>LNStatus</th>\n",
       "      <th>TumourStage</th>\n",
       "      <th>original_shape_Elongation</th>\n",
       "      <th>...</th>\n",
       "      <th>original_glszm_HighGrayLevelZoneEmphasis</th>\n",
       "      <th>original_glszm_LargeAreaEmphasis</th>\n",
       "      <th>original_glszm_LargeAreaHighGrayLevelEmphasis</th>\n",
       "      <th>original_glszm_LargeAreaLowGrayLevelEmphasis</th>\n",
       "      <th>original_glszm_SizeZoneNonUniformityNormalized</th>\n",
       "      <th>original_glszm_SmallAreaEmphasis</th>\n",
       "      <th>original_glszm_ZoneEntropy</th>\n",
       "      <th>original_glszm_ZonePercentage</th>\n",
       "      <th>original_ngtdm_Busyness</th>\n",
       "      <th>original_ngtdm_Strength</th>\n",
       "    </tr>\n",
       "  </thead>\n",
       "  <tbody>\n",
       "    <tr>\n",
       "      <th>0</th>\n",
       "      <td>1.0</td>\n",
       "      <td>144.0</td>\n",
       "      <td>41.0</td>\n",
       "      <td>0.0</td>\n",
       "      <td>0.0</td>\n",
       "      <td>3.0</td>\n",
       "      <td>3.0</td>\n",
       "      <td>1.0</td>\n",
       "      <td>2.0</td>\n",
       "      <td>0.813912</td>\n",
       "      <td>...</td>\n",
       "      <td>1.272727</td>\n",
       "      <td>4067578.818</td>\n",
       "      <td>1.565522e+07</td>\n",
       "      <td>1.170667e+06</td>\n",
       "      <td>0.180900</td>\n",
       "      <td>0.403535</td>\n",
       "      <td>3.325332</td>\n",
       "      <td>0.002314</td>\n",
       "      <td>473.464852</td>\n",
       "      <td>0.000758</td>\n",
       "    </tr>\n",
       "    <tr>\n",
       "      <th>1</th>\n",
       "      <td>0.0</td>\n",
       "      <td>142.0</td>\n",
       "      <td>39.0</td>\n",
       "      <td>1.0</td>\n",
       "      <td>1.0</td>\n",
       "      <td>3.0</td>\n",
       "      <td>3.0</td>\n",
       "      <td>1.0</td>\n",
       "      <td>2.0</td>\n",
       "      <td>0.666118</td>\n",
       "      <td>...</td>\n",
       "      <td>1.037500</td>\n",
       "      <td>2403756.075</td>\n",
       "      <td>9.614769e+06</td>\n",
       "      <td>6.010027e+05</td>\n",
       "      <td>0.198125</td>\n",
       "      <td>0.444391</td>\n",
       "      <td>3.032144</td>\n",
       "      <td>0.005612</td>\n",
       "      <td>59.459710</td>\n",
       "      <td>0.003685</td>\n",
       "    </tr>\n",
       "    <tr>\n",
       "      <th>2</th>\n",
       "      <td>1.0</td>\n",
       "      <td>135.0</td>\n",
       "      <td>31.0</td>\n",
       "      <td>0.0</td>\n",
       "      <td>0.0</td>\n",
       "      <td>2.0</td>\n",
       "      <td>1.0</td>\n",
       "      <td>0.0</td>\n",
       "      <td>2.0</td>\n",
       "      <td>0.645083</td>\n",
       "      <td>...</td>\n",
       "      <td>1.040541</td>\n",
       "      <td>1561963.432</td>\n",
       "      <td>6.247801e+06</td>\n",
       "      <td>3.905040e+05</td>\n",
       "      <td>0.275749</td>\n",
       "      <td>0.534549</td>\n",
       "      <td>2.485848</td>\n",
       "      <td>0.006752</td>\n",
       "      <td>33.935384</td>\n",
       "      <td>0.006447</td>\n",
       "    </tr>\n",
       "    <tr>\n",
       "      <th>3</th>\n",
       "      <td>0.0</td>\n",
       "      <td>12.0</td>\n",
       "      <td>35.0</td>\n",
       "      <td>0.0</td>\n",
       "      <td>0.0</td>\n",
       "      <td>3.0</td>\n",
       "      <td>3.0</td>\n",
       "      <td>1.0</td>\n",
       "      <td>3.0</td>\n",
       "      <td>0.770842</td>\n",
       "      <td>...</td>\n",
       "      <td>1.029703</td>\n",
       "      <td>7007670.723</td>\n",
       "      <td>2.803063e+07</td>\n",
       "      <td>1.751932e+06</td>\n",
       "      <td>0.253014</td>\n",
       "      <td>0.506185</td>\n",
       "      <td>2.606255</td>\n",
       "      <td>0.003755</td>\n",
       "      <td>46.859265</td>\n",
       "      <td>0.004543</td>\n",
       "    </tr>\n",
       "    <tr>\n",
       "      <th>4</th>\n",
       "      <td>0.0</td>\n",
       "      <td>109.0</td>\n",
       "      <td>61.0</td>\n",
       "      <td>1.0</td>\n",
       "      <td>0.0</td>\n",
       "      <td>2.0</td>\n",
       "      <td>1.0</td>\n",
       "      <td>0.0</td>\n",
       "      <td>2.0</td>\n",
       "      <td>0.861035</td>\n",
       "      <td>...</td>\n",
       "      <td>1.051724</td>\n",
       "      <td>1288913.690</td>\n",
       "      <td>5.155465e+06</td>\n",
       "      <td>3.222760e+05</td>\n",
       "      <td>0.216409</td>\n",
       "      <td>0.462282</td>\n",
       "      <td>2.809279</td>\n",
       "      <td>0.006521</td>\n",
       "      <td>39.621023</td>\n",
       "      <td>0.005626</td>\n",
       "    </tr>\n",
       "  </tbody>\n",
       "</table>\n",
       "<p>5 rows × 55 columns</p>\n",
       "</div>"
      ],
      "text/plain": [
       "   pcr    rfs   Age   ER  PgR  ChemoGrade  Proliferation  LNStatus  \\\n",
       "0  1.0  144.0  41.0  0.0  0.0         3.0            3.0       1.0   \n",
       "1  0.0  142.0  39.0  1.0  1.0         3.0            3.0       1.0   \n",
       "2  1.0  135.0  31.0  0.0  0.0         2.0            1.0       0.0   \n",
       "3  0.0   12.0  35.0  0.0  0.0         3.0            3.0       1.0   \n",
       "4  0.0  109.0  61.0  1.0  0.0         2.0            1.0       0.0   \n",
       "\n",
       "   TumourStage  original_shape_Elongation  ...  \\\n",
       "0          2.0                   0.813912  ...   \n",
       "1          2.0                   0.666118  ...   \n",
       "2          2.0                   0.645083  ...   \n",
       "3          3.0                   0.770842  ...   \n",
       "4          2.0                   0.861035  ...   \n",
       "\n",
       "   original_glszm_HighGrayLevelZoneEmphasis  original_glszm_LargeAreaEmphasis  \\\n",
       "0                                  1.272727                       4067578.818   \n",
       "1                                  1.037500                       2403756.075   \n",
       "2                                  1.040541                       1561963.432   \n",
       "3                                  1.029703                       7007670.723   \n",
       "4                                  1.051724                       1288913.690   \n",
       "\n",
       "   original_glszm_LargeAreaHighGrayLevelEmphasis  \\\n",
       "0                                   1.565522e+07   \n",
       "1                                   9.614769e+06   \n",
       "2                                   6.247801e+06   \n",
       "3                                   2.803063e+07   \n",
       "4                                   5.155465e+06   \n",
       "\n",
       "   original_glszm_LargeAreaLowGrayLevelEmphasis  \\\n",
       "0                                  1.170667e+06   \n",
       "1                                  6.010027e+05   \n",
       "2                                  3.905040e+05   \n",
       "3                                  1.751932e+06   \n",
       "4                                  3.222760e+05   \n",
       "\n",
       "   original_glszm_SizeZoneNonUniformityNormalized  \\\n",
       "0                                        0.180900   \n",
       "1                                        0.198125   \n",
       "2                                        0.275749   \n",
       "3                                        0.253014   \n",
       "4                                        0.216409   \n",
       "\n",
       "   original_glszm_SmallAreaEmphasis  original_glszm_ZoneEntropy  \\\n",
       "0                          0.403535                    3.325332   \n",
       "1                          0.444391                    3.032144   \n",
       "2                          0.534549                    2.485848   \n",
       "3                          0.506185                    2.606255   \n",
       "4                          0.462282                    2.809279   \n",
       "\n",
       "   original_glszm_ZonePercentage  original_ngtdm_Busyness  \\\n",
       "0                       0.002314               473.464852   \n",
       "1                       0.005612                59.459710   \n",
       "2                       0.006752                33.935384   \n",
       "3                       0.003755                46.859265   \n",
       "4                       0.006521                39.621023   \n",
       "\n",
       "   original_ngtdm_Strength  \n",
       "0                 0.000758  \n",
       "1                 0.003685  \n",
       "2                 0.006447  \n",
       "3                 0.004543  \n",
       "4                 0.005626  \n",
       "\n",
       "[5 rows x 55 columns]"
      ]
     },
     "execution_count": 26,
     "metadata": {},
     "output_type": "execute_result"
    }
   ],
   "source": [
    "imputed_df.head()"
   ]
  },
  {
   "cell_type": "markdown",
   "id": "30f54624-2caa-4030-9992-6da207326639",
   "metadata": {},
   "source": [
    "## Identified that below three feature columns when the feature itself is categorical. So we round it to the closest integer\n",
    "\n",
    "1. ChemoGrade\n",
    "2. Proliferation\n",
    "3. LNStatus\n",
    "\n",
    "## Also the classification target variable had float values so rounding that too.\n",
    "1. PCR"
   ]
  },
  {
   "cell_type": "code",
   "execution_count": 27,
   "id": "7ee19eaa-ecde-44e0-a12a-376e42ddcd88",
   "metadata": {},
   "outputs": [],
   "source": [
    "imputed_df['ChemoGrade'] = imputed_df['ChemoGrade'].round()\n",
    "imputed_df['Proliferation'] = imputed_df['Proliferation'].round()\n",
    "imputed_df['LNStatus'] = imputed_df['LNStatus'].round()\n",
    "imputed_df['pcr'] = imputed_df['pcr'].round()"
   ]
  },
  {
   "cell_type": "code",
   "execution_count": 28,
   "id": "e8604585-5570-4572-9e04-e81d938bd6c2",
   "metadata": {},
   "outputs": [
    {
     "data": {
      "text/plain": [
       "TumourStage\n",
       "2.0    183\n",
       "3.0    104\n",
       "4.0     84\n",
       "1.0     29\n",
       "Name: count, dtype: int64"
      ]
     },
     "execution_count": 28,
     "metadata": {},
     "output_type": "execute_result"
    }
   ],
   "source": [
    "imputed_df['TumourStage'].value_counts()"
   ]
  },
  {
   "cell_type": "code",
   "execution_count": 29,
   "id": "34906c8c-3dbf-4be6-bdef-5877c00c168d",
   "metadata": {},
   "outputs": [
    {
     "data": {
      "text/plain": [
       "(ChemoGrade\n",
       " 2.0    236\n",
       " 3.0    162\n",
       " 1.0      2\n",
       " Name: count, dtype: int64,\n",
       " Proliferation\n",
       " 1.0    239\n",
       " 2.0     93\n",
       " 3.0     68\n",
       " Name: count, dtype: int64,\n",
       " TumourStage\n",
       " 2.0    183\n",
       " 3.0    104\n",
       " 4.0     84\n",
       " 1.0     29\n",
       " Name: count, dtype: int64)"
      ]
     },
     "execution_count": 29,
     "metadata": {},
     "output_type": "execute_result"
    }
   ],
   "source": [
    "imputed_df['ChemoGrade'].value_counts(), imputed_df['Proliferation'].value_counts(), imputed_df['TumourStage'].value_counts()"
   ]
  },
  {
   "cell_type": "markdown",
   "id": "f4453973-42d5-4b05-86c3-2b3db3c3a7d5",
   "metadata": {},
   "source": [
    "# Converting categorical value to one hot encoding \n",
    "### Following are the categorical features which has more than 2 categories\n",
    "1. ChemoGrade\n",
    "2. Proliferation\n",
    "3. TumourStage"
   ]
  },
  {
   "cell_type": "code",
   "execution_count": 30,
   "id": "ca37c341-6b7d-4830-aeec-3bc3de66f26d",
   "metadata": {
    "tags": []
   },
   "outputs": [],
   "source": [
    "imputed_df = pd.get_dummies(imputed_df, columns=['ChemoGrade', 'Proliferation', 'TumourStage'])"
   ]
  },
  {
   "cell_type": "code",
   "execution_count": 31,
   "id": "1dcf680b-9390-4eb1-a9ec-7a2099038370",
   "metadata": {},
   "outputs": [
    {
     "data": {
      "text/html": [
       "<div>\n",
       "<style scoped>\n",
       "    .dataframe tbody tr th:only-of-type {\n",
       "        vertical-align: middle;\n",
       "    }\n",
       "\n",
       "    .dataframe tbody tr th {\n",
       "        vertical-align: top;\n",
       "    }\n",
       "\n",
       "    .dataframe thead th {\n",
       "        text-align: right;\n",
       "    }\n",
       "</style>\n",
       "<table border=\"1\" class=\"dataframe\">\n",
       "  <thead>\n",
       "    <tr style=\"text-align: right;\">\n",
       "      <th></th>\n",
       "      <th>pcr</th>\n",
       "      <th>rfs</th>\n",
       "      <th>Age</th>\n",
       "      <th>ER</th>\n",
       "      <th>PgR</th>\n",
       "      <th>LNStatus</th>\n",
       "      <th>original_shape_Elongation</th>\n",
       "      <th>original_shape_Flatness</th>\n",
       "      <th>original_shape_LeastAxisLength</th>\n",
       "      <th>original_shape_MajorAxisLength</th>\n",
       "      <th>...</th>\n",
       "      <th>ChemoGrade_1.0</th>\n",
       "      <th>ChemoGrade_2.0</th>\n",
       "      <th>ChemoGrade_3.0</th>\n",
       "      <th>Proliferation_1.0</th>\n",
       "      <th>Proliferation_2.0</th>\n",
       "      <th>Proliferation_3.0</th>\n",
       "      <th>TumourStage_1.0</th>\n",
       "      <th>TumourStage_2.0</th>\n",
       "      <th>TumourStage_3.0</th>\n",
       "      <th>TumourStage_4.0</th>\n",
       "    </tr>\n",
       "  </thead>\n",
       "  <tbody>\n",
       "    <tr>\n",
       "      <th>0</th>\n",
       "      <td>1.0</td>\n",
       "      <td>144.0</td>\n",
       "      <td>41.0</td>\n",
       "      <td>0.0</td>\n",
       "      <td>0.0</td>\n",
       "      <td>1.0</td>\n",
       "      <td>0.813912</td>\n",
       "      <td>0.724080</td>\n",
       "      <td>23.781937</td>\n",
       "      <td>32.844370</td>\n",
       "      <td>...</td>\n",
       "      <td>False</td>\n",
       "      <td>False</td>\n",
       "      <td>True</td>\n",
       "      <td>False</td>\n",
       "      <td>False</td>\n",
       "      <td>True</td>\n",
       "      <td>False</td>\n",
       "      <td>True</td>\n",
       "      <td>False</td>\n",
       "      <td>False</td>\n",
       "    </tr>\n",
       "    <tr>\n",
       "      <th>1</th>\n",
       "      <td>0.0</td>\n",
       "      <td>142.0</td>\n",
       "      <td>39.0</td>\n",
       "      <td>1.0</td>\n",
       "      <td>1.0</td>\n",
       "      <td>1.0</td>\n",
       "      <td>0.666118</td>\n",
       "      <td>0.476173</td>\n",
       "      <td>20.715461</td>\n",
       "      <td>43.504095</td>\n",
       "      <td>...</td>\n",
       "      <td>False</td>\n",
       "      <td>False</td>\n",
       "      <td>True</td>\n",
       "      <td>False</td>\n",
       "      <td>False</td>\n",
       "      <td>True</td>\n",
       "      <td>False</td>\n",
       "      <td>True</td>\n",
       "      <td>False</td>\n",
       "      <td>False</td>\n",
       "    </tr>\n",
       "    <tr>\n",
       "      <th>2</th>\n",
       "      <td>1.0</td>\n",
       "      <td>135.0</td>\n",
       "      <td>31.0</td>\n",
       "      <td>0.0</td>\n",
       "      <td>0.0</td>\n",
       "      <td>0.0</td>\n",
       "      <td>0.645083</td>\n",
       "      <td>0.594470</td>\n",
       "      <td>21.659822</td>\n",
       "      <td>36.435505</td>\n",
       "      <td>...</td>\n",
       "      <td>False</td>\n",
       "      <td>True</td>\n",
       "      <td>False</td>\n",
       "      <td>True</td>\n",
       "      <td>False</td>\n",
       "      <td>False</td>\n",
       "      <td>False</td>\n",
       "      <td>True</td>\n",
       "      <td>False</td>\n",
       "      <td>False</td>\n",
       "    </tr>\n",
       "    <tr>\n",
       "      <th>3</th>\n",
       "      <td>0.0</td>\n",
       "      <td>12.0</td>\n",
       "      <td>35.0</td>\n",
       "      <td>0.0</td>\n",
       "      <td>0.0</td>\n",
       "      <td>1.0</td>\n",
       "      <td>0.770842</td>\n",
       "      <td>0.501228</td>\n",
       "      <td>26.590504</td>\n",
       "      <td>53.050724</td>\n",
       "      <td>...</td>\n",
       "      <td>False</td>\n",
       "      <td>False</td>\n",
       "      <td>True</td>\n",
       "      <td>False</td>\n",
       "      <td>False</td>\n",
       "      <td>True</td>\n",
       "      <td>False</td>\n",
       "      <td>False</td>\n",
       "      <td>True</td>\n",
       "      <td>False</td>\n",
       "    </tr>\n",
       "    <tr>\n",
       "      <th>4</th>\n",
       "      <td>0.0</td>\n",
       "      <td>109.0</td>\n",
       "      <td>61.0</td>\n",
       "      <td>1.0</td>\n",
       "      <td>0.0</td>\n",
       "      <td>0.0</td>\n",
       "      <td>0.861035</td>\n",
       "      <td>0.750267</td>\n",
       "      <td>20.456571</td>\n",
       "      <td>27.265716</td>\n",
       "      <td>...</td>\n",
       "      <td>False</td>\n",
       "      <td>True</td>\n",
       "      <td>False</td>\n",
       "      <td>True</td>\n",
       "      <td>False</td>\n",
       "      <td>False</td>\n",
       "      <td>False</td>\n",
       "      <td>True</td>\n",
       "      <td>False</td>\n",
       "      <td>False</td>\n",
       "    </tr>\n",
       "  </tbody>\n",
       "</table>\n",
       "<p>5 rows × 62 columns</p>\n",
       "</div>"
      ],
      "text/plain": [
       "   pcr    rfs   Age   ER  PgR  LNStatus  original_shape_Elongation  \\\n",
       "0  1.0  144.0  41.0  0.0  0.0       1.0                   0.813912   \n",
       "1  0.0  142.0  39.0  1.0  1.0       1.0                   0.666118   \n",
       "2  1.0  135.0  31.0  0.0  0.0       0.0                   0.645083   \n",
       "3  0.0   12.0  35.0  0.0  0.0       1.0                   0.770842   \n",
       "4  0.0  109.0  61.0  1.0  0.0       0.0                   0.861035   \n",
       "\n",
       "   original_shape_Flatness  original_shape_LeastAxisLength  \\\n",
       "0                 0.724080                       23.781937   \n",
       "1                 0.476173                       20.715461   \n",
       "2                 0.594470                       21.659822   \n",
       "3                 0.501228                       26.590504   \n",
       "4                 0.750267                       20.456571   \n",
       "\n",
       "   original_shape_MajorAxisLength  ...  ChemoGrade_1.0  ChemoGrade_2.0  \\\n",
       "0                       32.844370  ...           False           False   \n",
       "1                       43.504095  ...           False           False   \n",
       "2                       36.435505  ...           False            True   \n",
       "3                       53.050724  ...           False           False   \n",
       "4                       27.265716  ...           False            True   \n",
       "\n",
       "   ChemoGrade_3.0  Proliferation_1.0  Proliferation_2.0  Proliferation_3.0  \\\n",
       "0            True              False              False               True   \n",
       "1            True              False              False               True   \n",
       "2           False               True              False              False   \n",
       "3            True              False              False               True   \n",
       "4           False               True              False              False   \n",
       "\n",
       "   TumourStage_1.0  TumourStage_2.0  TumourStage_3.0  TumourStage_4.0  \n",
       "0            False             True            False            False  \n",
       "1            False             True            False            False  \n",
       "2            False             True            False            False  \n",
       "3            False            False             True            False  \n",
       "4            False             True            False            False  \n",
       "\n",
       "[5 rows x 62 columns]"
      ]
     },
     "execution_count": 31,
     "metadata": {},
     "output_type": "execute_result"
    }
   ],
   "source": [
    "imputed_df.head()"
   ]
  },
  {
   "cell_type": "markdown",
   "id": "7daae8e0-d57a-4a35-9462-f15acff620a1",
   "metadata": {},
   "source": [
    "### Converting bool one hot encoding to integer one hot encoding"
   ]
  },
  {
   "cell_type": "code",
   "execution_count": 32,
   "id": "1a340bcc-a96a-47f6-92f1-51d82d51755c",
   "metadata": {
    "tags": []
   },
   "outputs": [],
   "source": [
    "multi_category_variables = ['ChemoGrade_1.0', 'ChemoGrade_2.0', 'ChemoGrade_3.0', 'Proliferation_1.0', 'Proliferation_2.0',\n",
    "       'Proliferation_3.0', 'TumourStage_1.0', 'TumourStage_2.0', 'TumourStage_3.0', 'TumourStage_4.0']"
   ]
  },
  {
   "cell_type": "code",
   "execution_count": 33,
   "id": "e349a685-8a09-4753-bb17-106e78a99c7b",
   "metadata": {},
   "outputs": [],
   "source": [
    "for column in multi_category_variables:\n",
    "    imputed_df[column] = imputed_df[column].astype(np.float32)"
   ]
  },
  {
   "cell_type": "code",
   "execution_count": 34,
   "id": "a1aaed16-b50c-4d8d-9256-58aaf9d69a23",
   "metadata": {},
   "outputs": [
    {
     "data": {
      "text/html": [
       "<div>\n",
       "<style scoped>\n",
       "    .dataframe tbody tr th:only-of-type {\n",
       "        vertical-align: middle;\n",
       "    }\n",
       "\n",
       "    .dataframe tbody tr th {\n",
       "        vertical-align: top;\n",
       "    }\n",
       "\n",
       "    .dataframe thead th {\n",
       "        text-align: right;\n",
       "    }\n",
       "</style>\n",
       "<table border=\"1\" class=\"dataframe\">\n",
       "  <thead>\n",
       "    <tr style=\"text-align: right;\">\n",
       "      <th></th>\n",
       "      <th>ChemoGrade_1.0</th>\n",
       "      <th>ChemoGrade_2.0</th>\n",
       "      <th>ChemoGrade_3.0</th>\n",
       "      <th>Proliferation_1.0</th>\n",
       "      <th>Proliferation_2.0</th>\n",
       "      <th>Proliferation_3.0</th>\n",
       "      <th>TumourStage_1.0</th>\n",
       "      <th>TumourStage_2.0</th>\n",
       "      <th>TumourStage_3.0</th>\n",
       "      <th>TumourStage_4.0</th>\n",
       "    </tr>\n",
       "  </thead>\n",
       "  <tbody>\n",
       "    <tr>\n",
       "      <th>0</th>\n",
       "      <td>0.0</td>\n",
       "      <td>0.0</td>\n",
       "      <td>1.0</td>\n",
       "      <td>0.0</td>\n",
       "      <td>0.0</td>\n",
       "      <td>1.0</td>\n",
       "      <td>0.0</td>\n",
       "      <td>1.0</td>\n",
       "      <td>0.0</td>\n",
       "      <td>0.0</td>\n",
       "    </tr>\n",
       "    <tr>\n",
       "      <th>1</th>\n",
       "      <td>0.0</td>\n",
       "      <td>0.0</td>\n",
       "      <td>1.0</td>\n",
       "      <td>0.0</td>\n",
       "      <td>0.0</td>\n",
       "      <td>1.0</td>\n",
       "      <td>0.0</td>\n",
       "      <td>1.0</td>\n",
       "      <td>0.0</td>\n",
       "      <td>0.0</td>\n",
       "    </tr>\n",
       "    <tr>\n",
       "      <th>2</th>\n",
       "      <td>0.0</td>\n",
       "      <td>1.0</td>\n",
       "      <td>0.0</td>\n",
       "      <td>1.0</td>\n",
       "      <td>0.0</td>\n",
       "      <td>0.0</td>\n",
       "      <td>0.0</td>\n",
       "      <td>1.0</td>\n",
       "      <td>0.0</td>\n",
       "      <td>0.0</td>\n",
       "    </tr>\n",
       "    <tr>\n",
       "      <th>3</th>\n",
       "      <td>0.0</td>\n",
       "      <td>0.0</td>\n",
       "      <td>1.0</td>\n",
       "      <td>0.0</td>\n",
       "      <td>0.0</td>\n",
       "      <td>1.0</td>\n",
       "      <td>0.0</td>\n",
       "      <td>0.0</td>\n",
       "      <td>1.0</td>\n",
       "      <td>0.0</td>\n",
       "    </tr>\n",
       "    <tr>\n",
       "      <th>4</th>\n",
       "      <td>0.0</td>\n",
       "      <td>1.0</td>\n",
       "      <td>0.0</td>\n",
       "      <td>1.0</td>\n",
       "      <td>0.0</td>\n",
       "      <td>0.0</td>\n",
       "      <td>0.0</td>\n",
       "      <td>1.0</td>\n",
       "      <td>0.0</td>\n",
       "      <td>0.0</td>\n",
       "    </tr>\n",
       "    <tr>\n",
       "      <th>...</th>\n",
       "      <td>...</td>\n",
       "      <td>...</td>\n",
       "      <td>...</td>\n",
       "      <td>...</td>\n",
       "      <td>...</td>\n",
       "      <td>...</td>\n",
       "      <td>...</td>\n",
       "      <td>...</td>\n",
       "      <td>...</td>\n",
       "      <td>...</td>\n",
       "    </tr>\n",
       "    <tr>\n",
       "      <th>395</th>\n",
       "      <td>0.0</td>\n",
       "      <td>0.0</td>\n",
       "      <td>1.0</td>\n",
       "      <td>0.0</td>\n",
       "      <td>1.0</td>\n",
       "      <td>0.0</td>\n",
       "      <td>0.0</td>\n",
       "      <td>0.0</td>\n",
       "      <td>0.0</td>\n",
       "      <td>1.0</td>\n",
       "    </tr>\n",
       "    <tr>\n",
       "      <th>396</th>\n",
       "      <td>0.0</td>\n",
       "      <td>0.0</td>\n",
       "      <td>1.0</td>\n",
       "      <td>0.0</td>\n",
       "      <td>0.0</td>\n",
       "      <td>1.0</td>\n",
       "      <td>0.0</td>\n",
       "      <td>1.0</td>\n",
       "      <td>0.0</td>\n",
       "      <td>0.0</td>\n",
       "    </tr>\n",
       "    <tr>\n",
       "      <th>397</th>\n",
       "      <td>0.0</td>\n",
       "      <td>1.0</td>\n",
       "      <td>0.0</td>\n",
       "      <td>1.0</td>\n",
       "      <td>0.0</td>\n",
       "      <td>0.0</td>\n",
       "      <td>0.0</td>\n",
       "      <td>1.0</td>\n",
       "      <td>0.0</td>\n",
       "      <td>0.0</td>\n",
       "    </tr>\n",
       "    <tr>\n",
       "      <th>398</th>\n",
       "      <td>0.0</td>\n",
       "      <td>0.0</td>\n",
       "      <td>1.0</td>\n",
       "      <td>0.0</td>\n",
       "      <td>0.0</td>\n",
       "      <td>1.0</td>\n",
       "      <td>0.0</td>\n",
       "      <td>0.0</td>\n",
       "      <td>1.0</td>\n",
       "      <td>0.0</td>\n",
       "    </tr>\n",
       "    <tr>\n",
       "      <th>399</th>\n",
       "      <td>0.0</td>\n",
       "      <td>1.0</td>\n",
       "      <td>0.0</td>\n",
       "      <td>1.0</td>\n",
       "      <td>0.0</td>\n",
       "      <td>0.0</td>\n",
       "      <td>0.0</td>\n",
       "      <td>1.0</td>\n",
       "      <td>0.0</td>\n",
       "      <td>0.0</td>\n",
       "    </tr>\n",
       "  </tbody>\n",
       "</table>\n",
       "<p>400 rows × 10 columns</p>\n",
       "</div>"
      ],
      "text/plain": [
       "     ChemoGrade_1.0  ChemoGrade_2.0  ChemoGrade_3.0  Proliferation_1.0  \\\n",
       "0               0.0             0.0             1.0                0.0   \n",
       "1               0.0             0.0             1.0                0.0   \n",
       "2               0.0             1.0             0.0                1.0   \n",
       "3               0.0             0.0             1.0                0.0   \n",
       "4               0.0             1.0             0.0                1.0   \n",
       "..              ...             ...             ...                ...   \n",
       "395             0.0             0.0             1.0                0.0   \n",
       "396             0.0             0.0             1.0                0.0   \n",
       "397             0.0             1.0             0.0                1.0   \n",
       "398             0.0             0.0             1.0                0.0   \n",
       "399             0.0             1.0             0.0                1.0   \n",
       "\n",
       "     Proliferation_2.0  Proliferation_3.0  TumourStage_1.0  TumourStage_2.0  \\\n",
       "0                  0.0                1.0              0.0              1.0   \n",
       "1                  0.0                1.0              0.0              1.0   \n",
       "2                  0.0                0.0              0.0              1.0   \n",
       "3                  0.0                1.0              0.0              0.0   \n",
       "4                  0.0                0.0              0.0              1.0   \n",
       "..                 ...                ...              ...              ...   \n",
       "395                1.0                0.0              0.0              0.0   \n",
       "396                0.0                1.0              0.0              1.0   \n",
       "397                0.0                0.0              0.0              1.0   \n",
       "398                0.0                1.0              0.0              0.0   \n",
       "399                0.0                0.0              0.0              1.0   \n",
       "\n",
       "     TumourStage_3.0  TumourStage_4.0  \n",
       "0                0.0              0.0  \n",
       "1                0.0              0.0  \n",
       "2                0.0              0.0  \n",
       "3                1.0              0.0  \n",
       "4                0.0              0.0  \n",
       "..               ...              ...  \n",
       "395              0.0              1.0  \n",
       "396              0.0              0.0  \n",
       "397              0.0              0.0  \n",
       "398              1.0              0.0  \n",
       "399              0.0              0.0  \n",
       "\n",
       "[400 rows x 10 columns]"
      ]
     },
     "execution_count": 34,
     "metadata": {},
     "output_type": "execute_result"
    }
   ],
   "source": [
    "imputed_df[multi_category_variables]"
   ]
  },
  {
   "cell_type": "code",
   "execution_count": 35,
   "id": "ebd4be66-9d34-47ce-818d-f7828cfb1029",
   "metadata": {},
   "outputs": [],
   "source": [
    "train, test = train_test_split(imputed_df, test_size=0.20)"
   ]
  },
  {
   "cell_type": "code",
   "execution_count": 36,
   "id": "bfd7bc6e-876d-4ac0-8d6e-41a1e578f9e3",
   "metadata": {},
   "outputs": [
    {
     "data": {
      "text/plain": [
       "((320, 62), (80, 62))"
      ]
     },
     "execution_count": 36,
     "metadata": {},
     "output_type": "execute_result"
    }
   ],
   "source": [
    "train.shape, test.shape"
   ]
  },
  {
   "cell_type": "markdown",
   "id": "d33f9603-0cc1-4ef0-a338-d8fce65244c0",
   "metadata": {},
   "source": [
    "## Separating categorical and continous data separately to process"
   ]
  },
  {
   "cell_type": "code",
   "execution_count": 37,
   "id": "3677646d-e096-457f-9975-ed39c2080c37",
   "metadata": {},
   "outputs": [],
   "source": [
    "multi_category_variables = ['ChemoGrade_1.0', 'ChemoGrade_2.0', 'ChemoGrade_3.0', 'Proliferation_1.0', 'Proliferation_2.0',\n",
    "       'Proliferation_3.0', 'TumourStage_1.0', 'TumourStage_2.0', 'TumourStage_3.0', 'TumourStage_4.0']\n",
    "\n",
    "categorical_features_labels = ['ER', 'PgR', 'LNStatus'] + multi_category_variables\n",
    "\n",
    "continous_features_labels = imputed_df.drop(columns=categorical_features_labels+['pcr', 'rfs']).columns"
   ]
  },
  {
   "cell_type": "code",
   "execution_count": 38,
   "id": "add3f198-16d2-4092-8f83-b91cce525ef5",
   "metadata": {},
   "outputs": [
    {
     "data": {
      "text/plain": [
       "(13, 47)"
      ]
     },
     "execution_count": 38,
     "metadata": {},
     "output_type": "execute_result"
    }
   ],
   "source": [
    "len(categorical_features_labels), len(continous_features_labels)"
   ]
  },
  {
   "cell_type": "code",
   "execution_count": 39,
   "id": "b640b9a9-27b6-43bb-9e33-d0aed224262f",
   "metadata": {},
   "outputs": [],
   "source": [
    "train_continous_feature_array = train[continous_features_labels].to_numpy()\n",
    "\n",
    "test_continous_feature_array = test[continous_features_labels].to_numpy()"
   ]
  },
  {
   "cell_type": "code",
   "execution_count": 41,
   "id": "3c95ec37-d5fc-4f8b-aa61-133e04adc2ea",
   "metadata": {},
   "outputs": [],
   "source": [
    "scalerTrainX = StandardScaler()\n",
    "\n",
    "train_cont_X = scalerTrainX.fit_transform(train_continous_feature_array)\n",
    "train_cat_X = train[categorical_features_labels].to_numpy()\n",
    "trainX = np.hstack((train_cat_X, train_cont_X))\n",
    "                   \n",
    "trainY = train['pcr'].to_numpy().reshape(-1, 1)\n",
    "\n",
    "                   \n",
    "test_cont_X = scalerTrainX.transform(test_continous_feature_array)\n",
    "test_cat_X = test[categorical_features_labels].to_numpy()\n",
    "testX = np.hstack((test_cat_X, test_cont_X))\n",
    "                   \n",
    "testY = test['pcr'].to_numpy().reshape(-1, 1)\n"
   ]
  },
  {
   "cell_type": "code",
   "execution_count": 62,
   "id": "f0e5dd4d-c64e-4332-9fd2-675cff12a901",
   "metadata": {},
   "outputs": [],
   "source": [
    "dataset_save_path = \"dataset/dataset_v2\""
   ]
  },
  {
   "cell_type": "code",
   "execution_count": 63,
   "id": "b06ca6c8-abc0-4959-ad97-262f5cedb835",
   "metadata": {},
   "outputs": [
    {
     "name": "stdout",
     "output_type": "stream",
     "text": [
      "Caution, saving dataset in order!.. Check arguments\n",
      "Saving for classification task\n"
     ]
    }
   ],
   "source": [
    "# imputed_df.to_csv(f\"{dataset_save_path}/imputed_df.csv\")\n",
    "# save_dataset(xTrain=trainX, yTrain=trainY, xTest=testX, yTest=testY,\n",
    "#              path=f'{dataset_save_path}/')\n",
    "# save_normalizer(path=f'{dataset_save_path}/', Xnormalizer=scalerTrainX, task='classification')"
   ]
  },
  {
   "cell_type": "code",
   "execution_count": 2,
   "id": "02d2959c-0809-4f35-a8a8-16f697e89dd3",
   "metadata": {},
   "outputs": [
    {
     "name": "stdout",
     "output_type": "stream",
     "text": [
      "Caution, loading dataset in order!.. Check arguments\n",
      "Loading for classification task\n"
     ]
    }
   ],
   "source": [
    "datasetv2_save_path = \"dataset/dataset_v2\"\n",
    "trainX, trainY, testX, testY = load_dataset(path=datasetv2_save_path)\n",
    "scalerTrainX = load_normalizer(path=datasetv2_save_path, task='classification')"
   ]
  },
  {
   "cell_type": "code",
   "execution_count": 42,
   "id": "95144a94-b870-4030-8d7c-3009f25c39fe",
   "metadata": {},
   "outputs": [
    {
     "data": {
      "text/plain": [
       "((320, 60), (320, 1), (80, 60), (80, 1))"
      ]
     },
     "execution_count": 42,
     "metadata": {},
     "output_type": "execute_result"
    }
   ],
   "source": [
    "trainX.shape, trainY.shape, testX.shape, testY.shape"
   ]
  },
  {
   "cell_type": "code",
   "execution_count": 43,
   "id": "c5e398ce-52fa-40cc-abcc-ac1c2ba0d3f8",
   "metadata": {},
   "outputs": [
    {
     "name": "stdout",
     "output_type": "stream",
     "text": [
      "Train Value counts : (array([0., 1.]), array([253,  67], dtype=int64))\n",
      "Test Value counts : (array([0., 1.]), array([63, 17], dtype=int64))\n",
      "Imbalance train ratio : 3.7761194029850746\n",
      "Imbalance test ratio : 3.7058823529411766\n"
     ]
    }
   ],
   "source": [
    "train_unique_values, train_counts = np.unique(trainY, return_counts=True) \n",
    "test_unique_values, test_counts = np.unique(testY, return_counts=True) \n",
    "\n",
    "print(f'Train Value counts : {train_unique_values, train_counts}')\n",
    "print(f'Test Value counts : {test_unique_values, test_counts}')\n",
    "\n",
    "print(f'Imbalance train ratio : {max(train_counts)/min(train_counts)}')\n",
    "print(f'Imbalance test ratio : {max(test_counts)/min(test_counts)}')"
   ]
  },
  {
   "cell_type": "code",
   "execution_count": 44,
   "id": "1db142d4-56bb-4c08-8b2d-83f17a89a5f3",
   "metadata": {},
   "outputs": [
    {
     "data": {
      "image/png": "[encoded data removed]",
      "text/plain": [
       "<Figure size 864x432 with 2 Axes>"
      ]
     },
     "metadata": {
      "needs_background": "light"
     },
     "output_type": "display_data"
    }
   ],
   "source": [
    "fig, axes = plt.subplots(1, 2, figsize=(12,6))\n",
    "\n",
    "axes[0].bar(x=train_unique_values, height=train_counts)\n",
    "axes[1].bar(x=test_unique_values, height=test_counts)\n",
    "\n",
    "fig.suptitle('Train and Test Class value counts')\n",
    "\n",
    "plt.show()"
   ]
  },
  {
   "cell_type": "markdown",
   "id": "faa4b85d-788a-44f3-8c34-d8217a740cdf",
   "metadata": {},
   "source": [
    "# Classification Task split and z-score normalization"
   ]
  },
  {
   "cell_type": "markdown",
   "id": "8a8b3188-a2d4-48c7-b9c3-41440a8a05e4",
   "metadata": {},
   "source": [
    "# Model training \n",
    "### Random Forest\n",
    "\n",
    "1. Vanilla training with imbalanced dataset, without any hyperparameter optimization"
   ]
  },
  {
   "cell_type": "code",
   "execution_count": 3,
   "id": "af31de7a-c225-4a25-9695-29dd579dad38",
   "metadata": {},
   "outputs": [],
   "source": [
    "from sklearn.ensemble import RandomForestClassifier\n",
    "from utils.general_utils import save_model\n",
    "from sklearn.model_selection import train_test_split, GridSearchCV,cross_val_score, RepeatedStratifiedKFold\n",
    "from sklearn.metrics import mean_squared_error, mean_absolute_error, r2_score, balanced_accuracy_score\n",
    "from sklearn.metrics import ConfusionMatrixDisplay, confusion_matrix\n",
    "from sklearn.metrics import f1_score, precision_score, recall_score\n",
    "from sklearn.metrics import classification_report\n",
    "\n",
    "import imblearn\n",
    "from imblearn.pipeline import Pipeline"
   ]
  },
  {
   "cell_type": "code",
   "execution_count": 53,
   "id": "b546f3e6-bbec-4034-bb75-615a982f9402",
   "metadata": {},
   "outputs": [
    {
     "data": {
      "text/plain": [
       "((array([0., 1.]), array([253,  67], dtype=int64)), 320)"
      ]
     },
     "execution_count": 53,
     "metadata": {},
     "output_type": "execute_result"
    }
   ],
   "source": [
    "np.unique(trainY, return_counts=True), len(trainY)"
   ]
  },
  {
   "cell_type": "code",
   "execution_count": 47,
   "id": "88d81399-4ea5-4ca4-8580-e268809659a0",
   "metadata": {},
   "outputs": [],
   "source": [
    "class1_mask = trainY == 1\n",
    "sample_weights = np.zeros_like(trainY)\n",
    "sample_weights[:,:] = 0.3\n",
    "sample_weights[class1_mask] = 0.7 "
   ]
  },
  {
   "cell_type": "code",
   "execution_count": 55,
   "id": "4b819125-6ba3-4825-b3d8-9edd4f7e2852",
   "metadata": {},
   "outputs": [
    {
     "data": {
      "text/plain": [
       "{0: 1.0, 1: 2.388059701492537}"
      ]
     },
     "execution_count": 55,
     "metadata": {},
     "output_type": "execute_result"
    }
   ],
   "source": [
    "_, class_counts = np.unique(trainY, return_counts=True)\n",
    "class_weights = {0: 1.0, 1: len(trainY) / (2 * class_counts[1])}\n",
    "class_weights"
   ]
  },
  {
   "cell_type": "code",
   "execution_count": 56,
   "id": "ce22af0b-3b48-4c0b-917e-7af92b94e4cb",
   "metadata": {},
   "outputs": [],
   "source": [
    "classifier = RandomForestClassifier(random_state=0, verbose=0, class_weight=class_weights) #class_weight='balanced'"
   ]
  },
  {
   "cell_type": "code",
   "execution_count": 57,
   "id": "b4fc1a56-13b3-4ad8-b606-5fe20b6d46cf",
   "metadata": {},
   "outputs": [
    {
     "data": {
      "text/plain": [
       "RandomForestClassifier(class_weight={0: 1.0, 1: 2.388059701492537},\n",
       "                       random_state=0)"
      ]
     },
     "execution_count": 57,
     "metadata": {},
     "output_type": "execute_result"
    }
   ],
   "source": [
    "classifier.fit(trainX, trainY.ravel(), sample_weight=sample_weights.ravel())"
   ]
  },
  {
   "cell_type": "code",
   "execution_count": 59,
   "id": "2d86035a-c4e0-4578-aafe-a918636102b0",
   "metadata": {},
   "outputs": [
    {
     "name": "stdout",
     "output_type": "stream",
     "text": [
      "Balanced classification accuracy : 0.5\n",
      "MAE error: 0.2125\n",
      "R2 error: -0.26984126984127\n",
      "\n",
      "              precision    recall  f1-score   support\n",
      "\n",
      "         0.0       0.79      1.00      0.88        63\n",
      "         1.0       0.00      0.00      0.00        17\n",
      "\n",
      "    accuracy                           0.79        80\n",
      "   macro avg       0.39      0.50      0.44        80\n",
      "weighted avg       0.62      0.79      0.69        80\n",
      "\n"
     ]
    },
    {
     "name": "stderr",
     "output_type": "stream",
     "text": [
      "C:\\Users\\sudar\\anaconda3\\lib\\site-packages\\sklearn\\metrics\\_classification.py:1318: UndefinedMetricWarning: Precision and F-score are ill-defined and being set to 0.0 in labels with no predicted samples. Use `zero_division` parameter to control this behavior.\n",
      "  _warn_prf(average, modifier, msg_start, len(result))\n",
      "C:\\Users\\sudar\\anaconda3\\lib\\site-packages\\sklearn\\metrics\\_classification.py:1318: UndefinedMetricWarning: Precision and F-score are ill-defined and being set to 0.0 in labels with no predicted samples. Use `zero_division` parameter to control this behavior.\n",
      "  _warn_prf(average, modifier, msg_start, len(result))\n",
      "C:\\Users\\sudar\\anaconda3\\lib\\site-packages\\sklearn\\metrics\\_classification.py:1318: UndefinedMetricWarning: Precision and F-score are ill-defined and being set to 0.0 in labels with no predicted samples. Use `zero_division` parameter to control this behavior.\n",
      "  _warn_prf(average, modifier, msg_start, len(result))\n"
     ]
    }
   ],
   "source": [
    "predicted = classifier.predict(testX)\n",
    "test_bas_error = balanced_accuracy_score(testY, predicted)\n",
    "test_mae_error = mean_absolute_error(testY, predicted)\n",
    "test_r2_error = r2_score(testY, predicted)\n",
    "\n",
    "\n",
    "print(f'Balanced classification accuracy : {test_bas_error}')\n",
    "print(f'MAE error: {test_mae_error}')\n",
    "print(f'R2 error: {test_r2_error}')\n",
    "print()\n",
    "print(classification_report(testY, predicted))"
   ]
  },
  {
   "cell_type": "code",
   "execution_count": 60,
   "id": "1f290d3c-8373-4515-b989-e3a133c1093e",
   "metadata": {},
   "outputs": [
    {
     "name": "stdout",
     "output_type": "stream",
     "text": [
      "[[63  0]\n",
      " [17  0]]\n"
     ]
    },
    {
     "data": {
      "image/png": "[encoded data removed]",
      "text/plain": [
       "<Figure size 432x288 with 2 Axes>"
      ]
     },
     "metadata": {
      "needs_background": "light"
     },
     "output_type": "display_data"
    }
   ],
   "source": [
    "disp = ConfusionMatrixDisplay.from_estimator(\n",
    "        classifier,\n",
    "        testX,\n",
    "        testY,\n",
    "        display_labels=['0','1'],\n",
    "        cmap=plt.cm.Blues,\n",
    "        normalize=None)\n",
    "    \n",
    "disp.ax_.set_title(\"PCR Confusion matrix\")\n",
    "print(disp.confusion_matrix)\n",
    "\n",
    "plt.show()"
   ]
  },
  {
   "cell_type": "markdown",
   "id": "4a24e453-ae82-4867-9b42-2ac2b0d69312",
   "metadata": {},
   "source": [
    "# Handling class imbalance using SMOTE"
   ]
  },
  {
   "cell_type": "code",
   "execution_count": 4,
   "id": "be77a642-34de-48d1-81c1-0b345565d652",
   "metadata": {},
   "outputs": [],
   "source": [
    "from sklearn.manifold import TSNE # TSNE module\n",
    "from sklearn.decomposition import PCA"
   ]
  },
  {
   "cell_type": "code",
   "execution_count": 62,
   "id": "4fc43f09-0324-4a97-93b5-be12ce27c335",
   "metadata": {},
   "outputs": [
    {
     "name": "stderr",
     "output_type": "stream",
     "text": [
      "C:\\Users\\sudar\\anaconda3\\lib\\site-packages\\sklearn\\manifold\\_t_sne.py:780: FutureWarning: The default initialization in TSNE will change from 'random' to 'pca' in 1.2.\n",
      "  warnings.warn(\n",
      "C:\\Users\\sudar\\anaconda3\\lib\\site-packages\\sklearn\\manifold\\_t_sne.py:790: FutureWarning: The default learning rate in TSNE will change from 200.0 to 'auto' in 1.2.\n",
      "  warnings.warn(\n"
     ]
    },
    {
     "name": "stdout",
     "output_type": "stream",
     "text": [
      "[t-SNE] Computing 121 nearest neighbors...\n",
      "[t-SNE] Indexed 320 samples in 0.001s...\n",
      "[t-SNE] Computed neighbors for 320 samples in 0.014s...\n",
      "[t-SNE] Computed conditional probabilities for sample 320 / 320\n",
      "[t-SNE] Mean sigma: 2.506121\n",
      "[t-SNE] KL divergence after 250 iterations with early exaggeration: 63.466442\n",
      "[t-SNE] KL divergence after 1000 iterations: 0.728763\n"
     ]
    },
    {
     "data": {
      "image/png": "[encoded data removed]",
      "text/plain": [
       "<Figure size 720x360 with 4 Axes>"
      ]
     },
     "metadata": {
      "needs_background": "light"
     },
     "output_type": "display_data"
    }
   ],
   "source": [
    "X = trainX\n",
    "Labels = trainY\n",
    "\n",
    "tsne = TSNE(n_components=2, verbose=1, perplexity=40, n_iter=1000)\n",
    "tsne_results = tsne.fit_transform(X)\n",
    "\n",
    "pca = PCA(n_components=2)\n",
    "pca_2d = pca.fit_transform(X)\n",
    "\n",
    "# Plot the TSNE and PCA visuals side-by-side\n",
    "plt.figure(figsize = (10,5))\n",
    "plt.subplot(121)\n",
    "plt.scatter(pca_2d[:,0], pca_2d[:,1], c = Labels,\n",
    "            cmap = \"coolwarm\", edgecolor = \"None\", alpha=0.35)\n",
    "plt.colorbar()\n",
    "plt.title('PCA Scatter Plot')\n",
    "\n",
    "plt.subplot(122)\n",
    "plt.scatter(tsne_results[:,0],tsne_results[:,1],  c = Labels,\n",
    "            cmap = \"coolwarm\", edgecolor = \"None\", alpha=0.35)\n",
    "plt.colorbar()\n",
    "plt.title('TSNE Scatter Plot')\n",
    "plt.show()"
   ]
  },
  {
   "cell_type": "code",
   "execution_count": 63,
   "id": "d9c392a1-7452-4b4f-865c-3eec2d0a2416",
   "metadata": {},
   "outputs": [],
   "source": [
    "# oversample = imblearn.over_sampling.BorderlineSMOTE(sampling_strategy=1)\n",
    "oversample = imblearn.over_sampling.ADASYN()\n",
    "\n",
    "\n",
    "imputed_x, imputed_y = oversample.fit_resample(trainX, trainY)"
   ]
  },
  {
   "cell_type": "code",
   "execution_count": 64,
   "id": "d50c8a32-62e8-4a69-b839-8e1ea2c65d29",
   "metadata": {},
   "outputs": [
    {
     "data": {
      "image/png": "[encoded data removed]",
      "text/plain": [
       "<Figure size 432x432 with 1 Axes>"
      ]
     },
     "metadata": {
      "needs_background": "light"
     },
     "output_type": "display_data"
    }
   ],
   "source": [
    "train_unique_values, train_counts = np.unique(imputed_y, return_counts=True) \n",
    "\n",
    "plt.figure(figsize=(6,6))\n",
    "\n",
    "plt.bar(x=train_unique_values, height=train_counts)\n",
    "\n",
    "plt.show()"
   ]
  },
  {
   "cell_type": "code",
   "execution_count": 65,
   "id": "a82200bd-a878-4ef3-bbc1-84f92ffd3437",
   "metadata": {},
   "outputs": [
    {
     "name": "stderr",
     "output_type": "stream",
     "text": [
      "C:\\Users\\sudar\\anaconda3\\lib\\site-packages\\sklearn\\manifold\\_t_sne.py:780: FutureWarning: The default initialization in TSNE will change from 'random' to 'pca' in 1.2.\n",
      "  warnings.warn(\n",
      "C:\\Users\\sudar\\anaconda3\\lib\\site-packages\\sklearn\\manifold\\_t_sne.py:790: FutureWarning: The default learning rate in TSNE will change from 200.0 to 'auto' in 1.2.\n",
      "  warnings.warn(\n"
     ]
    },
    {
     "name": "stdout",
     "output_type": "stream",
     "text": [
      "[t-SNE] Computing 121 nearest neighbors...\n",
      "[t-SNE] Indexed 504 samples in 0.001s...\n",
      "[t-SNE] Computed neighbors for 504 samples in 0.030s...\n",
      "[t-SNE] Computed conditional probabilities for sample 504 / 504\n",
      "[t-SNE] Mean sigma: 2.333105\n",
      "[t-SNE] KL divergence after 250 iterations with early exaggeration: 66.729172\n",
      "[t-SNE] KL divergence after 1000 iterations: 0.760443\n"
     ]
    },
    {
     "data": {
      "image/png": "[encoded data removed]",
      "text/plain": [
       "<Figure size 720x360 with 4 Axes>"
      ]
     },
     "metadata": {
      "needs_background": "light"
     },
     "output_type": "display_data"
    }
   ],
   "source": [
    "X = imputed_x\n",
    "Labels = imputed_y\n",
    "\n",
    "tsne = TSNE(n_components=2, verbose=1, perplexity=40, n_iter=1000)\n",
    "tsne_results = tsne.fit_transform(X)\n",
    "\n",
    "pca = PCA(n_components=2)\n",
    "pca_2d = pca.fit_transform(X)\n",
    "\n",
    "# Plot the TSNE and PCA visuals side-by-side\n",
    "plt.figure(figsize = (10,5))\n",
    "plt.subplot(121)\n",
    "plt.scatter(pca_2d[:,0], pca_2d[:,1], c = Labels,\n",
    "            cmap = \"coolwarm\", edgecolor = \"None\", alpha=0.35)\n",
    "plt.colorbar()\n",
    "plt.title('PCA Scatter Plot')\n",
    "\n",
    "plt.subplot(122)\n",
    "plt.scatter(tsne_results[:,0],tsne_results[:,1],  c = Labels,\n",
    "            cmap = \"coolwarm\", edgecolor = \"None\", alpha=0.35)\n",
    "plt.colorbar()\n",
    "plt.title('TSNE Scatter Plot')\n",
    "plt.show()"
   ]
  },
  {
   "cell_type": "code",
   "execution_count": 70,
   "id": "4f3c5232-8d51-4cbd-97f5-2f91cd3aba61",
   "metadata": {},
   "outputs": [],
   "source": [
    "# classifier = RandomForestClassifier(random_state=0, n_estimators=50, min_samples_split=5, max_depth=15, criterion='entropy', verbose=0) #class_weight='balanced'\n",
    "classifier = RandomForestClassifier(random_state=42, verbose=0) #class_weight='balanced'"
   ]
  },
  {
   "cell_type": "code",
   "execution_count": 71,
   "id": "1014d2f8-60d9-4d9d-9d15-49cf26431729",
   "metadata": {},
   "outputs": [
    {
     "data": {
      "text/plain": [
       "RandomForestClassifier(random_state=42)"
      ]
     },
     "execution_count": 71,
     "metadata": {},
     "output_type": "execute_result"
    }
   ],
   "source": [
    "classifier.fit(imputed_x, imputed_y.ravel())"
   ]
  },
  {
   "cell_type": "code",
   "execution_count": 72,
   "id": "c0d262bc-867f-400a-83c3-9d6fb3203d64",
   "metadata": {},
   "outputs": [
    {
     "name": "stdout",
     "output_type": "stream",
     "text": [
      "Balanced classification accuracy : 0.44211017740429503\n",
      "MAE error: 0.3375\n",
      "R2 error: -1.0168067226890756\n",
      "\n",
      "              precision    recall  f1-score   support\n",
      "\n",
      "         0.0       0.76      0.83      0.79        63\n",
      "         1.0       0.08      0.06      0.07        17\n",
      "\n",
      "    accuracy                           0.66        80\n",
      "   macro avg       0.42      0.44      0.43        80\n",
      "weighted avg       0.62      0.66      0.64        80\n",
      "\n"
     ]
    }
   ],
   "source": [
    "predicted = classifier.predict(testX)\n",
    "test_bas_error = balanced_accuracy_score(testY, predicted)\n",
    "test_mae_error = mean_absolute_error(testY, predicted)\n",
    "test_r2_error = r2_score(testY, predicted)\n",
    "\n",
    "\n",
    "print(f'Balanced classification accuracy : {test_bas_error}')\n",
    "print(f'MAE error: {test_mae_error}')\n",
    "print(f'R2 error: {test_r2_error}')\n",
    "print()\n",
    "print(classification_report(testY, predicted))"
   ]
  },
  {
   "cell_type": "code",
   "execution_count": 73,
   "id": "bdc42802-39cd-4753-b295-c681e67d8829",
   "metadata": {},
   "outputs": [
    {
     "data": {
      "image/png": "[encoded data removed]",
      "text/plain": [
       "<Figure size 432x288 with 2 Axes>"
      ]
     },
     "metadata": {
      "needs_background": "light"
     },
     "output_type": "display_data"
    }
   ],
   "source": [
    "disp = ConfusionMatrixDisplay.from_estimator(\n",
    "        classifier,\n",
    "        testX,\n",
    "        testY,\n",
    "        display_labels=['0','1'],\n",
    "        cmap=plt.cm.Blues,\n",
    "        normalize=None)\n",
    "    \n",
    "disp.ax_.set_title(\"PCR Confusion matrix\")\n",
    "# print(disp.confusion_matrix)\n",
    "\n",
    "plt.show()"
   ]
  },
  {
   "cell_type": "markdown",
   "id": "505c5c3d-8717-410f-9139-107e5aed5d53",
   "metadata": {},
   "source": [
    "## Handling class imbalance by using BalancedRandomForest Classifier"
   ]
  },
  {
   "cell_type": "code",
   "execution_count": 133,
   "id": "a8c48bdc-55c8-45a4-a124-aa4df3cd88df",
   "metadata": {},
   "outputs": [],
   "source": [
    "from imblearn.ensemble import BalancedRandomForestClassifier"
   ]
  },
  {
   "cell_type": "code",
   "execution_count": 148,
   "id": "22f0b148-4d20-4589-8ada-86a4d7e34f36",
   "metadata": {},
   "outputs": [],
   "source": [
    "# oversample = imblearn.over_sampling.BorderlineSMOTE(sampling_strategy=1)\n",
    "oversample = imblearn.over_sampling.ADASYN(sampling_strategy=0.7)\n",
    "\n",
    "\n",
    "imputed_x, imputed_y = oversample.fit_resample(trainX, trainY)"
   ]
  },
  {
   "cell_type": "code",
   "execution_count": 164,
   "id": "59233a36-7dc8-4fba-bd7f-75163fcfed85",
   "metadata": {},
   "outputs": [],
   "source": [
    "# pca = PCA(n_components=10)\n",
    "# pca_train = pca.fit_transform(imputed_x)\n",
    "# pca_test = pca.transform(testX)\n",
    "\n",
    "pca = PCA(n_components=6)\n",
    "pca_train = pca.fit_transform(trainX)\n",
    "pca_test = pca.transform(testX)"
   ]
  },
  {
   "cell_type": "code",
   "execution_count": 165,
   "id": "ad59967d-faf8-477f-98dc-225fb77844f8",
   "metadata": {},
   "outputs": [
    {
     "name": "stderr",
     "output_type": "stream",
     "text": [
      "C:\\Users\\sudar\\anaconda3\\lib\\site-packages\\imblearn\\ensemble\\_forest.py:546: FutureWarning: The default of `sampling_strategy` will change from `'auto'` to `'all'` in version 0.13. This change will follow the implementation proposed in the original paper. Set to `'all'` to silence this warning and adopt the future behaviour.\n",
      "  warn(\n",
      "C:\\Users\\sudar\\anaconda3\\lib\\site-packages\\imblearn\\ensemble\\_forest.py:558: FutureWarning: The default of `replacement` will change from `False` to `True` in version 0.13. This change will follow the implementation proposed in the original paper. Set to `True` to silence this warning and adopt the future behaviour.\n",
      "  warn(\n"
     ]
    },
    {
     "data": {
      "text/plain": [
       "BalancedRandomForestClassifier(class_weight={0: 1, 1: 3}, random_state=42)"
      ]
     },
     "execution_count": 165,
     "metadata": {},
     "output_type": "execute_result"
    }
   ],
   "source": [
    "classifier = BalancedRandomForestClassifier(random_state=42, verbose=0, class_weight={0:1, 1:3}) #class_weight='balanced'\n",
    "# classifier.fit(imputed_x, imputed_y.ravel())\n",
    "classifier.fit(pca_train, trainY.ravel())"
   ]
  },
  {
   "cell_type": "code",
   "execution_count": 166,
   "id": "50f48990-7131-44bb-bc22-a033ad4be19c",
   "metadata": {},
   "outputs": [
    {
     "name": "stdout",
     "output_type": "stream",
     "text": [
      "Balanced classification accuracy : 0.4741156169111303\n",
      "MAE error: 0.3875\n",
      "R2 error: -1.1397756686798965\n",
      "\n",
      "              precision    recall  f1-score   support\n",
      "\n",
      "         0.0       0.75      0.74      0.74        61\n",
      "         1.0       0.20      0.21      0.21        19\n",
      "\n",
      "    accuracy                           0.61        80\n",
      "   macro avg       0.47      0.47      0.47        80\n",
      "weighted avg       0.62      0.61      0.62        80\n",
      "\n"
     ]
    }
   ],
   "source": [
    "predicted = classifier.predict(pca_test)\n",
    "test_bas_error = balanced_accuracy_score(testY, predicted)\n",
    "test_mae_error = mean_absolute_error(testY, predicted)\n",
    "test_r2_error = r2_score(testY, predicted)\n",
    "\n",
    "\n",
    "print(f'Balanced classification accuracy : {test_bas_error}')\n",
    "print(f'MAE error: {test_mae_error}')\n",
    "print(f'R2 error: {test_r2_error}')\n",
    "print()\n",
    "print(classification_report(testY, predicted))"
   ]
  },
  {
   "cell_type": "code",
   "execution_count": 167,
   "id": "5a165849-fc62-45dd-a903-525820cb482b",
   "metadata": {},
   "outputs": [
    {
     "data": {
      "image/png": "[encoded data removed]",
      "text/plain": [
       "<Figure size 432x288 with 2 Axes>"
      ]
     },
     "metadata": {
      "needs_background": "light"
     },
     "output_type": "display_data"
    }
   ],
   "source": [
    "disp = ConfusionMatrixDisplay.from_estimator(\n",
    "        classifier,\n",
    "        pca_test,\n",
    "        testY,\n",
    "        display_labels=['0','1'],\n",
    "        cmap=plt.cm.Blues,\n",
    "        normalize=None)\n",
    "    \n",
    "disp.ax_.set_title(\"PCR Confusion matrix\")\n",
    "# print(disp.confusion_matrix)\n",
    "\n",
    "plt.show()"
   ]
  },
  {
   "cell_type": "markdown",
   "id": "103adfb4-d3e8-4220-bb04-9536ceaa06c6",
   "metadata": {},
   "source": [
    "## Using Gradient Boosting classifier from scikit learn"
   ]
  },
  {
   "cell_type": "code",
   "execution_count": 147,
   "id": "8a4abc93-102f-489d-992b-e35d2186cdfd",
   "metadata": {},
   "outputs": [],
   "source": [
    "from sklearn.ensemble import GradientBoostingClassifier\n",
    "from sklearn.model_selection import cross_val_score\n",
    "from sklearn.model_selection import RepeatedStratifiedKFold\n",
    "from sklearn.metrics import mean_squared_error, make_scorer, accuracy_score\n"
   ]
  },
  {
   "cell_type": "code",
   "execution_count": 108,
   "id": "f09b495c-b821-443b-9e93-cb9f5cbbe9c8",
   "metadata": {},
   "outputs": [],
   "source": [
    "gb_classifier = GradientBoostingClassifier(max_depth=3)"
   ]
  },
  {
   "cell_type": "markdown",
   "id": "8aa75151-1292-4d04-aa77-1b881a8e43c7",
   "metadata": {},
   "source": [
    "### TODO\n",
    "\n",
    "1. Choose parameters for hyperparameter optimization\n"
   ]
  },
  {
   "cell_type": "code",
   "execution_count": null,
   "id": "36fc15aa-29b5-4f7e-a973-b9aad3f8f993",
   "metadata": {},
   "outputs": [],
   "source": [
    "cv = RepeatedStratifiedKFold(n_splits=10, n_repeats=3, random_state=1)\n",
    "\n",
    "print('Best Criterion:', clf_GS.best_estimator_.get_params()['criterion'])\n",
    "print('Best max_depth:', clf_GS.best_estimator_.get_params()['max_depth'])\n",
    "print('Best Number Of min_samples_leaf:', clf_GS.best_estimator_.get_params()['min_samples_leaf'])\n",
    "print('Best Number Of min_samples_split:', clf_GS.best_estimator_.get_params()['min_samples_split'])"
   ]
  },
  {
   "cell_type": "code",
   "execution_count": 111,
   "id": "b9d08995-a90b-427f-91cc-55cb0da5b274",
   "metadata": {},
   "outputs": [
    {
     "name": "stdout",
     "output_type": "stream",
     "text": [
      "Balanced Classification Accuracy: 0.502 (0.061)\n"
     ]
    }
   ],
   "source": [
    "cv = RepeatedStratifiedKFold(n_splits=10, n_repeats=3, random_state=1)\n",
    "n_scores = cross_val_score(gb_classifier, trainX, trainY.ravel(),\n",
    "                           scoring=make_scorer(balanced_accuracy_score), cv=cv, n_jobs=-1,\n",
    "                           error_score='raise')\n",
    "print('Balanced Classification Accuracy: %.3f (%.3f)' % (np.mean(n_scores), np.std(n_scores)))"
   ]
  },
  {
   "cell_type": "code",
   "execution_count": 112,
   "id": "ae8912ec-9df2-4db3-8ed1-bbf71b25f40b",
   "metadata": {},
   "outputs": [
    {
     "data": {
      "text/plain": [
       "array([0.48      , 0.48      , 0.53142857, 0.51142857, 0.5       ,\n",
       "       0.46      , 0.53142857, 0.54487179, 0.56410256, 0.40384615,\n",
       "       0.64285714, 0.46      , 0.53142857, 0.46      , 0.62285714,\n",
       "       0.51142857, 0.57142857, 0.42307692, 0.56410256, 0.5       ,\n",
       "       0.44      , 0.55142857, 0.60285714, 0.41142857, 0.5       ,\n",
       "       0.46      , 0.48      , 0.42307692, 0.46153846, 0.44230769])"
      ]
     },
     "execution_count": 112,
     "metadata": {},
     "output_type": "execute_result"
    }
   ],
   "source": [
    "n_scores"
   ]
  },
  {
   "cell_type": "code",
   "execution_count": 102,
   "id": "95fd4bac-759a-497b-aa19-abd4316faad5",
   "metadata": {},
   "outputs": [
    {
     "data": {
      "text/plain": [
       "GradientBoostingClassifier(max_depth=10)"
      ]
     },
     "execution_count": 102,
     "metadata": {},
     "output_type": "execute_result"
    }
   ],
   "source": [
    "gb_classifier.fit(trainX, trainY.ravel())"
   ]
  },
  {
   "cell_type": "code",
   "execution_count": 103,
   "id": "4e3d6178-ac09-4a61-9c4e-57f7462424a0",
   "metadata": {},
   "outputs": [
    {
     "name": "stdout",
     "output_type": "stream",
     "text": [
      "Balanced classification accuracy : 0.4850606909430439\n",
      "MAE error: 0.3375\n",
      "R2 error: -1.0168067226890756\n",
      "\n",
      "              precision    recall  f1-score   support\n",
      "\n",
      "         0.0       0.78      0.79      0.79        63\n",
      "         1.0       0.19      0.18      0.18        17\n",
      "\n",
      "    accuracy                           0.66        80\n",
      "   macro avg       0.48      0.49      0.48        80\n",
      "weighted avg       0.66      0.66      0.66        80\n",
      "\n"
     ]
    }
   ],
   "source": [
    "predicted = gb_classifier.predict(testX)\n",
    "test_bas_error = balanced_accuracy_score(testY, predicted)\n",
    "test_mae_error = mean_absolute_error(testY, predicted)\n",
    "test_r2_error = r2_score(testY, predicted)\n",
    "\n",
    "\n",
    "print(f'Balanced classification accuracy : {test_bas_error}')\n",
    "print(f'MAE error: {test_mae_error}')\n",
    "print(f'R2 error: {test_r2_error}')\n",
    "print()\n",
    "print(classification_report(testY, predicted))"
   ]
  },
  {
   "cell_type": "code",
   "execution_count": 104,
   "id": "5df0d4b5-581f-4732-9c2b-8b1b4234e307",
   "metadata": {},
   "outputs": [
    {
     "data": {
      "image/png": "[encoded data removed]",
      "text/plain": [
       "<Figure size 432x288 with 2 Axes>"
      ]
     },
     "metadata": {
      "needs_background": "light"
     },
     "output_type": "display_data"
    }
   ],
   "source": [
    "disp = ConfusionMatrixDisplay.from_estimator(\n",
    "        gb_classifier,\n",
    "        testX,\n",
    "        testY,\n",
    "        display_labels=['0','1'],\n",
    "        cmap=plt.cm.Blues,\n",
    "        normalize=None)\n",
    "    \n",
    "disp.ax_.set_title(\"PCR Confusion matrix\")\n",
    "# print(disp.confusion_matrix)\n",
    "\n",
    "plt.show()"
   ]
  },
  {
   "cell_type": "markdown",
   "id": "7422ff98-52b1-4f47-9852-e3ad3dea27b1",
   "metadata": {},
   "source": [
    "## Using XGBoost from xgboost "
   ]
  },
  {
   "cell_type": "code",
   "execution_count": 60,
   "id": "1c764c6e-72aa-4fcb-86c8-a60847408919",
   "metadata": {},
   "outputs": [],
   "source": [
    "import xgboost"
   ]
  },
  {
   "cell_type": "markdown",
   "id": "3af1e494-eb04-4f08-951e-b9ffd93805e2",
   "metadata": {},
   "source": [
    "## Training with true data without any data generation, but using PCA top 6 features"
   ]
  },
  {
   "cell_type": "code",
   "execution_count": 64,
   "id": "4c82af7a-c392-4895-9110-fc6a63570a67",
   "metadata": {},
   "outputs": [],
   "source": [
    "pca = PCA(n_components=6)\n",
    "pca_train = pca.fit_transform(trainX)\n",
    "pca_test = pca.transform(testX)"
   ]
  },
  {
   "cell_type": "code",
   "execution_count": 65,
   "id": "b5c36b76-28eb-44e0-b40e-b6186c694c78",
   "metadata": {},
   "outputs": [
    {
     "data": {
      "text/plain": [
       "XGBClassifier(base_score=None, booster=None, callbacks=None,\n",
       "              colsample_bylevel=None, colsample_bynode=None,\n",
       "              colsample_bytree=None, device=None, early_stopping_rounds=None,\n",
       "              enable_categorical=False, eval_metric=['error', 'logloss'],\n",
       "              feature_types=None, gamma=None, grow_policy=None,\n",
       "              importance_type=None, interaction_constraints=None,\n",
       "              learning_rate=None, max_bin=None, max_cat_threshold=None,\n",
       "              max_cat_to_onehot=None, max_delta_step=None, max_depth=None,\n",
       "              max_leaves=None, min_child_weight=None, missing=nan,\n",
       "              monotone_constraints=None, multi_strategy=None, n_estimators=None,\n",
       "              n_jobs=None, num_parallel_tree=None, random_state=None, ...)"
      ]
     },
     "execution_count": 65,
     "metadata": {},
     "output_type": "execute_result"
    }
   ],
   "source": [
    "_, class_counts = np.unique(trainY, return_counts=True)\n",
    "eval_set = [(pca_test, testY)]\n",
    "class_weight = class_counts[0] / class_counts[1]\n",
    "\n",
    "xgbclassifier = xgboost.XGBClassifier(objective='binary:logistic',scale_pos_weight=class_weight,\n",
    "                                      eval_metric=[\"error\", \"logloss\"])\n",
    "xgbclassifier.fit(pca_train, trainY.ravel(),eval_set=eval_set, verbose=False)"
   ]
  },
  {
   "cell_type": "code",
   "execution_count": 66,
   "id": "6d45d4cf-e485-4897-85db-bebe22647fc5",
   "metadata": {},
   "outputs": [
    {
     "name": "stdout",
     "output_type": "stream",
     "text": [
      "Balanced classification accuracy : 0.5297670405522001\n",
      "MAE error: 0.275\n",
      "R2 error: -0.5185504745470233\n",
      "\n",
      "              precision    recall  f1-score   support\n",
      "\n",
      "         0.0       0.77      0.90      0.83        61\n",
      "         1.0       0.33      0.16      0.21        19\n",
      "\n",
      "    accuracy                           0.73        80\n",
      "   macro avg       0.55      0.53      0.52        80\n",
      "weighted avg       0.67      0.72      0.69        80\n",
      "\n"
     ]
    }
   ],
   "source": [
    "predicted = xgbclassifier.predict(pca_test)\n",
    "test_bas_error = balanced_accuracy_score(testY, predicted)\n",
    "test_mae_error = mean_absolute_error(testY, predicted)\n",
    "test_r2_error = r2_score(testY, predicted)\n",
    "\n",
    "\n",
    "print(f'Balanced classification accuracy : {test_bas_error}')\n",
    "print(f'MAE error: {test_mae_error}')\n",
    "print(f'R2 error: {test_r2_error}')\n",
    "print()\n",
    "print(classification_report(testY, predicted))"
   ]
  },
  {
   "cell_type": "code",
   "execution_count": 67,
   "id": "f092c1e5-acd5-4f8d-8afe-6e9aa0c726b1",
   "metadata": {},
   "outputs": [
    {
     "data": {
      "image/png": "[encoded data removed]",
      "text/plain": [
       "<Figure size 432x288 with 2 Axes>"
      ]
     },
     "metadata": {
      "needs_background": "light"
     },
     "output_type": "display_data"
    }
   ],
   "source": [
    "disp = ConfusionMatrixDisplay.from_estimator(\n",
    "        xgbclassifier,\n",
    "        pca_test,\n",
    "        testY,\n",
    "        display_labels=['0','1'],\n",
    "        cmap=plt.cm.Blues,\n",
    "        normalize=None)\n",
    "    \n",
    "disp.ax_.set_title(\"PCR Confusion matrix\")\n",
    "# print(disp.confusion_matrix)\n",
    "\n",
    "plt.show()"
   ]
  },
  {
   "cell_type": "markdown",
   "id": "29dc56c3-541a-4211-b9d3-d30264625dd6",
   "metadata": {},
   "source": [
    "## Training with true data without any data generation\n"
   ]
  },
  {
   "cell_type": "code",
   "execution_count": 140,
   "id": "43f0bc2a-d9fa-4b36-9690-b75d7bdad3a8",
   "metadata": {},
   "outputs": [],
   "source": [
    "_, class_counts = np.unique(trainY, return_counts=True)\n",
    "eval_set = [(testX, testY)]\n",
    "class_weight = class_counts[0] / class_counts[1]\n",
    "\n",
    "xgbclassifier = xgboost.XGBClassifier(objective='binary:logistic',scale_pos_weight=class_weight,\n",
    "                                      eval_metric=[\"error\", \"logloss\"])"
   ]
  },
  {
   "cell_type": "code",
   "execution_count": 147,
   "id": "14031b7d-8665-4e3f-8478-bb30b0b481bb",
   "metadata": {},
   "outputs": [
    {
     "data": {
      "text/plain": [
       "XGBClassifier(base_score=None, booster=None, callbacks=None,\n",
       "              colsample_bylevel=None, colsample_bynode=None,\n",
       "              colsample_bytree=None, device=None, early_stopping_rounds=None,\n",
       "              enable_categorical=False, eval_metric=['error', 'logloss'],\n",
       "              feature_types=None, gamma=None, grow_policy=None,\n",
       "              importance_type=None, interaction_constraints=None,\n",
       "              learning_rate=None, max_bin=None, max_cat_threshold=None,\n",
       "              max_cat_to_onehot=None, max_delta_step=None, max_depth=None,\n",
       "              max_leaves=None, min_child_weight=None, missing=nan,\n",
       "              monotone_constraints=None, multi_strategy=None, n_estimators=None,\n",
       "              n_jobs=None, num_parallel_tree=None, random_state=None, ...)"
      ]
     },
     "execution_count": 147,
     "metadata": {},
     "output_type": "execute_result"
    }
   ],
   "source": [
    "xgbclassifier.fit(trainX, trainY.ravel(),eval_set=eval_set, verbose=False)"
   ]
  },
  {
   "cell_type": "markdown",
   "id": "cb94eba2-7ba7-491d-a05e-da7c1be5ec9c",
   "metadata": {},
   "source": [
    "## Training with data generation using BorderlineSMOTE"
   ]
  },
  {
   "cell_type": "code",
   "execution_count": 94,
   "id": "e2356bd0-3334-4058-b3d0-8c1132f62124",
   "metadata": {},
   "outputs": [],
   "source": [
    "# oversample = imblearn.over_sampling.BorderlineSMOTE(sampling_strategy=1)\n",
    "oversample = imblearn.over_sampling.BorderlineSMOTE(sampling_strategy=0.7, k_neighbors=2, m_neighbors=3)\n",
    "# oversample = imblearn.over_sampling.BorderlineSMOTE(sampling_strategy=0.7, random_state=88, k_neighbors=2, m_neighbors=5)\n",
    "\n",
    "\n",
    "imputed_x, imputed_y = oversample.fit_resample(trainX, trainY)"
   ]
  },
  {
   "cell_type": "code",
   "execution_count": 95,
   "id": "5ecb5ddf-b1b1-4396-8c2c-294b86c8a9ec",
   "metadata": {},
   "outputs": [],
   "source": [
    "pca = PCA(n_components=6)\n",
    "pca_imputedtrainX = pca.fit_transform(imputed_x)\n",
    "pca_test = pca.transform(testX)"
   ]
  },
  {
   "cell_type": "code",
   "execution_count": 96,
   "id": "f649be5c-6fcb-436f-ae1e-37b0e90e913a",
   "metadata": {},
   "outputs": [],
   "source": [
    "_, class_counts = np.unique(imputed_y, return_counts=True)\n",
    "eval_set = [(pca_test, testY)]\n",
    "class_weight = class_counts[0] / class_counts[1]"
   ]
  },
  {
   "cell_type": "code",
   "execution_count": 107,
   "id": "ff410aaa-aef6-4741-a85f-da61200cdae6",
   "metadata": {},
   "outputs": [],
   "source": [
    "xgbclassifier = xgboost.XGBClassifier(objective='binary:logistic',scale_pos_weight=1,\n",
    "                                      eval_metric=[\"error\", \"logloss\"])"
   ]
  },
  {
   "cell_type": "code",
   "execution_count": 108,
   "id": "6e1b128d-884b-40a2-b6fe-f609fd9781c2",
   "metadata": {},
   "outputs": [
    {
     "data": {
      "text/plain": [
       "XGBClassifier(base_score=None, booster=None, callbacks=None,\n",
       "              colsample_bylevel=None, colsample_bynode=None,\n",
       "              colsample_bytree=None, device=None, early_stopping_rounds=None,\n",
       "              enable_categorical=False, eval_metric=['error', 'logloss'],\n",
       "              feature_types=None, gamma=None, grow_policy=None,\n",
       "              importance_type=None, interaction_constraints=None,\n",
       "              learning_rate=None, max_bin=None, max_cat_threshold=None,\n",
       "              max_cat_to_onehot=None, max_delta_step=None, max_depth=None,\n",
       "              max_leaves=None, min_child_weight=None, missing=nan,\n",
       "              monotone_constraints=None, multi_strategy=None, n_estimators=None,\n",
       "              n_jobs=None, num_parallel_tree=None, random_state=None, ...)"
      ]
     },
     "execution_count": 108,
     "metadata": {},
     "output_type": "execute_result"
    }
   ],
   "source": [
    "xgbclassifier.fit(pca_imputedtrainX, imputed_y.ravel(),eval_set=eval_set, verbose=False)"
   ]
  },
  {
   "cell_type": "code",
   "execution_count": 109,
   "id": "7439728c-cd96-4e61-86e7-b70325f43ca1",
   "metadata": {},
   "outputs": [],
   "source": [
    "# _, class_counts = np.unique(trainY, return_counts=True)\n",
    "# class_weights = {0: 1.0, 1: len(trainY) / (2 * class_counts[1])}\n",
    "# class_weights"
   ]
  },
  {
   "cell_type": "code",
   "execution_count": 110,
   "id": "a583f14a-6b07-4980-a66d-b2fb9b0532f3",
   "metadata": {},
   "outputs": [
    {
     "name": "stdout",
     "output_type": "stream",
     "text": [
      "Balanced classification accuracy : 0.5806729939603106\n",
      "MAE error: 0.225\n",
      "R2 error: -0.2424503882657465\n",
      "\n",
      "              precision    recall  f1-score   support\n",
      "\n",
      "         0.0       0.79      0.95      0.87        61\n",
      "         1.0       0.57      0.21      0.31        19\n",
      "\n",
      "    accuracy                           0.78        80\n",
      "   macro avg       0.68      0.58      0.59        80\n",
      "weighted avg       0.74      0.78      0.73        80\n",
      "\n"
     ]
    }
   ],
   "source": [
    "predicted = xgbclassifier.predict(pca_test)\n",
    "test_bas_error = balanced_accuracy_score(testY, predicted)\n",
    "test_mae_error = mean_absolute_error(testY, predicted)\n",
    "test_r2_error = r2_score(testY, predicted)\n",
    "\n",
    "\n",
    "print(f'Balanced classification accuracy : {test_bas_error}')\n",
    "print(f'MAE error: {test_mae_error}')\n",
    "print(f'R2 error: {test_r2_error}')\n",
    "print()\n",
    "print(classification_report(testY, predicted))"
   ]
  },
  {
   "cell_type": "code",
   "execution_count": 111,
   "id": "368541ba-7f33-4e63-99ea-0ed95ffa1bc2",
   "metadata": {},
   "outputs": [
    {
     "data": {
      "image/png": "[encoded data removed]",
      "text/plain": [
       "<Figure size 432x288 with 2 Axes>"
      ]
     },
     "metadata": {
      "needs_background": "light"
     },
     "output_type": "display_data"
    }
   ],
   "source": [
    "disp = ConfusionMatrixDisplay.from_estimator(\n",
    "        xgbclassifier,\n",
    "        pca_test,\n",
    "        testY,\n",
    "        display_labels=['0','1'],\n",
    "        cmap=plt.cm.Blues,\n",
    "        normalize=None)\n",
    "    \n",
    "disp.ax_.set_title(\"PCR Confusion matrix\")\n",
    "# print(disp.confusion_matrix)\n",
    "\n",
    "plt.show()"
   ]
  },
  {
   "cell_type": "markdown",
   "id": "908f6d97-ed12-491c-85be-2f0b1bdd888b",
   "metadata": {},
   "source": [
    "# Using Linear Discriminant analysis"
   ]
  },
  {
   "cell_type": "code",
   "execution_count": 6,
   "id": "3d347e6d-a73d-4376-8899-904045594b94",
   "metadata": {},
   "outputs": [],
   "source": [
    "from sklearn.discriminant_analysis import LinearDiscriminantAnalysis"
   ]
  },
  {
   "cell_type": "code",
   "execution_count": 56,
   "id": "48994dd4-e371-4eed-a709-8812833b4b01",
   "metadata": {},
   "outputs": [],
   "source": [
    "pca = PCA(n_components=6)\n",
    "pca_train = pca.fit_transform(trainX)"
   ]
  },
  {
   "cell_type": "code",
   "execution_count": 57,
   "id": "7bf849b8-9a7e-4a2f-aac5-516d1904ec36",
   "metadata": {},
   "outputs": [
    {
     "data": {
      "text/plain": [
       "array([10.96088073,  6.87505384,  5.91482376,  4.81529909,  3.72041628,\n",
       "        2.68573607])"
      ]
     },
     "execution_count": 57,
     "metadata": {},
     "output_type": "execute_result"
    }
   ],
   "source": [
    "pca.explained_variance_"
   ]
  },
  {
   "cell_type": "code",
   "execution_count": 49,
   "id": "f8baee18-28c1-4918-9322-e56d9d5b35fb",
   "metadata": {},
   "outputs": [
    {
     "data": {
      "text/plain": [
       "((320, 20), (320, 60))"
      ]
     },
     "execution_count": 49,
     "metadata": {},
     "output_type": "execute_result"
    }
   ],
   "source": [
    "pca_train.shape, trainX.shape"
   ]
  },
  {
   "cell_type": "code",
   "execution_count": 50,
   "id": "5af4b24c-f0a2-464d-b78e-19ec92279bbf",
   "metadata": {},
   "outputs": [],
   "source": [
    "ldmodel = LinearDiscriminantAnalysis(solver='svd')"
   ]
  },
  {
   "cell_type": "code",
   "execution_count": 51,
   "id": "56de1e16-6e09-4aa9-b714-fd325c093768",
   "metadata": {},
   "outputs": [
    {
     "data": {
      "text/plain": [
       "LinearDiscriminantAnalysis()"
      ]
     },
     "execution_count": 51,
     "metadata": {},
     "output_type": "execute_result"
    }
   ],
   "source": [
    "ldmodel.fit(pca_train, trainY.ravel())"
   ]
  },
  {
   "cell_type": "code",
   "execution_count": 52,
   "id": "3e3c9172-af77-421e-ad7f-43ebb46fcd27",
   "metadata": {},
   "outputs": [],
   "source": [
    "pca_test = pca.transform(testX)"
   ]
  },
  {
   "cell_type": "code",
   "execution_count": 53,
   "id": "1b281866-7756-4163-92ed-98dbf4b8d165",
   "metadata": {},
   "outputs": [
    {
     "name": "stdout",
     "output_type": "stream",
     "text": [
      "Balanced classification accuracy : 0.5017256255392579\n",
      "MAE error: 0.2625\n",
      "R2 error: -0.4495254529767041\n",
      "\n",
      "              precision    recall  f1-score   support\n",
      "\n",
      "         0.0       0.76      0.95      0.85        61\n",
      "         1.0       0.25      0.05      0.09        19\n",
      "\n",
      "    accuracy                           0.74        80\n",
      "   macro avg       0.51      0.50      0.47        80\n",
      "weighted avg       0.64      0.74      0.67        80\n",
      "\n"
     ]
    }
   ],
   "source": [
    "predicted = ldmodel.predict(pca_test)\n",
    "test_bas_error = balanced_accuracy_score(testY, predicted)\n",
    "test_mae_error = mean_absolute_error(testY, predicted)\n",
    "test_r2_error = r2_score(testY, predicted)\n",
    "\n",
    "\n",
    "print(f'Balanced classification accuracy : {test_bas_error}')\n",
    "print(f'MAE error: {test_mae_error}')\n",
    "print(f'R2 error: {test_r2_error}')\n",
    "print()\n",
    "print(classification_report(testY, predicted))"
   ]
  },
  {
   "cell_type": "code",
   "execution_count": 54,
   "id": "a9b710de-1b2e-4bb7-ae82-e808b3348037",
   "metadata": {},
   "outputs": [
    {
     "data": {
      "image/png": "[encoded data removed]",
      "text/plain": [
       "<Figure size 432x288 with 2 Axes>"
      ]
     },
     "metadata": {
      "needs_background": "light"
     },
     "output_type": "display_data"
    }
   ],
   "source": [
    "disp = ConfusionMatrixDisplay.from_estimator(\n",
    "        ldmodel,\n",
    "        pca_test,\n",
    "        testY,\n",
    "        display_labels=['0','1'],\n",
    "        cmap=plt.cm.Blues,\n",
    "        normalize=None)\n",
    "    \n",
    "disp.ax_.set_title(\"PCR Confusion matrix\")\n",
    "# print(disp.confusion_matrix)\n",
    "\n",
    "plt.show()"
   ]
  },
  {
   "cell_type": "code",
   "execution_count": null,
   "id": "361a0b92-c8d0-4214-994a-d9ce3f038435",
   "metadata": {},
   "outputs": [],
   "source": []
  },
  {
   "cell_type": "code",
   "execution_count": null,
   "id": "65d14371-34af-40ff-befd-db9434cdb018",
   "metadata": {},
   "outputs": [],
   "source": []
  },
  {
   "cell_type": "code",
   "execution_count": null,
   "id": "dc91bbb8-696d-48c7-ac25-93f40676095e",
   "metadata": {},
   "outputs": [],
   "source": []
  },
  {
   "cell_type": "code",
   "execution_count": null,
   "id": "c1677bda-c0d0-41fb-bd24-f621d5c0d4cc",
   "metadata": {},
   "outputs": [],
   "source": []
  },
  {
   "cell_type": "code",
   "execution_count": null,
   "id": "89502401-2ad8-4fc7-a9b6-1baa6ae69681",
   "metadata": {},
   "outputs": [],
   "source": []
  }
 ],
 "metadata": {
  "kernelspec": {
   "display_name": "Python 3 (ipykernel)",
   "language": "python",
   "name": "python3"
  },
  "language_info": {
   "codemirror_mode": {
    "name": "ipython",
    "version": 3
   },
   "file_extension": ".py",
   "mimetype": "text/x-python",
   "name": "python",
   "nbconvert_exporter": "python",
   "pygments_lexer": "ipython3",
   "version": "3.9.12"
  }
 },
 "nbformat": 4,
 "nbformat_minor": 5
}
